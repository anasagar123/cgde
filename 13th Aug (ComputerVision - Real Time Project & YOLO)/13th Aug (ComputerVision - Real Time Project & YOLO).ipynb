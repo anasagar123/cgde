{
 "cells": [
  {
   "cell_type": "markdown",
   "id": "0e83a64c-2b29-447d-a1c2-d23d7152a63a",
   "metadata": {},
   "source": [
    "# ComputerVision - Real Time Project & YOLO"
   ]
  },
  {
   "cell_type": "code",
   "execution_count": null,
   "id": "021800a8-8b71-42e9-a978-239782320213",
   "metadata": {},
   "outputs": [],
   "source": []
  },
  {
   "cell_type": "markdown",
   "id": "c576d532-eb86-40e6-b50a-85c293fb3d99",
   "metadata": {},
   "source": [
    "**Walking/Pedistrain Detection**"
   ]
  },
  {
   "cell_type": "code",
   "execution_count": null,
   "id": "4ac911ae-9ecf-47b7-b9ff-34ca16be96c1",
   "metadata": {},
   "outputs": [],
   "source": [
    "# video is nothing its image but its a 60 frame image per second image  "
   ]
  },
  {
   "cell_type": "code",
   "execution_count": 4,
   "id": "5fcb10fe-e666-4a76-8987-34b8f447ed53",
   "metadata": {},
   "outputs": [],
   "source": [
    "import numpy as np\n",
    "import cv2\n",
    "full_body_classifier = cv2.CascadeClassifier('haarcascade_fullbody.xml')\n",
    "cap = cv2.VideoCapture('walking.avi')\n",
    "# video is nothing its image but its a 60 frame image per second image  \n",
    "while cap.isOpened(): # when my video is open then it will return frame by frame\n",
    "    ret,frame = cap.read() # my machine will capture all image and storing in the frame\n",
    "    gray = cv2.cvtColor(frame,cv2.COLOR_BGR2GRAY)\n",
    "    full_body = full_body_classifier.detectMultiScale(gray,1.2,3) # haarcascade_fullbody.xml apply on original image(gray)\n",
    "\n",
    "    # making a rectangle\n",
    "    for (x,y,w,h) in full_body:\n",
    "        cv2.rectangle(frame,(x,y), (x+w,y+h),(0,0,255),1)\n",
    "        cv2.imshow(\"Walking Detection\", frame)\n",
    "        \n",
    "    if cv2.waitKey(1)==13:\n",
    "        break\n",
    "cap.release()\n",
    "cv2.destroyAllWindows()"
   ]
  },
  {
   "cell_type": "markdown",
   "id": "64228c4f-0b20-4b55-b23d-acc157afc214",
   "metadata": {},
   "source": [
    "**Car Detection**"
   ]
  },
  {
   "cell_type": "code",
   "execution_count": 5,
   "id": "912db9b9-95ba-4bf3-977e-4938078a925d",
   "metadata": {},
   "outputs": [],
   "source": [
    "import numpy as np\n",
    "import cv2\n",
    "import time\n",
    "car_classifier = cv2.CascadeClassifier(\"haarcascade_car.xml\")\n",
    "cap = cv2.VideoCapture(\"cars.avi\")\n",
    "while cap.isOpened():\n",
    "    time.sleep(0.05)\n",
    "    ret, frame = cap.read()\n",
    "    gray = cv2.cvtColor(frame, cv2.COLOR_BGR2GRAY)\n",
    "    cars = car_classifier.detectMultiScale(gray, 1.2,3)\n",
    "    for (x,y,w,h) in cars:\n",
    "        cv2.rectangle(frame, (x,y), (x+w, y+h), (0,0,255), 1)\n",
    "        cv2.imshow(\"cars Detection\", frame)\n",
    "    if cv2.waitKey(1)==13:\n",
    "        break\n",
    "cap.release()\n",
    "cv2.destroyAllWindows()"
   ]
  },
  {
   "cell_type": "code",
   "execution_count": null,
   "id": "7c62fa25-46a1-46af-a06a-d8db98bd94bd",
   "metadata": {},
   "outputs": [],
   "source": []
  },
  {
   "cell_type": "markdown",
   "id": "501b4949-765d-45ca-9bcd-1583ebbd2207",
   "metadata": {},
   "source": [
    "# YOLO (you only look once)"
   ]
  },
  {
   "cell_type": "code",
   "execution_count": 6,
   "id": "d4c0aeac-86f8-419b-8fe2-637744d6ec90",
   "metadata": {},
   "outputs": [],
   "source": [
    "# its a real time object detection algorithm in computer vision.\n",
    "# its a SOTA(state of the art) MODEL.\n",
    "# its a Neural Network Approach.\n",
    "# it is trained with Coconut dataset."
   ]
  },
  {
   "cell_type": "code",
   "execution_count": null,
   "id": "c2f23cff-d375-490c-8e11-b676fcf756c3",
   "metadata": {},
   "outputs": [],
   "source": [
    "# COCO(common object in context) is a large-scale object detection, segmentation, and captioning dataset. \n",
    "\n",
    "    #### COCO has several features :-\n",
    "\n",
    "# Object segmentation\n",
    "# Recognition in context\n",
    "# Superpixel stuff segmentation\n",
    "# 330K images (>200K labeled)\n",
    "# 1.5 million object instances\n",
    "# 80 object categories\n",
    "# 91 stuff categories\n",
    "# 5 captions per image\n",
    "# 250,000 people with keypoints\n"
   ]
  },
  {
   "cell_type": "code",
   "execution_count": null,
   "id": "cf578e2c-0ac0-43bd-b6af-2d458948dc28",
   "metadata": {},
   "outputs": [],
   "source": []
  },
  {
   "cell_type": "code",
   "execution_count": null,
   "id": "048cc9d6-45ed-47e5-90cd-51b4a1fc0960",
   "metadata": {},
   "outputs": [],
   "source": []
  }
 ],
 "metadata": {
  "kernelspec": {
   "display_name": "Python 3 (ipykernel)",
   "language": "python",
   "name": "python3"
  },
  "language_info": {
   "codemirror_mode": {
    "name": "ipython",
    "version": 3
   },
   "file_extension": ".py",
   "mimetype": "text/x-python",
   "name": "python",
   "nbconvert_exporter": "python",
   "pygments_lexer": "ipython3",
   "version": "3.12.6"
  }
 },
 "nbformat": 4,
 "nbformat_minor": 5
}
