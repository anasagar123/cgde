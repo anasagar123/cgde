{
 "cells": [
  {
   "cell_type": "markdown",
   "id": "c57c6a13-0d30-47fc-9472-26a69e6b4d7f",
   "metadata": {
    "id": "c57c6a13-0d30-47fc-9472-26a69e6b4d7f"
   },
   "source": [
    "# **Document Loaders**\n",
    "Use document loaders to load data from a source as `Document`.\n",
    "\n",
    "Document loaders provide a \"load\" method for loading data as documents from a configured source. They optionally implement a \"lazy load\" as well for lazily loading data into memory.\n",
    "\n",
    "1. **Text Loaders**\n",
    "```python\n",
    "from langchain_community.document_loaders import TextLoader\n",
    "loader = TextLoader(\"./index.md\")\n",
    "loader.load()\n",
    "```\n",
    "\n",
    "2. **CSV**\n",
    "```python\n",
    "from langchain_community.document_loaders.csv_loader import CSVLoader\n",
    "loader = CSVLoader(file_path='./example_data/mlb_teams_2012.csv')\n",
    "data = loader.load()\n",
    "```\n",
    "3. **HTML**\n",
    "```python\n",
    "from langchain_community.document_loaders import UnstructuredHTMLLoader\n",
    "loader = UnstructuredHTMLLoader(\"example_data/fake-content.html\")\n",
    "data = loader.load()\n",
    "```\n",
    "4. **Web Base Loader**\n",
    "```python\n",
    "# !pip install beautifulsoup4\n",
    "from langchain_community.document_loaders import WebBaseLoader\n",
    "loader = WebBaseLoader(\"https://docs.smith.langchain.com/user_guide\")\n",
    "data = loader.load()\n",
    "```\n",
    "5. **JSON**  \n",
    "[Click Here](https://python.langchain.com/docs/modules/data_connection/document_loaders/json) for detailed docs.  \n",
    "Suppose we are interested in extracting the values under the `content` field within the `messages` key of the JSON data. This can easily be done through the JSONLoader as shown below.\n",
    "```python\n",
    "#!pip install jq\n",
    "from langchain_community.document_loaders import JSONLoader\n",
    "loader = JSONLoader(\n",
    "    file_path='./example_data/facebook_chat.json',\n",
    "    jq_schema='.messages[].content',\n",
    "    text_content=False)\n",
    "\n",
    "data = loader.load()\n",
    "```\n",
    "\n",
    "6. **PDF**  \n",
    "[Click here](https://python.langchain.com/docs/modules/data_connection/document_loaders/pdf) for detailed docs.  \n",
    "Make sure to install: `pip install pypdf`\n",
    "\n",
    "```python\n",
    "from langchain_community.document_loaders import PyPDFLoader\n",
    "\n",
    "loader = PyPDFLoader(\"example_data/layout-parser-paper.pdf\")\n",
    "pages = loader.load_and_split()\n",
    "```\n",
    "\n",
    "7. **File Directory**  \n",
    "[Click Here](https://python.langchain.com/docs/modules/data_connection/document_loaders/file_directory) for detailed docs.\n",
    "Under the hood it uses UnstructuredLoader.  \n",
    "Make sure to install: `pip install \"unstructured[all-docs]\"`  \n",
    "This covers how to load all documents in a directory. We can use the `glob` parameter to control which files to load.\n",
    "\n",
    "```python\n",
    "from langchain_community.document_loaders import DirectoryLoader\n",
    "from langchain_community.document_loaders import TextLoader\n",
    "\n",
    "loader = DirectoryLoader('../', glob=\"**/*.md\", show_progress=True, loader_cls=TextLoader)\n",
    "docs = loader.load()\n",
    "```"
   ]
  },
  {
   "cell_type": "code",
   "execution_count": null,
   "id": "50a8b22a-92d2-43fa-9f7b-568e4a00da4f",
   "metadata": {
    "id": "50a8b22a-92d2-43fa-9f7b-568e4a00da4f"
   },
   "outputs": [],
   "source": [
    "# !pip install \"unstructured[all-docs]\"\n",
    "# !pip install jq\n",
    "# !pip install pypdf\n",
    "# !pip install pymupdf"
   ]
  },
  {
   "cell_type": "code",
   "execution_count": null,
   "id": "51748838-a96d-4621-925c-6f374f89af05",
   "metadata": {
    "id": "51748838-a96d-4621-925c-6f374f89af05",
    "outputId": "c6b2ef5d-4005-4313-96df-534fe46ec24a",
    "scrolled": true
   },
   "outputs": [
    {
     "name": "stdout",
     "output_type": "stream",
     "text": [
      "Collecting unstructured[all-docs]\n",
      "  Downloading unstructured-0.16.0-py3-none-any.whl.metadata (24 kB)\n",
      "Requirement already satisfied: chardet in d:\\software\\lib\\site-packages (from unstructured[all-docs]) (4.0.0)\n",
      "Collecting filetype (from unstructured[all-docs])\n",
      "  Downloading filetype-1.2.0-py2.py3-none-any.whl.metadata (6.5 kB)\n",
      "Collecting python-magic (from unstructured[all-docs])\n",
      "  Downloading python_magic-0.4.27-py2.py3-none-any.whl.metadata (5.8 kB)\n",
      "Requirement already satisfied: lxml in d:\\software\\lib\\site-packages (from unstructured[all-docs]) (5.2.1)\n",
      "Requirement already satisfied: nltk in d:\\software\\lib\\site-packages (from unstructured[all-docs]) (3.8.1)\n",
      "Requirement already satisfied: tabulate in d:\\software\\lib\\site-packages (from unstructured[all-docs]) (0.9.0)\n",
      "Requirement already satisfied: requests in d:\\software\\lib\\site-packages (from unstructured[all-docs]) (2.32.2)\n",
      "Requirement already satisfied: beautifulsoup4 in d:\\software\\lib\\site-packages (from unstructured[all-docs]) (4.12.3)\n",
      "Collecting emoji (from unstructured[all-docs])\n",
      "  Downloading emoji-2.14.0-py3-none-any.whl.metadata (5.7 kB)\n",
      "Requirement already satisfied: dataclasses-json in d:\\software\\lib\\site-packages (from unstructured[all-docs]) (0.6.7)\n",
      "Collecting python-iso639 (from unstructured[all-docs])\n",
      "  Downloading python_iso639-2024.4.27-py3-none-any.whl.metadata (13 kB)\n",
      "Collecting langdetect (from unstructured[all-docs])\n",
      "  Downloading langdetect-1.0.9.tar.gz (981 kB)\n",
      "     ---------------------------------------- 0.0/981.5 kB ? eta -:--:--\n",
      "     ---- --------------------------------- 122.9/981.5 kB 3.6 MB/s eta 0:00:01\n",
      "     ------------------- ------------------ 512.0/981.5 kB 6.4 MB/s eta 0:00:01\n",
      "     -------------------------------------- 981.5/981.5 kB 8.8 MB/s eta 0:00:00\n",
      "  Preparing metadata (setup.py): started\n",
      "  Preparing metadata (setup.py): finished with status 'done'\n",
      "Requirement already satisfied: numpy<2 in d:\\software\\lib\\site-packages (from unstructured[all-docs]) (1.26.4)\n",
      "Collecting rapidfuzz (from unstructured[all-docs])\n",
      "  Downloading rapidfuzz-3.10.0-cp312-cp312-win_amd64.whl.metadata (11 kB)\n",
      "Collecting backoff (from unstructured[all-docs])\n",
      "  Using cached backoff-2.2.1-py3-none-any.whl.metadata (14 kB)\n",
      "Requirement already satisfied: typing-extensions in d:\\software\\lib\\site-packages (from unstructured[all-docs]) (4.11.0)\n",
      "Collecting unstructured-client (from unstructured[all-docs])\n",
      "  Downloading unstructured_client-0.26.1-py3-none-any.whl.metadata (20 kB)\n",
      "Requirement already satisfied: wrapt in d:\\software\\lib\\site-packages (from unstructured[all-docs]) (1.14.1)\n",
      "Requirement already satisfied: tqdm in d:\\software\\lib\\site-packages (from unstructured[all-docs]) (4.66.4)\n",
      "Requirement already satisfied: psutil in d:\\software\\lib\\site-packages (from unstructured[all-docs]) (5.9.0)\n",
      "Collecting python-oxmsg (from unstructured[all-docs])\n",
      "  Downloading python_oxmsg-0.0.1-py3-none-any.whl.metadata (5.0 kB)\n",
      "Requirement already satisfied: pandas in d:\\software\\lib\\site-packages (from unstructured[all-docs]) (2.2.3)\n",
      "Collecting unstructured-inference==0.7.36 (from unstructured[all-docs])\n",
      "  Downloading unstructured_inference-0.7.36-py3-none-any.whl.metadata (5.9 kB)\n",
      "Requirement already satisfied: networkx in d:\\software\\lib\\site-packages (from unstructured[all-docs]) (3.2.1)\n",
      "Collecting onnx (from unstructured[all-docs])\n",
      "  Downloading onnx-1.17.0-cp312-cp312-win_amd64.whl.metadata (16 kB)\n",
      "Collecting unstructured.pytesseract>=0.3.12 (from unstructured[all-docs])\n",
      "  Downloading unstructured.pytesseract-0.3.13-py3-none-any.whl.metadata (11 kB)\n",
      "Collecting pi-heif (from unstructured[all-docs])\n",
      "  Downloading pi_heif-0.20.0-cp312-cp312-win_amd64.whl.metadata (6.7 kB)\n",
      "Collecting effdet (from unstructured[all-docs])\n",
      "  Downloading effdet-0.4.1-py3-none-any.whl.metadata (33 kB)\n",
      "Requirement already satisfied: markdown in d:\\software\\lib\\site-packages (from unstructured[all-docs]) (3.4.1)\n",
      "Requirement already satisfied: openpyxl in d:\\software\\lib\\site-packages (from unstructured[all-docs]) (3.1.2)\n",
      "Collecting pypandoc (from unstructured[all-docs])\n",
      "  Downloading pypandoc-1.14-py3-none-any.whl.metadata (16 kB)\n",
      "Collecting xlrd (from unstructured[all-docs])\n",
      "  Using cached xlrd-2.0.1-py2.py3-none-any.whl.metadata (3.4 kB)\n",
      "Collecting python-pptx>=1.0.1 (from unstructured[all-docs])\n",
      "  Downloading python_pptx-1.0.2-py3-none-any.whl.metadata (2.5 kB)\n",
      "Collecting pdfminer.six (from unstructured[all-docs])\n",
      "  Downloading pdfminer.six-20240706-py3-none-any.whl.metadata (4.1 kB)\n",
      "Collecting google-cloud-vision (from unstructured[all-docs])\n",
      "  Downloading google_cloud_vision-3.7.4-py2.py3-none-any.whl.metadata (5.2 kB)\n",
      "Collecting pdf2image (from unstructured[all-docs])\n",
      "  Downloading pdf2image-1.17.0-py3-none-any.whl.metadata (6.2 kB)\n",
      "Collecting pikepdf (from unstructured[all-docs])\n",
      "  Downloading pikepdf-9.3.0-cp312-cp312-win_amd64.whl.metadata (8.4 kB)\n",
      "Collecting python-docx>=1.1.2 (from unstructured[all-docs])\n",
      "  Downloading python_docx-1.1.2-py3-none-any.whl.metadata (2.0 kB)\n",
      "Collecting pypdf (from unstructured[all-docs])\n",
      "  Downloading pypdf-5.0.1-py3-none-any.whl.metadata (7.4 kB)\n",
      "Collecting layoutparser (from unstructured-inference==0.7.36->unstructured[all-docs])\n",
      "  Downloading layoutparser-0.3.4-py3-none-any.whl.metadata (7.7 kB)\n",
      "Collecting python-multipart (from unstructured-inference==0.7.36->unstructured[all-docs])\n",
      "  Downloading python_multipart-0.0.13-py3-none-any.whl.metadata (1.8 kB)\n",
      "Requirement already satisfied: huggingface-hub in d:\\software\\lib\\site-packages (from unstructured-inference==0.7.36->unstructured[all-docs]) (0.24.7)\n",
      "Requirement already satisfied: opencv-python!=4.7.0.68 in d:\\software\\lib\\site-packages (from unstructured-inference==0.7.36->unstructured[all-docs]) (4.10.0.84)\n",
      "Collecting onnxruntime>=1.17.0 (from unstructured-inference==0.7.36->unstructured[all-docs])\n",
      "  Using cached onnxruntime-1.19.2-cp312-cp312-win_amd64.whl.metadata (4.7 kB)\n",
      "Requirement already satisfied: matplotlib in d:\\software\\lib\\site-packages (from unstructured-inference==0.7.36->unstructured[all-docs]) (3.7.5)\n",
      "Requirement already satisfied: torch in d:\\software\\lib\\site-packages (from unstructured-inference==0.7.36->unstructured[all-docs]) (2.2.2)\n",
      "Collecting timm (from unstructured-inference==0.7.36->unstructured[all-docs])\n",
      "  Downloading timm-1.0.11-py3-none-any.whl.metadata (48 kB)\n",
      "     ---------------------------------------- 0.0/48.4 kB ? eta -:--:--\n",
      "     ---------------------------------------- 48.4/48.4 kB ? eta 0:00:00\n",
      "Requirement already satisfied: transformers>=4.25.1 in d:\\software\\lib\\site-packages (from unstructured-inference==0.7.36->unstructured[all-docs]) (4.44.2)\n",
      "Requirement already satisfied: Pillow>=3.3.2 in d:\\software\\lib\\site-packages (from python-pptx>=1.0.1->unstructured[all-docs]) (10.2.0)\n",
      "Collecting XlsxWriter>=0.5.7 (from python-pptx>=1.0.1->unstructured[all-docs])\n",
      "  Downloading XlsxWriter-3.2.0-py3-none-any.whl.metadata (2.6 kB)\n",
      "Requirement already satisfied: packaging>=21.3 in d:\\software\\lib\\site-packages (from unstructured.pytesseract>=0.3.12->unstructured[all-docs]) (23.2)\n",
      "Requirement already satisfied: soupsieve>1.2 in d:\\software\\lib\\site-packages (from beautifulsoup4->unstructured[all-docs]) (2.5)\n",
      "Requirement already satisfied: marshmallow<4.0.0,>=3.18.0 in d:\\software\\lib\\site-packages (from dataclasses-json->unstructured[all-docs]) (3.22.0)\n",
      "Requirement already satisfied: typing-inspect<1,>=0.4.0 in d:\\software\\lib\\site-packages (from dataclasses-json->unstructured[all-docs]) (0.9.0)\n",
      "Requirement already satisfied: torchvision in d:\\software\\lib\\site-packages (from effdet->unstructured[all-docs]) (0.17.2)\n",
      "Collecting pycocotools>=2.0.2 (from effdet->unstructured[all-docs])\n",
      "  Downloading pycocotools-2.0.8-cp312-cp312-win_amd64.whl.metadata (1.1 kB)\n",
      "Collecting omegaconf>=2.0 (from effdet->unstructured[all-docs])\n",
      "  Downloading omegaconf-2.3.0-py3-none-any.whl.metadata (3.9 kB)\n",
      "Requirement already satisfied: google-api-core!=2.0.*,!=2.1.*,!=2.10.*,!=2.2.*,!=2.3.*,!=2.4.*,!=2.5.*,!=2.6.*,!=2.7.*,!=2.8.*,!=2.9.*,<3.0.0dev,>=1.34.1 in d:\\software\\lib\\site-packages (from google-api-core[grpc]!=2.0.*,!=2.1.*,!=2.10.*,!=2.2.*,!=2.3.*,!=2.4.*,!=2.5.*,!=2.6.*,!=2.7.*,!=2.8.*,!=2.9.*,<3.0.0dev,>=1.34.1->google-cloud-vision->unstructured[all-docs]) (2.19.2)\n",
      "Requirement already satisfied: google-auth!=2.24.0,!=2.25.0,<3.0.0dev,>=2.14.1 in d:\\software\\lib\\site-packages (from google-cloud-vision->unstructured[all-docs]) (2.34.0)\n",
      "Requirement already satisfied: proto-plus<2.0.0dev,>=1.22.3 in d:\\software\\lib\\site-packages (from google-cloud-vision->unstructured[all-docs]) (1.24.0)\n",
      "Requirement already satisfied: protobuf!=4.21.0,!=4.21.1,!=4.21.2,!=4.21.3,!=4.21.4,!=4.21.5,<6.0.0dev,>=3.20.2 in d:\\software\\lib\\site-packages (from google-cloud-vision->unstructured[all-docs]) (5.28.0)\n",
      "Requirement already satisfied: six in d:\\software\\lib\\site-packages (from langdetect->unstructured[all-docs]) (1.16.0)\n",
      "Requirement already satisfied: click in d:\\software\\lib\\site-packages (from nltk->unstructured[all-docs]) (8.1.7)\n",
      "Requirement already satisfied: joblib in d:\\software\\lib\\site-packages (from nltk->unstructured[all-docs]) (1.3.2)\n",
      "Requirement already satisfied: regex>=2021.8.3 in d:\\software\\lib\\site-packages (from nltk->unstructured[all-docs]) (2023.10.3)\n",
      "Requirement already satisfied: et-xmlfile in d:\\software\\lib\\site-packages (from openpyxl->unstructured[all-docs]) (1.1.0)\n",
      "Requirement already satisfied: python-dateutil>=2.8.2 in d:\\software\\lib\\site-packages (from pandas->unstructured[all-docs]) (2.9.0.post0)\n",
      "Requirement already satisfied: pytz>=2020.1 in d:\\software\\lib\\site-packages (from pandas->unstructured[all-docs]) (2024.1)\n",
      "Requirement already satisfied: tzdata>=2022.7 in d:\\software\\lib\\site-packages (from pandas->unstructured[all-docs]) (2023.3)\n",
      "Requirement already satisfied: charset-normalizer>=2.0.0 in d:\\software\\lib\\site-packages (from pdfminer.six->unstructured[all-docs]) (2.0.4)\n",
      "Requirement already satisfied: cryptography>=36.0.0 in d:\\software\\lib\\site-packages (from pdfminer.six->unstructured[all-docs]) (42.0.5)\n",
      "Requirement already satisfied: Deprecated in d:\\software\\lib\\site-packages (from pikepdf->unstructured[all-docs]) (1.2.14)\n",
      "Collecting olefile (from python-oxmsg->unstructured[all-docs])\n",
      "  Downloading olefile-0.47-py2.py3-none-any.whl.metadata (9.7 kB)\n",
      "Requirement already satisfied: idna<4,>=2.5 in d:\\software\\lib\\site-packages (from requests->unstructured[all-docs]) (3.7)\n",
      "Requirement already satisfied: urllib3<3,>=1.21.1 in d:\\software\\lib\\site-packages (from requests->unstructured[all-docs]) (2.2.2)\n",
      "Requirement already satisfied: certifi>=2017.4.17 in d:\\software\\lib\\site-packages (from requests->unstructured[all-docs]) (2024.7.4)\n",
      "Requirement already satisfied: colorama in d:\\software\\lib\\site-packages (from tqdm->unstructured[all-docs]) (0.4.6)\n",
      "Collecting eval-type-backport<0.3.0,>=0.2.0 (from unstructured-client->unstructured[all-docs])\n",
      "  Downloading eval_type_backport-0.2.0-py3-none-any.whl.metadata (2.2 kB)\n",
      "Collecting httpx>=0.27.0 (from unstructured-client->unstructured[all-docs])\n",
      "  Using cached httpx-0.27.2-py3-none-any.whl.metadata (7.1 kB)\n",
      "Collecting jsonpath-python<2.0.0,>=1.0.6 (from unstructured-client->unstructured[all-docs])\n",
      "  Downloading jsonpath_python-1.0.6-py3-none-any.whl.metadata (12 kB)\n",
      "Requirement already satisfied: nest-asyncio>=1.6.0 in d:\\software\\lib\\site-packages (from unstructured-client->unstructured[all-docs]) (1.6.0)\n",
      "Requirement already satisfied: pydantic<2.10.0,>=2.9.0 in d:\\software\\lib\\site-packages (from unstructured-client->unstructured[all-docs]) (2.9.2)\n",
      "Collecting python-dateutil>=2.8.2 (from pandas->unstructured[all-docs])\n",
      "  Downloading python_dateutil-2.8.2-py2.py3-none-any.whl.metadata (8.2 kB)\n",
      "Requirement already satisfied: requests-toolbelt>=1.0.0 in d:\\software\\lib\\site-packages (from unstructured-client->unstructured[all-docs]) (1.0.0)\n",
      "Requirement already satisfied: cffi>=1.12 in d:\\software\\lib\\site-packages (from cryptography>=36.0.0->pdfminer.six->unstructured[all-docs]) (1.16.0)\n",
      "Requirement already satisfied: googleapis-common-protos<2.0.dev0,>=1.56.2 in d:\\software\\lib\\site-packages (from google-api-core!=2.0.*,!=2.1.*,!=2.10.*,!=2.2.*,!=2.3.*,!=2.4.*,!=2.5.*,!=2.6.*,!=2.7.*,!=2.8.*,!=2.9.*,<3.0.0dev,>=1.34.1->google-api-core[grpc]!=2.0.*,!=2.1.*,!=2.10.*,!=2.2.*,!=2.3.*,!=2.4.*,!=2.5.*,!=2.6.*,!=2.7.*,!=2.8.*,!=2.9.*,<3.0.0dev,>=1.34.1->google-cloud-vision->unstructured[all-docs]) (1.65.0)\n",
      "Requirement already satisfied: grpcio<2.0dev,>=1.33.2 in d:\\software\\lib\\site-packages (from google-api-core[grpc]!=2.0.*,!=2.1.*,!=2.10.*,!=2.2.*,!=2.3.*,!=2.4.*,!=2.5.*,!=2.6.*,!=2.7.*,!=2.8.*,!=2.9.*,<3.0.0dev,>=1.34.1->google-cloud-vision->unstructured[all-docs]) (1.66.1)\n",
      "Requirement already satisfied: grpcio-status<2.0.dev0,>=1.33.2 in d:\\software\\lib\\site-packages (from google-api-core[grpc]!=2.0.*,!=2.1.*,!=2.10.*,!=2.2.*,!=2.3.*,!=2.4.*,!=2.5.*,!=2.6.*,!=2.7.*,!=2.8.*,!=2.9.*,<3.0.0dev,>=1.34.1->google-cloud-vision->unstructured[all-docs]) (1.66.1)\n",
      "Requirement already satisfied: cachetools<6.0,>=2.0.0 in d:\\software\\lib\\site-packages (from google-auth!=2.24.0,!=2.25.0,<3.0.0dev,>=2.14.1->google-cloud-vision->unstructured[all-docs]) (5.3.3)\n",
      "Requirement already satisfied: pyasn1-modules>=0.2.1 in d:\\software\\lib\\site-packages (from google-auth!=2.24.0,!=2.25.0,<3.0.0dev,>=2.14.1->google-cloud-vision->unstructured[all-docs]) (0.2.8)\n",
      "Requirement already satisfied: rsa<5,>=3.1.4 in d:\\software\\lib\\site-packages (from google-auth!=2.24.0,!=2.25.0,<3.0.0dev,>=2.14.1->google-cloud-vision->unstructured[all-docs]) (4.9)\n",
      "Requirement already satisfied: anyio in d:\\software\\lib\\site-packages (from httpx>=0.27.0->unstructured-client->unstructured[all-docs]) (4.2.0)\n",
      "Requirement already satisfied: httpcore==1.* in d:\\software\\lib\\site-packages (from httpx>=0.27.0->unstructured-client->unstructured[all-docs]) (1.0.2)\n",
      "Requirement already satisfied: sniffio in d:\\software\\lib\\site-packages (from httpx>=0.27.0->unstructured-client->unstructured[all-docs]) (1.3.0)\n",
      "Requirement already satisfied: h11<0.15,>=0.13 in d:\\software\\lib\\site-packages (from httpcore==1.*->httpx>=0.27.0->unstructured-client->unstructured[all-docs]) (0.14.0)\n",
      "Collecting antlr4-python3-runtime==4.9.* (from omegaconf>=2.0->effdet->unstructured[all-docs])\n",
      "  Downloading antlr4-python3-runtime-4.9.3.tar.gz (117 kB)\n",
      "     ---------------------------------------- 0.0/117.0 kB ? eta -:--:--\n",
      "     -------------------------------------- 117.0/117.0 kB 6.7 MB/s eta 0:00:00\n",
      "  Preparing metadata (setup.py): started\n",
      "  Preparing metadata (setup.py): finished with status 'done'\n",
      "Requirement already satisfied: PyYAML>=5.1.0 in d:\\software\\lib\\site-packages (from omegaconf>=2.0->effdet->unstructured[all-docs]) (6.0.1)\n",
      "Collecting coloredlogs (from onnxruntime>=1.17.0->unstructured-inference==0.7.36->unstructured[all-docs])\n",
      "  Using cached coloredlogs-15.0.1-py2.py3-none-any.whl.metadata (12 kB)\n",
      "Requirement already satisfied: flatbuffers in d:\\software\\lib\\site-packages (from onnxruntime>=1.17.0->unstructured-inference==0.7.36->unstructured[all-docs]) (24.3.25)\n",
      "Requirement already satisfied: sympy in d:\\software\\lib\\site-packages (from onnxruntime>=1.17.0->unstructured-inference==0.7.36->unstructured[all-docs]) (1.12)\n",
      "Requirement already satisfied: contourpy>=1.0.1 in d:\\software\\lib\\site-packages (from matplotlib->unstructured-inference==0.7.36->unstructured[all-docs]) (1.2.0)\n",
      "Requirement already satisfied: cycler>=0.10 in d:\\software\\lib\\site-packages (from matplotlib->unstructured-inference==0.7.36->unstructured[all-docs]) (0.11.0)\n",
      "Requirement already satisfied: fonttools>=4.22.0 in d:\\software\\lib\\site-packages (from matplotlib->unstructured-inference==0.7.36->unstructured[all-docs]) (4.51.0)\n",
      "Requirement already satisfied: kiwisolver>=1.0.1 in d:\\software\\lib\\site-packages (from matplotlib->unstructured-inference==0.7.36->unstructured[all-docs]) (1.4.4)\n",
      "Requirement already satisfied: pyparsing>=2.3.1 in d:\\software\\lib\\site-packages (from matplotlib->unstructured-inference==0.7.36->unstructured[all-docs]) (3.0.9)\n",
      "Requirement already satisfied: annotated-types>=0.6.0 in d:\\software\\lib\\site-packages (from pydantic<2.10.0,>=2.9.0->unstructured-client->unstructured[all-docs]) (0.6.0)\n",
      "Requirement already satisfied: pydantic-core==2.23.4 in d:\\software\\lib\\site-packages (from pydantic<2.10.0,>=2.9.0->unstructured-client->unstructured[all-docs]) (2.23.4)\n",
      "Requirement already satisfied: safetensors in d:\\software\\lib\\site-packages (from timm->unstructured-inference==0.7.36->unstructured[all-docs]) (0.4.5)\n",
      "Requirement already satisfied: filelock in d:\\software\\lib\\site-packages (from torch->unstructured-inference==0.7.36->unstructured[all-docs]) (3.13.1)\n",
      "Requirement already satisfied: jinja2 in d:\\software\\lib\\site-packages (from torch->unstructured-inference==0.7.36->unstructured[all-docs]) (3.1.4)\n",
      "Requirement already satisfied: fsspec in d:\\software\\lib\\site-packages (from torch->unstructured-inference==0.7.36->unstructured[all-docs]) (2024.3.1)\n",
      "Requirement already satisfied: tokenizers<0.20,>=0.19 in d:\\software\\lib\\site-packages (from transformers>=4.25.1->unstructured-inference==0.7.36->unstructured[all-docs]) (0.19.1)\n",
      "Requirement already satisfied: mypy-extensions>=0.3.0 in d:\\software\\lib\\site-packages (from typing-inspect<1,>=0.4.0->dataclasses-json->unstructured[all-docs]) (1.0.0)\n",
      "Requirement already satisfied: scipy in d:\\software\\lib\\site-packages (from layoutparser->unstructured-inference==0.7.36->unstructured[all-docs]) (1.11.4)\n",
      "Collecting iopath (from layoutparser->unstructured-inference==0.7.36->unstructured[all-docs])\n",
      "  Downloading iopath-0.1.10.tar.gz (42 kB)\n",
      "     ---------------------------------------- 0.0/42.2 kB ? eta -:--:--\n",
      "     ---------------------------------------- 42.2/42.2 kB ? eta 0:00:00\n",
      "  Preparing metadata (setup.py): started\n",
      "  Preparing metadata (setup.py): finished with status 'done'\n",
      "Collecting pdfplumber (from layoutparser->unstructured-inference==0.7.36->unstructured[all-docs])\n",
      "  Downloading pdfplumber-0.11.4-py3-none-any.whl.metadata (41 kB)\n",
      "     ---------------------------------------- 0.0/42.0 kB ? eta -:--:--\n",
      "     ---------------------------------------- 42.0/42.0 kB 2.1 MB/s eta 0:00:00\n",
      "Requirement already satisfied: pycparser in d:\\software\\lib\\site-packages (from cffi>=1.12->cryptography>=36.0.0->pdfminer.six->unstructured[all-docs]) (2.21)\n",
      "Requirement already satisfied: pyasn1<0.5.0,>=0.4.6 in d:\\software\\lib\\site-packages (from pyasn1-modules>=0.2.1->google-auth!=2.24.0,!=2.25.0,<3.0.0dev,>=2.14.1->google-cloud-vision->unstructured[all-docs]) (0.4.8)\n",
      "Collecting humanfriendly>=9.1 (from coloredlogs->onnxruntime>=1.17.0->unstructured-inference==0.7.36->unstructured[all-docs])\n",
      "  Using cached humanfriendly-10.0-py2.py3-none-any.whl.metadata (9.2 kB)\n",
      "Collecting portalocker (from iopath->layoutparser->unstructured-inference==0.7.36->unstructured[all-docs])\n",
      "  Downloading portalocker-2.10.1-py3-none-any.whl.metadata (8.5 kB)\n",
      "Requirement already satisfied: MarkupSafe>=2.0 in d:\\software\\lib\\site-packages (from jinja2->torch->unstructured-inference==0.7.36->unstructured[all-docs]) (2.1.3)\n",
      "Collecting pdfminer.six (from unstructured[all-docs])\n",
      "  Using cached pdfminer.six-20231228-py3-none-any.whl.metadata (4.2 kB)\n",
      "Collecting pypdfium2>=4.18.0 (from pdfplumber->layoutparser->unstructured-inference==0.7.36->unstructured[all-docs])\n",
      "  Downloading pypdfium2-4.30.0-py3-none-win_amd64.whl.metadata (48 kB)\n",
      "     ---------------------------------------- 0.0/48.5 kB ? eta -:--:--\n",
      "     ---------------------------------------- 48.5/48.5 kB ? eta 0:00:00\n",
      "Requirement already satisfied: mpmath>=0.19 in d:\\software\\lib\\site-packages (from sympy->onnxruntime>=1.17.0->unstructured-inference==0.7.36->unstructured[all-docs]) (1.3.0)\n",
      "Collecting pyreadline3 (from humanfriendly>=9.1->coloredlogs->onnxruntime>=1.17.0->unstructured-inference==0.7.36->unstructured[all-docs])\n",
      "  Using cached pyreadline3-3.5.4-py3-none-any.whl.metadata (4.7 kB)\n",
      "Requirement already satisfied: pywin32>=226 in d:\\software\\lib\\site-packages (from portalocker->iopath->layoutparser->unstructured-inference==0.7.36->unstructured[all-docs]) (305.1)\n",
      "Downloading unstructured_inference-0.7.36-py3-none-any.whl (56 kB)\n",
      "   ---------------------------------------- 0.0/56.4 kB ? eta -:--:--\n",
      "   ---------------------------------------- 56.4/56.4 kB ? eta 0:00:00\n",
      "Downloading python_docx-1.1.2-py3-none-any.whl (244 kB)\n",
      "   ---------------------------------------- 0.0/244.3 kB ? eta -:--:--\n",
      "   --------------------------------------- 244.3/244.3 kB 15.6 MB/s eta 0:00:00\n",
      "Downloading python_pptx-1.0.2-py3-none-any.whl (472 kB)\n",
      "   ---------------------------------------- 0.0/472.8 kB ? eta -:--:--\n",
      "   --------------------------------------- 472.8/472.8 kB 30.8 MB/s eta 0:00:00\n",
      "Downloading unstructured.pytesseract-0.3.13-py3-none-any.whl (14 kB)\n",
      "Using cached backoff-2.2.1-py3-none-any.whl (15 kB)\n",
      "Downloading effdet-0.4.1-py3-none-any.whl (112 kB)\n",
      "   ---------------------------------------- 0.0/112.5 kB ? eta -:--:--\n",
      "   ---------------------------------------- 112.5/112.5 kB ? eta 0:00:00\n",
      "Downloading emoji-2.14.0-py3-none-any.whl (586 kB)\n",
      "   ---------------------------------------- 0.0/586.9 kB ? eta -:--:--\n",
      "   --------------------------------------- 586.9/586.9 kB 18.6 MB/s eta 0:00:00\n",
      "Downloading filetype-1.2.0-py2.py3-none-any.whl (19 kB)\n",
      "Downloading google_cloud_vision-3.7.4-py2.py3-none-any.whl (467 kB)\n",
      "   ---------------------------------------- 0.0/467.5 kB ? eta -:--:--\n",
      "   --------------------------------------- 467.5/467.5 kB 28.6 MB/s eta 0:00:00\n",
      "Downloading onnx-1.17.0-cp312-cp312-win_amd64.whl (14.5 MB)\n",
      "   ---------------------------------------- 0.0/14.5 MB ? eta -:--:--\n",
      "   ------ --------------------------------- 2.5/14.5 MB 53.2 MB/s eta 0:00:01\n",
      "   ------------ --------------------------- 4.6/14.5 MB 42.5 MB/s eta 0:00:01\n",
      "   ----------------- ---------------------- 6.4/14.5 MB 45.4 MB/s eta 0:00:01\n",
      "   ----------------- ---------------------- 6.4/14.5 MB 45.4 MB/s eta 0:00:01\n",
      "   ------------------------ --------------- 8.8/14.5 MB 37.7 MB/s eta 0:00:01\n",
      "   -------------------------- ------------- 9.6/14.5 MB 38.5 MB/s eta 0:00:01\n",
      "   ------------------------------- -------- 11.6/14.5 MB 34.4 MB/s eta 0:00:01\n",
      "   ---------------------------------- ----- 12.6/14.5 MB 31.2 MB/s eta 0:00:01\n",
      "   ---------------------------------- ----- 12.6/14.5 MB 29.8 MB/s eta 0:00:01\n",
      "   ----------------------------------- ---- 13.1/14.5 MB 26.2 MB/s eta 0:00:01\n",
      "   ------------------------------------- -- 13.5/14.5 MB 24.2 MB/s eta 0:00:01\n",
      "   -------------------------------------- - 14.0/14.5 MB 21.8 MB/s eta 0:00:01\n",
      "   ---------------------------------------  14.5/14.5 MB 21.1 MB/s eta 0:00:01\n",
      "   ---------------------------------------  14.5/14.5 MB 21.1 MB/s eta 0:00:01\n",
      "   ---------------------------------------- 14.5/14.5 MB 19.3 MB/s eta 0:00:00\n",
      "Downloading pdf2image-1.17.0-py3-none-any.whl (11 kB)\n",
      "Downloading pi_heif-0.20.0-cp312-cp312-win_amd64.whl (1.7 MB)\n",
      "   ---------------------------------------- 0.0/1.7 MB ? eta -:--:--\n",
      "   ------------- -------------------------- 0.6/1.7 MB 17.5 MB/s eta 0:00:01\n",
      "   ------------------------- -------------- 1.0/1.7 MB 13.3 MB/s eta 0:00:01\n",
      "   -------------------------------------- - 1.6/1.7 MB 12.7 MB/s eta 0:00:01\n",
      "   ---------------------------------------- 1.7/1.7 MB 11.8 MB/s eta 0:00:00\n",
      "Downloading pikepdf-9.3.0-cp312-cp312-win_amd64.whl (3.5 MB)\n",
      "   ---------------------------------------- 0.0/3.5 MB ? eta -:--:--\n",
      "   ------- -------------------------------- 0.7/3.5 MB 13.9 MB/s eta 0:00:01\n",
      "   -------------- ------------------------- 1.2/3.5 MB 13.0 MB/s eta 0:00:01\n",
      "   ----------------------- ---------------- 2.1/3.5 MB 14.6 MB/s eta 0:00:01\n",
      "   --------------------------------- ------ 2.9/3.5 MB 14.3 MB/s eta 0:00:01\n",
      "   ---------------------------------------  3.5/3.5 MB 14.7 MB/s eta 0:00:01\n",
      "   ---------------------------------------- 3.5/3.5 MB 13.1 MB/s eta 0:00:00\n",
      "Downloading pypandoc-1.14-py3-none-any.whl (21 kB)\n",
      "Downloading pypdf-5.0.1-py3-none-any.whl (294 kB)\n",
      "   ---------------------------------------- 0.0/294.5 kB ? eta -:--:--\n",
      "   --------------------------------------- 294.5/294.5 kB 18.9 MB/s eta 0:00:00\n",
      "Downloading python_iso639-2024.4.27-py3-none-any.whl (274 kB)\n",
      "   ---------------------------------------- 0.0/274.7 kB ? eta -:--:--\n",
      "   ---------------------------------------- 274.7/274.7 kB 8.3 MB/s eta 0:00:00\n",
      "Downloading python_magic-0.4.27-py2.py3-none-any.whl (13 kB)\n",
      "Downloading python_oxmsg-0.0.1-py3-none-any.whl (31 kB)\n",
      "Downloading rapidfuzz-3.10.0-cp312-cp312-win_amd64.whl (1.6 MB)\n",
      "   ---------------------------------------- 0.0/1.6 MB ? eta -:--:--\n",
      "   --------------- ------------------------ 0.6/1.6 MB 12.9 MB/s eta 0:00:01\n",
      "   ------------------------------ --------- 1.2/1.6 MB 13.1 MB/s eta 0:00:01\n",
      "   ---------------------------------------- 1.6/1.6 MB 12.8 MB/s eta 0:00:00\n",
      "Downloading unstructured-0.16.0-py3-none-any.whl (1.7 MB)\n",
      "   ---------------------------------------- 0.0/1.7 MB ? eta -:--:--\n",
      "   ------------------ --------------------- 0.8/1.7 MB 17.0 MB/s eta 0:00:01\n",
      "   ----------------------------------- ---- 1.5/1.7 MB 16.2 MB/s eta 0:00:01\n",
      "   ---------------------------------------- 1.7/1.7 MB 13.7 MB/s eta 0:00:00\n",
      "Downloading unstructured_client-0.26.1-py3-none-any.whl (60 kB)\n",
      "   ---------------------------------------- 0.0/60.2 kB ? eta -:--:--\n",
      "   ---------------------------------------- 60.2/60.2 kB 3.3 MB/s eta 0:00:00\n",
      "Downloading python_dateutil-2.8.2-py2.py3-none-any.whl (247 kB)\n",
      "   ---------------------------------------- 0.0/247.7 kB ? eta -:--:--\n",
      "   --------------------------------------- 247.7/247.7 kB 14.8 MB/s eta 0:00:00\n",
      "Using cached xlrd-2.0.1-py2.py3-none-any.whl (96 kB)\n",
      "Downloading eval_type_backport-0.2.0-py3-none-any.whl (5.9 kB)\n",
      "Using cached httpx-0.27.2-py3-none-any.whl (76 kB)\n",
      "Downloading jsonpath_python-1.0.6-py3-none-any.whl (7.6 kB)\n",
      "Downloading omegaconf-2.3.0-py3-none-any.whl (79 kB)\n",
      "   ---------------------------------------- 0.0/79.5 kB ? eta -:--:--\n",
      "   ---------------------------------------- 79.5/79.5 kB 4.3 MB/s eta 0:00:00\n",
      "Using cached onnxruntime-1.19.2-cp312-cp312-win_amd64.whl (11.1 MB)\n",
      "Downloading pycocotools-2.0.8-cp312-cp312-win_amd64.whl (83 kB)\n",
      "   ---------------------------------------- 0.0/83.3 kB ? eta -:--:--\n",
      "   ---------------------------------------- 83.3/83.3 kB 4.6 MB/s eta 0:00:00\n",
      "Downloading timm-1.0.11-py3-none-any.whl (2.3 MB)\n",
      "   ---------------------------------------- 0.0/2.3 MB ? eta -:--:--\n",
      "   ---------- ----------------------------- 0.6/2.3 MB 13.1 MB/s eta 0:00:01\n",
      "   --------------------- ------------------ 1.3/2.3 MB 13.4 MB/s eta 0:00:01\n",
      "   ------------------------------ --------- 1.8/2.3 MB 14.3 MB/s eta 0:00:01\n",
      "   ---------------------------------------  2.3/2.3 MB 13.5 MB/s eta 0:00:01\n",
      "   ---------------------------------------- 2.3/2.3 MB 12.3 MB/s eta 0:00:00\n",
      "Downloading XlsxWriter-3.2.0-py3-none-any.whl (159 kB)\n",
      "   ---------------------------------------- 0.0/159.9 kB ? eta -:--:--\n",
      "   ---------------------------------------- 159.9/159.9 kB 9.4 MB/s eta 0:00:00\n",
      "Downloading layoutparser-0.3.4-py3-none-any.whl (19.2 MB)\n",
      "   ---------------------------------------- 0.0/19.2 MB ? eta -:--:--\n",
      "   - -------------------------------------- 0.7/19.2 MB 21.5 MB/s eta 0:00:01\n",
      "   -- ------------------------------------- 1.3/19.2 MB 16.8 MB/s eta 0:00:02\n",
      "   --- ------------------------------------ 1.9/19.2 MB 17.5 MB/s eta 0:00:01\n",
      "   ----- ---------------------------------- 2.5/19.2 MB 16.0 MB/s eta 0:00:02\n",
      "   ------ --------------------------------- 3.1/19.2 MB 15.4 MB/s eta 0:00:02\n",
      "   ------- -------------------------------- 3.8/19.2 MB 15.0 MB/s eta 0:00:02\n",
      "   --------- ------------------------------ 4.4/19.2 MB 15.5 MB/s eta 0:00:01\n",
      "   ---------- ----------------------------- 4.9/19.2 MB 15.0 MB/s eta 0:00:01\n",
      "   ----------- ---------------------------- 5.6/19.2 MB 15.5 MB/s eta 0:00:01\n",
      "   ------------ --------------------------- 6.2/19.2 MB 15.2 MB/s eta 0:00:01\n",
      "   -------------- ------------------------- 6.8/19.2 MB 15.1 MB/s eta 0:00:01\n",
      "   --------------- ------------------------ 7.5/19.2 MB 15.4 MB/s eta 0:00:01\n",
      "   ---------------- ----------------------- 8.1/19.2 MB 15.3 MB/s eta 0:00:01\n",
      "   ------------------ --------------------- 8.9/19.2 MB 15.4 MB/s eta 0:00:01\n",
      "   ------------------- -------------------- 9.4/19.2 MB 15.1 MB/s eta 0:00:01\n",
      "   --------------------- ------------------ 10.1/19.2 MB 15.4 MB/s eta 0:00:01\n",
      "   --------------------- ------------------ 10.5/19.2 MB 14.9 MB/s eta 0:00:01\n",
      "   ----------------------- ---------------- 11.2/19.2 MB 14.9 MB/s eta 0:00:01\n",
      "   ------------------------ --------------- 11.9/19.2 MB 14.6 MB/s eta 0:00:01\n",
      "   -------------------------- ------------- 12.6/19.2 MB 15.2 MB/s eta 0:00:01\n",
      "   --------------------------- ------------ 13.4/19.2 MB 14.9 MB/s eta 0:00:01\n",
      "   ----------------------------- ---------- 14.0/19.2 MB 15.2 MB/s eta 0:00:01\n",
      "   ------------------------------ --------- 14.6/19.2 MB 14.9 MB/s eta 0:00:01\n",
      "   ------------------------------- -------- 15.3/19.2 MB 14.9 MB/s eta 0:00:01\n",
      "   --------------------------------- ------ 15.9/19.2 MB 14.9 MB/s eta 0:00:01\n",
      "   ---------------------------------- ----- 16.6/19.2 MB 15.2 MB/s eta 0:00:01\n",
      "   ----------------------------------- ---- 17.2/19.2 MB 15.2 MB/s eta 0:00:01\n",
      "   ------------------------------------- -- 18.0/19.2 MB 15.2 MB/s eta 0:00:01\n",
      "   ---------------------------------------  18.8/19.2 MB 15.2 MB/s eta 0:00:01\n",
      "   ---------------------------------------  19.2/19.2 MB 15.2 MB/s eta 0:00:01\n",
      "   ---------------------------------------- 19.2/19.2 MB 14.2 MB/s eta 0:00:00\n",
      "Downloading olefile-0.47-py2.py3-none-any.whl (114 kB)\n",
      "   ---------------------------------------- 0.0/114.6 kB ? eta -:--:--\n",
      "   ---------------------------------------- 114.6/114.6 kB 7.0 MB/s eta 0:00:00\n",
      "Downloading python_multipart-0.0.13-py3-none-any.whl (24 kB)\n",
      "Using cached coloredlogs-15.0.1-py2.py3-none-any.whl (46 kB)\n",
      "Downloading pdfplumber-0.11.4-py3-none-any.whl (59 kB)\n",
      "   ---------------------------------------- 0.0/59.2 kB ? eta -:--:--\n",
      "   ---------------------------------------- 59.2/59.2 kB 3.1 MB/s eta 0:00:00\n",
      "Using cached pdfminer.six-20231228-py3-none-any.whl (5.6 MB)\n",
      "Using cached humanfriendly-10.0-py2.py3-none-any.whl (86 kB)\n",
      "Downloading pypdfium2-4.30.0-py3-none-win_amd64.whl (2.9 MB)\n",
      "   ---------------------------------------- 0.0/2.9 MB ? eta -:--:--\n",
      "   ---------- ----------------------------- 0.7/2.9 MB 15.5 MB/s eta 0:00:01\n",
      "   ------------------- -------------------- 1.4/2.9 MB 15.3 MB/s eta 0:00:01\n",
      "   ---------------------------- ----------- 2.1/2.9 MB 16.6 MB/s eta 0:00:01\n",
      "   -------------------------------------- - 2.8/2.9 MB 16.0 MB/s eta 0:00:01\n",
      "   ---------------------------------------- 2.9/2.9 MB 14.2 MB/s eta 0:00:00\n",
      "Downloading portalocker-2.10.1-py3-none-any.whl (18 kB)\n",
      "Using cached pyreadline3-3.5.4-py3-none-any.whl (83 kB)\n",
      "Building wheels for collected packages: langdetect, antlr4-python3-runtime, iopath\n",
      "  Building wheel for langdetect (setup.py): started\n",
      "  Building wheel for langdetect (setup.py): finished with status 'done'\n",
      "  Created wheel for langdetect: filename=langdetect-1.0.9-py3-none-any.whl size=993255 sha256=1d5aa89401dca5aa8a90589ac6f0854633ef740bc22a01d6f952cc3afe03d9d6\n",
      "  Stored in directory: c:\\users\\kumar sundram\\appdata\\local\\pip\\cache\\wheels\\c1\\67\\88\\e844b5b022812e15a52e4eaa38a1e709e99f06f6639d7e3ba7\n",
      "  Building wheel for antlr4-python3-runtime (setup.py): started\n",
      "  Building wheel for antlr4-python3-runtime (setup.py): finished with status 'done'\n",
      "  Created wheel for antlr4-python3-runtime: filename=antlr4_python3_runtime-4.9.3-py3-none-any.whl size=144578 sha256=a84f928bc1205dccdb4c9f7b116f348c1def5e42cedca6f93f69d2b93c24dc54\n",
      "  Stored in directory: c:\\users\\kumar sundram\\appdata\\local\\pip\\cache\\wheels\\1f\\be\\48\\13754633f1d08d1fbfc60d5e80ae1e5d7329500477685286cd\n",
      "  Building wheel for iopath (setup.py): started\n",
      "  Building wheel for iopath (setup.py): finished with status 'done'\n",
      "  Created wheel for iopath: filename=iopath-0.1.10-py3-none-any.whl size=31543 sha256=e6a05741be6c3a207ab562239677acfa6f27d08e050a03a619e19fade2db5ed4\n",
      "  Stored in directory: c:\\users\\kumar sundram\\appdata\\local\\pip\\cache\\wheels\\7c\\96\\04\\4f5f31ff812f684f69f40cb1634357812220aac58d4698048c\n",
      "Successfully built langdetect antlr4-python3-runtime iopath\n",
      "Installing collected packages: filetype, antlr4-python3-runtime, XlsxWriter, xlrd, unstructured.pytesseract, rapidfuzz, python-multipart, python-magic, python-iso639, python-docx, python-dateutil, pyreadline3, pypdfium2, pypdf, pypandoc, portalocker, pi-heif, pdf2image, onnx, omegaconf, olefile, langdetect, jsonpath-python, eval-type-backport, emoji, backoff, python-pptx, python-oxmsg, pikepdf, iopath, humanfriendly, httpx, unstructured-client, pycocotools, pdfminer.six, coloredlogs, unstructured, timm, pdfplumber, onnxruntime, layoutparser, google-cloud-vision, effdet, unstructured-inference\n",
      "  Attempting uninstall: python-dateutil\n",
      "    Found existing installation: python-dateutil 2.9.0.post0\n",
      "    Uninstalling python-dateutil-2.9.0.post0:\n",
      "      Successfully uninstalled python-dateutil-2.9.0.post0\n",
      "  Attempting uninstall: httpx\n",
      "    Found existing installation: httpx 0.26.0\n",
      "    Uninstalling httpx-0.26.0:\n",
      "      Successfully uninstalled httpx-0.26.0\n",
      "Successfully installed XlsxWriter-3.2.0 antlr4-python3-runtime-4.9.3 backoff-2.2.1 coloredlogs-15.0.1 effdet-0.4.1 emoji-2.14.0 eval-type-backport-0.2.0 filetype-1.2.0 google-cloud-vision-3.7.4 httpx-0.27.2 humanfriendly-10.0 iopath-0.1.10 jsonpath-python-1.0.6 langdetect-1.0.9 layoutparser-0.3.4 olefile-0.47 omegaconf-2.3.0 onnx-1.17.0 onnxruntime-1.19.2 pdf2image-1.17.0 pdfminer.six-20231228 pdfplumber-0.11.4 pi-heif-0.20.0 pikepdf-9.3.0 portalocker-2.10.1 pycocotools-2.0.8 pypandoc-1.14 pypdf-5.0.1 pypdfium2-4.30.0 pyreadline3-3.5.4 python-dateutil-2.8.2 python-docx-1.1.2 python-iso639-2024.4.27 python-magic-0.4.27 python-multipart-0.0.13 python-oxmsg-0.0.1 python-pptx-1.0.2 rapidfuzz-3.10.0 timm-1.0.11 unstructured-0.16.0 unstructured-client-0.26.1 unstructured-inference-0.7.36 unstructured.pytesseract-0.3.13 xlrd-2.0.1\n"
     ]
    },
    {
     "name": "stderr",
     "output_type": "stream",
     "text": [
      "ERROR: pip's dependency resolver does not currently take into account all the packages that are installed. This behaviour is the source of the following dependency conflicts.\n",
      "pycaret 3.3.2 requires pandas<2.2.0, but you have pandas 2.2.3 which is incompatible.\n",
      "sktime 0.26.0 requires pandas<2.2.0,>=1.1, but you have pandas 2.2.3 which is incompatible.\n"
     ]
    }
   ],
   "source": [
    "!pip install \"unstructured[all-docs]\""
   ]
  },
  {
   "cell_type": "code",
   "execution_count": null,
   "id": "f7336266-757f-4e77-8fed-1ea049db3a84",
   "metadata": {
    "id": "f7336266-757f-4e77-8fed-1ea049db3a84",
    "outputId": "53f8ceeb-4088-493a-bb70-a61dae6fac97"
   },
   "outputs": [
    {
     "name": "stdout",
     "output_type": "stream",
     "text": [
      "Collecting jq\n",
      "  Downloading jq-1.8.0-cp312-cp312-win_amd64.whl.metadata (7.2 kB)\n",
      "Downloading jq-1.8.0-cp312-cp312-win_amd64.whl (417 kB)\n",
      "   ---------------------------------------- 0.0/417.3 kB ? eta -:--:--\n",
      "    --------------------------------------- 10.2/417.3 kB ? eta -:--:--\n",
      "   --- ----------------------------------- 41.0/417.3 kB 653.6 kB/s eta 0:00:01\n",
      "   ---------------------------------------- 417.3/417.3 kB 4.3 MB/s eta 0:00:00\n",
      "Installing collected packages: jq\n",
      "Successfully installed jq-1.8.0\n"
     ]
    }
   ],
   "source": [
    "!pip install jq"
   ]
  },
  {
   "cell_type": "code",
   "execution_count": null,
   "id": "265cdb8c-b950-4f06-9d4f-fffc0d6b285d",
   "metadata": {
    "id": "265cdb8c-b950-4f06-9d4f-fffc0d6b285d",
    "outputId": "f74e33d6-3146-41ee-d0c6-df7314f1e029"
   },
   "outputs": [
    {
     "name": "stdout",
     "output_type": "stream",
     "text": [
      "Requirement already satisfied: pypdf in d:\\software\\lib\\site-packages (5.0.1)\n"
     ]
    }
   ],
   "source": [
    "!pip install pypdf"
   ]
  },
  {
   "cell_type": "code",
   "execution_count": null,
   "id": "b23b422a-fe3e-4423-94db-48fd760af37c",
   "metadata": {
    "id": "b23b422a-fe3e-4423-94db-48fd760af37c",
    "outputId": "db35b7e6-8617-43f5-87ee-8b6c0c4318ae",
    "scrolled": true
   },
   "outputs": [
    {
     "name": "stdout",
     "output_type": "stream",
     "text": [
      "Collecting pymupdf\n",
      "  Downloading PyMuPDF-1.24.11-cp38-abi3-win_amd64.whl.metadata (3.4 kB)\n",
      "Downloading PyMuPDF-1.24.11-cp38-abi3-win_amd64.whl (16.0 MB)\n",
      "   ---------------------------------------- 0.0/16.0 MB ? eta -:--:--\n",
      "   ---------------------------------------- 0.0/16.0 MB ? eta -:--:--\n",
      "   ---------------------------------------- 0.0/16.0 MB 653.6 kB/s eta 0:00:25\n",
      "    --------------------------------------- 0.3/16.0 MB 2.9 MB/s eta 0:00:06\n",
      "   ---- ----------------------------------- 1.7/16.0 MB 11.8 MB/s eta 0:00:02\n",
      "   ---------- ----------------------------- 4.2/16.0 MB 22.3 MB/s eta 0:00:01\n",
      "   --------------- ------------------------ 6.0/16.0 MB 25.6 MB/s eta 0:00:01\n",
      "   ------------------- -------------------- 7.9/16.0 MB 28.2 MB/s eta 0:00:01\n",
      "   ---------------------- ----------------- 9.2/16.0 MB 29.4 MB/s eta 0:00:01\n",
      "   -------------------------- ------------- 10.7/16.0 MB 40.9 MB/s eta 0:00:01\n",
      "   ----------------------------- ---------- 11.8/16.0 MB 36.3 MB/s eta 0:00:01\n",
      "   ------------------------------- -------- 12.5/16.0 MB 34.4 MB/s eta 0:00:01\n",
      "   -------------------------------- ------- 13.0/16.0 MB 29.7 MB/s eta 0:00:01\n",
      "   --------------------------------- ------ 13.6/16.0 MB 27.3 MB/s eta 0:00:01\n",
      "   ---------------------------------- ----- 14.0/16.0 MB 26.2 MB/s eta 0:00:01\n",
      "   ----------------------------------- ---- 14.3/16.0 MB 24.2 MB/s eta 0:00:01\n",
      "   ------------------------------------ --- 14.5/16.0 MB 22.6 MB/s eta 0:00:01\n",
      "   ------------------------------------ --- 14.7/16.0 MB 19.8 MB/s eta 0:00:01\n",
      "   ------------------------------------- -- 14.9/16.0 MB 19.8 MB/s eta 0:00:01\n",
      "   ------------------------------------- -- 15.2/16.0 MB 18.7 MB/s eta 0:00:01\n",
      "   -------------------------------------- - 15.5/16.0 MB 17.2 MB/s eta 0:00:01\n",
      "   ---------------------------------------  15.7/16.0 MB 16.0 MB/s eta 0:00:01\n",
      "   ---------------------------------------  16.0/16.0 MB 15.2 MB/s eta 0:00:01\n",
      "   ---------------------------------------- 16.0/16.0 MB 14.6 MB/s eta 0:00:00\n",
      "Installing collected packages: pymupdf\n",
      "Successfully installed pymupdf-1.24.11\n"
     ]
    }
   ],
   "source": [
    "!pip install pymupdf"
   ]
  },
  {
   "cell_type": "code",
   "execution_count": null,
   "id": "5e6f8285-a9fd-4e16-91da-11f9aeb569a9",
   "metadata": {
    "id": "5e6f8285-a9fd-4e16-91da-11f9aeb569a9",
    "outputId": "6bf56821-e4be-4c64-9a61-ccb2b2999316"
   },
   "outputs": [
    {
     "name": "stderr",
     "output_type": "stream",
     "text": [
      "0it [00:00, ?it/s]\n"
     ]
    }
   ],
   "source": [
    "from langchain_community.document_loaders import DirectoryLoader\n",
    "from langchain_community.document_loaders import TextLoader\n",
    "\n",
    "loader = DirectoryLoader('../', glob=\"**/*.md\", show_progress=True, loader_cls=TextLoader)\n",
    "docs = loader.load()"
   ]
  },
  {
   "cell_type": "markdown",
   "id": "ffcef185-5b87-4a93-a1b3-8e67a2be39be",
   "metadata": {
    "id": "ffcef185-5b87-4a93-a1b3-8e67a2be39be"
   },
   "source": [
    "## **Loading one .srt File**"
   ]
  },
  {
   "cell_type": "code",
   "execution_count": null,
   "id": "53dec5fa-0b30-4d04-83aa-4da2f6614998",
   "metadata": {
    "id": "53dec5fa-0b30-4d04-83aa-4da2f6614998"
   },
   "outputs": [],
   "source": [
    "# Web Base Loader\n",
    "#!pip install beautifulsoup4"
   ]
  },
  {
   "cell_type": "code",
   "execution_count": null,
   "id": "23e96a70-6ebe-47d6-9c22-38620d6532a2",
   "metadata": {
    "id": "23e96a70-6ebe-47d6-9c22-38620d6532a2"
   },
   "outputs": [],
   "source": [
    "from langchain_community.document_loaders import WebBaseLoader"
   ]
  },
  {
   "cell_type": "code",
   "execution_count": null,
   "id": "df058a1d-eb92-4c20-8510-055ece870775",
   "metadata": {
    "id": "df058a1d-eb92-4c20-8510-055ece870775"
   },
   "outputs": [],
   "source": [
    "loader = WebBaseLoader(\"https://docs.smith.langchain.com/user_guide\")"
   ]
  },
  {
   "cell_type": "code",
   "execution_count": null,
   "id": "d9db9014-cfb2-46e4-b583-ba5070783d62",
   "metadata": {
    "id": "d9db9014-cfb2-46e4-b583-ba5070783d62"
   },
   "outputs": [],
   "source": [
    "data = loader.load()"
   ]
  },
  {
   "cell_type": "code",
   "execution_count": null,
   "id": "7ead7590-b41a-488c-abba-af3b2b5e2983",
   "metadata": {
    "id": "7ead7590-b41a-488c-abba-af3b2b5e2983",
    "outputId": "fba1ec47-4f95-4533-b9f2-1a6bc5b032ed"
   },
   "outputs": [
    {
     "data": {
      "text/plain": [
       "list"
      ]
     },
     "execution_count": 15,
     "metadata": {},
     "output_type": "execute_result"
    }
   ],
   "source": [
    "type(data)"
   ]
  },
  {
   "cell_type": "code",
   "execution_count": null,
   "id": "3e11726d-4399-415e-9b67-9b4967b06bfb",
   "metadata": {
    "id": "3e11726d-4399-415e-9b67-9b4967b06bfb",
    "outputId": "3e442738-d4fd-45f3-ed0f-d047118a6f62"
   },
   "outputs": [
    {
     "data": {
      "text/plain": [
       "1"
      ]
     },
     "execution_count": 17,
     "metadata": {},
     "output_type": "execute_result"
    }
   ],
   "source": [
    "len(data)"
   ]
  },
  {
   "cell_type": "code",
   "execution_count": null,
   "id": "a40bc941-0039-435d-8e61-e05e86f14ada",
   "metadata": {
    "id": "a40bc941-0039-435d-8e61-e05e86f14ada",
    "outputId": "ad9c0a02-2872-4d1d-9e68-c28190ab300c",
    "scrolled": true
   },
   "outputs": [
    {
     "data": {
      "text/plain": [
       "Document(metadata={'source': 'https://docs.smith.langchain.com/user_guide', 'title': 'LangSmith User Guide | ğŸ¦œï¸�ğŸ›\\xa0ï¸� LangSmith', 'description': 'LangSmith is a platform for LLM application development, monitoring, and testing. In this guide, weâ€™ll highlight the breadth of workflows LangSmith supports and how they fit into each stage of the application development lifecycle. We hope this will inform users how to best utilize this powerful platform or give them something to consider if theyâ€™re just starting their journey.', 'language': 'en'}, page_content=\"\\n\\n\\n\\n\\nLangSmith User Guide | ğŸ¦œï¸�ğŸ›\\xa0ï¸� LangSmith\\n\\n\\n\\n\\n\\n\\n\\nSkip to main contentGo to API DocsSearchRegionUSEUGo to AppQuick StartUser GuideTracingEvaluationProduction Monitoring & AutomationsPrompt HubProxyPricingSelf-HostingCookbookThis is outdated documentation for ğŸ¦œï¸�ğŸ›\\xa0ï¸� LangSmith, which is no longer actively maintained.For up-to-date documentation, see the latest version.User GuideOn this pageLangSmith User GuideLangSmith is a platform for LLM application development, monitoring, and testing. In this guide, weâ€™ll highlight the breadth of workflows LangSmith supports and how they fit into each stage of the application development lifecycle. We hope this will inform users how to best utilize this powerful platform or give them something to consider if theyâ€™re just starting their journey.Prototypingâ€‹Prototyping LLM applications often involves quick experimentation between prompts, model types, retrieval strategy and other parameters.\\nThe ability to rapidly understand how the model is performing â€” and debug where it is failing â€” is incredibly important for this phase.Debuggingâ€‹When developing new LLM applications, we suggest having LangSmith tracing enabled by default.\\nOftentimes, it isnâ€™t necessary to look at every single trace. However, when things go wrong (an unexpected end result, infinite agent loop, slower than expected execution, higher than expected token usage), itâ€™s extremely helpful to debug by looking through the application traces. LangSmith gives clear visibility and debugging information at each step of an LLM sequence, making it much easier to identify and root-cause issues.\\nWe provide native rendering of chat messages, functions, and retrieve documents.Initial Test Setâ€‹While many developers still ship an initial version of their application based on â€œvibe checksâ€�, weâ€™ve seen an increasing number of engineering teams start to adopt a more test driven approach. LangSmith allows developers to create datasets, which are collections of inputs and reference outputs, and use these to run tests on their LLM applications.\\nThese test cases can be uploaded in bulk, created on the fly, or exported from application traces. LangSmith also makes it easy to run custom evaluations (both LLM and heuristic based) to score test results.Comparison Viewâ€‹When prototyping different versions of your applications and making changes, itâ€™s important to see whether or not youâ€™ve regressed with respect to your initial test cases.\\nOftentimes, changes in the prompt, retrieval strategy, or model choice can have huge implications in responses produced by your application.\\nIn order to get a sense for which variant is performing better, itâ€™s useful to be able to view results for different configurations on the same datapoints side-by-side. Weâ€™ve invested heavily in a user-friendly comparison view for test runs to track and diagnose regressions in test scores across multiple revisions of your application.Playgroundâ€‹LangSmith provides a playground environment for rapid iteration and experimentation.\\nThis allows you to quickly test out different prompts and models. You can open the playground from any prompt or model run in your trace.\\nEvery playground run is logged in the system and can be used to create test cases or compare with other runs.Beta Testingâ€‹Beta testing allows developers to collect more data on how their LLM applications are performing in real-world scenarios. In this phase, itâ€™s important to develop an understanding for the types of inputs the app is performing well or poorly on and how exactly itâ€™s breaking down in those cases. Both feedback collection and run annotation are critical for this workflow. This will help in curation of test cases that can help track regressions/improvements and development of automatic evaluations.Capturing Feedbackâ€‹When launching your application to an initial set of users, itâ€™s important to gather human feedback on the responses itâ€™s producing. This helps draw attention to the most interesting runs and highlight edge cases that are causing problematic responses. LangSmith allows you to attach feedback scores to logged traces (oftentimes, this is hooked up to a feedback button in your app), then filter on traces that have a specific feedback tag and score. A common workflow is to filter on traces that receive a poor user feedback score, then drill down into problematic points using the detailed trace view.Annotating Tracesâ€‹LangSmith also supports sending runs to annotation queues, which allow annotators to closely inspect interesting traces and annotate them with respect to different criteria. Annotators can be PMs, engineers, or even subject matter experts. This allows users to catch regressions across important evaluation criteria.Adding Runs to a Datasetâ€‹As your application progresses through the beta testing phase, it's essential to continue collecting data to refine and improve its performance. LangSmith enables you to add runs as examples to datasets (from both the project page and within an annotation queue), expanding your test coverage on real-world scenarios. This is a key benefit in having your logging system and your evaluation/testing system in the same platform.Productionâ€‹Closely inspecting key data points, growing benchmarking datasets, annotating traces, and drilling down into important data in trace view are workflows youâ€™ll also want to do once your app hits production.However, especially at the production stage, itâ€™s crucial to get a high-level overview of application performance with respect to latency, cost, and feedback scores. This ensures that it's delivering desirable results at scale.Online evaluations and automations allow you to process and score production traces in near real-time.Additionally, threads provide a seamless way to group traces from a single conversation, making it easier to track the performance of your application across multiple turns.Monitoring and A/B Testingâ€‹LangSmith provides monitoring charts that allow you to track key metrics over time. You can expand to view metrics for a given period and drill down into a specific data point to get a trace table for that time period â€” this is especially handy for debugging production issues.LangSmith also allows for tag and metadata grouping, which allows users to mark different versions of their applications with different identifiers and view how they are performing side-by-side within each chart. This is helpful for A/B testing changes in prompt, model, or retrieval strategy.Automationsâ€‹Automations are a powerful feature in LangSmith that allow you to perform actions on traces in near real-time. This can be used to automatically score traces, send them to annotation queues, or send them to datasets.To define an automation, simply provide a filter condition, a sampling rate, and an action to perform. Automations are particularly helpful for processing traces at production scale.Threadsâ€‹Many LLM applications are multi-turn, meaning that they involve a series of interactions between the user and the application. LangSmith provides a threads view that groups traces from a single conversation together, making it easier to track the performance of and annotate your application across multiple turns.Was this page helpful?You can leave detailed feedback on GitHub.PreviousQuick StartNextOverviewPrototypingBeta TestingProductionCommunityDiscordTwitterGitHubDocs CodeLangSmith SDKPythonJS/TSMoreHomepageBlogLangChain Python DocsLangChain JS/TS DocsCopyright Â© 2024 LangChain, Inc.\\n\\n\\n\\n\")"
      ]
     },
     "execution_count": 19,
     "metadata": {},
     "output_type": "execute_result"
    }
   ],
   "source": [
    "data[0]"
   ]
  },
  {
   "cell_type": "code",
   "execution_count": null,
   "id": "414ed62f-8d5f-4c63-90f1-884e5bd2db14",
   "metadata": {
    "id": "414ed62f-8d5f-4c63-90f1-884e5bd2db14",
    "outputId": "1962e8d8-7162-4732-a2ed-fb7dd5b51429",
    "scrolled": true
   },
   "outputs": [
    {
     "name": "stdout",
     "output_type": "stream",
     "text": [
      "[Document(metadata={'source': 'https://docs.smith.langchain.com/user_guide', 'title': 'LangSmith User Guide | ğŸ¦œï¸�ğŸ›\\xa0ï¸� LangSmith', 'description': 'LangSmith is a platform for LLM application development, monitoring, and testing. In this guide, weâ€™ll highlight the breadth of workflows LangSmith supports and how they fit into each stage of the application development lifecycle. We hope this will inform users how to best utilize this powerful platform or give them something to consider if theyâ€™re just starting their journey.', 'language': 'en'}, page_content=\"\\n\\n\\n\\n\\nLangSmith User Guide | ğŸ¦œï¸�ğŸ›\\xa0ï¸� LangSmith\\n\\n\\n\\n\\n\\n\\n\\nSkip to main contentGo to API DocsSearchRegionUSEUGo to AppQuick StartUser GuideTracingEvaluationProduction Monitoring & AutomationsPrompt HubProxyPricingSelf-HostingCookbookThis is outdated documentation for ğŸ¦œï¸�ğŸ›\\xa0ï¸� LangSmith, which is no longer actively maintained.For up-to-date documentation, see the latest version.User GuideOn this pageLangSmith User GuideLangSmith is a platform for LLM application development, monitoring, and testing. In this guide, weâ€™ll highlight the breadth of workflows LangSmith supports and how they fit into each stage of the application development lifecycle. We hope this will inform users how to best utilize this powerful platform or give them something to consider if theyâ€™re just starting their journey.Prototypingâ€‹Prototyping LLM applications often involves quick experimentation between prompts, model types, retrieval strategy and other parameters.\\nThe ability to rapidly understand how the model is performing â€” and debug where it is failing â€” is incredibly important for this phase.Debuggingâ€‹When developing new LLM applications, we suggest having LangSmith tracing enabled by default.\\nOftentimes, it isnâ€™t necessary to look at every single trace. However, when things go wrong (an unexpected end result, infinite agent loop, slower than expected execution, higher than expected token usage), itâ€™s extremely helpful to debug by looking through the application traces. LangSmith gives clear visibility and debugging information at each step of an LLM sequence, making it much easier to identify and root-cause issues.\\nWe provide native rendering of chat messages, functions, and retrieve documents.Initial Test Setâ€‹While many developers still ship an initial version of their application based on â€œvibe checksâ€�, weâ€™ve seen an increasing number of engineering teams start to adopt a more test driven approach. LangSmith allows developers to create datasets, which are collections of inputs and reference outputs, and use these to run tests on their LLM applications.\\nThese test cases can be uploaded in bulk, created on the fly, or exported from application traces. LangSmith also makes it easy to run custom evaluations (both LLM and heuristic based) to score test results.Comparison Viewâ€‹When prototyping different versions of your applications and making changes, itâ€™s important to see whether or not youâ€™ve regressed with respect to your initial test cases.\\nOftentimes, changes in the prompt, retrieval strategy, or model choice can have huge implications in responses produced by your application.\\nIn order to get a sense for which variant is performing better, itâ€™s useful to be able to view results for different configurations on the same datapoints side-by-side. Weâ€™ve invested heavily in a user-friendly comparison view for test runs to track and diagnose regressions in test scores across multiple revisions of your application.Playgroundâ€‹LangSmith provides a playground environment for rapid iteration and experimentation.\\nThis allows you to quickly test out different prompts and models. You can open the playground from any prompt or model run in your trace.\\nEvery playground run is logged in the system and can be used to create test cases or compare with other runs.Beta Testingâ€‹Beta testing allows developers to collect more data on how their LLM applications are performing in real-world scenarios. In this phase, itâ€™s important to develop an understanding for the types of inputs the app is performing well or poorly on and how exactly itâ€™s breaking down in those cases. Both feedback collection and run annotation are critical for this workflow. This will help in curation of test cases that can help track regressions/improvements and development of automatic evaluations.Capturing Feedbackâ€‹When launching your application to an initial set of users, itâ€™s important to gather human feedback on the responses itâ€™s producing. This helps draw attention to the most interesting runs and highlight edge cases that are causing problematic responses. LangSmith allows you to attach feedback scores to logged traces (oftentimes, this is hooked up to a feedback button in your app), then filter on traces that have a specific feedback tag and score. A common workflow is to filter on traces that receive a poor user feedback score, then drill down into problematic points using the detailed trace view.Annotating Tracesâ€‹LangSmith also supports sending runs to annotation queues, which allow annotators to closely inspect interesting traces and annotate them with respect to different criteria. Annotators can be PMs, engineers, or even subject matter experts. This allows users to catch regressions across important evaluation criteria.Adding Runs to a Datasetâ€‹As your application progresses through the beta testing phase, it's essential to continue collecting data to refine and improve its performance. LangSmith enables you to add runs as examples to datasets (from both the project page and within an annotation queue), expanding your test coverage on real-world scenarios. This is a key benefit in having your logging system and your evaluation/testing system in the same platform.Productionâ€‹Closely inspecting key data points, growing benchmarking datasets, annotating traces, and drilling down into important data in trace view are workflows youâ€™ll also want to do once your app hits production.However, especially at the production stage, itâ€™s crucial to get a high-level overview of application performance with respect to latency, cost, and feedback scores. This ensures that it's delivering desirable results at scale.Online evaluations and automations allow you to process and score production traces in near real-time.Additionally, threads provide a seamless way to group traces from a single conversation, making it easier to track the performance of your application across multiple turns.Monitoring and A/B Testingâ€‹LangSmith provides monitoring charts that allow you to track key metrics over time. You can expand to view metrics for a given period and drill down into a specific data point to get a trace table for that time period â€” this is especially handy for debugging production issues.LangSmith also allows for tag and metadata grouping, which allows users to mark different versions of their applications with different identifiers and view how they are performing side-by-side within each chart. This is helpful for A/B testing changes in prompt, model, or retrieval strategy.Automationsâ€‹Automations are a powerful feature in LangSmith that allow you to perform actions on traces in near real-time. This can be used to automatically score traces, send them to annotation queues, or send them to datasets.To define an automation, simply provide a filter condition, a sampling rate, and an action to perform. Automations are particularly helpful for processing traces at production scale.Threadsâ€‹Many LLM applications are multi-turn, meaning that they involve a series of interactions between the user and the application. LangSmith provides a threads view that groups traces from a single conversation together, making it easier to track the performance of and annotate your application across multiple turns.Was this page helpful?You can leave detailed feedback on GitHub.PreviousQuick StartNextOverviewPrototypingBeta TestingProductionCommunityDiscordTwitterGitHubDocs CodeLangSmith SDKPythonJS/TSMoreHomepageBlogLangChain Python DocsLangChain JS/TS DocsCopyright Â© 2024 LangChain, Inc.\\n\\n\\n\\n\")]\n"
     ]
    }
   ],
   "source": [
    "print(data)"
   ]
  },
  {
   "cell_type": "code",
   "execution_count": null,
   "id": "54cd44f2-4857-42ff-be37-e68c7d1e84d2",
   "metadata": {
    "id": "54cd44f2-4857-42ff-be37-e68c7d1e84d2"
   },
   "outputs": [],
   "source": []
  },
  {
   "cell_type": "code",
   "execution_count": null,
   "id": "5981e140-1221-43a2-b9bd-0e52cb9f3c86",
   "metadata": {
    "id": "5981e140-1221-43a2-b9bd-0e52cb9f3c86"
   },
   "outputs": [],
   "source": []
  },
  {
   "cell_type": "code",
   "execution_count": null,
   "id": "83f83547-29fe-491f-8a86-8c93f7476f94",
   "metadata": {
    "id": "83f83547-29fe-491f-8a86-8c93f7476f94"
   },
   "outputs": [],
   "source": []
  },
  {
   "cell_type": "code",
   "execution_count": null,
   "id": "cb2d7451-fec0-4359-bd27-61d801cee4c9",
   "metadata": {
    "id": "cb2d7451-fec0-4359-bd27-61d801cee4c9"
   },
   "outputs": [],
   "source": []
  },
  {
   "cell_type": "code",
   "execution_count": null,
   "id": "1232873c-aafe-4629-8223-b8ac24aab1d0",
   "metadata": {
    "id": "1232873c-aafe-4629-8223-b8ac24aab1d0"
   },
   "outputs": [],
   "source": [
    "from langchain_community.document_loaders import TextLoader\n",
    "\n",
    "loader = TextLoader(\"data/subtitles/Friends_2x01.srt\")\n",
    "\n",
    "data = loader.load()"
   ]
  },
  {
   "cell_type": "code",
   "execution_count": null,
   "id": "31a40cfe-7483-42cb-b29f-b9216fbddc34",
   "metadata": {
    "id": "31a40cfe-7483-42cb-b29f-b9216fbddc34",
    "outputId": "3794e805-105c-4576-ebb6-869c5bb98b6c",
    "scrolled": true
   },
   "outputs": [
    {
     "name": "stdout",
     "output_type": "stream",
     "text": [
      "Type of Data Variable:  <class 'list'>\n",
      "\n",
      "Number of Documents:  1\n",
      "\n",
      "Type of each datapoints: <class 'langchain_core.documents.base.Document'>\n",
      "\n",
      "Metadata:  {'source': 'data/subtitles/Friends_2x01.srt'}\n",
      "\n",
      "Page Content: 1\n",
      "00:00:01,435 --> 00:00:04,082\n",
      "This is pretty much\n",
      "what's happened so far.\n",
      "\n",
      "2\n",
      "00:00:04,395 --> 00:00:07,179\n",
      "Ross was in love\n",
      "with Rachel since forever.\n",
      "\n",
      "3\n",
      "00:00:07,423 --> 00:00:10,437\n",
      "Every time he \n"
     ]
    }
   ],
   "source": [
    "print(\"Type of Data Variable: \", type(data))\n",
    "print()\n",
    "print(\"Number of Documents: \", len(data))\n",
    "print()\n",
    "print(\"Type of each datapoints:\", type(data[0]))\n",
    "print()\n",
    "print(\"Metadata: \", data[0].metadata)\n",
    "print()\n",
    "print(\"Page Content:\", data[0].page_content[:200])"
   ]
  },
  {
   "cell_type": "markdown",
   "id": "8ef1d25e-7289-4462-b86d-9eac34e3149a",
   "metadata": {
    "id": "8ef1d25e-7289-4462-b86d-9eac34e3149a"
   },
   "source": [
    "## **Loading all .srt Files**"
   ]
  },
  {
   "cell_type": "code",
   "execution_count": null,
   "id": "ab2bc2fe-e7e6-43d0-a89a-81453086cc0b",
   "metadata": {
    "id": "ab2bc2fe-e7e6-43d0-a89a-81453086cc0b",
    "outputId": "e8e63089-8c6f-49d1-fc56-46fa3a2b66d6"
   },
   "outputs": [
    {
     "name": "stderr",
     "output_type": "stream",
     "text": [
      "100%|█████████████████████████████████████████████████████████████████████████████████| 10/10 [00:00<00:00, 950.38it/s]\n"
     ]
    }
   ],
   "source": [
    "from langchain_community.document_loaders import DirectoryLoader\n",
    "\n",
    "loader = DirectoryLoader('data/subtitles', glob=\"*.srt\", show_progress=True, loader_cls=TextLoader)\n",
    "\n",
    "data = loader.load()"
   ]
  },
  {
   "cell_type": "code",
   "execution_count": null,
   "id": "56dd545b-416c-4815-801a-af2d2cef0a91",
   "metadata": {
    "id": "56dd545b-416c-4815-801a-af2d2cef0a91",
    "outputId": "62bec377-fd23-4092-b8aa-cbf1abca0403"
   },
   "outputs": [
    {
     "name": "stdout",
     "output_type": "stream",
     "text": [
      "Type of Data Variable:  <class 'list'>\n",
      "Number of Documents: 10\n"
     ]
    }
   ],
   "source": [
    "print(\"Type of Data Variable: \", type(data))\n",
    "\n",
    "print(\"Number of Documents:\", len(data))"
   ]
  },
  {
   "cell_type": "markdown",
   "id": "85b01f3f-e262-4929-bd03-66df1828530e",
   "metadata": {
    "id": "85b01f3f-e262-4929-bd03-66df1828530e"
   },
   "source": [
    "## **Load .csv File**"
   ]
  },
  {
   "cell_type": "code",
   "execution_count": null,
   "id": "26e21644-9c2f-428f-838e-74f82f8aa29b",
   "metadata": {
    "id": "26e21644-9c2f-428f-838e-74f82f8aa29b"
   },
   "outputs": [],
   "source": [
    "from langchain_community.document_loaders.csv_loader import CSVLoader\n",
    "\n",
    "loader = CSVLoader(file_path='./data/csv_data/movies_data.csv')\n",
    "\n",
    "data = loader.load()"
   ]
  },
  {
   "cell_type": "code",
   "execution_count": null,
   "id": "a8e7e845-ad04-4dfb-915b-171fd96e98a8",
   "metadata": {
    "id": "a8e7e845-ad04-4dfb-915b-171fd96e98a8",
    "outputId": "f8bfd980-c499-498d-f674-0f13d82ef5f9"
   },
   "outputs": [
    {
     "name": "stdout",
     "output_type": "stream",
     "text": [
      "Type of loaded data: <class 'list'>\n",
      "Number of datapoints: 436\n",
      "Type of each datapoints: <class 'langchain_core.documents.base.Document'>\n"
     ]
    }
   ],
   "source": [
    "print(\"Type of loaded data:\", type(data))\n",
    "\n",
    "print(\"Number of datapoints:\", len(data))\n",
    "\n",
    "print(\"Type of each datapoints:\", type(data[0]))"
   ]
  },
  {
   "cell_type": "code",
   "execution_count": null,
   "id": "b16f8f98-ac57-4a49-ba6b-308c2a5b117e",
   "metadata": {
    "id": "b16f8f98-ac57-4a49-ba6b-308c2a5b117e",
    "outputId": "27bba539-feb4-4ecb-f1a8-a3239be86657",
    "scrolled": true
   },
   "outputs": [
    {
     "data": {
      "text/plain": [
       "[Document(metadata={'source': './data/csv_data/movies_data.csv', 'row': 0}, page_content=\"movieId: 1\\ntitle: Toy Story (1995)\\ngenres: ['Adventure', 'Animation', 'Children', 'Comedy', 'Fantasy']\"),\n",
       " Document(metadata={'source': './data/csv_data/movies_data.csv', 'row': 1}, page_content=\"movieId: 2\\ntitle: Jumanji (1995)\\ngenres: ['Adventure', 'Children', 'Fantasy']\"),\n",
       " Document(metadata={'source': './data/csv_data/movies_data.csv', 'row': 2}, page_content=\"movieId: 3\\ntitle: Grumpier Old Men (1995)\\ngenres: ['Comedy', 'Romance']\"),\n",
       " Document(metadata={'source': './data/csv_data/movies_data.csv', 'row': 3}, page_content=\"movieId: 6\\ntitle: Heat (1995)\\ngenres: ['Action', 'Crime', 'Thriller']\"),\n",
       " Document(metadata={'source': './data/csv_data/movies_data.csv', 'row': 4}, page_content=\"movieId: 7\\ntitle: Sabrina (1995)\\ngenres: ['Comedy', 'Romance']\")]"
      ]
     },
     "execution_count": 39,
     "metadata": {},
     "output_type": "execute_result"
    }
   ],
   "source": [
    "data[:5]"
   ]
  },
  {
   "cell_type": "code",
   "execution_count": null,
   "id": "82f13499-a82d-48e4-bdb2-c0af80d763f1",
   "metadata": {
    "id": "82f13499-a82d-48e4-bdb2-c0af80d763f1",
    "outputId": "301ebddd-2f07-4b06-e13b-426487134618",
    "scrolled": true
   },
   "outputs": [
    {
     "name": "stdout",
     "output_type": "stream",
     "text": [
      "movieId: 1\n",
      "title: Toy Story (1995)\n",
      "genres: ['Adventure', 'Animation', 'Children', 'Comedy', 'Fantasy']\n"
     ]
    }
   ],
   "source": [
    "print(data[0].page_content)"
   ]
  },
  {
   "cell_type": "code",
   "execution_count": null,
   "id": "8cdc684f-ff64-4819-877f-e52a016f4faf",
   "metadata": {
    "id": "8cdc684f-ff64-4819-877f-e52a016f4faf"
   },
   "outputs": [],
   "source": []
  }
 ],
 "metadata": {
  "colab": {
   "provenance": []
  },
  "kernelspec": {
   "display_name": "Python 3 (ipykernel)",
   "language": "python",
   "name": "python3"
  },
  "language_info": {
   "codemirror_mode": {
    "name": "ipython",
    "version": 3
   },
   "file_extension": ".py",
   "mimetype": "text/x-python",
   "name": "python",
   "nbconvert_exporter": "python",
   "pygments_lexer": "ipython3",
   "version": "3.12.6"
  }
 },
 "nbformat": 4,
 "nbformat_minor": 5
}
