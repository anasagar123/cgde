{
 "cells": [
  {
   "cell_type": "markdown",
   "id": "4cfae4db-1f0d-4554-b628-ab21fc0dac1b",
   "metadata": {
    "id": "4cfae4db-1f0d-4554-b628-ab21fc0dac1b"
   },
   "source": [
    "# **Introduction to Vector Databases - ChromaDB**\n",
    "\n",
    "Chroma is the open-source AI application database.\n",
    "\n",
    "[Click here](https://www.trychroma.com/) to visit the official website.\n",
    "\n",
    "<img src=\"images/chromadb_1.png\">\n",
    "\n",
    "### **Features**\n",
    "1. **Has everything we need for retrieval**\n",
    "    - Store document embedding and their metadata\n",
    "    - Search Embeddings\n",
    "    - Full-tect Search\n",
    "    - Metadata filtering\n",
    "    - Multi-modal retrieval\n",
    "2. **Free and Open source**\n",
    "3. **Integrations**\n",
    "    - Works with HuggingFace, OpenAI, Google, LangChain and more.\n",
    "4. **Simple to Get Started**\n",
    "    - ```pip install chromadb```\n",
    "  \n",
    "### **Syntax**\n",
    "```python\n",
    "import chromadb\n",
    "\n",
    "# Initiating a Persistent Chroma Client\n",
    "client = chromadb.PersistentClient(path=\"/path/to/save/to\")\n",
    "\n",
    "# Create a new collection or get if already exist\n",
    "collection = client.get_or_create_collection(name=\"my_collection\", embedding_function=emb_fn, metadata={\"hnsw:space\": \"cosine\"})\n",
    "\n",
    "# add embeddings and documents\n",
    "collection.add(\n",
    "    documents=[\n",
    "        \"This is a document about pineapple\",\n",
    "        \"This is a document about oranges\"\n",
    "    ],\n",
    "    metadatas=[{\"key_1\": \"value_1\", \"key_2\": \"value_2\"}, {\"key_1\": \"value_1\", \"key_2\": \"value_2\"}],\n",
    "    ids=[\"id1\", \"id2\"]\n",
    ")\n",
    "\n",
    "# get back similar embeddings\n",
    "# Note that Chroma will embed query_texts for you and return n_results\n",
    "results = collection.query(\n",
    "    query_texts=[\"This is a query document about hawaii\"],\n",
    "    n_results=2\n",
    ")\n",
    "\n",
    "# switch `add` to `upsert` to avoid adding the same documents every time\n",
    "collection.upsert(\n",
    "    documents=[\n",
    "        \"This is a document about pineapple\",\n",
    "        \"This is a document about oranges\"\n",
    "    ],\n",
    "    ids=[\"id1\", \"id2\"]\n",
    ")\n",
    "\n",
    "```\n",
    "\n",
    "[Click here](https://docs.trychroma.com/guides) to read the complete chromadb guide."
   ]
  }
 ],
 "metadata": {
  "colab": {
   "provenance": []
  },
  "kernelspec": {
   "display_name": "Python 3 (ipykernel)",
   "language": "python",
   "name": "python3"
  },
  "language_info": {
   "codemirror_mode": {
    "name": "ipython",
    "version": 3
   },
   "file_extension": ".py",
   "mimetype": "text/x-python",
   "name": "python",
   "nbconvert_exporter": "python",
   "pygments_lexer": "ipython3",
   "version": "3.12.6"
  }
 },
 "nbformat": 4,
 "nbformat_minor": 5
}
