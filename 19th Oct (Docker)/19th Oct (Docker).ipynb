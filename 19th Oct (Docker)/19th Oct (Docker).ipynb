{
 "cells": [
  {
   "cell_type": "markdown",
   "id": "6b716ca2-ece5-4c5f-8d65-101228369bf2",
   "metadata": {},
   "source": [
    "**DOCKER**"
   ]
  },
  {
   "cell_type": "code",
   "execution_count": null,
   "id": "5253c90d-708f-4267-93f0-03e9406a29ac",
   "metadata": {},
   "outputs": [],
   "source": [
    "# Docker is also known as container, its a virtual machine.\n",
    "# Docker is tool which create virtual machine.\n",
    "# Docker is open source and centralized platform which is mainly designed for create,deploy and run application."
   ]
  },
  {
   "cell_type": "code",
   "execution_count": 7,
   "id": "8680bae2-5138-4fc5-b7c2-ce4a0c14fde4",
   "metadata": {},
   "outputs": [],
   "source": [
    "              ##### For Interview ######\n",
    "#---> Docker is open source and centralized platform which is mainly designed for create,deploy and run application.\n",
    "#---> we can install Docker on any operating System but Docker Engine run notively on Linux Distribution System.\n",
    "#---> Docker is kind of language.Docker is written in go language.\n",
    "#---> Docker is a Tool that perform operating system Level Virtualization system also known as \"Containerazation\".\n",
    "#---> Docker uses Container on the host operating system to run application."
   ]
  },
  {
   "cell_type": "code",
   "execution_count": 8,
   "id": "2047c615-a252-4410-b04b-bb394558c704",
   "metadata": {},
   "outputs": [],
   "source": [
    "# Iaas(Infrastructure as a service) - git/github\n",
    "# Pass(Platform as a service) - Docker/Kubernates(K8s)\n",
    "# Saas (Software as a service) - Aws"
   ]
  },
  {
   "cell_type": "code",
   "execution_count": 9,
   "id": "4578f7bd-e162-418b-b7cc-a33f004d0eff",
   "metadata": {},
   "outputs": [],
   "source": [
    "            ###### ADVANTAGE OF DOCKER :\n",
    "# No pre-allocation of RAM. \n",
    "# CI efficient\n",
    "# Less Cost because its a open source.\n",
    "# it is light in weight\n",
    "# it can run on physical hardware/virtual hardware/ on cloud.\n",
    "# it can re-use the image.\n",
    "# it took very less time to create container.\\\n",
    "\n",
    "            ###### DIS-ADVANTAGE :\n",
    "# Docker is not a good solution for application that require to reach GUI.\n",
    "# Docker is suitable when the development operating system and testing operating system are same.\n",
    "# No solution for data recovery and backup.\n",
    "# Difficult to manage large amount of container."
   ]
  },
  {
   "cell_type": "code",
   "execution_count": null,
   "id": "459e6bc7-cb85-4a64-a3f7-4f5280100937",
   "metadata": {},
   "outputs": [],
   "source": [
    "## Did some activity on moboxtream(watch recording)S"
   ]
  }
 ],
 "metadata": {
  "kernelspec": {
   "display_name": "Python 3 (ipykernel)",
   "language": "python",
   "name": "python3"
  },
  "language_info": {
   "codemirror_mode": {
    "name": "ipython",
    "version": 3
   },
   "file_extension": ".py",
   "mimetype": "text/x-python",
   "name": "python",
   "nbconvert_exporter": "python",
   "pygments_lexer": "ipython3",
   "version": "3.12.6"
  }
 },
 "nbformat": 4,
 "nbformat_minor": 5
}
