{
 "cells": [
  {
   "cell_type": "markdown",
   "id": "31f17c30-1726-48f6-9a1a-a3ae11584d59",
   "metadata": {},
   "source": [
    "# **22_Aug 2024** "
   ]
  },
  {
   "cell_type": "code",
   "execution_count": null,
   "id": "80113c55-34c0-4b5e-9ca7-fb588bb1c6f3",
   "metadata": {},
   "outputs": [],
   "source": []
  },
  {
   "cell_type": "code",
   "execution_count": 2,
   "id": "84b326e5-76fb-4a74-bbd6-6d1379a1b2cd",
   "metadata": {},
   "outputs": [],
   "source": [
    "    # NLP in Deep Learning(RNN)\n",
    "\n",
    "# RNN - Recurrent Neural Network\n",
    "# Recurrent means Repeating."
   ]
  },
  {
   "cell_type": "code",
   "execution_count": 3,
   "id": "11dccf3b-38f6-4b66-8a35-1dadbe448b29",
   "metadata": {},
   "outputs": [],
   "source": [
    "# DNN/ANN/MLP for tabular data means row and column\n",
    "# CNN for image classification/object detection\n",
    "# RNN for Sequential data"
   ]
  },
  {
   "cell_type": "code",
   "execution_count": 4,
   "id": "a3751a54-0dfc-4132-8ac7-54bb77383647",
   "metadata": {},
   "outputs": [],
   "source": [
    "                    ### RNN\n",
    "# (i) Integer Encoded Method\n",
    "# (ii) Embedding Encoded Method"
   ]
  },
  {
   "cell_type": "markdown",
   "id": "2602ac06-4754-4345-989f-1c1fc5f69469",
   "metadata": {},
   "source": [
    "**Integer Encoding Simple RNN method (Approach 1)**"
   ]
  },
  {
   "cell_type": "code",
   "execution_count": 5,
   "id": "34974b48-8053-4fea-ab13-f6c3b48ee036",
   "metadata": {},
   "outputs": [],
   "source": [
    "import os\n",
    "import numpy as np\n",
    "import pandas as pd"
   ]
  },
  {
   "cell_type": "code",
   "execution_count": 6,
   "id": "cf30f4cf-a756-4f47-ac55-ee498013a91b",
   "metadata": {},
   "outputs": [
    {
     "data": {
      "text/plain": [
       "['Hi, my name is Sundram',\n",
       " 'NLP is in demand',\n",
       " 'GENAI is part of NLP',\n",
       " 'if you want to do a transition in your career, you have to update your skillset in NLP Field',\n",
       " 'AI is a big buzz word',\n",
       " 'All or most of the organization is looking AI skillset',\n",
       " 'Learnbay teaches NLP',\n",
       " 'You all folks are simply amazing, I really enjoy with your batch']"
      ]
     },
     "execution_count": 6,
     "metadata": {},
     "output_type": "execute_result"
    }
   ],
   "source": [
    "docs = ['Hi, my name is Sundram', 'NLP is in demand', 'GENAI is part of NLP',\n",
    "        'if you want to do a transition in your career, you have to update your skillset in NLP Field',\n",
    "        'AI is a big buzz word', 'All or most of the organization is looking AI skillset',\n",
    "        'Learnbay teaches NLP', 'You all folks are simply amazing, I really enjoy with your batch']\n",
    "docs"
   ]
  },
  {
   "cell_type": "code",
   "execution_count": 9,
   "id": "5d86d74e-a2a3-42f8-8734-88463243f4b2",
   "metadata": {},
   "outputs": [],
   "source": [
    "# !pip install tensorflow\n",
    "import tensorflow as tf\n",
    "from tensorflow import keras\n",
    "from tensorflow.keras.preprocessing.text import Tokenizer\n",
    "# any out of vocab (oov_token)\n",
    "tokenizer = Tokenizer(oov_token='<out_of_vocab>')"
   ]
  },
  {
   "cell_type": "code",
   "execution_count": 10,
   "id": "b5579585-811a-4b81-b5c1-3c4bc3add468",
   "metadata": {},
   "outputs": [],
   "source": [
    "tokenizer.fit_on_texts(docs)"
   ]
  },
  {
   "cell_type": "code",
   "execution_count": 11,
   "id": "0fd1988c-5e9e-40ce-b15c-615ebeffb86a",
   "metadata": {
    "scrolled": true
   },
   "outputs": [
    {
     "data": {
      "text/plain": [
       "{'<out_of_vocab>': 1,\n",
       " 'is': 2,\n",
       " 'nlp': 3,\n",
       " 'in': 4,\n",
       " 'you': 5,\n",
       " 'your': 6,\n",
       " 'of': 7,\n",
       " 'to': 8,\n",
       " 'a': 9,\n",
       " 'skillset': 10,\n",
       " 'ai': 11,\n",
       " 'all': 12,\n",
       " 'hi': 13,\n",
       " 'my': 14,\n",
       " 'name': 15,\n",
       " 'sundram': 16,\n",
       " 'demand': 17,\n",
       " 'genai': 18,\n",
       " 'part': 19,\n",
       " 'if': 20,\n",
       " 'want': 21,\n",
       " 'do': 22,\n",
       " 'transition': 23,\n",
       " 'career': 24,\n",
       " 'have': 25,\n",
       " 'update': 26,\n",
       " 'field': 27,\n",
       " 'big': 28,\n",
       " 'buzz': 29,\n",
       " 'word': 30,\n",
       " 'or': 31,\n",
       " 'most': 32,\n",
       " 'the': 33,\n",
       " 'organization': 34,\n",
       " 'looking': 35,\n",
       " 'learnbay': 36,\n",
       " 'teaches': 37,\n",
       " 'folks': 38,\n",
       " 'are': 39,\n",
       " 'simply': 40,\n",
       " 'amazing': 41,\n",
       " 'i': 42,\n",
       " 'really': 43,\n",
       " 'enjoy': 44,\n",
       " 'with': 45,\n",
       " 'batch': 46}"
      ]
     },
     "execution_count": 11,
     "metadata": {},
     "output_type": "execute_result"
    }
   ],
   "source": [
    "tokenizer.word_index"
   ]
  },
  {
   "cell_type": "code",
   "execution_count": 12,
   "id": "c12c478f-c39b-46da-bc08-5028ad3d5936",
   "metadata": {
    "scrolled": true
   },
   "outputs": [
    {
     "data": {
      "text/plain": [
       "OrderedDict([('hi', 1),\n",
       "             ('my', 1),\n",
       "             ('name', 1),\n",
       "             ('is', 5),\n",
       "             ('sundram', 1),\n",
       "             ('nlp', 4),\n",
       "             ('in', 3),\n",
       "             ('demand', 1),\n",
       "             ('genai', 1),\n",
       "             ('part', 1),\n",
       "             ('of', 2),\n",
       "             ('if', 1),\n",
       "             ('you', 3),\n",
       "             ('want', 1),\n",
       "             ('to', 2),\n",
       "             ('do', 1),\n",
       "             ('a', 2),\n",
       "             ('transition', 1),\n",
       "             ('your', 3),\n",
       "             ('career', 1),\n",
       "             ('have', 1),\n",
       "             ('update', 1),\n",
       "             ('skillset', 2),\n",
       "             ('field', 1),\n",
       "             ('ai', 2),\n",
       "             ('big', 1),\n",
       "             ('buzz', 1),\n",
       "             ('word', 1),\n",
       "             ('all', 2),\n",
       "             ('or', 1),\n",
       "             ('most', 1),\n",
       "             ('the', 1),\n",
       "             ('organization', 1),\n",
       "             ('looking', 1),\n",
       "             ('learnbay', 1),\n",
       "             ('teaches', 1),\n",
       "             ('folks', 1),\n",
       "             ('are', 1),\n",
       "             ('simply', 1),\n",
       "             ('amazing', 1),\n",
       "             ('i', 1),\n",
       "             ('really', 1),\n",
       "             ('enjoy', 1),\n",
       "             ('with', 1),\n",
       "             ('batch', 1)])"
      ]
     },
     "execution_count": 12,
     "metadata": {},
     "output_type": "execute_result"
    }
   ],
   "source": [
    "tokenizer.word_counts"
   ]
  },
  {
   "cell_type": "code",
   "execution_count": 13,
   "id": "93f9119f-5973-4823-b24e-9b70adac3960",
   "metadata": {},
   "outputs": [
    {
     "data": {
      "text/plain": [
       "8"
      ]
     },
     "execution_count": 13,
     "metadata": {},
     "output_type": "execute_result"
    }
   ],
   "source": [
    "tokenizer.document_count"
   ]
  },
  {
   "cell_type": "code",
   "execution_count": 14,
   "id": "6e7d5eb7-5b67-4f0f-9df3-e5af11b877f8",
   "metadata": {},
   "outputs": [
    {
     "data": {
      "text/plain": [
       "['Hi, my name is Sundram',\n",
       " 'NLP is in demand',\n",
       " 'GENAI is part of NLP',\n",
       " 'if you want to do a transition in your career, you have to update your skillset in NLP Field',\n",
       " 'AI is a big buzz word',\n",
       " 'All or most of the organization is looking AI skillset',\n",
       " 'Learnbay teaches NLP',\n",
       " 'You all folks are simply amazing, I really enjoy with your batch']"
      ]
     },
     "execution_count": 14,
     "metadata": {},
     "output_type": "execute_result"
    }
   ],
   "source": [
    "docs"
   ]
  },
  {
   "cell_type": "code",
   "execution_count": 15,
   "id": "05ab6f0b-0ccb-4cc2-a1b1-f5b4d03761e8",
   "metadata": {},
   "outputs": [
    {
     "data": {
      "text/plain": [
       "[[13, 14, 15, 2, 16],\n",
       " [3, 2, 4, 17],\n",
       " [18, 2, 19, 7, 3],\n",
       " [20, 5, 21, 8, 22, 9, 23, 4, 6, 24, 5, 25, 8, 26, 6, 10, 4, 3, 27],\n",
       " [11, 2, 9, 28, 29, 30],\n",
       " [12, 31, 32, 7, 33, 34, 2, 35, 11, 10],\n",
       " [36, 37, 3],\n",
       " [5, 12, 38, 39, 40, 41, 42, 43, 44, 45, 6, 46]]"
      ]
     },
     "execution_count": 15,
     "metadata": {},
     "output_type": "execute_result"
    }
   ],
   "source": [
    "sequences = tokenizer.texts_to_sequences(docs)\n",
    "sequences"
   ]
  },
  {
   "cell_type": "code",
   "execution_count": 16,
   "id": "31d63e89-b34d-4cf2-9c26-1162a5e77f2a",
   "metadata": {},
   "outputs": [],
   "source": [
    "from keras.utils import pad_sequences"
   ]
  },
  {
   "cell_type": "code",
   "execution_count": 17,
   "id": "df592626-2d83-4c35-8aa1-e5f1dac3ae4b",
   "metadata": {},
   "outputs": [],
   "source": [
    "seq1 = pad_sequences(sequences, padding='pre') # pre means prefix\n",
    "seq2 = pad_sequences(sequences, padding='post') # post means postfix,This is good approach."
   ]
  },
  {
   "cell_type": "code",
   "execution_count": 18,
   "id": "bb82dcfc-517d-4d0e-956b-8027db475b01",
   "metadata": {},
   "outputs": [
    {
     "data": {
      "text/plain": [
       "array([[ 0,  0,  0,  0,  0,  0,  0,  0,  0,  0,  0,  0,  0,  0, 13, 14,\n",
       "        15,  2, 16],\n",
       "       [ 0,  0,  0,  0,  0,  0,  0,  0,  0,  0,  0,  0,  0,  0,  0,  3,\n",
       "         2,  4, 17],\n",
       "       [ 0,  0,  0,  0,  0,  0,  0,  0,  0,  0,  0,  0,  0,  0, 18,  2,\n",
       "        19,  7,  3],\n",
       "       [20,  5, 21,  8, 22,  9, 23,  4,  6, 24,  5, 25,  8, 26,  6, 10,\n",
       "         4,  3, 27],\n",
       "       [ 0,  0,  0,  0,  0,  0,  0,  0,  0,  0,  0,  0,  0, 11,  2,  9,\n",
       "        28, 29, 30],\n",
       "       [ 0,  0,  0,  0,  0,  0,  0,  0,  0, 12, 31, 32,  7, 33, 34,  2,\n",
       "        35, 11, 10],\n",
       "       [ 0,  0,  0,  0,  0,  0,  0,  0,  0,  0,  0,  0,  0,  0,  0,  0,\n",
       "        36, 37,  3],\n",
       "       [ 0,  0,  0,  0,  0,  0,  0,  5, 12, 38, 39, 40, 41, 42, 43, 44,\n",
       "        45,  6, 46]])"
      ]
     },
     "execution_count": 18,
     "metadata": {},
     "output_type": "execute_result"
    }
   ],
   "source": [
    "seq1"
   ]
  },
  {
   "cell_type": "code",
   "execution_count": 19,
   "id": "003b1b3a-bd3f-4cc7-887a-8835fe89a2f6",
   "metadata": {},
   "outputs": [
    {
     "data": {
      "text/plain": [
       "array([[13, 14, 15,  2, 16,  0,  0,  0,  0,  0,  0,  0,  0,  0,  0,  0,\n",
       "         0,  0,  0],\n",
       "       [ 3,  2,  4, 17,  0,  0,  0,  0,  0,  0,  0,  0,  0,  0,  0,  0,\n",
       "         0,  0,  0],\n",
       "       [18,  2, 19,  7,  3,  0,  0,  0,  0,  0,  0,  0,  0,  0,  0,  0,\n",
       "         0,  0,  0],\n",
       "       [20,  5, 21,  8, 22,  9, 23,  4,  6, 24,  5, 25,  8, 26,  6, 10,\n",
       "         4,  3, 27],\n",
       "       [11,  2,  9, 28, 29, 30,  0,  0,  0,  0,  0,  0,  0,  0,  0,  0,\n",
       "         0,  0,  0],\n",
       "       [12, 31, 32,  7, 33, 34,  2, 35, 11, 10,  0,  0,  0,  0,  0,  0,\n",
       "         0,  0,  0],\n",
       "       [36, 37,  3,  0,  0,  0,  0,  0,  0,  0,  0,  0,  0,  0,  0,  0,\n",
       "         0,  0,  0],\n",
       "       [ 5, 12, 38, 39, 40, 41, 42, 43, 44, 45,  6, 46,  0,  0,  0,  0,\n",
       "         0,  0,  0]])"
      ]
     },
     "execution_count": 19,
     "metadata": {},
     "output_type": "execute_result"
    }
   ],
   "source": [
    "seq2"
   ]
  },
  {
   "cell_type": "code",
   "execution_count": null,
   "id": "bf58b5a3-d4cf-436b-a320-9782014b9689",
   "metadata": {},
   "outputs": [],
   "source": []
  },
  {
   "cell_type": "markdown",
   "id": "d9e881af-d099-4462-9d73-0250ff54fc03",
   "metadata": {},
   "source": [
    "**Architecture - RNN**"
   ]
  },
  {
   "cell_type": "code",
   "execution_count": 20,
   "id": "d0842488-14b6-4cce-bcf9-03abfea9b9fd",
   "metadata": {},
   "outputs": [],
   "source": [
    "from keras import Sequential\n",
    "from keras.layers import Dense, SimpleRNN"
   ]
  },
  {
   "cell_type": "code",
   "execution_count": 21,
   "id": "11da40db-262d-4a9f-b089-81689ca07650",
   "metadata": {},
   "outputs": [
    {
     "name": "stderr",
     "output_type": "stream",
     "text": [
      "C:\\Users\\anasagar\\AppData\\Local\\Programs\\Python\\Python312\\Lib\\site-packages\\keras\\src\\layers\\rnn\\rnn.py:204: UserWarning: Do not pass an `input_shape`/`input_dim` argument to a layer. When using Sequential models, prefer using an `Input(shape)` object as the first layer in the model instead.\n",
      "  super().__init__(**kwargs)\n"
     ]
    },
    {
     "data": {
      "text/html": [
       "<pre style=\"white-space:pre;overflow-x:auto;line-height:normal;font-family:Menlo,'DejaVu Sans Mono',consolas,'Courier New',monospace\"><span style=\"font-weight: bold\">Model: \"sequential\"</span>\n",
       "</pre>\n"
      ],
      "text/plain": [
       "\u001b[1mModel: \"sequential\"\u001b[0m\n"
      ]
     },
     "metadata": {},
     "output_type": "display_data"
    },
    {
     "data": {
      "text/html": [
       "<pre style=\"white-space:pre;overflow-x:auto;line-height:normal;font-family:Menlo,'DejaVu Sans Mono',consolas,'Courier New',monospace\">┏━━━━━━━━━━━━━━━━━━━━━━━━━━┳━━━━━━━━━━━━━━━━━━━┳━━━━━━━━━━━┓\n",
       "┃<span style=\"font-weight: bold\"> Layer (type)             </span>┃<span style=\"font-weight: bold\"> Output Shape      </span>┃<span style=\"font-weight: bold\">   Param # </span>┃\n",
       "┡━━━━━━━━━━━━━━━━━━━━━━━━━━╇━━━━━━━━━━━━━━━━━━━╇━━━━━━━━━━━┩\n",
       "│ simple_rnn (<span style=\"color: #0087ff; text-decoration-color: #0087ff\">SimpleRNN</span>)   │ (<span style=\"color: #00d7ff; text-decoration-color: #00d7ff\">None</span>, <span style=\"color: #00af00; text-decoration-color: #00af00\">3</span>)         │        <span style=\"color: #00af00; text-decoration-color: #00af00\">27</span> │\n",
       "├──────────────────────────┼───────────────────┼───────────┤\n",
       "│ dense (<span style=\"color: #0087ff; text-decoration-color: #0087ff\">Dense</span>)            │ (<span style=\"color: #00d7ff; text-decoration-color: #00d7ff\">None</span>, <span style=\"color: #00af00; text-decoration-color: #00af00\">1</span>)         │         <span style=\"color: #00af00; text-decoration-color: #00af00\">4</span> │\n",
       "└──────────────────────────┴───────────────────┴───────────┘\n",
       "</pre>\n"
      ],
      "text/plain": [
       "┏━━━━━━━━━━━━━━━━━━━━━━━━━━┳━━━━━━━━━━━━━━━━━━━┳━━━━━━━━━━━┓\n",
       "┃\u001b[1m \u001b[0m\u001b[1mLayer (type)            \u001b[0m\u001b[1m \u001b[0m┃\u001b[1m \u001b[0m\u001b[1mOutput Shape     \u001b[0m\u001b[1m \u001b[0m┃\u001b[1m \u001b[0m\u001b[1m  Param #\u001b[0m\u001b[1m \u001b[0m┃\n",
       "┡━━━━━━━━━━━━━━━━━━━━━━━━━━╇━━━━━━━━━━━━━━━━━━━╇━━━━━━━━━━━┩\n",
       "│ simple_rnn (\u001b[38;5;33mSimpleRNN\u001b[0m)   │ (\u001b[38;5;45mNone\u001b[0m, \u001b[38;5;34m3\u001b[0m)         │        \u001b[38;5;34m27\u001b[0m │\n",
       "├──────────────────────────┼───────────────────┼───────────┤\n",
       "│ dense (\u001b[38;5;33mDense\u001b[0m)            │ (\u001b[38;5;45mNone\u001b[0m, \u001b[38;5;34m1\u001b[0m)         │         \u001b[38;5;34m4\u001b[0m │\n",
       "└──────────────────────────┴───────────────────┴───────────┘\n"
      ]
     },
     "metadata": {},
     "output_type": "display_data"
    },
    {
     "data": {
      "text/html": [
       "<pre style=\"white-space:pre;overflow-x:auto;line-height:normal;font-family:Menlo,'DejaVu Sans Mono',consolas,'Courier New',monospace\"><span style=\"font-weight: bold\"> Total params: </span><span style=\"color: #00af00; text-decoration-color: #00af00\">31</span> (124.00 B)\n",
       "</pre>\n"
      ],
      "text/plain": [
       "\u001b[1m Total params: \u001b[0m\u001b[38;5;34m31\u001b[0m (124.00 B)\n"
      ]
     },
     "metadata": {},
     "output_type": "display_data"
    },
    {
     "data": {
      "text/html": [
       "<pre style=\"white-space:pre;overflow-x:auto;line-height:normal;font-family:Menlo,'DejaVu Sans Mono',consolas,'Courier New',monospace\"><span style=\"font-weight: bold\"> Trainable params: </span><span style=\"color: #00af00; text-decoration-color: #00af00\">31</span> (124.00 B)\n",
       "</pre>\n"
      ],
      "text/plain": [
       "\u001b[1m Trainable params: \u001b[0m\u001b[38;5;34m31\u001b[0m (124.00 B)\n"
      ]
     },
     "metadata": {},
     "output_type": "display_data"
    },
    {
     "data": {
      "text/html": [
       "<pre style=\"white-space:pre;overflow-x:auto;line-height:normal;font-family:Menlo,'DejaVu Sans Mono',consolas,'Courier New',monospace\"><span style=\"font-weight: bold\"> Non-trainable params: </span><span style=\"color: #00af00; text-decoration-color: #00af00\">0</span> (0.00 B)\n",
       "</pre>\n"
      ],
      "text/plain": [
       "\u001b[1m Non-trainable params: \u001b[0m\u001b[38;5;34m0\u001b[0m (0.00 B)\n"
      ]
     },
     "metadata": {},
     "output_type": "display_data"
    }
   ],
   "source": [
    "model = Sequential()\n",
    "model.add(SimpleRNN(3, input_shape=(4,5))) \n",
    "# here i am using RNN thats why i write SimpleRNN\n",
    "# input data = 32\n",
    "# input_shape=(50,1) , here 50 is timesteps and 1 is token \n",
    "model.add(Dense(1, activation='sigmoid'))\n",
    "model.summary()"
   ]
  },
  {
   "cell_type": "code",
   "execution_count": 22,
   "id": "bb7e95c5-3b51-4714-b401-e037bc990f5e",
   "metadata": {},
   "outputs": [
    {
     "data": {
      "text/html": [
       "<pre style=\"white-space:pre;overflow-x:auto;line-height:normal;font-family:Menlo,'DejaVu Sans Mono',consolas,'Courier New',monospace\"><span style=\"font-weight: bold\">Model: \"sequential_1\"</span>\n",
       "</pre>\n"
      ],
      "text/plain": [
       "\u001b[1mModel: \"sequential_1\"\u001b[0m\n"
      ]
     },
     "metadata": {},
     "output_type": "display_data"
    },
    {
     "data": {
      "text/html": [
       "<pre style=\"white-space:pre;overflow-x:auto;line-height:normal;font-family:Menlo,'DejaVu Sans Mono',consolas,'Courier New',monospace\">┏━━━━━━━━━━━━━━━━━━━━━━━━━━┳━━━━━━━━━━━━━━━━━━━┳━━━━━━━━━━━┓\n",
       "┃<span style=\"font-weight: bold\"> Layer (type)             </span>┃<span style=\"font-weight: bold\"> Output Shape      </span>┃<span style=\"font-weight: bold\">   Param # </span>┃\n",
       "┡━━━━━━━━━━━━━━━━━━━━━━━━━━╇━━━━━━━━━━━━━━━━━━━╇━━━━━━━━━━━┩\n",
       "│ simple_rnn_1 (<span style=\"color: #0087ff; text-decoration-color: #0087ff\">SimpleRNN</span>) │ (<span style=\"color: #00d7ff; text-decoration-color: #00d7ff\">None</span>, <span style=\"color: #00af00; text-decoration-color: #00af00\">32</span>)        │     <span style=\"color: #00af00; text-decoration-color: #00af00\">1,088</span> │\n",
       "├──────────────────────────┼───────────────────┼───────────┤\n",
       "│ dense_1 (<span style=\"color: #0087ff; text-decoration-color: #0087ff\">Dense</span>)          │ (<span style=\"color: #00d7ff; text-decoration-color: #00d7ff\">None</span>, <span style=\"color: #00af00; text-decoration-color: #00af00\">1</span>)         │        <span style=\"color: #00af00; text-decoration-color: #00af00\">33</span> │\n",
       "└──────────────────────────┴───────────────────┴───────────┘\n",
       "</pre>\n"
      ],
      "text/plain": [
       "┏━━━━━━━━━━━━━━━━━━━━━━━━━━┳━━━━━━━━━━━━━━━━━━━┳━━━━━━━━━━━┓\n",
       "┃\u001b[1m \u001b[0m\u001b[1mLayer (type)            \u001b[0m\u001b[1m \u001b[0m┃\u001b[1m \u001b[0m\u001b[1mOutput Shape     \u001b[0m\u001b[1m \u001b[0m┃\u001b[1m \u001b[0m\u001b[1m  Param #\u001b[0m\u001b[1m \u001b[0m┃\n",
       "┡━━━━━━━━━━━━━━━━━━━━━━━━━━╇━━━━━━━━━━━━━━━━━━━╇━━━━━━━━━━━┩\n",
       "│ simple_rnn_1 (\u001b[38;5;33mSimpleRNN\u001b[0m) │ (\u001b[38;5;45mNone\u001b[0m, \u001b[38;5;34m32\u001b[0m)        │     \u001b[38;5;34m1,088\u001b[0m │\n",
       "├──────────────────────────┼───────────────────┼───────────┤\n",
       "│ dense_1 (\u001b[38;5;33mDense\u001b[0m)          │ (\u001b[38;5;45mNone\u001b[0m, \u001b[38;5;34m1\u001b[0m)         │        \u001b[38;5;34m33\u001b[0m │\n",
       "└──────────────────────────┴───────────────────┴───────────┘\n"
      ]
     },
     "metadata": {},
     "output_type": "display_data"
    },
    {
     "data": {
      "text/html": [
       "<pre style=\"white-space:pre;overflow-x:auto;line-height:normal;font-family:Menlo,'DejaVu Sans Mono',consolas,'Courier New',monospace\"><span style=\"font-weight: bold\"> Total params: </span><span style=\"color: #00af00; text-decoration-color: #00af00\">1,121</span> (4.38 KB)\n",
       "</pre>\n"
      ],
      "text/plain": [
       "\u001b[1m Total params: \u001b[0m\u001b[38;5;34m1,121\u001b[0m (4.38 KB)\n"
      ]
     },
     "metadata": {},
     "output_type": "display_data"
    },
    {
     "data": {
      "text/html": [
       "<pre style=\"white-space:pre;overflow-x:auto;line-height:normal;font-family:Menlo,'DejaVu Sans Mono',consolas,'Courier New',monospace\"><span style=\"font-weight: bold\"> Trainable params: </span><span style=\"color: #00af00; text-decoration-color: #00af00\">1,121</span> (4.38 KB)\n",
       "</pre>\n"
      ],
      "text/plain": [
       "\u001b[1m Trainable params: \u001b[0m\u001b[38;5;34m1,121\u001b[0m (4.38 KB)\n"
      ]
     },
     "metadata": {},
     "output_type": "display_data"
    },
    {
     "data": {
      "text/html": [
       "<pre style=\"white-space:pre;overflow-x:auto;line-height:normal;font-family:Menlo,'DejaVu Sans Mono',consolas,'Courier New',monospace\"><span style=\"font-weight: bold\"> Non-trainable params: </span><span style=\"color: #00af00; text-decoration-color: #00af00\">0</span> (0.00 B)\n",
       "</pre>\n"
      ],
      "text/plain": [
       "\u001b[1m Non-trainable params: \u001b[0m\u001b[38;5;34m0\u001b[0m (0.00 B)\n"
      ]
     },
     "metadata": {},
     "output_type": "display_data"
    }
   ],
   "source": [
    "model = Sequential()\n",
    "model.add(SimpleRNN(32, input_shape=(50,1)))\n",
    "model.add(Dense(1, activation='sigmoid'))\n",
    "model.summary()"
   ]
  },
  {
   "cell_type": "code",
   "execution_count": null,
   "id": "3567b3d0-36d4-4341-9f3b-fdf2508a347f",
   "metadata": {},
   "outputs": [],
   "source": []
  }
 ],
 "metadata": {
  "kernelspec": {
   "display_name": "Python 3 (ipykernel)",
   "language": "python",
   "name": "python3"
  },
  "language_info": {
   "codemirror_mode": {
    "name": "ipython",
    "version": 3
   },
   "file_extension": ".py",
   "mimetype": "text/x-python",
   "name": "python",
   "nbconvert_exporter": "python",
   "pygments_lexer": "ipython3",
   "version": "3.12.6"
  }
 },
 "nbformat": 4,
 "nbformat_minor": 5
}
