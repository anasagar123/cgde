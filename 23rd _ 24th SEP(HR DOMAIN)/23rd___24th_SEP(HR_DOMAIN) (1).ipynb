{
 "cells": [
  {
   "cell_type": "code",
   "execution_count": null,
   "metadata": {
    "id": "bFD_WBqaTiKT"
   },
   "outputs": [],
   "source": [
    "import os, sys\n",
    "import numpy as np\n",
    "import pandas as pd\n",
    "import matplotlib.pyplot as plt\n",
    "%matplotlib inline\n",
    "import seaborn as sns\n",
    "sns.set()\n",
    "import warnings\n",
    "warnings.filterwarnings('ignore')"
   ]
  },
  {
   "cell_type": "code",
   "execution_count": null,
   "metadata": {
    "colab": {
     "base_uri": "https://localhost:8080/",
     "height": 325
    },
    "id": "SdD2G0a9UHn_",
    "outputId": "49359316-3afa-40ef-c80a-c816ff1ce31f"
   },
   "outputs": [],
   "source": [
    "dataset=pd.read_csv(r\"C:\\Users\\anasagar\\Documents\\LearnBay Machine Learning\\PROJECT SESSION LEARNBAY\\23rd & 24th SEP(HR DOMAIN)\\Attrition.csv\")\n",
    "dataset.head()"
   ]
  },
  {
   "cell_type": "code",
   "execution_count": null,
   "metadata": {
    "colab": {
     "base_uri": "https://localhost:8080/"
    },
    "id": "d6piOAtJYVsa",
    "outputId": "b7ba142a-5b4d-4cf5-8d69-72a9a02753a8"
   },
   "outputs": [],
   "source": [
    "dataset.info()"
   ]
  },
  {
   "cell_type": "code",
   "execution_count": null,
   "metadata": {
    "colab": {
     "base_uri": "https://localhost:8080/"
    },
    "id": "dO_TVxZVYVpu",
    "outputId": "432b9c9a-29e4-4852-dbfe-31649f3af2fa"
   },
   "outputs": [],
   "source": [
    "dataset.isnull().sum()"
   ]
  },
  {
   "cell_type": "code",
   "execution_count": null,
   "metadata": {
    "colab": {
     "base_uri": "https://localhost:8080/",
     "height": 349
    },
    "id": "PbDD-9H2YVnJ",
    "outputId": "e895d868-72a5-454c-cbe2-b080013f879e"
   },
   "outputs": [],
   "source": [
    "# Descriptive Analytics\n",
    "dataset.describe()"
   ]
  },
  {
   "cell_type": "markdown",
   "metadata": {
    "id": "vnO6iu-7YoP0"
   },
   "source": [
    "**EDA(EXPLORATORY DATA ANALYSIS)**"
   ]
  },
  {
   "cell_type": "code",
   "execution_count": null,
   "metadata": {
    "colab": {
     "base_uri": "https://localhost:8080/"
    },
    "id": "p37WgBl1YVkl",
    "outputId": "08a4256e-60e7-4952-e07f-8157d54deaaf"
   },
   "outputs": [],
   "source": [
    "dataset.columns"
   ]
  },
  {
   "cell_type": "code",
   "execution_count": null,
   "metadata": {
    "colab": {
     "base_uri": "https://localhost:8080/",
     "height": 428
    },
    "id": "0MxpHEOEYViF",
    "outputId": "06ecdf2f-a12f-4d6d-c9a1-d7a3df283405"
   },
   "outputs": [],
   "source": [
    "plt.pie(dataset['Attrition'].value_counts(),labels=['Yes','No'],autopct='%1.1f%%')\n",
    "plt.title('Attrition')\n",
    "plt.show()"
   ]
  },
  {
   "cell_type": "code",
   "execution_count": null,
   "metadata": {
    "colab": {
     "base_uri": "https://localhost:8080/",
     "height": 480
    },
    "id": "-TwO_P5YYVfb",
    "outputId": "9473d349-45d7-47e0-dc2d-160b481e2ee3"
   },
   "outputs": [],
   "source": [
    "# Analyse Age vs Attrition\n",
    "sns.distplot(dataset[dataset['Attrition']=='No']['Age'], hist=False, label='No', color='black')\n",
    "sns.distplot(dataset[dataset['Attrition']=='Yes']['Age'], hist=False, label='Yes', color='red')\n",
    "plt.title('\"Relation between Age and Attrition of the Employee\"')\n",
    "plt.show()\n"
   ]
  },
  {
   "cell_type": "code",
   "execution_count": null,
   "metadata": {
    "colab": {
     "base_uri": "https://localhost:8080/",
     "height": 174
    },
    "id": "xmNEuPedYVcv",
    "outputId": "940241fd-ee2e-4335-f482-368f94f32879"
   },
   "outputs": [],
   "source": [
    "# Department Age vs Attrition\n",
    "department = pd.crosstab(dataset['Department'], dataset['Attrition'])\n",
    "department['Total'] = department['No'] + department['Yes']\n",
    "department['Percentage'] = department['Yes']/department['Total']\n",
    "department"
   ]
  },
  {
   "cell_type": "code",
   "execution_count": null,
   "metadata": {
    "colab": {
     "base_uri": "https://localhost:8080/",
     "height": 678
    },
    "id": "SmDhILMfYVaI",
    "outputId": "827d0cac-fb52-4416-86da-82dbe6fcee49"
   },
   "outputs": [],
   "source": [
    "gender_wise = pd.crosstab(dataset['Department'], dataset['Attrition'])\n",
    "gender_wise.plot(kind='bar')\n",
    "plt.title(\"Age vs Attrition\")"
   ]
  },
  {
   "cell_type": "code",
   "execution_count": null,
   "metadata": {
    "colab": {
     "base_uri": "https://localhost:8080/",
     "height": 480
    },
    "id": "9Cl6t0f-YVXf",
    "outputId": "a319c5d6-f2ec-40f8-cd3e-5f4b89ff1891"
   },
   "outputs": [],
   "source": [
    "# Analyse PercentSalaryHike vs Attrition\n",
    "sns.distplot(dataset[dataset['Attrition']=='No']['PercentSalaryHike'], hist=False, label='No', color='black')\n",
    "sns.distplot(dataset[dataset['Attrition']=='Yes']['PercentSalaryHike'], hist=False, label='Yes', color='red')\n",
    "plt.title(\"Relation between PercentSalaryHike and Attrition of the Employee\")\n",
    "plt.show()"
   ]
  },
  {
   "cell_type": "code",
   "execution_count": null,
   "metadata": {
    "colab": {
     "base_uri": "https://localhost:8080/",
     "height": 538
    },
    "id": "mlSzwuXXY34V",
    "outputId": "5ee20d51-87e1-444c-bc73-0e4c995b3cb5"
   },
   "outputs": [],
   "source": [
    "gender_wise = pd.crosstab(dataset['Gender'], dataset['Attrition'])\n",
    "gender_wise.plot(kind='bar')\n",
    "plt.title(\"Gender vs Attrition\")"
   ]
  },
  {
   "cell_type": "code",
   "execution_count": null,
   "metadata": {
    "colab": {
     "base_uri": "https://localhost:8080/",
     "height": 480
    },
    "id": "D_i05FWPY32M",
    "outputId": "3356f68b-cda2-4410-d538-a0fb89de045f"
   },
   "outputs": [],
   "source": [
    "# Analyse PercentSalaryHike vs Attrition\n",
    "sns.distplot(dataset[dataset['Attrition']=='No']['WorkLifeBalance'], hist=False, label='No', color='black')\n",
    "sns.distplot(dataset[dataset['Attrition']=='Yes']['WorkLifeBalance'], hist=False, label='Yes', color='red')\n",
    "plt.title(\"Relation between WorkLifeBalance and Attrition of the Employee\")\n",
    "plt.show()"
   ]
  },
  {
   "cell_type": "code",
   "execution_count": null,
   "metadata": {
    "id": "-2a6Lm2WUQaz"
   },
   "outputs": [],
   "source": [
    "# # Pandas profiling\n",
    "# !pip install pandas_profiling\n",
    "# import pandas_profiling\n",
    "# profile = pandas_profiling.ProfileReport(dataset)\n",
    "# profile.to_file(output_file=\"dataset_analysis.html\")"
   ]
  },
  {
   "cell_type": "code",
   "execution_count": null,
   "metadata": {
    "id": "w-6l-IkgZia0"
   },
   "outputs": [],
   "source": [
    "# !pip install dtale\n",
    "# import dtale\n",
    "# dtale.show(dataset)"
   ]
  },
  {
   "cell_type": "code",
   "execution_count": null,
   "metadata": {
    "id": "hENhuCxee6bB"
   },
   "outputs": [],
   "source": []
  },
  {
   "cell_type": "code",
   "execution_count": null,
   "metadata": {
    "id": "HOYKkXzSZiYR"
   },
   "outputs": [],
   "source": [
    "# this is just for your reference - dataset = titanic which is avialable on kaggle\n",
    "# !pip install dataprep\n",
    "# from dataprep.datasets import load_dataset\n",
    "# from dataprep.eda import plot\n",
    "# df = load_dataset(\"titanic\")\n",
    "# create_report(df).show()"
   ]
  },
  {
   "cell_type": "markdown",
   "metadata": {
    "id": "OgeqhvdZRogL"
   },
   "source": [
    "**Outlier Treatment**"
   ]
  },
  {
   "cell_type": "code",
   "execution_count": null,
   "metadata": {
    "colab": {
     "base_uri": "https://localhost:8080/",
     "height": 1000
    },
    "id": "7DGt_-JNRoTK",
    "outputId": "a59d393d-5542-421a-da21-8d3e23d6dfef"
   },
   "outputs": [],
   "source": [
    "def distplots(col):\n",
    "  sns.distplot(dataset[col])\n",
    "  print(\"**************************\",col,\"***********************\")\n",
    "  plt.show()\n",
    "\n",
    "for col in dataset.select_dtypes(exclude='object').columns[0:]:\n",
    "  distplots(col)"
   ]
  },
  {
   "cell_type": "code",
   "execution_count": null,
   "metadata": {
    "colab": {
     "base_uri": "https://localhost:8080/",
     "height": 1000
    },
    "id": "b_kWIIJGRoQY",
    "outputId": "4c465620-86b5-42ef-f688-7c3da2337b1a"
   },
   "outputs": [],
   "source": [
    "def boxplots(col):\n",
    "  sns.boxplot(dataset[col])\n",
    "  print(\"**************************\",col,\"***********************\")\n",
    "  plt.show()\n",
    "\n",
    "for col in dataset.select_dtypes(exclude='object').columns[0:]:\n",
    "  boxplots(col)\n"
   ]
  },
  {
   "cell_type": "code",
   "execution_count": null,
   "metadata": {
    "id": "tH4ogkw1RoNp"
   },
   "outputs": [],
   "source": []
  },
  {
   "cell_type": "code",
   "execution_count": null,
   "metadata": {
    "id": "KnBi4bBERoIp"
   },
   "outputs": [],
   "source": []
  },
  {
   "cell_type": "code",
   "execution_count": null,
   "metadata": {
    "colab": {
     "base_uri": "https://localhost:8080/",
     "height": 550
    },
    "id": "IUbhetbCZiQI",
    "outputId": "2ad80698-31fb-492d-d502-3f87237c57c9"
   },
   "outputs": [],
   "source": [
    " # Checking correlation between features\n",
    "plt.figure(figsize=(20,15))\n",
    "sns.heatmap(dataset.corr(), annot=True, cmap='coolwarm')\n",
    "plt.show()"
   ]
  },
  {
   "cell_type": "code",
   "execution_count": null,
   "metadata": {
    "id": "3SSr3rigvf4S"
   },
   "outputs": [],
   "source": []
  },
  {
   "cell_type": "code",
   "execution_count": null,
   "metadata": {
    "id": "49K5ZOFKOqW2"
   },
   "outputs": [],
   "source": []
  },
  {
   "cell_type": "markdown",
   "metadata": {
    "id": "QjP5raBTNmIr"
   },
   "source": [
    "**Encoding**"
   ]
  },
  {
   "cell_type": "code",
   "execution_count": null,
   "metadata": {
    "colab": {
     "base_uri": "https://localhost:8080/"
    },
    "id": "RleFpIHps0zg",
    "outputId": "55e83149-6b85-47d3-aee1-c3720a2e15ff"
   },
   "outputs": [],
   "source": [
    "cat_column=[]\n",
    "for i in dataset.columns:\n",
    "  if dataset[i].dtype=='object':\n",
    "    # if dataset[i].nunique()<=6:\n",
    "    cat_column.append(i)\n",
    "print(cat_column)"
   ]
  },
  {
   "cell_type": "code",
   "execution_count": null,
   "metadata": {
    "id": "CEa-SU5TNiy0"
   },
   "outputs": [],
   "source": [
    "# Lable encoder\n",
    "for i in cat_column:\n",
    "  if dataset[i].nunique()<=2:\n",
    "    dataset[i]=dataset[i].astype('category')\n",
    "    dataset[i]=dataset[i].cat.codes"
   ]
  },
  {
   "cell_type": "code",
   "execution_count": null,
   "metadata": {
    "id": "RpyRE052NiiZ"
   },
   "outputs": [],
   "source": [
    "# One Hot Encoder\n",
    "for i in cat_column:\n",
    "  if dataset[i].nunique()>2:\n",
    "    dataset=pd.get_dummies(dataset,columns=[i],drop_first=True)"
   ]
  },
  {
   "cell_type": "code",
   "execution_count": null,
   "metadata": {
    "id": "nS0MlPsKUWvr"
   },
   "outputs": [],
   "source": [
    "x = dataset.drop('Attrition', axis=1)\n",
    "y = dataset['Attrition']"
   ]
  },
  {
   "cell_type": "code",
   "execution_count": null,
   "metadata": {
    "colab": {
     "base_uri": "https://localhost:8080/",
     "height": 273
    },
    "id": "h9iZNJnvZaDJ",
    "outputId": "603a01f6-5b24-4497-8439-2e75ba79c15d"
   },
   "outputs": [],
   "source": [
    "x.head()"
   ]
  },
  {
   "cell_type": "code",
   "execution_count": null,
   "metadata": {
    "colab": {
     "base_uri": "https://localhost:8080/"
    },
    "id": "kht6Zfb0sipW",
    "outputId": "711974b9-c87f-478b-d7c1-bc127e363dc1"
   },
   "outputs": [],
   "source": [
    "y.head()"
   ]
  },
  {
   "cell_type": "markdown",
   "metadata": {
    "id": "sE4kfyasSFpq"
   },
   "source": [
    "**Imbalance Checks**"
   ]
  },
  {
   "cell_type": "code",
   "execution_count": null,
   "metadata": {
    "colab": {
     "base_uri": "https://localhost:8080/"
    },
    "id": "T1qOoAKKsaLs",
    "outputId": "ad2f16b2-5ad4-4010-9e76-755c2699d265"
   },
   "outputs": [],
   "source": [
    "y.value_counts()"
   ]
  },
  {
   "cell_type": "code",
   "execution_count": null,
   "metadata": {
    "colab": {
     "base_uri": "https://localhost:8080/"
    },
    "id": "TUp6dIPLsfhm",
    "outputId": "465cd68a-4e37-4f3e-8067-809c5d96fa26"
   },
   "outputs": [],
   "source": [
    "import imblearn"
   ]
  },
  {
   "cell_type": "code",
   "execution_count": null,
   "metadata": {},
   "outputs": [],
   "source": [
    "from imblearn.over_sampling import RandomOverSampler\n",
    "over = RandomOverSampler()\n",
    "x_over, y_over = over.fit_resample(x,y)"
   ]
  },
  {
   "cell_type": "code",
   "execution_count": null,
   "metadata": {},
   "outputs": [],
   "source": [
    "print(y.value_counts())\n",
    "print()\n",
    "print(y_over.value_counts())"
   ]
  },
  {
   "cell_type": "code",
   "execution_count": null,
   "metadata": {
    "id": "aiOwLBmpsot8"
   },
   "outputs": [],
   "source": [
    "# split the data into training and test\n",
    "from sklearn.model_selection import train_test_split\n",
    "x_train, x_test, y_train, y_test = train_test_split(x_over, y_over, test_size=0.25, random_state=101, stratify=y_over)\n",
    "# stratify=y_smote - it's not required because we already have 50% : 0 and 50% : 1"
   ]
  },
  {
   "cell_type": "markdown",
   "metadata": {
    "id": "GCEbn1eJZ8DW"
   },
   "source": [
    "**Pycaret Package**"
   ]
  },
  {
   "cell_type": "code",
   "execution_count": null,
   "metadata": {
    "id": "eJTwcuCMRggZ"
   },
   "outputs": [],
   "source": [
    "# creating training data\n",
    "data=dataset.sample(frac=0.90,random_state=None).reset_index(drop=True)\n",
    "\n",
    "# Creating test data\n",
    "data_unseen=dataset.drop(data.index).reset_index(drop=True)\n",
    "\n",
    "# x_train,y_train for model building and x_test,y_test is for prediction\n"
   ]
  },
  {
   "cell_type": "code",
   "execution_count": null,
   "metadata": {
    "colab": {
     "base_uri": "https://localhost:8080/"
    },
    "id": "f-uAEYQdd79h",
    "outputId": "8a5bca00-6d60-4925-fbb2-3186ce4340c9"
   },
   "outputs": [],
   "source": [
    "print(\"data for modelling :\",data.shape)\n",
    "print(\"unseen data for prediction :\",data_unseen.shape)"
   ]
  },
  {
   "cell_type": "code",
   "execution_count": null,
   "metadata": {
    "colab": {
     "base_uri": "https://localhost:8080/"
    },
    "id": "717CCHq3ZhDQ",
    "outputId": "4a91cfcc-6174-405c-9e26-d888cd8029f0"
   },
   "outputs": [],
   "source": [
    "!pip install pycaret"
   ]
  },
  {
   "cell_type": "code",
   "execution_count": null,
   "metadata": {
    "colab": {
     "base_uri": "https://localhost:8080/"
    },
    "id": "94haD6PaasMm",
    "outputId": "525d5c86-d303-433b-8cf5-451980d51832"
   },
   "outputs": [],
   "source": [
    "# !pip install --upgrade scipy\n",
    "# !pip install --upgrade numpy pandas pycaret\n"
   ]
  },
  {
   "cell_type": "code",
   "execution_count": null,
   "metadata": {
    "id": "owbuxvfXjTNK"
   },
   "outputs": [],
   "source": [
    "# setting up an environment in pycaret\n",
    "from pycaret.classification import *"
   ]
  },
  {
   "cell_type": "code",
   "execution_count": null,
   "metadata": {
    "colab": {
     "base_uri": "https://localhost:8080/",
     "height": 645
    },
    "id": "sppzyweOZZJc",
    "outputId": "b3917d07-3891-405e-ab85-f8853a73b181"
   },
   "outputs": [],
   "source": [
    "exp_clf=setup(data=data,target='Attrition',session_id=123)"
   ]
  },
  {
   "cell_type": "code",
   "execution_count": null,
   "metadata": {
    "colab": {
     "base_uri": "https://localhost:8080/",
     "height": 1000,
     "referenced_widgets": [
      "6009371e33284dc3ab09b248f4e554b7",
      "0aac57965333467280d8a5f92c53406e",
      "e7b89aff96b24966844c75c5d005aa36",
      "e0e2de93171248a683396c0b42efc2e9",
      "915178322ecf4c62ae0aeb8312c645e5",
      "b1647ab6f8ee4b4a8fef87b62f0613a5",
      "ed43cab735f243cabdc82ebe1ff34561",
      "920fce703fc44333ab73b693507ac307",
      "90225f85844b4dc8aff28910d7f7d8ae",
      "684eb09ebd084945869f339fd0ec6394",
      "d81b7db50fb444e3bda61faa4ad09d0e"
     ]
    },
    "id": "bLDuLyjoaBQ1",
    "outputId": "02c649fd-e8ba-4b79-dba7-3e13fa4f8458"
   },
   "outputs": [],
   "source": [
    "# check model\n",
    "compare_models()"
   ]
  },
  {
   "cell_type": "code",
   "execution_count": null,
   "metadata": {
    "colab": {
     "base_uri": "https://localhost:8080/",
     "height": 511,
     "referenced_widgets": [
      "ece5d8c68db84931a2f9132dc6f9d914",
      "19c1bf6b9afb47d18357abc40ec7335c",
      "458b0c91b8224b2884320c9c343cf923",
      "92d6d51e2f2843038887a2ca06e98393",
      "088e127807b846949cc51c6d3c12654a",
      "5d6e647be59a4f2e9f814d3195de38d6",
      "3fa3c5cf6216408cadcd03f8de753964",
      "91906d315c9b44abb3720affad6f2f9d",
      "110246b757054cecb37bb2044ed9b3b6",
      "88993a1176b742e4918eedc75ba6ead0",
      "43ee7794c0fb424db489c6d4a9bf7fac"
     ]
    },
    "id": "YTJdXp5feA7F",
    "outputId": "0e3ad153-e572-4142-9b6e-3b03a8ae9ccb"
   },
   "outputs": [],
   "source": [
    "# Hyper Parameter tuning\n",
    "# Hyperparameter means some option there like in random forest max_depth, criterion(gini,entropy),max_feature,bootstrap is there,so here tune_model check one by one after that they will give answer,which parameter is best\n",
    "tuned_rf=tune_model(rf)"
   ]
  },
  {
   "cell_type": "code",
   "execution_count": null,
   "metadata": {
    "colab": {
     "base_uri": "https://localhost:8080/",
     "height": 457,
     "referenced_widgets": [
      "af4150e1df404cd6ae654f671ba4d183",
      "dad94e206cbb4143aba09c25ffa56aca",
      "70b2868d0b0d4d479dba3a97b1f6efe9",
      "e424cadd653d41e1a0ff76729254bdac",
      "5d57766cca964a84b6e719dd89d28eb6",
      "a1b548deb5c2471b83b241396c708757",
      "20249450e361435baf82dacb38230315",
      "419d44e5d93941b190d724ddf7e8cd5e",
      "91f2917634d5401392f194b28e8414f4",
      "40ab1d388fce4d18bee8c1c02b25d2dc",
      "41c1a6cedfed477595e1ece1926e2ce9"
     ]
    },
    "id": "CmOVtjGzbSY8",
    "outputId": "2f2cbe71-eac5-442f-df4d-6a47b1c466e7"
   },
   "outputs": [],
   "source": [
    "\n",
    "gbc=create_model('gbc')"
   ]
  },
  {
   "cell_type": "code",
   "execution_count": null,
   "metadata": {
    "colab": {
     "base_uri": "https://localhost:8080/",
     "height": 555,
     "referenced_widgets": [
      "3a2ded310fd9409d8c37abe0c715fba5",
      "269b58d30cff4a5eb08577e8a15a1c36",
      "256ac00c3f1b44dcbe1ec12a2d1d0684",
      "0b51cd2ddc6042f2b523719ce050eecf",
      "69b659395a0f440186bd0b4c0031c690",
      "476a3ef6d3154d5abbb89a3ed7db0e26",
      "8fe07f3916794630a2ca333fa2452c22"
     ]
    },
    "id": "EltBN58seNgz",
    "outputId": "7b8c49f6-844a-44f3-c80f-bc11207de67d"
   },
   "outputs": [],
   "source": [
    "# Evaluate the model\n",
    "evaluate_model(gbc)\n"
   ]
  },
  {
   "cell_type": "code",
   "execution_count": null,
   "metadata": {
    "colab": {
     "base_uri": "https://localhost:8080/",
     "height": 541
    },
    "id": "5UxcvJwIby-y",
    "outputId": "0f3801cb-9031-4852-f4c0-89abc8dbe38e"
   },
   "outputs": [],
   "source": [
    "predict_model(gbc)"
   ]
  },
  {
   "cell_type": "code",
   "execution_count": null,
   "metadata": {
    "colab": {
     "base_uri": "https://localhost:8080/",
     "height": 541
    },
    "id": "yCIpwTlfcZ1S",
    "outputId": "da6cec2d-2392-4aa5-cb30-74e26048af43"
   },
   "outputs": [],
   "source": [
    "# Predict the unseen test data\n",
    "unseen_prediction=predict_model(gbc,data=data_unseen)\n",
    "unseen_prediction"
   ]
  },
  {
   "cell_type": "code",
   "execution_count": null,
   "metadata": {
    "colab": {
     "base_uri": "https://localhost:8080/"
    },
    "id": "pVsMPs9ecfS0",
    "outputId": "fa3a092e-72f2-46d1-aecd-5d2be0ee18ef"
   },
   "outputs": [],
   "source": [
    "# Save model for deployment\n",
    "save_model(gbc,'gradientBoosting_model')"
   ]
  },
  {
   "cell_type": "markdown",
   "metadata": {
    "id": "hM0JjyJ7dPBr"
   },
   "source": [
    "**RandomForest Classifier Mode**"
   ]
  },
  {
   "cell_type": "code",
   "execution_count": null,
   "metadata": {
    "colab": {
     "base_uri": "https://localhost:8080/",
     "height": 178
    },
    "id": "jlN4j9q7dAIz",
    "outputId": "ee4decec-0c44-48a7-afa1-9795b049a43a"
   },
   "outputs": [],
   "source": [
    "from sklearn.ensemble import RandomForestClassifier\n",
    "rf = RandomForestClassifier()\n",
    "rf.fit(x_train, y_train)"
   ]
  },
  {
   "cell_type": "code",
   "execution_count": null,
   "metadata": {
    "id": "KyZ5RHlhdSQA"
   },
   "outputs": [],
   "source": [
    "y_pred_train = rf.predict(x_train)\n",
    "y_pred_test = rf.predict(x_test)"
   ]
  },
  {
   "cell_type": "code",
   "execution_count": null,
   "metadata": {
    "id": "jYlO5N6BdWHW"
   },
   "outputs": [],
   "source": [
    "# Evaluation metrics\n",
    "from sklearn.metrics import classification_report, accuracy_score, confusion_matrix"
   ]
  },
  {
   "cell_type": "code",
   "execution_count": null,
   "metadata": {
    "colab": {
     "base_uri": "https://localhost:8080/"
    },
    "id": "dymdvyvEdX6Y",
    "outputId": "7683f735-42f3-4ebb-e343-dcd493c1e0a7"
   },
   "outputs": [],
   "source": [
    "print(classification_report(y_train, y_pred_train))\n",
    "print(\"************\"*10)\n",
    "print(classification_report(y_test, y_pred_test))"
   ]
  },
  {
   "cell_type": "code",
   "execution_count": null,
   "metadata": {
    "colab": {
     "base_uri": "https://localhost:8080/"
    },
    "id": "hwgA7OFbdZpH",
    "outputId": "d174731c-84f9-4e67-e2c1-94d9bcb2e90e"
   },
   "outputs": [],
   "source": [
    "print(confusion_matrix(y_train, y_pred_train))\n",
    "print(\"************\"*10)\n",
    "print(confusion_matrix(y_test, y_pred_test))"
   ]
  },
  {
   "cell_type": "code",
   "execution_count": null,
   "metadata": {
    "colab": {
     "base_uri": "https://localhost:8080/"
    },
    "id": "vkcKF4jJdb6k",
    "outputId": "14a84e57-9555-43c9-d380-f8d39d68b440"
   },
   "outputs": [],
   "source": [
    "print(accuracy_score(y_train, y_pred_train))\n",
    "print(\"************\"*10)\n",
    "print(accuracy_score(y_test, y_pred_test))"
   ]
  },
  {
   "cell_type": "markdown",
   "metadata": {
    "id": "CLRoPwp0dg2J"
   },
   "source": [
    "**Cross Validation Model**"
   ]
  },
  {
   "cell_type": "code",
   "execution_count": null,
   "metadata": {
    "colab": {
     "base_uri": "https://localhost:8080/"
    },
    "id": "-roU7gFXddvk",
    "outputId": "11944426-965b-4c75-e3c4-5872a5bcf629"
   },
   "outputs": [],
   "source": [
    "from sklearn.model_selection import cross_val_score\n",
    "training_accuracy = cross_val_score(rf, x_train, y_train, cv=10)\n",
    "print(\"Avg Accuracy :\",training_accuracy.mean())\n",
    "print(\"Max Accuracy :\",training_accuracy.max())\n",
    "print(\"Min Accuracy :\",training_accuracy.min())"
   ]
  },
  {
   "cell_type": "markdown",
   "metadata": {
    "id": "zRDIwycB3hpo"
   },
   "source": [
    "**SVM**"
   ]
  },
  {
   "cell_type": "code",
   "execution_count": null,
   "metadata": {
    "id": "d5pPwsaBu1Yn"
   },
   "outputs": [],
   "source": [
    "from sklearn.svm import SVC"
   ]
  },
  {
   "cell_type": "code",
   "execution_count": null,
   "metadata": {
    "id": "-FgpgxFa3ebR"
   },
   "outputs": [],
   "source": [
    "# SVM -\n",
    "# kernel = linear\n",
    "svm_linear = SVC(kernel='linear')\n",
    "linear = svm_linear.fit(x_train, y_train)\n",
    "y_pred_linear = svm_linear.predict(x_test)\n",
    "accuracy_linear = accuracy_score(y_test, y_pred_linear)\n",
    "\n",
    "# kernel = sigmoid\n",
    "svm_sigmoid = SVC(kernel='sigmoid')\n",
    "sigmoid = svm_sigmoid.fit(x_train, y_train)\n",
    "y_pred_sigmoid = svm_sigmoid.predict(x_test)\n",
    "accuracy_sigmoid = accuracy_score(y_test, y_pred_sigmoid)\n",
    "\n",
    "# kernel = poly\n",
    "svm_poly = SVC(kernel='poly')\n",
    "poly = svm_poly.fit(x_train, y_train)\n",
    "y_pred_poly = svm_poly.predict(x_test)\n",
    "accuracy_poly = accuracy_score(y_test, y_pred_poly)\n",
    "\n",
    "# kernel = rbf\n",
    "svm_rbf = SVC(kernel='rbf')\n",
    "rbf = svm_rbf.fit(x_train, y_train)\n",
    "y_pred_rbf = svm_rbf.predict(x_test)\n",
    "accuracy_rbf = accuracy_score(y_test, y_pred_rbf)"
   ]
  },
  {
   "cell_type": "markdown",
   "metadata": {
    "id": "Y1sdTNMM4LhK"
   },
   "source": [
    "**Boosting method**"
   ]
  },
  {
   "cell_type": "code",
   "execution_count": null,
   "metadata": {
    "id": "7hp-hgUv3eYa"
   },
   "outputs": [],
   "source": [
    "from sklearn.ensemble import AdaBoostClassifier, GradientBoostingClassifier\n",
    "from xgboost import XGBClassifier\n",
    "from sklearn.metrics import confusion_matrix, classification_report, accuracy_score\n"
   ]
  },
  {
   "cell_type": "code",
   "execution_count": null,
   "metadata": {
    "id": "0Ph_W-2b6Bsf"
   },
   "outputs": [],
   "source": [
    "# AdaBoost Model\n",
    "adaboost = AdaBoostClassifier()\n",
    "adbt = adaboost.fit(x_train, y_train)\n",
    "y_pred_adbt = adaboost.predict(x_test)\n",
    "accuracy_adbt = accuracy_score(y_test, y_pred_adbt)"
   ]
  },
  {
   "cell_type": "code",
   "execution_count": null,
   "metadata": {
    "id": "IKyTQEVy6FIi"
   },
   "outputs": [],
   "source": [
    "# GradientBoostingClassifier\n",
    "gdboosting = GradientBoostingClassifier()\n",
    "gdbt = gdboosting.fit(x_train, y_train)\n",
    "y_pred_gdbt = gdboosting.predict(x_test)\n",
    "accuracy_gdbt = accuracy_score(y_test, y_pred_gdbt)\n"
   ]
  },
  {
   "cell_type": "code",
   "execution_count": null,
   "metadata": {
    "id": "FBkDPdoP3eTx"
   },
   "outputs": [],
   "source": [
    "# XGBClassifier\n",
    "xgboost = XGBClassifier()\n",
    "xgbt = xgboost.fit(x_train, y_train)\n",
    "y_pred_xgbt = xgboost.predict(x_test)\n",
    "accuracy_xgbt = accuracy_score(y_test, y_pred_xgbt)\n"
   ]
  },
  {
   "cell_type": "markdown",
   "metadata": {
    "id": "ntcyu07y61Nd"
   },
   "source": [
    "**KNN**"
   ]
  },
  {
   "cell_type": "code",
   "execution_count": null,
   "metadata": {
    "id": "XX9bH_2y6dgG"
   },
   "outputs": [],
   "source": [
    "from sklearn.neighbors import KNeighborsClassifier"
   ]
  },
  {
   "cell_type": "code",
   "execution_count": null,
   "metadata": {
    "id": "VtpnZoSQ7B6e"
   },
   "outputs": [],
   "source": [
    "# Select the best K value to decide \"n_neighbors\" basis error_rate\n",
    "\n",
    "error_rate = []\n",
    "\n",
    "for i in range(1,50):\n",
    "    knn = KNeighborsClassifier(n_neighbors=i)\n",
    "    knn.fit(x_train, y_train)\n",
    "    y_pred = knn.predict(x_test)\n",
    "    error_rate.append(np.mean(y_pred !=y_test))"
   ]
  },
  {
   "cell_type": "code",
   "execution_count": null,
   "metadata": {
    "colab": {
     "base_uri": "https://localhost:8080/"
    },
    "id": "XbhvLm777B4N",
    "outputId": "261f5200-90ee-43c7-f19b-43843ffe8b40"
   },
   "outputs": [],
   "source": [
    "error_rate"
   ]
  },
  {
   "cell_type": "code",
   "execution_count": null,
   "metadata": {
    "colab": {
     "base_uri": "https://localhost:8080/",
     "height": 1000
    },
    "id": "SL-SHkj87B1Z",
    "outputId": "a7c14f39-15d0-46b0-804c-64521bd9121c"
   },
   "outputs": [],
   "source": [
    "plt.figure(figsize=(16,16))\n",
    "plt.plot(range(1,50), error_rate, color='red', linestyle='dashed', marker='o',\n",
    "        markersize=12, markerfacecolor='blue')\n",
    "plt.title(\"Error Rate vs K-Value\")\n",
    "plt.xlabel(\"K-Value\")\n",
    "plt.ylabel(\"Error Rate\")\n",
    "plt.show()"
   ]
  },
  {
   "cell_type": "code",
   "execution_count": null,
   "metadata": {
    "colab": {
     "base_uri": "https://localhost:8080/",
     "height": 109
    },
    "id": "fX0v_wAa7Br2",
    "outputId": "b3e131f6-458d-4f5a-a57b-baf3670e95c5"
   },
   "outputs": [],
   "source": [
    "knn = KNeighborsClassifier(n_neighbors=3)\n",
    "knn.fit(x_train, y_train)"
   ]
  },
  {
   "cell_type": "code",
   "execution_count": null,
   "metadata": {
    "id": "8R3Xx-Om7dy1"
   },
   "outputs": [],
   "source": [
    "y_pred_train = knn.predict(x_train)\n",
    "y_pred_test = knn.predict(x_test)"
   ]
  },
  {
   "cell_type": "code",
   "execution_count": null,
   "metadata": {
    "id": "brcN1X6T7deh"
   },
   "outputs": [],
   "source": [
    "# Evaluate the model\n",
    "from sklearn.metrics import confusion_matrix, classification_report, accuracy_score"
   ]
  },
  {
   "cell_type": "code",
   "execution_count": null,
   "metadata": {
    "colab": {
     "base_uri": "https://localhost:8080/"
    },
    "id": "BNSaPyBm7dbX",
    "outputId": "7f33d019-d5c4-4e96-afc6-6b9f6421a075"
   },
   "outputs": [],
   "source": [
    "print(confusion_matrix(y_train, y_pred_train))\n",
    "print(\"*****************\"*10)\n",
    "print(confusion_matrix(y_test, y_pred_test))"
   ]
  },
  {
   "cell_type": "code",
   "execution_count": null,
   "metadata": {
    "colab": {
     "base_uri": "https://localhost:8080/"
    },
    "id": "gg3t7orz7dTw",
    "outputId": "844198ab-7204-4fd1-9501-a8375c1037f4"
   },
   "outputs": [],
   "source": [
    "print(classification_report(y_train, y_pred_train))\n",
    "print(\"*****************\"*10)\n",
    "print(classification_report(y_test, y_pred_test))"
   ]
  },
  {
   "cell_type": "code",
   "execution_count": null,
   "metadata": {
    "colab": {
     "base_uri": "https://localhost:8080/"
    },
    "id": "-XhIK1Ns7nl9",
    "outputId": "17119b95-b324-424a-fe52-2db39603a06a"
   },
   "outputs": [],
   "source": [
    "print(\"Training Accuracy :\", accuracy_score(y_train, y_pred_train))\n",
    "print(\"*****************\"*10)\n",
    "print(\"Test Accuracy :\",accuracy_score(y_test, y_pred_test))"
   ]
  },
  {
   "cell_type": "markdown",
   "metadata": {
    "id": "ut_bj9L94fSK"
   },
   "source": [
    "**Hyperparameter Tunning**"
   ]
  },
  {
   "cell_type": "markdown",
   "metadata": {
    "id": "wSksP0IR430-"
   },
   "source": [
    "Grid Search CV"
   ]
  },
  {
   "cell_type": "code",
   "execution_count": null,
   "metadata": {
    "id": "VuCJNFD_u1WB"
   },
   "outputs": [],
   "source": [
    "from sklearn.model_selection import GridSearchCV"
   ]
  },
  {
   "cell_type": "code",
   "execution_count": null,
   "metadata": {
    "id": "oXJzaaLe5l_E"
   },
   "outputs": [],
   "source": [
    "#Support Vector Machine\n",
    "param_grid={'C':[0.1,1,10,100],'gamma':[1,0.1,0.01,0.0001],'kernel':['linear','sigmoid','poly','rbf']}\n",
    "# C is cost of misclassification(Regularization parameter) and gamma influence of sample\n",
    "# lambda and C is inversionally proportional(λ=1/C)\n",
    "# C higher is better and gamma lower is better - we want the optimum value\n",
    "\n",
    "grid=GridSearchCV(SVC(),param_grid,refit=True)\n",
    "grid.fit(x_train,y_train)\n",
    "grid_pred_train=grid.predict(x_train)\n",
    "grid_pred_test=grid.predict(x_test)\n",
    "print(accuracy_score(y_train,grid_pred_train))\n",
    "print(accuracy_score(y_test,grid_pred_test))\n",
    "\n",
    "print(\"Best Tuned HyperParameters k :{}\".format(grid.best_params_))"
   ]
  },
  {
   "cell_type": "markdown",
   "metadata": {
    "id": "ozeatA0d5p6m"
   },
   "source": [
    "RandomizedsearchCV"
   ]
  },
  {
   "cell_type": "code",
   "execution_count": null,
   "metadata": {
    "id": "UrEH6tO05lvx"
   },
   "outputs": [],
   "source": [
    "from sklearn.model_selection import RandomizedSearchCV"
   ]
  },
  {
   "cell_type": "code",
   "execution_count": null,
   "metadata": {
    "id": "N4dZJX9l5uRW"
   },
   "outputs": [],
   "source": [
    "# Random Forest#Support Vector Machine\n",
    "param_grid={'C':[0.1,1,10,100],'gamma':[1,0.1,0.01,0.0001],'kernel':['linear','sigmoid','poly','rbf']}\n",
    "# C is cost of misclassification(Regularization parameter) and gamma influence of sample\n",
    "# lambda and C is inversionally proportional(λ=1/C)\n",
    "# C higher is better and gamma lower is better - we want the optimum value\n",
    "\n",
    "rnd=RandomizedSearchCV(SVC(),param_grid,refit=True)\n",
    "rnd.fit(x_train,y_train)\n",
    "rnd_pred_train=rnd.predict(x_train)\n",
    "rnd_pred_test=rnd.predict(x_test)\n",
    "print(accuracy_score(y_train,rnd_pred_train))\n",
    "print(accuracy_score(y_test,rnd_pred_test))\n",
    "\n",
    "print(\"Best Tuned HyperParameters k :{}\".format(rnd.best_params_))"
   ]
  },
  {
   "cell_type": "code",
   "execution_count": null,
   "metadata": {
    "id": "6rHMTdRHu1QL"
   },
   "outputs": [],
   "source": []
  }
 ],
 "metadata": {
  "colab": {
   "provenance": []
  },
  "kernelspec": {
   "display_name": "Python 3 (ipykernel)",
   "language": "python",
   "name": "python3"
  },
  "language_info": {
   "codemirror_mode": {
    "name": "ipython",
    "version": 3
   },
   "file_extension": ".py",
   "mimetype": "text/x-python",
   "name": "python",
   "nbconvert_exporter": "python",
   "pygments_lexer": "ipython3",
   "version": "3.11.4"
  },
  "widgets": {
   "application/vnd.jupyter.widget-state+json": {
    "088e127807b846949cc51c6d3c12654a": {
     "model_module": "@jupyter-widgets/base",
     "model_module_version": "1.2.0",
     "model_name": "LayoutModel",
     "state": {
      "_model_module": "@jupyter-widgets/base",
      "_model_module_version": "1.2.0",
      "_model_name": "LayoutModel",
      "_view_count": null,
      "_view_module": "@jupyter-widgets/base",
      "_view_module_version": "1.2.0",
      "_view_name": "LayoutView",
      "align_content": null,
      "align_items": null,
      "align_self": null,
      "border": null,
      "bottom": null,
      "display": null,
      "flex": null,
      "flex_flow": null,
      "grid_area": null,
      "grid_auto_columns": null,
      "grid_auto_flow": null,
      "grid_auto_rows": null,
      "grid_column": null,
      "grid_gap": null,
      "grid_row": null,
      "grid_template_areas": null,
      "grid_template_columns": null,
      "grid_template_rows": null,
      "height": null,
      "justify_content": null,
      "justify_items": null,
      "left": null,
      "margin": null,
      "max_height": null,
      "max_width": null,
      "min_height": null,
      "min_width": null,
      "object_fit": null,
      "object_position": null,
      "order": null,
      "overflow": null,
      "overflow_x": null,
      "overflow_y": null,
      "padding": null,
      "right": null,
      "top": null,
      "visibility": "hidden",
      "width": null
     }
    },
    "0aac57965333467280d8a5f92c53406e": {
     "model_module": "@jupyter-widgets/controls",
     "model_module_version": "1.5.0",
     "model_name": "HTMLModel",
     "state": {
      "_dom_classes": [],
      "_model_module": "@jupyter-widgets/controls",
      "_model_module_version": "1.5.0",
      "_model_name": "HTMLModel",
      "_view_count": null,
      "_view_module": "@jupyter-widgets/controls",
      "_view_module_version": "1.5.0",
      "_view_name": "HTMLView",
      "description": "",
      "description_tooltip": null,
      "layout": "IPY_MODEL_b1647ab6f8ee4b4a8fef87b62f0613a5",
      "placeholder": "​",
      "style": "IPY_MODEL_ed43cab735f243cabdc82ebe1ff34561",
      "value": "Processing: 100%"
     }
    },
    "0b51cd2ddc6042f2b523719ce050eecf": {
     "model_module": "@jupyter-widgets/base",
     "model_module_version": "1.2.0",
     "model_name": "LayoutModel",
     "state": {
      "_model_module": "@jupyter-widgets/base",
      "_model_module_version": "1.2.0",
      "_model_name": "LayoutModel",
      "_view_count": null,
      "_view_module": "@jupyter-widgets/base",
      "_view_module_version": "1.2.0",
      "_view_name": "LayoutView",
      "align_content": null,
      "align_items": null,
      "align_self": null,
      "border": null,
      "bottom": null,
      "display": null,
      "flex": null,
      "flex_flow": null,
      "grid_area": null,
      "grid_auto_columns": null,
      "grid_auto_flow": null,
      "grid_auto_rows": null,
      "grid_column": null,
      "grid_gap": null,
      "grid_row": null,
      "grid_template_areas": null,
      "grid_template_columns": null,
      "grid_template_rows": null,
      "height": null,
      "justify_content": null,
      "justify_items": null,
      "left": null,
      "margin": null,
      "max_height": null,
      "max_width": null,
      "min_height": null,
      "min_width": null,
      "object_fit": null,
      "object_position": null,
      "order": null,
      "overflow": null,
      "overflow_x": null,
      "overflow_y": null,
      "padding": null,
      "right": null,
      "top": null,
      "visibility": null,
      "width": null
     }
    },
    "110246b757054cecb37bb2044ed9b3b6": {
     "model_module": "@jupyter-widgets/controls",
     "model_module_version": "1.5.0",
     "model_name": "ProgressStyleModel",
     "state": {
      "_model_module": "@jupyter-widgets/controls",
      "_model_module_version": "1.5.0",
      "_model_name": "ProgressStyleModel",
      "_view_count": null,
      "_view_module": "@jupyter-widgets/base",
      "_view_module_version": "1.2.0",
      "_view_name": "StyleView",
      "bar_color": null,
      "description_width": ""
     }
    },
    "19c1bf6b9afb47d18357abc40ec7335c": {
     "model_module": "@jupyter-widgets/controls",
     "model_module_version": "1.5.0",
     "model_name": "HTMLModel",
     "state": {
      "_dom_classes": [],
      "_model_module": "@jupyter-widgets/controls",
      "_model_module_version": "1.5.0",
      "_model_name": "HTMLModel",
      "_view_count": null,
      "_view_module": "@jupyter-widgets/controls",
      "_view_module_version": "1.5.0",
      "_view_name": "HTMLView",
      "description": "",
      "description_tooltip": null,
      "layout": "IPY_MODEL_5d6e647be59a4f2e9f814d3195de38d6",
      "placeholder": "​",
      "style": "IPY_MODEL_3fa3c5cf6216408cadcd03f8de753964",
      "value": "Processing: 100%"
     }
    },
    "20249450e361435baf82dacb38230315": {
     "model_module": "@jupyter-widgets/controls",
     "model_module_version": "1.5.0",
     "model_name": "DescriptionStyleModel",
     "state": {
      "_model_module": "@jupyter-widgets/controls",
      "_model_module_version": "1.5.0",
      "_model_name": "DescriptionStyleModel",
      "_view_count": null,
      "_view_module": "@jupyter-widgets/base",
      "_view_module_version": "1.2.0",
      "_view_name": "StyleView",
      "description_width": ""
     }
    },
    "256ac00c3f1b44dcbe1ec12a2d1d0684": {
     "model_module": "@jupyter-widgets/output",
     "model_module_version": "1.0.0",
     "model_name": "OutputModel",
     "state": {
      "_dom_classes": [],
      "_model_module": "@jupyter-widgets/output",
      "_model_module_version": "1.0.0",
      "_model_name": "OutputModel",
      "_view_count": null,
      "_view_module": "@jupyter-widgets/output",
      "_view_module_version": "1.0.0",
      "_view_name": "OutputView",
      "layout": "IPY_MODEL_8fe07f3916794630a2ca333fa2452c22",
      "msg_id": "",
      "outputs": [
       {
        "ename": "AttributeError",
        "evalue": "ignored",
        "output_type": "error",
        "traceback": [
         "\u001b[0;31m---------------------------------------------------------------------------\u001b[0m",
         "\u001b[0;31mAttributeError\u001b[0m                            Traceback (most recent call last)",
         "\u001b[0;32m/usr/lib/python3.10/unittest/mock.py\u001b[0m in \u001b[0;36m_dot_lookup\u001b[0;34m(thing, comp, import_path)\u001b[0m\n\u001b[1;32m   1247\u001b[0m     \u001b[0;32mtry\u001b[0m\u001b[0;34m:\u001b[0m\u001b[0;34m\u001b[0m\u001b[0;34m\u001b[0m\u001b[0m\n\u001b[0;32m-> 1248\u001b[0;31m         \u001b[0;32mreturn\u001b[0m \u001b[0mgetattr\u001b[0m\u001b[0;34m(\u001b[0m\u001b[0mthing\u001b[0m\u001b[0;34m,\u001b[0m \u001b[0mcomp\u001b[0m\u001b[0;34m)\u001b[0m\u001b[0;34m\u001b[0m\u001b[0;34m\u001b[0m\u001b[0m\n\u001b[0m\u001b[1;32m   1249\u001b[0m     \u001b[0;32mexcept\u001b[0m \u001b[0mAttributeError\u001b[0m\u001b[0;34m:\u001b[0m\u001b[0;34m\u001b[0m\u001b[0;34m\u001b[0m\u001b[0m\n",
         "\u001b[0;31mAttributeError\u001b[0m: module 'yellowbrick.utils' has no attribute 'types'",
         "\nDuring handling of the above exception, another exception occurred:\n",
         "\u001b[0;31mAttributeError\u001b[0m                            Traceback (most recent call last)",
         "\u001b[0;32m/usr/local/lib/python3.10/dist-packages/ipywidgets/widgets/interaction.py\u001b[0m in \u001b[0;36mupdate\u001b[0;34m(self, *args)\u001b[0m\n\u001b[1;32m    255\u001b[0m     \u001b[0;32mdef\u001b[0m \u001b[0msignature\u001b[0m\u001b[0;34m(\u001b[0m\u001b[0mself\u001b[0m\u001b[0;34m)\u001b[0m\u001b[0;34m:\u001b[0m\u001b[0;34m\u001b[0m\u001b[0;34m\u001b[0m\u001b[0m\n\u001b[1;32m    256\u001b[0m         \u001b[0;32mreturn\u001b[0m \u001b[0msignature\u001b[0m\u001b[0;34m(\u001b[0m\u001b[0mself\u001b[0m\u001b[0;34m.\u001b[0m\u001b[0mf\u001b[0m\u001b[0;34m)\u001b[0m\u001b[0;34m\u001b[0m\u001b[0;34m\u001b[0m\u001b[0m\n\u001b[0;32m--> 257\u001b[0;31m \u001b[0;34m\u001b[0m\u001b[0m\n\u001b[0m\u001b[1;32m    258\u001b[0m     \u001b[0;32mdef\u001b[0m \u001b[0mfind_abbreviations\u001b[0m\u001b[0;34m(\u001b[0m\u001b[0mself\u001b[0m\u001b[0;34m,\u001b[0m \u001b[0mkwargs\u001b[0m\u001b[0;34m)\u001b[0m\u001b[0;34m:\u001b[0m\u001b[0;34m\u001b[0m\u001b[0;34m\u001b[0m\u001b[0m\n\u001b[1;32m    259\u001b[0m         \"\"\"Find the abbreviations for the given function and kwargs.\n",
         "\u001b[0;32m/usr/local/lib/python3.10/dist-packages/pycaret/internal/pycaret_experiment/tabular_experiment.py\u001b[0m in \u001b[0;36m_plot_model\u001b[0;34m(self, estimator, plot, scale, save, fold, fit_kwargs, plot_kwargs, groups, feature_name, label, verbose, system, display, display_format)\u001b[0m\n\u001b[1;32m    530\u001b[0m         \u001b[0mmodel_name\u001b[0m \u001b[0;34m=\u001b[0m \u001b[0mself\u001b[0m\u001b[0;34m.\u001b[0m\u001b[0m_get_model_name\u001b[0m\u001b[0;34m(\u001b[0m\u001b[0mmodel\u001b[0m\u001b[0;34m)\u001b[0m\u001b[0;34m\u001b[0m\u001b[0;34m\u001b[0m\u001b[0m\n\u001b[1;32m    531\u001b[0m         \u001b[0mbase_plot_filename\u001b[0m \u001b[0;34m=\u001b[0m \u001b[0;34mf\"{plot_name}.png\"\u001b[0m\u001b[0;34m\u001b[0m\u001b[0;34m\u001b[0m\u001b[0m\n\u001b[0;32m--> 532\u001b[0;31m         with patch(\n\u001b[0m\u001b[1;32m    533\u001b[0m             \u001b[0;34m\"yellowbrick.utils.types.is_estimator\"\u001b[0m\u001b[0;34m,\u001b[0m\u001b[0;34m\u001b[0m\u001b[0;34m\u001b[0m\u001b[0m\n\u001b[1;32m    534\u001b[0m             \u001b[0mpycaret\u001b[0m\u001b[0;34m.\u001b[0m\u001b[0minternal\u001b[0m\u001b[0;34m.\u001b[0m\u001b[0mpatches\u001b[0m\u001b[0;34m.\u001b[0m\u001b[0myellowbrick\u001b[0m\u001b[0;34m.\u001b[0m\u001b[0mis_estimator\u001b[0m\u001b[0;34m,\u001b[0m\u001b[0;34m\u001b[0m\u001b[0;34m\u001b[0m\u001b[0m\n",
         "\u001b[0;32m/usr/lib/python3.10/unittest/mock.py\u001b[0m in \u001b[0;36m__enter__\u001b[0;34m(self)\u001b[0m\n\u001b[1;32m   1429\u001b[0m         \u001b[0mautospec\u001b[0m\u001b[0;34m,\u001b[0m \u001b[0mkwargs\u001b[0m \u001b[0;34m=\u001b[0m \u001b[0mself\u001b[0m\u001b[0;34m.\u001b[0m\u001b[0mautospec\u001b[0m\u001b[0;34m,\u001b[0m \u001b[0mself\u001b[0m\u001b[0;34m.\u001b[0m\u001b[0mkwargs\u001b[0m\u001b[0;34m\u001b[0m\u001b[0;34m\u001b[0m\u001b[0m\n\u001b[1;32m   1430\u001b[0m         \u001b[0mnew_callable\u001b[0m \u001b[0;34m=\u001b[0m \u001b[0mself\u001b[0m\u001b[0;34m.\u001b[0m\u001b[0mnew_callable\u001b[0m\u001b[0;34m\u001b[0m\u001b[0;34m\u001b[0m\u001b[0m\n\u001b[0;32m-> 1431\u001b[0;31m         \u001b[0mself\u001b[0m\u001b[0;34m.\u001b[0m\u001b[0mtarget\u001b[0m \u001b[0;34m=\u001b[0m \u001b[0mself\u001b[0m\u001b[0;34m.\u001b[0m\u001b[0mgetter\u001b[0m\u001b[0;34m(\u001b[0m\u001b[0;34m)\u001b[0m\u001b[0;34m\u001b[0m\u001b[0;34m\u001b[0m\u001b[0m\n\u001b[0m\u001b[1;32m   1432\u001b[0m \u001b[0;34m\u001b[0m\u001b[0m\n\u001b[1;32m   1433\u001b[0m         \u001b[0;31m# normalise False to None\u001b[0m\u001b[0;34m\u001b[0m\u001b[0;34m\u001b[0m\u001b[0m\n",
         "\u001b[0;32m/usr/lib/python3.10/unittest/mock.py\u001b[0m in \u001b[0;36m<lambda>\u001b[0;34m()\u001b[0m\n\u001b[1;32m   1616\u001b[0m         raise TypeError(\n\u001b[1;32m   1617\u001b[0m             f\"Need a valid target to patch. You supplied: {target!r}\")\n\u001b[0;32m-> 1618\u001b[0;31m     \u001b[0mgetter\u001b[0m \u001b[0;34m=\u001b[0m \u001b[0;32mlambda\u001b[0m\u001b[0;34m:\u001b[0m \u001b[0m_importer\u001b[0m\u001b[0;34m(\u001b[0m\u001b[0mtarget\u001b[0m\u001b[0;34m)\u001b[0m\u001b[0;34m\u001b[0m\u001b[0;34m\u001b[0m\u001b[0m\n\u001b[0m\u001b[1;32m   1619\u001b[0m     \u001b[0;32mreturn\u001b[0m \u001b[0mgetter\u001b[0m\u001b[0;34m,\u001b[0m \u001b[0mattribute\u001b[0m\u001b[0;34m\u001b[0m\u001b[0;34m\u001b[0m\u001b[0m\n\u001b[1;32m   1620\u001b[0m \u001b[0;34m\u001b[0m\u001b[0m\n",
         "\u001b[0;32m/usr/lib/python3.10/unittest/mock.py\u001b[0m in \u001b[0;36m_importer\u001b[0;34m(target)\u001b[0m\n\u001b[1;32m   1259\u001b[0m     \u001b[0;32mfor\u001b[0m \u001b[0mcomp\u001b[0m \u001b[0;32min\u001b[0m \u001b[0mcomponents\u001b[0m\u001b[0;34m:\u001b[0m\u001b[0;34m\u001b[0m\u001b[0;34m\u001b[0m\u001b[0m\n\u001b[1;32m   1260\u001b[0m         \u001b[0mimport_path\u001b[0m \u001b[0;34m+=\u001b[0m \u001b[0;34m\".%s\"\u001b[0m \u001b[0;34m%\u001b[0m \u001b[0mcomp\u001b[0m\u001b[0;34m\u001b[0m\u001b[0;34m\u001b[0m\u001b[0m\n\u001b[0;32m-> 1261\u001b[0;31m         \u001b[0mthing\u001b[0m \u001b[0;34m=\u001b[0m \u001b[0m_dot_lookup\u001b[0m\u001b[0;34m(\u001b[0m\u001b[0mthing\u001b[0m\u001b[0;34m,\u001b[0m \u001b[0mcomp\u001b[0m\u001b[0;34m,\u001b[0m \u001b[0mimport_path\u001b[0m\u001b[0;34m)\u001b[0m\u001b[0;34m\u001b[0m\u001b[0;34m\u001b[0m\u001b[0m\n\u001b[0m\u001b[1;32m   1262\u001b[0m     \u001b[0;32mreturn\u001b[0m \u001b[0mthing\u001b[0m\u001b[0;34m\u001b[0m\u001b[0;34m\u001b[0m\u001b[0m\n\u001b[1;32m   1263\u001b[0m \u001b[0;34m\u001b[0m\u001b[0m\n",
         "\u001b[0;32m/usr/lib/python3.10/unittest/mock.py\u001b[0m in \u001b[0;36m_dot_lookup\u001b[0;34m(thing, comp, import_path)\u001b[0m\n\u001b[1;32m   1249\u001b[0m     \u001b[0;32mexcept\u001b[0m \u001b[0mAttributeError\u001b[0m\u001b[0;34m:\u001b[0m\u001b[0;34m\u001b[0m\u001b[0;34m\u001b[0m\u001b[0m\n\u001b[1;32m   1250\u001b[0m         \u001b[0m__import__\u001b[0m\u001b[0;34m(\u001b[0m\u001b[0mimport_path\u001b[0m\u001b[0;34m)\u001b[0m\u001b[0;34m\u001b[0m\u001b[0;34m\u001b[0m\u001b[0m\n\u001b[0;32m-> 1251\u001b[0;31m         \u001b[0;32mreturn\u001b[0m \u001b[0mgetattr\u001b[0m\u001b[0;34m(\u001b[0m\u001b[0mthing\u001b[0m\u001b[0;34m,\u001b[0m \u001b[0mcomp\u001b[0m\u001b[0;34m)\u001b[0m\u001b[0;34m\u001b[0m\u001b[0;34m\u001b[0m\u001b[0m\n\u001b[0m\u001b[1;32m   1252\u001b[0m \u001b[0;34m\u001b[0m\u001b[0m\n\u001b[1;32m   1253\u001b[0m \u001b[0;34m\u001b[0m\u001b[0m\n",
         "\u001b[0;31mAttributeError\u001b[0m: module 'yellowbrick.utils' has no attribute 'types'"
        ]
       }
      ]
     }
    },
    "269b58d30cff4a5eb08577e8a15a1c36": {
     "model_module": "@jupyter-widgets/controls",
     "model_module_version": "1.5.0",
     "model_name": "ToggleButtonsModel",
     "state": {
      "_dom_classes": [],
      "_model_module": "@jupyter-widgets/controls",
      "_model_module_version": "1.5.0",
      "_model_name": "ToggleButtonsModel",
      "_options_labels": [
       "Pipeline Plot",
       "Hyperparameters",
       "AUC",
       "Confusion Matrix",
       "Threshold",
       "Precision Recall",
       "Prediction Error",
       "Class Report",
       "Feature Selection",
       "Learning Curve",
       "Manifold Learning",
       "Calibration Curve",
       "Validation Curve",
       "Dimensions",
       "Feature Importance",
       "Feature Importance (All)",
       "Decision Boundary",
       "Lift Chart",
       "Gain Chart",
       "Decision Tree",
       "KS Statistic Plot"
      ],
      "_view_count": null,
      "_view_module": "@jupyter-widgets/controls",
      "_view_module_version": "1.5.0",
      "_view_name": "ToggleButtonsView",
      "button_style": "",
      "description": "Plot Type:",
      "description_tooltip": null,
      "disabled": false,
      "icons": [
       ""
      ],
      "index": 0,
      "layout": "IPY_MODEL_69b659395a0f440186bd0b4c0031c690",
      "style": "IPY_MODEL_476a3ef6d3154d5abbb89a3ed7db0e26",
      "tooltips": []
     }
    },
    "3a2ded310fd9409d8c37abe0c715fba5": {
     "model_module": "@jupyter-widgets/controls",
     "model_module_version": "1.5.0",
     "model_name": "VBoxModel",
     "state": {
      "_dom_classes": [
       "widget-interact"
      ],
      "_model_module": "@jupyter-widgets/controls",
      "_model_module_version": "1.5.0",
      "_model_name": "VBoxModel",
      "_view_count": null,
      "_view_module": "@jupyter-widgets/controls",
      "_view_module_version": "1.5.0",
      "_view_name": "VBoxView",
      "box_style": "",
      "children": [
       "IPY_MODEL_269b58d30cff4a5eb08577e8a15a1c36",
       "IPY_MODEL_256ac00c3f1b44dcbe1ec12a2d1d0684"
      ],
      "layout": "IPY_MODEL_0b51cd2ddc6042f2b523719ce050eecf"
     }
    },
    "3fa3c5cf6216408cadcd03f8de753964": {
     "model_module": "@jupyter-widgets/controls",
     "model_module_version": "1.5.0",
     "model_name": "DescriptionStyleModel",
     "state": {
      "_model_module": "@jupyter-widgets/controls",
      "_model_module_version": "1.5.0",
      "_model_name": "DescriptionStyleModel",
      "_view_count": null,
      "_view_module": "@jupyter-widgets/base",
      "_view_module_version": "1.2.0",
      "_view_name": "StyleView",
      "description_width": ""
     }
    },
    "40ab1d388fce4d18bee8c1c02b25d2dc": {
     "model_module": "@jupyter-widgets/base",
     "model_module_version": "1.2.0",
     "model_name": "LayoutModel",
     "state": {
      "_model_module": "@jupyter-widgets/base",
      "_model_module_version": "1.2.0",
      "_model_name": "LayoutModel",
      "_view_count": null,
      "_view_module": "@jupyter-widgets/base",
      "_view_module_version": "1.2.0",
      "_view_name": "LayoutView",
      "align_content": null,
      "align_items": null,
      "align_self": null,
      "border": null,
      "bottom": null,
      "display": null,
      "flex": null,
      "flex_flow": null,
      "grid_area": null,
      "grid_auto_columns": null,
      "grid_auto_flow": null,
      "grid_auto_rows": null,
      "grid_column": null,
      "grid_gap": null,
      "grid_row": null,
      "grid_template_areas": null,
      "grid_template_columns": null,
      "grid_template_rows": null,
      "height": null,
      "justify_content": null,
      "justify_items": null,
      "left": null,
      "margin": null,
      "max_height": null,
      "max_width": null,
      "min_height": null,
      "min_width": null,
      "object_fit": null,
      "object_position": null,
      "order": null,
      "overflow": null,
      "overflow_x": null,
      "overflow_y": null,
      "padding": null,
      "right": null,
      "top": null,
      "visibility": null,
      "width": null
     }
    },
    "419d44e5d93941b190d724ddf7e8cd5e": {
     "model_module": "@jupyter-widgets/base",
     "model_module_version": "1.2.0",
     "model_name": "LayoutModel",
     "state": {
      "_model_module": "@jupyter-widgets/base",
      "_model_module_version": "1.2.0",
      "_model_name": "LayoutModel",
      "_view_count": null,
      "_view_module": "@jupyter-widgets/base",
      "_view_module_version": "1.2.0",
      "_view_name": "LayoutView",
      "align_content": null,
      "align_items": null,
      "align_self": null,
      "border": null,
      "bottom": null,
      "display": null,
      "flex": null,
      "flex_flow": null,
      "grid_area": null,
      "grid_auto_columns": null,
      "grid_auto_flow": null,
      "grid_auto_rows": null,
      "grid_column": null,
      "grid_gap": null,
      "grid_row": null,
      "grid_template_areas": null,
      "grid_template_columns": null,
      "grid_template_rows": null,
      "height": null,
      "justify_content": null,
      "justify_items": null,
      "left": null,
      "margin": null,
      "max_height": null,
      "max_width": null,
      "min_height": null,
      "min_width": null,
      "object_fit": null,
      "object_position": null,
      "order": null,
      "overflow": null,
      "overflow_x": null,
      "overflow_y": null,
      "padding": null,
      "right": null,
      "top": null,
      "visibility": null,
      "width": null
     }
    },
    "41c1a6cedfed477595e1ece1926e2ce9": {
     "model_module": "@jupyter-widgets/controls",
     "model_module_version": "1.5.0",
     "model_name": "DescriptionStyleModel",
     "state": {
      "_model_module": "@jupyter-widgets/controls",
      "_model_module_version": "1.5.0",
      "_model_name": "DescriptionStyleModel",
      "_view_count": null,
      "_view_module": "@jupyter-widgets/base",
      "_view_module_version": "1.2.0",
      "_view_name": "StyleView",
      "description_width": ""
     }
    },
    "43ee7794c0fb424db489c6d4a9bf7fac": {
     "model_module": "@jupyter-widgets/controls",
     "model_module_version": "1.5.0",
     "model_name": "DescriptionStyleModel",
     "state": {
      "_model_module": "@jupyter-widgets/controls",
      "_model_module_version": "1.5.0",
      "_model_name": "DescriptionStyleModel",
      "_view_count": null,
      "_view_module": "@jupyter-widgets/base",
      "_view_module_version": "1.2.0",
      "_view_name": "StyleView",
      "description_width": ""
     }
    },
    "458b0c91b8224b2884320c9c343cf923": {
     "model_module": "@jupyter-widgets/controls",
     "model_module_version": "1.5.0",
     "model_name": "FloatProgressModel",
     "state": {
      "_dom_classes": [],
      "_model_module": "@jupyter-widgets/controls",
      "_model_module_version": "1.5.0",
      "_model_name": "FloatProgressModel",
      "_view_count": null,
      "_view_module": "@jupyter-widgets/controls",
      "_view_module_version": "1.5.0",
      "_view_name": "ProgressView",
      "bar_style": "",
      "description": "",
      "description_tooltip": null,
      "layout": "IPY_MODEL_91906d315c9b44abb3720affad6f2f9d",
      "max": 7,
      "min": 0,
      "orientation": "horizontal",
      "style": "IPY_MODEL_110246b757054cecb37bb2044ed9b3b6",
      "value": 7
     }
    },
    "476a3ef6d3154d5abbb89a3ed7db0e26": {
     "model_module": "@jupyter-widgets/controls",
     "model_module_version": "1.5.0",
     "model_name": "ToggleButtonsStyleModel",
     "state": {
      "_model_module": "@jupyter-widgets/controls",
      "_model_module_version": "1.5.0",
      "_model_name": "ToggleButtonsStyleModel",
      "_view_count": null,
      "_view_module": "@jupyter-widgets/base",
      "_view_module_version": "1.2.0",
      "_view_name": "StyleView",
      "button_width": "",
      "description_width": "",
      "font_weight": ""
     }
    },
    "5d57766cca964a84b6e719dd89d28eb6": {
     "model_module": "@jupyter-widgets/base",
     "model_module_version": "1.2.0",
     "model_name": "LayoutModel",
     "state": {
      "_model_module": "@jupyter-widgets/base",
      "_model_module_version": "1.2.0",
      "_model_name": "LayoutModel",
      "_view_count": null,
      "_view_module": "@jupyter-widgets/base",
      "_view_module_version": "1.2.0",
      "_view_name": "LayoutView",
      "align_content": null,
      "align_items": null,
      "align_self": null,
      "border": null,
      "bottom": null,
      "display": null,
      "flex": null,
      "flex_flow": null,
      "grid_area": null,
      "grid_auto_columns": null,
      "grid_auto_flow": null,
      "grid_auto_rows": null,
      "grid_column": null,
      "grid_gap": null,
      "grid_row": null,
      "grid_template_areas": null,
      "grid_template_columns": null,
      "grid_template_rows": null,
      "height": null,
      "justify_content": null,
      "justify_items": null,
      "left": null,
      "margin": null,
      "max_height": null,
      "max_width": null,
      "min_height": null,
      "min_width": null,
      "object_fit": null,
      "object_position": null,
      "order": null,
      "overflow": null,
      "overflow_x": null,
      "overflow_y": null,
      "padding": null,
      "right": null,
      "top": null,
      "visibility": "hidden",
      "width": null
     }
    },
    "5d6e647be59a4f2e9f814d3195de38d6": {
     "model_module": "@jupyter-widgets/base",
     "model_module_version": "1.2.0",
     "model_name": "LayoutModel",
     "state": {
      "_model_module": "@jupyter-widgets/base",
      "_model_module_version": "1.2.0",
      "_model_name": "LayoutModel",
      "_view_count": null,
      "_view_module": "@jupyter-widgets/base",
      "_view_module_version": "1.2.0",
      "_view_name": "LayoutView",
      "align_content": null,
      "align_items": null,
      "align_self": null,
      "border": null,
      "bottom": null,
      "display": null,
      "flex": null,
      "flex_flow": null,
      "grid_area": null,
      "grid_auto_columns": null,
      "grid_auto_flow": null,
      "grid_auto_rows": null,
      "grid_column": null,
      "grid_gap": null,
      "grid_row": null,
      "grid_template_areas": null,
      "grid_template_columns": null,
      "grid_template_rows": null,
      "height": null,
      "justify_content": null,
      "justify_items": null,
      "left": null,
      "margin": null,
      "max_height": null,
      "max_width": null,
      "min_height": null,
      "min_width": null,
      "object_fit": null,
      "object_position": null,
      "order": null,
      "overflow": null,
      "overflow_x": null,
      "overflow_y": null,
      "padding": null,
      "right": null,
      "top": null,
      "visibility": null,
      "width": null
     }
    },
    "6009371e33284dc3ab09b248f4e554b7": {
     "model_module": "@jupyter-widgets/controls",
     "model_module_version": "1.5.0",
     "model_name": "HBoxModel",
     "state": {
      "_dom_classes": [],
      "_model_module": "@jupyter-widgets/controls",
      "_model_module_version": "1.5.0",
      "_model_name": "HBoxModel",
      "_view_count": null,
      "_view_module": "@jupyter-widgets/controls",
      "_view_module_version": "1.5.0",
      "_view_name": "HBoxView",
      "box_style": "",
      "children": [
       "IPY_MODEL_0aac57965333467280d8a5f92c53406e",
       "IPY_MODEL_e7b89aff96b24966844c75c5d005aa36",
       "IPY_MODEL_e0e2de93171248a683396c0b42efc2e9"
      ],
      "layout": "IPY_MODEL_915178322ecf4c62ae0aeb8312c645e5"
     }
    },
    "684eb09ebd084945869f339fd0ec6394": {
     "model_module": "@jupyter-widgets/base",
     "model_module_version": "1.2.0",
     "model_name": "LayoutModel",
     "state": {
      "_model_module": "@jupyter-widgets/base",
      "_model_module_version": "1.2.0",
      "_model_name": "LayoutModel",
      "_view_count": null,
      "_view_module": "@jupyter-widgets/base",
      "_view_module_version": "1.2.0",
      "_view_name": "LayoutView",
      "align_content": null,
      "align_items": null,
      "align_self": null,
      "border": null,
      "bottom": null,
      "display": null,
      "flex": null,
      "flex_flow": null,
      "grid_area": null,
      "grid_auto_columns": null,
      "grid_auto_flow": null,
      "grid_auto_rows": null,
      "grid_column": null,
      "grid_gap": null,
      "grid_row": null,
      "grid_template_areas": null,
      "grid_template_columns": null,
      "grid_template_rows": null,
      "height": null,
      "justify_content": null,
      "justify_items": null,
      "left": null,
      "margin": null,
      "max_height": null,
      "max_width": null,
      "min_height": null,
      "min_width": null,
      "object_fit": null,
      "object_position": null,
      "order": null,
      "overflow": null,
      "overflow_x": null,
      "overflow_y": null,
      "padding": null,
      "right": null,
      "top": null,
      "visibility": null,
      "width": null
     }
    },
    "69b659395a0f440186bd0b4c0031c690": {
     "model_module": "@jupyter-widgets/base",
     "model_module_version": "1.2.0",
     "model_name": "LayoutModel",
     "state": {
      "_model_module": "@jupyter-widgets/base",
      "_model_module_version": "1.2.0",
      "_model_name": "LayoutModel",
      "_view_count": null,
      "_view_module": "@jupyter-widgets/base",
      "_view_module_version": "1.2.0",
      "_view_name": "LayoutView",
      "align_content": null,
      "align_items": null,
      "align_self": null,
      "border": null,
      "bottom": null,
      "display": null,
      "flex": null,
      "flex_flow": null,
      "grid_area": null,
      "grid_auto_columns": null,
      "grid_auto_flow": null,
      "grid_auto_rows": null,
      "grid_column": null,
      "grid_gap": null,
      "grid_row": null,
      "grid_template_areas": null,
      "grid_template_columns": null,
      "grid_template_rows": null,
      "height": null,
      "justify_content": null,
      "justify_items": null,
      "left": null,
      "margin": null,
      "max_height": null,
      "max_width": null,
      "min_height": null,
      "min_width": null,
      "object_fit": null,
      "object_position": null,
      "order": null,
      "overflow": null,
      "overflow_x": null,
      "overflow_y": null,
      "padding": null,
      "right": null,
      "top": null,
      "visibility": null,
      "width": null
     }
    },
    "70b2868d0b0d4d479dba3a97b1f6efe9": {
     "model_module": "@jupyter-widgets/controls",
     "model_module_version": "1.5.0",
     "model_name": "FloatProgressModel",
     "state": {
      "_dom_classes": [],
      "_model_module": "@jupyter-widgets/controls",
      "_model_module_version": "1.5.0",
      "_model_name": "FloatProgressModel",
      "_view_count": null,
      "_view_module": "@jupyter-widgets/controls",
      "_view_module_version": "1.5.0",
      "_view_name": "ProgressView",
      "bar_style": "",
      "description": "",
      "description_tooltip": null,
      "layout": "IPY_MODEL_419d44e5d93941b190d724ddf7e8cd5e",
      "max": 4,
      "min": 0,
      "orientation": "horizontal",
      "style": "IPY_MODEL_91f2917634d5401392f194b28e8414f4",
      "value": 4
     }
    },
    "88993a1176b742e4918eedc75ba6ead0": {
     "model_module": "@jupyter-widgets/base",
     "model_module_version": "1.2.0",
     "model_name": "LayoutModel",
     "state": {
      "_model_module": "@jupyter-widgets/base",
      "_model_module_version": "1.2.0",
      "_model_name": "LayoutModel",
      "_view_count": null,
      "_view_module": "@jupyter-widgets/base",
      "_view_module_version": "1.2.0",
      "_view_name": "LayoutView",
      "align_content": null,
      "align_items": null,
      "align_self": null,
      "border": null,
      "bottom": null,
      "display": null,
      "flex": null,
      "flex_flow": null,
      "grid_area": null,
      "grid_auto_columns": null,
      "grid_auto_flow": null,
      "grid_auto_rows": null,
      "grid_column": null,
      "grid_gap": null,
      "grid_row": null,
      "grid_template_areas": null,
      "grid_template_columns": null,
      "grid_template_rows": null,
      "height": null,
      "justify_content": null,
      "justify_items": null,
      "left": null,
      "margin": null,
      "max_height": null,
      "max_width": null,
      "min_height": null,
      "min_width": null,
      "object_fit": null,
      "object_position": null,
      "order": null,
      "overflow": null,
      "overflow_x": null,
      "overflow_y": null,
      "padding": null,
      "right": null,
      "top": null,
      "visibility": null,
      "width": null
     }
    },
    "8fe07f3916794630a2ca333fa2452c22": {
     "model_module": "@jupyter-widgets/base",
     "model_module_version": "1.2.0",
     "model_name": "LayoutModel",
     "state": {
      "_model_module": "@jupyter-widgets/base",
      "_model_module_version": "1.2.0",
      "_model_name": "LayoutModel",
      "_view_count": null,
      "_view_module": "@jupyter-widgets/base",
      "_view_module_version": "1.2.0",
      "_view_name": "LayoutView",
      "align_content": null,
      "align_items": null,
      "align_self": null,
      "border": null,
      "bottom": null,
      "display": null,
      "flex": null,
      "flex_flow": null,
      "grid_area": null,
      "grid_auto_columns": null,
      "grid_auto_flow": null,
      "grid_auto_rows": null,
      "grid_column": null,
      "grid_gap": null,
      "grid_row": null,
      "grid_template_areas": null,
      "grid_template_columns": null,
      "grid_template_rows": null,
      "height": null,
      "justify_content": null,
      "justify_items": null,
      "left": null,
      "margin": null,
      "max_height": null,
      "max_width": null,
      "min_height": null,
      "min_width": null,
      "object_fit": null,
      "object_position": null,
      "order": null,
      "overflow": null,
      "overflow_x": null,
      "overflow_y": null,
      "padding": null,
      "right": null,
      "top": null,
      "visibility": null,
      "width": null
     }
    },
    "90225f85844b4dc8aff28910d7f7d8ae": {
     "model_module": "@jupyter-widgets/controls",
     "model_module_version": "1.5.0",
     "model_name": "ProgressStyleModel",
     "state": {
      "_model_module": "@jupyter-widgets/controls",
      "_model_module_version": "1.5.0",
      "_model_name": "ProgressStyleModel",
      "_view_count": null,
      "_view_module": "@jupyter-widgets/base",
      "_view_module_version": "1.2.0",
      "_view_name": "StyleView",
      "bar_color": null,
      "description_width": ""
     }
    },
    "915178322ecf4c62ae0aeb8312c645e5": {
     "model_module": "@jupyter-widgets/base",
     "model_module_version": "1.2.0",
     "model_name": "LayoutModel",
     "state": {
      "_model_module": "@jupyter-widgets/base",
      "_model_module_version": "1.2.0",
      "_model_name": "LayoutModel",
      "_view_count": null,
      "_view_module": "@jupyter-widgets/base",
      "_view_module_version": "1.2.0",
      "_view_name": "LayoutView",
      "align_content": null,
      "align_items": null,
      "align_self": null,
      "border": null,
      "bottom": null,
      "display": null,
      "flex": null,
      "flex_flow": null,
      "grid_area": null,
      "grid_auto_columns": null,
      "grid_auto_flow": null,
      "grid_auto_rows": null,
      "grid_column": null,
      "grid_gap": null,
      "grid_row": null,
      "grid_template_areas": null,
      "grid_template_columns": null,
      "grid_template_rows": null,
      "height": null,
      "justify_content": null,
      "justify_items": null,
      "left": null,
      "margin": null,
      "max_height": null,
      "max_width": null,
      "min_height": null,
      "min_width": null,
      "object_fit": null,
      "object_position": null,
      "order": null,
      "overflow": null,
      "overflow_x": null,
      "overflow_y": null,
      "padding": null,
      "right": null,
      "top": null,
      "visibility": "hidden",
      "width": null
     }
    },
    "91906d315c9b44abb3720affad6f2f9d": {
     "model_module": "@jupyter-widgets/base",
     "model_module_version": "1.2.0",
     "model_name": "LayoutModel",
     "state": {
      "_model_module": "@jupyter-widgets/base",
      "_model_module_version": "1.2.0",
      "_model_name": "LayoutModel",
      "_view_count": null,
      "_view_module": "@jupyter-widgets/base",
      "_view_module_version": "1.2.0",
      "_view_name": "LayoutView",
      "align_content": null,
      "align_items": null,
      "align_self": null,
      "border": null,
      "bottom": null,
      "display": null,
      "flex": null,
      "flex_flow": null,
      "grid_area": null,
      "grid_auto_columns": null,
      "grid_auto_flow": null,
      "grid_auto_rows": null,
      "grid_column": null,
      "grid_gap": null,
      "grid_row": null,
      "grid_template_areas": null,
      "grid_template_columns": null,
      "grid_template_rows": null,
      "height": null,
      "justify_content": null,
      "justify_items": null,
      "left": null,
      "margin": null,
      "max_height": null,
      "max_width": null,
      "min_height": null,
      "min_width": null,
      "object_fit": null,
      "object_position": null,
      "order": null,
      "overflow": null,
      "overflow_x": null,
      "overflow_y": null,
      "padding": null,
      "right": null,
      "top": null,
      "visibility": null,
      "width": null
     }
    },
    "91f2917634d5401392f194b28e8414f4": {
     "model_module": "@jupyter-widgets/controls",
     "model_module_version": "1.5.0",
     "model_name": "ProgressStyleModel",
     "state": {
      "_model_module": "@jupyter-widgets/controls",
      "_model_module_version": "1.5.0",
      "_model_name": "ProgressStyleModel",
      "_view_count": null,
      "_view_module": "@jupyter-widgets/base",
      "_view_module_version": "1.2.0",
      "_view_name": "StyleView",
      "bar_color": null,
      "description_width": ""
     }
    },
    "920fce703fc44333ab73b693507ac307": {
     "model_module": "@jupyter-widgets/base",
     "model_module_version": "1.2.0",
     "model_name": "LayoutModel",
     "state": {
      "_model_module": "@jupyter-widgets/base",
      "_model_module_version": "1.2.0",
      "_model_name": "LayoutModel",
      "_view_count": null,
      "_view_module": "@jupyter-widgets/base",
      "_view_module_version": "1.2.0",
      "_view_name": "LayoutView",
      "align_content": null,
      "align_items": null,
      "align_self": null,
      "border": null,
      "bottom": null,
      "display": null,
      "flex": null,
      "flex_flow": null,
      "grid_area": null,
      "grid_auto_columns": null,
      "grid_auto_flow": null,
      "grid_auto_rows": null,
      "grid_column": null,
      "grid_gap": null,
      "grid_row": null,
      "grid_template_areas": null,
      "grid_template_columns": null,
      "grid_template_rows": null,
      "height": null,
      "justify_content": null,
      "justify_items": null,
      "left": null,
      "margin": null,
      "max_height": null,
      "max_width": null,
      "min_height": null,
      "min_width": null,
      "object_fit": null,
      "object_position": null,
      "order": null,
      "overflow": null,
      "overflow_x": null,
      "overflow_y": null,
      "padding": null,
      "right": null,
      "top": null,
      "visibility": null,
      "width": null
     }
    },
    "92d6d51e2f2843038887a2ca06e98393": {
     "model_module": "@jupyter-widgets/controls",
     "model_module_version": "1.5.0",
     "model_name": "HTMLModel",
     "state": {
      "_dom_classes": [],
      "_model_module": "@jupyter-widgets/controls",
      "_model_module_version": "1.5.0",
      "_model_name": "HTMLModel",
      "_view_count": null,
      "_view_module": "@jupyter-widgets/controls",
      "_view_module_version": "1.5.0",
      "_view_name": "HTMLView",
      "description": "",
      "description_tooltip": null,
      "layout": "IPY_MODEL_88993a1176b742e4918eedc75ba6ead0",
      "placeholder": "​",
      "style": "IPY_MODEL_43ee7794c0fb424db489c6d4a9bf7fac",
      "value": " 7/7 [00:51&lt;00:00,  5.96s/it]"
     }
    },
    "a1b548deb5c2471b83b241396c708757": {
     "model_module": "@jupyter-widgets/base",
     "model_module_version": "1.2.0",
     "model_name": "LayoutModel",
     "state": {
      "_model_module": "@jupyter-widgets/base",
      "_model_module_version": "1.2.0",
      "_model_name": "LayoutModel",
      "_view_count": null,
      "_view_module": "@jupyter-widgets/base",
      "_view_module_version": "1.2.0",
      "_view_name": "LayoutView",
      "align_content": null,
      "align_items": null,
      "align_self": null,
      "border": null,
      "bottom": null,
      "display": null,
      "flex": null,
      "flex_flow": null,
      "grid_area": null,
      "grid_auto_columns": null,
      "grid_auto_flow": null,
      "grid_auto_rows": null,
      "grid_column": null,
      "grid_gap": null,
      "grid_row": null,
      "grid_template_areas": null,
      "grid_template_columns": null,
      "grid_template_rows": null,
      "height": null,
      "justify_content": null,
      "justify_items": null,
      "left": null,
      "margin": null,
      "max_height": null,
      "max_width": null,
      "min_height": null,
      "min_width": null,
      "object_fit": null,
      "object_position": null,
      "order": null,
      "overflow": null,
      "overflow_x": null,
      "overflow_y": null,
      "padding": null,
      "right": null,
      "top": null,
      "visibility": null,
      "width": null
     }
    },
    "af4150e1df404cd6ae654f671ba4d183": {
     "model_module": "@jupyter-widgets/controls",
     "model_module_version": "1.5.0",
     "model_name": "HBoxModel",
     "state": {
      "_dom_classes": [],
      "_model_module": "@jupyter-widgets/controls",
      "_model_module_version": "1.5.0",
      "_model_name": "HBoxModel",
      "_view_count": null,
      "_view_module": "@jupyter-widgets/controls",
      "_view_module_version": "1.5.0",
      "_view_name": "HBoxView",
      "box_style": "",
      "children": [
       "IPY_MODEL_dad94e206cbb4143aba09c25ffa56aca",
       "IPY_MODEL_70b2868d0b0d4d479dba3a97b1f6efe9",
       "IPY_MODEL_e424cadd653d41e1a0ff76729254bdac"
      ],
      "layout": "IPY_MODEL_5d57766cca964a84b6e719dd89d28eb6"
     }
    },
    "b1647ab6f8ee4b4a8fef87b62f0613a5": {
     "model_module": "@jupyter-widgets/base",
     "model_module_version": "1.2.0",
     "model_name": "LayoutModel",
     "state": {
      "_model_module": "@jupyter-widgets/base",
      "_model_module_version": "1.2.0",
      "_model_name": "LayoutModel",
      "_view_count": null,
      "_view_module": "@jupyter-widgets/base",
      "_view_module_version": "1.2.0",
      "_view_name": "LayoutView",
      "align_content": null,
      "align_items": null,
      "align_self": null,
      "border": null,
      "bottom": null,
      "display": null,
      "flex": null,
      "flex_flow": null,
      "grid_area": null,
      "grid_auto_columns": null,
      "grid_auto_flow": null,
      "grid_auto_rows": null,
      "grid_column": null,
      "grid_gap": null,
      "grid_row": null,
      "grid_template_areas": null,
      "grid_template_columns": null,
      "grid_template_rows": null,
      "height": null,
      "justify_content": null,
      "justify_items": null,
      "left": null,
      "margin": null,
      "max_height": null,
      "max_width": null,
      "min_height": null,
      "min_width": null,
      "object_fit": null,
      "object_position": null,
      "order": null,
      "overflow": null,
      "overflow_x": null,
      "overflow_y": null,
      "padding": null,
      "right": null,
      "top": null,
      "visibility": null,
      "width": null
     }
    },
    "d81b7db50fb444e3bda61faa4ad09d0e": {
     "model_module": "@jupyter-widgets/controls",
     "model_module_version": "1.5.0",
     "model_name": "DescriptionStyleModel",
     "state": {
      "_model_module": "@jupyter-widgets/controls",
      "_model_module_version": "1.5.0",
      "_model_name": "DescriptionStyleModel",
      "_view_count": null,
      "_view_module": "@jupyter-widgets/base",
      "_view_module_version": "1.2.0",
      "_view_name": "StyleView",
      "description_width": ""
     }
    },
    "dad94e206cbb4143aba09c25ffa56aca": {
     "model_module": "@jupyter-widgets/controls",
     "model_module_version": "1.5.0",
     "model_name": "HTMLModel",
     "state": {
      "_dom_classes": [],
      "_model_module": "@jupyter-widgets/controls",
      "_model_module_version": "1.5.0",
      "_model_name": "HTMLModel",
      "_view_count": null,
      "_view_module": "@jupyter-widgets/controls",
      "_view_module_version": "1.5.0",
      "_view_name": "HTMLView",
      "description": "",
      "description_tooltip": null,
      "layout": "IPY_MODEL_a1b548deb5c2471b83b241396c708757",
      "placeholder": "​",
      "style": "IPY_MODEL_20249450e361435baf82dacb38230315",
      "value": "Processing: 100%"
     }
    },
    "e0e2de93171248a683396c0b42efc2e9": {
     "model_module": "@jupyter-widgets/controls",
     "model_module_version": "1.5.0",
     "model_name": "HTMLModel",
     "state": {
      "_dom_classes": [],
      "_model_module": "@jupyter-widgets/controls",
      "_model_module_version": "1.5.0",
      "_model_name": "HTMLModel",
      "_view_count": null,
      "_view_module": "@jupyter-widgets/controls",
      "_view_module_version": "1.5.0",
      "_view_name": "HTMLView",
      "description": "",
      "description_tooltip": null,
      "layout": "IPY_MODEL_684eb09ebd084945869f339fd0ec6394",
      "placeholder": "​",
      "style": "IPY_MODEL_d81b7db50fb444e3bda61faa4ad09d0e",
      "value": " 65/65 [00:35&lt;00:00,  1.73it/s]"
     }
    },
    "e424cadd653d41e1a0ff76729254bdac": {
     "model_module": "@jupyter-widgets/controls",
     "model_module_version": "1.5.0",
     "model_name": "HTMLModel",
     "state": {
      "_dom_classes": [],
      "_model_module": "@jupyter-widgets/controls",
      "_model_module_version": "1.5.0",
      "_model_name": "HTMLModel",
      "_view_count": null,
      "_view_module": "@jupyter-widgets/controls",
      "_view_module_version": "1.5.0",
      "_view_name": "HTMLView",
      "description": "",
      "description_tooltip": null,
      "layout": "IPY_MODEL_40ab1d388fce4d18bee8c1c02b25d2dc",
      "placeholder": "​",
      "style": "IPY_MODEL_41c1a6cedfed477595e1ece1926e2ce9",
      "value": " 4/4 [00:02&lt;00:00,  1.66it/s]"
     }
    },
    "e7b89aff96b24966844c75c5d005aa36": {
     "model_module": "@jupyter-widgets/controls",
     "model_module_version": "1.5.0",
     "model_name": "FloatProgressModel",
     "state": {
      "_dom_classes": [],
      "_model_module": "@jupyter-widgets/controls",
      "_model_module_version": "1.5.0",
      "_model_name": "FloatProgressModel",
      "_view_count": null,
      "_view_module": "@jupyter-widgets/controls",
      "_view_module_version": "1.5.0",
      "_view_name": "ProgressView",
      "bar_style": "",
      "description": "",
      "description_tooltip": null,
      "layout": "IPY_MODEL_920fce703fc44333ab73b693507ac307",
      "max": 65,
      "min": 0,
      "orientation": "horizontal",
      "style": "IPY_MODEL_90225f85844b4dc8aff28910d7f7d8ae",
      "value": 65
     }
    },
    "ece5d8c68db84931a2f9132dc6f9d914": {
     "model_module": "@jupyter-widgets/controls",
     "model_module_version": "1.5.0",
     "model_name": "HBoxModel",
     "state": {
      "_dom_classes": [],
      "_model_module": "@jupyter-widgets/controls",
      "_model_module_version": "1.5.0",
      "_model_name": "HBoxModel",
      "_view_count": null,
      "_view_module": "@jupyter-widgets/controls",
      "_view_module_version": "1.5.0",
      "_view_name": "HBoxView",
      "box_style": "",
      "children": [
       "IPY_MODEL_19c1bf6b9afb47d18357abc40ec7335c",
       "IPY_MODEL_458b0c91b8224b2884320c9c343cf923",
       "IPY_MODEL_92d6d51e2f2843038887a2ca06e98393"
      ],
      "layout": "IPY_MODEL_088e127807b846949cc51c6d3c12654a"
     }
    },
    "ed43cab735f243cabdc82ebe1ff34561": {
     "model_module": "@jupyter-widgets/controls",
     "model_module_version": "1.5.0",
     "model_name": "DescriptionStyleModel",
     "state": {
      "_model_module": "@jupyter-widgets/controls",
      "_model_module_version": "1.5.0",
      "_model_name": "DescriptionStyleModel",
      "_view_count": null,
      "_view_module": "@jupyter-widgets/base",
      "_view_module_version": "1.2.0",
      "_view_name": "StyleView",
      "description_width": ""
     }
    }
   }
  }
 },
 "nbformat": 4,
 "nbformat_minor": 1
}
