{
 "cells": [
  {
   "cell_type": "markdown",
   "id": "7cff7173-6be2-47fa-92a3-cbda04523892",
   "metadata": {
    "id": "7cff7173-6be2-47fa-92a3-cbda04523892"
   },
   "source": [
    "## **BERT Embeddings with Auto Class**"
   ]
  },
  {
   "cell_type": "code",
   "execution_count": null,
   "id": "f7058f4f-0f7f-4aab-9f34-2793761ad306",
   "metadata": {
    "colab": {
     "referenced_widgets": [
      "ad1b5d28138547fb882860f64e79cb02",
      "e10642ccc8284cdba737fa71b3705171",
      "630a8583f91a493082fcee5a3bb2489e",
      "1454a2db113c42b8bff7328a97e21148",
      "6e2bad2ae4a3484bb028e1c1880e1b24"
     ]
    },
    "id": "f7058f4f-0f7f-4aab-9f34-2793761ad306",
    "outputId": "d65d4390-f962-4050-fbcf-db231fbefdaf",
    "scrolled": true
   },
   "outputs": [
    {
     "name": "stderr",
     "output_type": "stream",
     "text": [
      "/Users/kanavbansal/Developer/.env_jupyter/lib/python3.9/site-packages/urllib3/__init__.py:35: NotOpenSSLWarning: urllib3 v2 only supports OpenSSL 1.1.1+, currently the 'ssl' module is compiled with 'LibreSSL 2.8.3'. See: https://github.com/urllib3/urllib3/issues/3020\n",
      "  warnings.warn(\n"
     ]
    },
    {
     "data": {
      "application/vnd.jupyter.widget-view+json": {
       "model_id": "ad1b5d28138547fb882860f64e79cb02",
       "version_major": 2,
       "version_minor": 0
      },
      "text/plain": [
       "config.json:   0%|          | 0.00/570 [00:00<?, ?B/s]"
      ]
     },
     "metadata": {},
     "output_type": "display_data"
    },
    {
     "data": {
      "application/vnd.jupyter.widget-view+json": {
       "model_id": "e10642ccc8284cdba737fa71b3705171",
       "version_major": 2,
       "version_minor": 0
      },
      "text/plain": [
       "model.safetensors:   0%|          | 0.00/440M [00:00<?, ?B/s]"
      ]
     },
     "metadata": {},
     "output_type": "display_data"
    },
    {
     "name": "stderr",
     "output_type": "stream",
     "text": [
      "A parameter name that contains `beta` will be renamed internally to `bias`. Please use a different name to suppress this warning.\n",
      "A parameter name that contains `gamma` will be renamed internally to `weight`. Please use a different name to suppress this warning.\n",
      "A parameter name that contains `beta` will be renamed internally to `bias`. Please use a different name to suppress this warning.\n",
      "A parameter name that contains `gamma` will be renamed internally to `weight`. Please use a different name to suppress this warning.\n",
      "A parameter name that contains `beta` will be renamed internally to `bias`. Please use a different name to suppress this warning.\n",
      "A parameter name that contains `gamma` will be renamed internally to `weight`. Please use a different name to suppress this warning.\n",
      "A parameter name that contains `beta` will be renamed internally to `bias`. Please use a different name to suppress this warning.\n",
      "A parameter name that contains `gamma` will be renamed internally to `weight`. Please use a different name to suppress this warning.\n",
      "A parameter name that contains `beta` will be renamed internally to `bias`. Please use a different name to suppress this warning.\n",
      "A parameter name that contains `gamma` will be renamed internally to `weight`. Please use a different name to suppress this warning.\n",
      "A parameter name that contains `beta` will be renamed internally to `bias`. Please use a different name to suppress this warning.\n",
      "A parameter name that contains `gamma` will be renamed internally to `weight`. Please use a different name to suppress this warning.\n",
      "A parameter name that contains `beta` will be renamed internally to `bias`. Please use a different name to suppress this warning.\n",
      "A parameter name that contains `gamma` will be renamed internally to `weight`. Please use a different name to suppress this warning.\n",
      "A parameter name that contains `beta` will be renamed internally to `bias`. Please use a different name to suppress this warning.\n",
      "A parameter name that contains `gamma` will be renamed internally to `weight`. Please use a different name to suppress this warning.\n",
      "A parameter name that contains `beta` will be renamed internally to `bias`. Please use a different name to suppress this warning.\n",
      "A parameter name that contains `gamma` will be renamed internally to `weight`. Please use a different name to suppress this warning.\n",
      "A parameter name that contains `beta` will be renamed internally to `bias`. Please use a different name to suppress this warning.\n",
      "A parameter name that contains `gamma` will be renamed internally to `weight`. Please use a different name to suppress this warning.\n",
      "A parameter name that contains `beta` will be renamed internally to `bias`. Please use a different name to suppress this warning.\n",
      "A parameter name that contains `gamma` will be renamed internally to `weight`. Please use a different name to suppress this warning.\n",
      "A parameter name that contains `beta` will be renamed internally to `bias`. Please use a different name to suppress this warning.\n",
      "A parameter name that contains `gamma` will be renamed internally to `weight`. Please use a different name to suppress this warning.\n",
      "A parameter name that contains `beta` will be renamed internally to `bias`. Please use a different name to suppress this warning.\n",
      "A parameter name that contains `gamma` will be renamed internally to `weight`. Please use a different name to suppress this warning.\n",
      "A parameter name that contains `beta` will be renamed internally to `bias`. Please use a different name to suppress this warning.\n",
      "A parameter name that contains `gamma` will be renamed internally to `weight`. Please use a different name to suppress this warning.\n",
      "A parameter name that contains `beta` will be renamed internally to `bias`. Please use a different name to suppress this warning.\n",
      "A parameter name that contains `gamma` will be renamed internally to `weight`. Please use a different name to suppress this warning.\n",
      "A parameter name that contains `beta` will be renamed internally to `bias`. Please use a different name to suppress this warning.\n",
      "A parameter name that contains `gamma` will be renamed internally to `weight`. Please use a different name to suppress this warning.\n",
      "A parameter name that contains `beta` will be renamed internally to `bias`. Please use a different name to suppress this warning.\n",
      "A parameter name that contains `gamma` will be renamed internally to `weight`. Please use a different name to suppress this warning.\n",
      "A parameter name that contains `beta` will be renamed internally to `bias`. Please use a different name to suppress this warning.\n",
      "A parameter name that contains `gamma` will be renamed internally to `weight`. Please use a different name to suppress this warning.\n",
      "A parameter name that contains `beta` will be renamed internally to `bias`. Please use a different name to suppress this warning.\n",
      "A parameter name that contains `gamma` will be renamed internally to `weight`. Please use a different name to suppress this warning.\n",
      "A parameter name that contains `beta` will be renamed internally to `bias`. Please use a different name to suppress this warning.\n",
      "A parameter name that contains `gamma` will be renamed internally to `weight`. Please use a different name to suppress this warning.\n",
      "A parameter name that contains `beta` will be renamed internally to `bias`. Please use a different name to suppress this warning.\n",
      "A parameter name that contains `gamma` will be renamed internally to `weight`. Please use a different name to suppress this warning.\n",
      "A parameter name that contains `beta` will be renamed internally to `bias`. Please use a different name to suppress this warning.\n",
      "A parameter name that contains `gamma` will be renamed internally to `weight`. Please use a different name to suppress this warning.\n",
      "A parameter name that contains `beta` will be renamed internally to `bias`. Please use a different name to suppress this warning.\n",
      "A parameter name that contains `gamma` will be renamed internally to `weight`. Please use a different name to suppress this warning.\n",
      "A parameter name that contains `beta` will be renamed internally to `bias`. Please use a different name to suppress this warning.\n",
      "A parameter name that contains `gamma` will be renamed internally to `weight`. Please use a different name to suppress this warning.\n",
      "A parameter name that contains `beta` will be renamed internally to `bias`. Please use a different name to suppress this warning.\n",
      "A parameter name that contains `gamma` will be renamed internally to `weight`. Please use a different name to suppress this warning.\n",
      "A parameter name that contains `beta` will be renamed internally to `bias`. Please use a different name to suppress this warning.\n",
      "A parameter name that contains `gamma` will be renamed internally to `weight`. Please use a different name to suppress this warning.\n"
     ]
    },
    {
     "data": {
      "application/vnd.jupyter.widget-view+json": {
       "model_id": "630a8583f91a493082fcee5a3bb2489e",
       "version_major": 2,
       "version_minor": 0
      },
      "text/plain": [
       "tokenizer_config.json:   0%|          | 0.00/48.0 [00:00<?, ?B/s]"
      ]
     },
     "metadata": {},
     "output_type": "display_data"
    },
    {
     "data": {
      "application/vnd.jupyter.widget-view+json": {
       "model_id": "1454a2db113c42b8bff7328a97e21148",
       "version_major": 2,
       "version_minor": 0
      },
      "text/plain": [
       "vocab.txt:   0%|          | 0.00/232k [00:00<?, ?B/s]"
      ]
     },
     "metadata": {},
     "output_type": "display_data"
    },
    {
     "data": {
      "application/vnd.jupyter.widget-view+json": {
       "model_id": "6e2bad2ae4a3484bb028e1c1880e1b24",
       "version_major": 2,
       "version_minor": 0
      },
      "text/plain": [
       "tokenizer.json:   0%|          | 0.00/466k [00:00<?, ?B/s]"
      ]
     },
     "metadata": {},
     "output_type": "display_data"
    }
   ],
   "source": [
    "from transformers import AutoTokenizer, AutoModel\n",
    "\n",
    "model = AutoModel.from_pretrained('bert-base-uncased')\n",
    "tokenizer = AutoTokenizer.from_pretrained('bert-base-uncased')"
   ]
  },
  {
   "cell_type": "code",
   "execution_count": null,
   "id": "fee2a4cc-e544-4640-ab32-210368ab47d7",
   "metadata": {
    "id": "fee2a4cc-e544-4640-ab32-210368ab47d7",
    "outputId": "3766a893-cf43-4f54-a2e8-555d20f94f4b"
   },
   "outputs": [
    {
     "data": {
      "text/plain": [
       "BertTokenizerFast(name_or_path='bert-base-uncased', vocab_size=30522, model_max_length=512, is_fast=True, padding_side='right', truncation_side='right', special_tokens={'unk_token': '[UNK]', 'sep_token': '[SEP]', 'pad_token': '[PAD]', 'cls_token': '[CLS]', 'mask_token': '[MASK]'}, clean_up_tokenization_spaces=True),  added_tokens_decoder={\n",
       "\t0: AddedToken(\"[PAD]\", rstrip=False, lstrip=False, single_word=False, normalized=False, special=True),\n",
       "\t100: AddedToken(\"[UNK]\", rstrip=False, lstrip=False, single_word=False, normalized=False, special=True),\n",
       "\t101: AddedToken(\"[CLS]\", rstrip=False, lstrip=False, single_word=False, normalized=False, special=True),\n",
       "\t102: AddedToken(\"[SEP]\", rstrip=False, lstrip=False, single_word=False, normalized=False, special=True),\n",
       "\t103: AddedToken(\"[MASK]\", rstrip=False, lstrip=False, single_word=False, normalized=False, special=True),\n",
       "}"
      ]
     },
     "execution_count": 2,
     "metadata": {},
     "output_type": "execute_result"
    }
   ],
   "source": [
    "tokenizer"
   ]
  },
  {
   "cell_type": "code",
   "execution_count": null,
   "id": "80f0fcff-bd88-4a55-8d7a-47428c3e5920",
   "metadata": {
    "id": "80f0fcff-bd88-4a55-8d7a-47428c3e5920",
    "outputId": "cd6cb9fe-dbc9-4902-976f-61195c0ce968",
    "scrolled": true
   },
   "outputs": [
    {
     "data": {
      "text/plain": [
       "BertModel(\n",
       "  (embeddings): BertEmbeddings(\n",
       "    (word_embeddings): Embedding(30522, 768, padding_idx=0)\n",
       "    (position_embeddings): Embedding(512, 768)\n",
       "    (token_type_embeddings): Embedding(2, 768)\n",
       "    (LayerNorm): LayerNorm((768,), eps=1e-12, elementwise_affine=True)\n",
       "    (dropout): Dropout(p=0.1, inplace=False)\n",
       "  )\n",
       "  (encoder): BertEncoder(\n",
       "    (layer): ModuleList(\n",
       "      (0-11): 12 x BertLayer(\n",
       "        (attention): BertAttention(\n",
       "          (self): BertSdpaSelfAttention(\n",
       "            (query): Linear(in_features=768, out_features=768, bias=True)\n",
       "            (key): Linear(in_features=768, out_features=768, bias=True)\n",
       "            (value): Linear(in_features=768, out_features=768, bias=True)\n",
       "            (dropout): Dropout(p=0.1, inplace=False)\n",
       "          )\n",
       "          (output): BertSelfOutput(\n",
       "            (dense): Linear(in_features=768, out_features=768, bias=True)\n",
       "            (LayerNorm): LayerNorm((768,), eps=1e-12, elementwise_affine=True)\n",
       "            (dropout): Dropout(p=0.1, inplace=False)\n",
       "          )\n",
       "        )\n",
       "        (intermediate): BertIntermediate(\n",
       "          (dense): Linear(in_features=768, out_features=3072, bias=True)\n",
       "          (intermediate_act_fn): GELUActivation()\n",
       "        )\n",
       "        (output): BertOutput(\n",
       "          (dense): Linear(in_features=3072, out_features=768, bias=True)\n",
       "          (LayerNorm): LayerNorm((768,), eps=1e-12, elementwise_affine=True)\n",
       "          (dropout): Dropout(p=0.1, inplace=False)\n",
       "        )\n",
       "      )\n",
       "    )\n",
       "  )\n",
       "  (pooler): BertPooler(\n",
       "    (dense): Linear(in_features=768, out_features=768, bias=True)\n",
       "    (activation): Tanh()\n",
       "  )\n",
       ")"
      ]
     },
     "execution_count": 3,
     "metadata": {},
     "output_type": "execute_result"
    }
   ],
   "source": [
    "model"
   ]
  },
  {
   "cell_type": "markdown",
   "id": "e3ad93c2-e9d1-4995-8b16-f67f57e21cf3",
   "metadata": {
    "id": "e3ad93c2-e9d1-4995-8b16-f67f57e21cf3"
   },
   "source": [
    "## **Preprocess the Input**"
   ]
  },
  {
   "cell_type": "code",
   "execution_count": null,
   "id": "d3c5b4da-b4b0-46a5-bb74-0f587b900e40",
   "metadata": {
    "id": "d3c5b4da-b4b0-46a5-bb74-0f587b900e40",
    "outputId": "e175c3ea-1379-4ac8-8593-224b4fbe53c8"
   },
   "outputs": [
    {
     "name": "stdout",
     "output_type": "stream",
     "text": [
      "Tokens:\n",
      " ['i', 'am', 'working', 'as', 'a', 'gen', '##ai', 'engineer', '.']\n"
     ]
    }
   ],
   "source": [
    "sentence = \"I am working as a GenAI Engineer.\"\n",
    "\n",
    "tokens = tokenizer.tokenize(sentence)\n",
    "\n",
    "print(\"Tokens:\\n\", tokens)"
   ]
  },
  {
   "cell_type": "code",
   "execution_count": null,
   "id": "667f6a00-d072-403c-9d34-a274cdefdf97",
   "metadata": {
    "id": "667f6a00-d072-403c-9d34-a274cdefdf97",
    "outputId": "1d68a41c-c925-4139-d51d-1099879b0bb1"
   },
   "outputs": [
    {
     "name": "stdout",
     "output_type": "stream",
     "text": [
      "Token Ids:\n",
      " {'input_ids': [101, 1045, 2572, 2551, 2004, 1037, 8991, 4886, 3992, 1012, 102], 'token_type_ids': [0, 0, 0, 0, 0, 0, 0, 0, 0, 0, 0], 'attention_mask': [1, 1, 1, 1, 1, 1, 1, 1, 1, 1, 1]}\n"
     ]
    }
   ],
   "source": [
    "token_ids = tokenizer(sentence)\n",
    "\n",
    "print(\"Token Ids:\\n\", token_ids)"
   ]
  },
  {
   "cell_type": "code",
   "execution_count": null,
   "id": "bb58a0e4-ed01-4780-81d1-676e5fce149c",
   "metadata": {
    "id": "bb58a0e4-ed01-4780-81d1-676e5fce149c",
    "outputId": "e79f6efa-fcb9-4fa5-cf4a-e0898354780b"
   },
   "outputs": [
    {
     "name": "stdout",
     "output_type": "stream",
     "text": [
      "Decoded Text Output:\n",
      " [CLS] i am working as a genai engineer. [SEP]\n"
     ]
    }
   ],
   "source": [
    "## Decode method allows us to check how the final output of the\n",
    "## tokenizer translates back to text\n",
    "print(\"Decoded Text Output:\\n\", tokenizer.decode(token_ids[\"input_ids\"]))"
   ]
  },
  {
   "cell_type": "markdown",
   "id": "dc6e53ed-1e7e-4204-b771-070e1c06e132",
   "metadata": {
    "id": "dc6e53ed-1e7e-4204-b771-070e1c06e132"
   },
   "source": [
    "## **Generating Embeddings**"
   ]
  },
  {
   "cell_type": "code",
   "execution_count": null,
   "id": "679e0d7e-f53f-4f26-a569-e1796563a0e4",
   "metadata": {
    "id": "679e0d7e-f53f-4f26-a569-e1796563a0e4",
    "outputId": "f0306032-1ee1-4c11-841b-8b86c641a62f"
   },
   "outputs": [
    {
     "name": "stdout",
     "output_type": "stream",
     "text": [
      "{'input_ids': tensor([[ 101, 1045, 2572, 2551, 2004, 1037, 8991, 4886, 3992, 1012,  102]]), 'token_type_ids': tensor([[0, 0, 0, 0, 0, 0, 0, 0, 0, 0, 0]]), 'attention_mask': tensor([[1, 1, 1, 1, 1, 1, 1, 1, 1, 1, 1]])}\n"
     ]
    }
   ],
   "source": [
    "token_ids = tokenizer(sentence, padding=True, truncation=True, max_length=15, return_tensors=\"pt\")\n",
    "\n",
    "print(token_ids)"
   ]
  },
  {
   "cell_type": "code",
   "execution_count": null,
   "id": "0e3d16df-83de-494a-b1ca-9f4eb177f44d",
   "metadata": {
    "id": "0e3d16df-83de-494a-b1ca-9f4eb177f44d"
   },
   "outputs": [],
   "source": [
    "# Now pass your preprocessed batch of inputs directly to the model.\n",
    "# You just have to unpack the dictionary by adding **\n",
    "outputs = model(**token_ids)"
   ]
  },
  {
   "cell_type": "markdown",
   "id": "1e5c4d17-c7fc-4dbf-8e04-48d25ef46d96",
   "metadata": {
    "id": "1e5c4d17-c7fc-4dbf-8e04-48d25ef46d96"
   },
   "source": [
    "**Note** that model returns the output as a tuple with two values. The first value indicates the hidden state representation, hidden_rep, and it consists of the representation of all the tokens obtained from the final encoder (encoder 12) and the second value, cls_head, consists of the representation of the [CLS] token:"
   ]
  },
  {
   "cell_type": "code",
   "execution_count": null,
   "id": "045f8fe4-745c-4c83-b8ab-0822820983b9",
   "metadata": {
    "id": "045f8fe4-745c-4c83-b8ab-0822820983b9"
   },
   "outputs": [],
   "source": [
    "hidden_rep = outputs.last_hidden_state\n",
    "cls_head = outputs.pooler_output"
   ]
  },
  {
   "cell_type": "markdown",
   "id": "ce96f242-6cb7-4866-9cc5-11c04b51cdeb",
   "metadata": {
    "id": "ce96f242-6cb7-4866-9cc5-11c04b51cdeb"
   },
   "source": [
    "**hidden_rep**  \n",
    "hidden_rep contains the embedding representation of all the tokens in our input. Let's print the shape of hidden_rep.\n",
    "\n",
    "The shape represents [batch_size, sequence_length, embedding_size]\n",
    "\n",
    "**cls_head**  \n",
    "cls_head holds the aggregated representation of the sentence.\n",
    "\n",
    "The shape represents [batch_size, embedding_size]"
   ]
  },
  {
   "cell_type": "code",
   "execution_count": null,
   "id": "4c89c00c-5d99-4920-8558-3a0114dfd535",
   "metadata": {
    "id": "4c89c00c-5d99-4920-8558-3a0114dfd535",
    "outputId": "14c168d2-3291-4301-dfba-2eb85471e534"
   },
   "outputs": [
    {
     "name": "stdout",
     "output_type": "stream",
     "text": [
      "torch.Size([1, 11, 768])\n"
     ]
    }
   ],
   "source": [
    "print(hidden_rep.shape)"
   ]
  },
  {
   "cell_type": "code",
   "execution_count": null,
   "id": "84b648a3-db1b-4135-a99c-085963dd3fa3",
   "metadata": {
    "id": "84b648a3-db1b-4135-a99c-085963dd3fa3",
    "outputId": "e77cdffd-cd8c-457f-cd79-c11af5211e0c"
   },
   "outputs": [
    {
     "name": "stdout",
     "output_type": "stream",
     "text": [
      "torch.Size([1, 768])\n"
     ]
    }
   ],
   "source": [
    "print(cls_head.shape)"
   ]
  }
 ],
 "metadata": {
  "colab": {
   "provenance": []
  },
  "kernelspec": {
   "display_name": "Python 3 (ipykernel)",
   "language": "python",
   "name": "python3"
  },
  "language_info": {
   "codemirror_mode": {
    "name": "ipython",
    "version": 3
   },
   "file_extension": ".py",
   "mimetype": "text/x-python",
   "name": "python",
   "nbconvert_exporter": "python",
   "pygments_lexer": "ipython3",
   "version": "3.12.6"
  }
 },
 "nbformat": 4,
 "nbformat_minor": 5
}
