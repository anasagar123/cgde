{
 "cells": [
  {
   "cell_type": "markdown",
   "id": "ce4ee344-3253-4411-a378-0bbd1d43de68",
   "metadata": {},
   "source": [
    "# **YAML,Pytest,Frontend production(streamlit,Flux,FastAPI),ci/cd pipeline, kubernates(k8s)**"
   ]
  },
  {
   "cell_type": "code",
   "execution_count": null,
   "id": "fd7e1eda-eb80-4a71-af12-106db9367be7",
   "metadata": {},
   "outputs": [],
   "source": []
  },
  {
   "cell_type": "markdown",
   "id": "052c4b6e-9a5a-41f3-a7e2-5534be126bd6",
   "metadata": {},
   "source": [
    "# **YAML**"
   ]
  },
  {
   "cell_type": "code",
   "execution_count": 2,
   "id": "40a9b64b-4760-4645-8132-79344d43376c",
   "metadata": {},
   "outputs": [],
   "source": [
    "# ---> YAML is a formatting.\n",
    "# ---> YAML - YAML Ain't markup Language\n",
    "# Yaml is a data serialization language.\n",
    "# extension - .yml / .yaml"
   ]
  },
  {
   "cell_type": "code",
   "execution_count": 3,
   "id": "c30c4907-767f-47ec-bee3-500bd4c9fb8a",
   "metadata": {},
   "outputs": [],
   "source": [
    "        ## SYNTAX\n",
    "# ---> No Format symbols like bracket,syntax or quatation tag\n",
    "# ----> Extension - .yml / .yaml"
   ]
  },
  {
   "cell_type": "markdown",
   "id": "21750749-7fe9-461e-a5e3-2bc1549de29d",
   "metadata": {},
   "source": [
    "# **Pytest**"
   ]
  },
  {
   "cell_type": "code",
   "execution_count": null,
   "id": "225566f1-8c5b-4b36-aa54-3bbe8bd807c1",
   "metadata": {},
   "outputs": [],
   "source": [
    "#---> Pytest is for testing purpose.\n",
    "#----> its a very powerful. Easily setup & tear down test environment fixures.\n",
    "#----> Before dployment we have to check our model or whatever we have written code  is working fine or not then i have to use pytest. "
   ]
  },
  {
   "cell_type": "code",
   "execution_count": 4,
   "id": "daed63fd-7c94-49f9-b691-d2f0518cfffb",
   "metadata": {},
   "outputs": [],
   "source": [
    "            ### Getting statrted with Pytest\n",
    "# !pip install pytest\n",
    "# extension = test_.py/_test.py"
   ]
  },
  {
   "cell_type": "code",
   "execution_count": null,
   "id": "76eb3127-cc2e-4d73-b371-8eb07b9c3337",
   "metadata": {},
   "outputs": [],
   "source": []
  }
 ],
 "metadata": {
  "kernelspec": {
   "display_name": "Python 3 (ipykernel)",
   "language": "python",
   "name": "python3"
  },
  "language_info": {
   "codemirror_mode": {
    "name": "ipython",
    "version": 3
   },
   "file_extension": ".py",
   "mimetype": "text/x-python",
   "name": "python",
   "nbconvert_exporter": "python",
   "pygments_lexer": "ipython3",
   "version": "3.12.6"
  }
 },
 "nbformat": 4,
 "nbformat_minor": 5
}
