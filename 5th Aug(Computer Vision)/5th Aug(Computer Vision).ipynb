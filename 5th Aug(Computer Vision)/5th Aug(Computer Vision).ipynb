{
 "cells": [
  {
   "cell_type": "markdown",
   "id": "5a6c7a8d-86fc-4a50-a165-6c20de1cdf59",
   "metadata": {},
   "source": [
    "# **5th_AUG(Computer Vision)**"
   ]
  },
  {
   "cell_type": "code",
   "execution_count": null,
   "id": "1b598937-2647-4283-928d-c1fe0e0789f0",
   "metadata": {},
   "outputs": [],
   "source": []
  },
  {
   "cell_type": "markdown",
   "id": "9d731f3b-7acd-49fe-bff8-0ea939034b5f",
   "metadata": {},
   "source": [
    "**Drawing images and shapes using OpenCV**"
   ]
  },
  {
   "cell_type": "code",
   "execution_count": 1,
   "id": "3f79e8ac-19de-4180-a08b-17e8480bbf35",
   "metadata": {},
   "outputs": [],
   "source": [
    "# Lets start off my making a black square \n",
    "\n",
    "import numpy as np\n",
    "import pandas as pd\n",
    "import cv2\n"
   ]
  },
  {
   "cell_type": "code",
   "execution_count": 6,
   "id": "ff248290-26ef-41de-a761-2c9e6ff5a785",
   "metadata": {},
   "outputs": [],
   "source": [
    "\n",
    "\n",
    "# Create a black image\n",
    "image = np.zeros((512, 512, 3), np.uint8)  # Fully black color image\n",
    "\n",
    "# Create a black-and-white (grayscale) image\n",
    "image_bw = np.zeros((512, 512), np.uint8)  # Black-and-white image\n",
    "\n",
    "# Display both images (optional, requires OpenCV)\n",
    "cv2.imshow(\"Black Color Image\", image)\n",
    "cv2.imshow(\"Black and White Image\", image_bw)\n",
    "\n",
    "\n",
    "cv2.waitKey(0) # waitkey means we can see/visualize the image\n",
    "cv2.destroyAllWindows() # destroyAllWindows will release all the window once close, this will not throw error   \n"
   ]
  },
  {
   "cell_type": "markdown",
   "id": "132828dc-8605-420a-a061-b66050ddb002",
   "metadata": {},
   "source": [
    "**Line**"
   ]
  },
  {
   "cell_type": "code",
   "execution_count": 8,
   "id": "bb1128ad-5811-4c76-b3b0-ec5a6840c443",
   "metadata": {},
   "outputs": [],
   "source": [
    "image = np.zeros((512,512,3),np.uint8)\n",
    "cv2.line(image, (0,0), (400,400), (255,255,0), 5)\n",
    "# pt1 (0,0) - First point of the line segment.\n",
    "# pt2 (500,500) - Second point of the line segment.\n",
    "# color (255,255,0) - Line color.\n",
    "# thickness (5) - Line thickness.\n",
    "\n",
    "cv2.imshow('Line', image)\n",
    "cv2.waitKey(0)\n",
    "cv2.destroyAllWindows()\n"
   ]
  },
  {
   "cell_type": "markdown",
   "id": "3e946f30-51e3-49fb-aaa7-91d85bf64405",
   "metadata": {},
   "source": [
    "**Rectangle**"
   ]
  },
  {
   "cell_type": "code",
   "execution_count": 16,
   "id": "e2ac4c0b-2e7d-4a08-96b8-4706422ce1c9",
   "metadata": {},
   "outputs": [],
   "source": [
    "image = np.zeros((512,512,3),np.uint8)\n",
    "cv2.rectangle(image,(100,100),(400,250),(255,0,0),3)\n",
    "cv2.imshow(\"Rectangle\",image)\n",
    "cv2.waitKey(0)\n",
    "cv2.destroyAllWindows()"
   ]
  },
  {
   "cell_type": "code",
   "execution_count": 17,
   "id": "9463fdbb-ec0f-456d-9d93-e754a9da360e",
   "metadata": {},
   "outputs": [],
   "source": [
    "# if i want to fill the rectangle \n",
    "\n",
    "image = np.zeros((512,512,3),np.uint8)\n",
    "cv2.rectangle(image,(100,100),(400,250),(255,0,0),-1)\n",
    "cv2.imshow(\"Rectangle\",image)\n",
    "cv2.waitKey(0)\n",
    "cv2.destroyAllWindows()"
   ]
  },
  {
   "cell_type": "markdown",
   "id": "94eab87b-98c1-4f2c-a594-69d5b9b0b319",
   "metadata": {},
   "source": [
    "**Square**"
   ]
  },
  {
   "cell_type": "code",
   "execution_count": 12,
   "id": "9cde5252-0ab4-4a4b-aed4-5f0a00440ff7",
   "metadata": {},
   "outputs": [],
   "source": [
    "image = np.zeros((512,512,3),np.uint8)\n",
    "cv2.rectangle(image,(100,100),(300,300),(255,0,0),3)\n",
    "cv2.imshow(\"Rectangle\",image)\n",
    "cv2.waitKey(0)\n",
    "cv2.destroyAllWindows()"
   ]
  },
  {
   "cell_type": "markdown",
   "id": "68742f16-032b-4f81-b7df-cab221e64b6a",
   "metadata": {},
   "source": [
    "**Circle**"
   ]
  },
  {
   "cell_type": "code",
   "execution_count": 14,
   "id": "365381b6-4fff-4a27-b699-7ec41eddb5e6",
   "metadata": {},
   "outputs": [],
   "source": [
    "image = np.zeros((512,512,3),np.uint8)\n",
    "cv2.circle(image,(350,350),100,(255,0,255),3)\n",
    "\n",
    "# center (350,350) Center of the circle.\n",
    "# radius (100) Radius of the circle.\n",
    "# color (255,0,255) Circle color.\n",
    "# thickness (3) Thickness of the circle outline\n",
    "\n",
    "cv2.imshow(\"Circle\",image)\n",
    "cv2.waitKey(0)\n",
    "cv2.destroyAllWindows()"
   ]
  },
  {
   "cell_type": "code",
   "execution_count": 15,
   "id": "f4cdc60b-99e5-4258-ba1d-f5790828c491",
   "metadata": {},
   "outputs": [],
   "source": [
    "image = np.zeros((512,512,3),np.uint8)\n",
    "cv2.circle(image,(350,350),100,(255,0,255),-1)\n",
    "\n",
    "# center (350,350) Center of the circle.\n",
    "# radius (100) Radius of the circle.\n",
    "# color (255,0,255) Circle color.\n",
    "# thickness (3) Thickness of the circle outline\n",
    "\n",
    "cv2.imshow(\"Circle\",image)\n",
    "cv2.waitKey(0)\n",
    "cv2.destroyAllWindows()"
   ]
  },
  {
   "cell_type": "markdown",
   "id": "39e54d20-82d0-4ec6-9448-82cb60155872",
   "metadata": {},
   "source": [
    "**Polygons**"
   ]
  },
  {
   "cell_type": "code",
   "execution_count": 20,
   "id": "40e2df7d-12ec-496c-85bc-3005c83577ea",
   "metadata": {},
   "outputs": [],
   "source": [
    "image = np.zeros((512,512,3),np.uint8)\n",
    "pts = np.array([[10,50],[400,50],[90,200],[50,500]],np.int64)\n",
    "# [10,50],[400,50],[90,200],50,500] this is four point\n",
    "pts = pts.reshape((-1,1,2))\n",
    "cv2.polylines(image,[pts],True,(255,255,0),3)\n",
    "# img = image\n",
    "# pts = np.array([[10,50],[400,50],[90,200],50,500]],np.int64)\n",
    "# isClosed = True\n",
    "# color = (255,255,0)\n",
    "# Thickness = 3\n",
    "cv2.imshow(\"Polygon\",image)\n",
    "cv2.waitKey(0)\n",
    "cv2.destroyAllWindows()"
   ]
  },
  {
   "cell_type": "markdown",
   "id": "b17d90bb-eb78-4b58-97a3-ad9c40e0291c",
   "metadata": {},
   "source": [
    "**Text**"
   ]
  },
  {
   "cell_type": "code",
   "execution_count": 21,
   "id": "95e62481-0592-4b56-9602-f7842ec1007d",
   "metadata": {},
   "outputs": [],
   "source": [
    "# write text in a image\n",
    "image = np.zeros((512,512,3),np.uint8)\n",
    "cv2.putText(image,'Hello World!',(75,290),cv2.FONT_HERSHEY_COMPLEX,2,(100,170,0),3)\n",
    "# img = image\n",
    "# text = 'Hello World!'\n",
    "# org = (75,290)\n",
    "# fontFace = cv2.FONT_HERSHEY_COMPLEX\n",
    "# fontScale = 2\n",
    "# color = (100,170,0)\n",
    "# thickness = 3\n",
    "\n",
    "cv2.imshow(\"Text\",image)\n",
    "cv2.waitKey(0)\n",
    "cv2.destroyAllWindows()"
   ]
  },
  {
   "cell_type": "code",
   "execution_count": 23,
   "id": "7dd6b12b-14f3-40d0-8099-882f2f5b6587",
   "metadata": {},
   "outputs": [],
   "source": [
    "image = np.zeros((512,512,3),np.uint8)\n",
    "cv2.line(image, (0,0), (400,400), (255,255,0), 5)\n",
    "cv2.imshow('Line', image)\n",
    "cv2.waitKey(0)\n",
    "\n",
    "cv2.rectangle(image,(100,100),(400,250),(255,0,0),3)\n",
    "cv2.imshow(\"Rectangle\",image)\n",
    "cv2.waitKey(0)\n",
    "\n",
    "cv2.circle(image,(350,350),100,(255,0,255),-1)\n",
    "cv2.imshow(\"Circle\",image)\n",
    "cv2.waitKey(0)\n",
    "\n",
    "pts = np.array([[10,50],[400,50],[90,200],[50,500]],np.int64)\n",
    "pts = pts.reshape((-1,1,2))\n",
    "cv2.polylines(image,[pts],True,(255,255,0),3)\n",
    "cv2.imshow(\"Polygon\",image)\n",
    "cv2.waitKey(0)\n",
    "\n",
    "cv2.putText(image,'Hello World!',(75,290),cv2.FONT_HERSHEY_COMPLEX,2,(100,170,0),3)\n",
    "cv2.imshow(\"Text\",image)\n",
    "cv2.waitKey(0)\n",
    "cv2.destroyAllWindows()"
   ]
  },
  {
   "cell_type": "code",
   "execution_count": 25,
   "id": "7084f251-ba99-4663-b4aa-ce9d834a7bb5",
   "metadata": {},
   "outputs": [],
   "source": [
    "# here no need to execute one by one, At one go it will visualize all\n",
    "\n",
    "image = np.zeros((512,512,3),np.uint8)\n",
    "cv2.line(image, (0,0), (400,400), (255,255,0), 5)\n",
    "cv2.imshow('Line', image)\n",
    "# cv2.waitKey(0)\n",
    "\n",
    "cv2.rectangle(image,(100,100),(400,250),(255,0,0),3)\n",
    "cv2.imshow(\"Rectangle\",image)\n",
    "# cv2.waitKey(0)\n",
    "\n",
    "cv2.circle(image,(350,350),100,(255,0,255),-1)\n",
    "cv2.imshow(\"Circle\",image)\n",
    "# cv2.waitKey(0)\n",
    "\n",
    "pts = np.array([[10,50],[400,50],[90,200],[50,500]],np.int64)\n",
    "pts = pts.reshape((-1,1,2))\n",
    "cv2.polylines(image,[pts],True,(255,255,0),3)\n",
    "cv2.imshow(\"Polygon\",image)\n",
    "# cv2.waitKey(0)\n",
    "\n",
    "cv2.putText(image,'Hello World!',(75,290),cv2.FONT_HERSHEY_COMPLEX,2,(100,170,0),3)\n",
    "cv2.imshow(\"Text\",image)\n",
    "cv2.waitKey(0)\n",
    "cv2.destroyAllWindows()"
   ]
  },
  {
   "cell_type": "code",
   "execution_count": null,
   "id": "b56c6381-2ebc-48ba-9ef9-6bacc0218a15",
   "metadata": {},
   "outputs": [],
   "source": []
  },
  {
   "cell_type": "markdown",
   "id": "7099478f-f856-4ba5-80b3-6fcd25f56002",
   "metadata": {},
   "source": [
    "**Sharpening**"
   ]
  },
  {
   "cell_type": "code",
   "execution_count": 30,
   "id": "3b64a293-50f6-4e86-94e7-4c0d4db526aa",
   "metadata": {},
   "outputs": [],
   "source": [
    "# image Sharpening\n",
    "image = cv2.imread(\"Eiffel Tower.jpg\")\n",
    "cv2.imshow(\"original image\",image)\n",
    "kernel_sharpening = np.array([[-1,-1,-1],[-1,9,-1],[-1,-1,-1]])\n",
    "sharpened = cv2.filter2D(image,-1,kernel_sharpening)\n",
    "cv2.imshow(\"image Sharpening\",sharpened)\n",
    "cv2.waitKey(0)\n",
    "cv2.destroyAllWindows()"
   ]
  },
  {
   "cell_type": "markdown",
   "id": "042905eb-13c1-4f2f-9975-f577426d53b9",
   "metadata": {},
   "source": [
    "**Thresholding binarization and adaptive thresholding**"
   ]
  },
  {
   "cell_type": "code",
   "execution_count": 3,
   "id": "c5778348-d7e2-419f-bbdb-40fc43b16b67",
   "metadata": {},
   "outputs": [],
   "source": [
    "# convert gray scale image to a binary form\n",
    "image = cv2.imread(\"Eiffel Tower.jpg\",0) # 0 means black & white image\n",
    "cv2.imshow(\"Original Image\",image)\n",
    "ret,thresh1 = cv2.threshold(image,127,255,cv2.THRESH_BINARY)\n",
    "cv2.imshow(\"Threshold binary\",thresh1)\n",
    "\n",
    "ret,thresh2 = cv2.threshold(image,127,255,cv2.THRESH_BINARY_INV)\n",
    "cv2.imshow(\"Threshold binary\",thresh2)\n",
    "\n",
    "cv2.waitKey(0)\n",
    "cv2.destroyAllWindows()\n",
    "\n",
    "\n",
    "# we can check this also,this the threshold value\n",
    "\n",
    "#cv.THRESH_BINARY\n",
    "# cv.THRESH_BINARY_INV\n",
    "# cv.THRESH_TRUNC\n",
    "# cv.THRESH_TOZERO\n",
    "# cv.THRESH_TOZERO_INV"
   ]
  },
  {
   "cell_type": "code",
   "execution_count": 38,
   "id": "63d0e62d-950b-4c2f-aed8-beee2d1d0d6b",
   "metadata": {},
   "outputs": [],
   "source": [
    "image1 = cv2.imread(\"sudoku.png\",0)\n",
    "image1 = cv2.GaussianBlur(image1, (3,3), 0)\n",
    "thresh3 = cv2.adaptiveThreshold(image1, 255, cv2.ADAPTIVE_THRESH_MEAN_C,cv2.THRESH_BINARY, 3,5)\n",
    "cv2.imshow(\"ADAPTIVE MEAN Thresholding\", thresh3)\n",
    "\n",
    "ret, thresh4 = cv2.threshold(image1, 0, 255, cv2.THRESH_BINARY + cv2.THRESH_OTSU)\n",
    "cv2.imshow(\"OTSU Thresholding\", thresh4)\n",
    "\n",
    "blur = cv2.GaussianBlur(image1, (5,5), 0)\n",
    "ret, th5 = cv2.threshold(blur, 0, 255, cv2.THRESH_BINARY + cv2.THRESH_OTSU)\n",
    "cv2.imshow(\"Gaussian otsu threshold\", th5)\n",
    "cv2.waitKey(0)\n",
    "cv2.destroyAllWindows()"
   ]
  },
  {
   "cell_type": "markdown",
   "id": "09b9b3c3-79dd-40e5-8c51-e22ab78956ae",
   "metadata": {},
   "source": [
    "**Edge Detection very important**"
   ]
  },
  {
   "cell_type": "code",
   "execution_count": 2,
   "id": "479b74da-8418-46c4-95c3-c334a1b4fe4e",
   "metadata": {},
   "outputs": [],
   "source": [
    "image = cv2.imread(\"Eiffel Tower.jpg\",0) # 0 means black & white image\n",
    "cv2.imshow(\"original image\", image)\n",
    "height,width = image.shape\n",
    "\n",
    "# so many edge detection technique  is there, like Sobel,Laplacian and canny(very famous), so we can always go with canny\n",
    "canny = cv2.Canny(image,50,120)\n",
    "cv2.imshow(\"Canny\",canny)\n",
    "\n",
    "cv2.waitKey(0)\n",
    "cv2.destroyAllWindows()"
   ]
  },
  {
   "cell_type": "markdown",
   "id": "1e5adaa6-7578-465d-8f09-dbdd439cb5b3",
   "metadata": {},
   "source": [
    "**Live Project - making my own sketch using my webcamera**\n"
   ]
  },
  {
   "cell_type": "code",
   "execution_count": null,
   "id": "aed9f8a5-bb4e-42e4-9bee-e6f4583b2392",
   "metadata": {},
   "outputs": [],
   "source": [
    "import numpy as np\n",
    "import pandas as pd\n",
    "import cv2\n",
    "\n"
   ]
  },
  {
   "cell_type": "code",
   "execution_count": 5,
   "id": "1abbf55f-8019-4d9d-9974-53d812ec641c",
   "metadata": {},
   "outputs": [],
   "source": [
    "import numpy as np\n",
    "import cv2\n",
    "\n",
    "def sketch(image):\n",
    "    # covert image to grayscale\n",
    "    img_gray = cv2.cvtColor(image, cv2.COLOR_BGR2GRAY)\n",
    "    # blur the image \n",
    "    img_gray_blur = cv2.GaussianBlur(img_gray, (5,5), 0)\n",
    "    # extact edges\n",
    "    canny_edges = cv2.Canny(img_gray_blur, 10, 70)\n",
    "    # threshold\n",
    "    ret, mask = cv2.threshold(canny_edges, 70,255, cv2.THRESH_BINARY_INV)\n",
    "    return mask\n",
    "cap = cv2.VideoCapture(0)\n",
    "\n",
    "while True:\n",
    "    ret, frame = cap.read()\n",
    "    cv2.imshow(\"Show my Live Sketch\", sketch(frame))\n",
    "    if cv2.waitKey(1)==13:\n",
    "        break \n",
    "cap.release()\n",
    "cv2.destroyAllWindows()    \n"
   ]
  },
  {
   "cell_type": "code",
   "execution_count": null,
   "id": "6b2da4bf-25d3-4af2-a722-dc1b2d603828",
   "metadata": {},
   "outputs": [],
   "source": []
  }
 ],
 "metadata": {
  "kernelspec": {
   "display_name": "Python 3 (ipykernel)",
   "language": "python",
   "name": "python3"
  },
  "language_info": {
   "codemirror_mode": {
    "name": "ipython",
    "version": 3
   },
   "file_extension": ".py",
   "mimetype": "text/x-python",
   "name": "python",
   "nbconvert_exporter": "python",
   "pygments_lexer": "ipython3",
   "version": "3.12.6"
  }
 },
 "nbformat": 4,
 "nbformat_minor": 5
}
