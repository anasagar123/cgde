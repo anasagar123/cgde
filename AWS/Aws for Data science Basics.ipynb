{
 "cells": [
  {
   "cell_type": "code",
   "execution_count": 1,
   "id": "61f0d747-7c10-4f14-981a-ec06f695bdcb",
   "metadata": {},
   "outputs": [],
   "source": [
    "# 1. What & Why of cloud computing.\n",
    "# 2. Why we are learning AWS?\n",
    "# 3. public vs private vs hybrid cloud.\n",
    "# 4. creating your aws account.\n",
    "# 5. storing your first file in cloud.\n",
    "# 6. Accessing your file via browser."
   ]
  },
  {
   "cell_type": "code",
   "execution_count": 2,
   "id": "c74b2a70-6b05-43d0-b10f-b9233b6e8034",
   "metadata": {},
   "outputs": [],
   "source": [
    "# 1. What & Why of cloud computing?\n",
    "# ANS :- You give money, I take care of your IT.\n",
    "#          without owning or managing the physical infrastructure, cloud computing provides storage,server and applications etc.\n",
    "#          It is scalability, cost-effectiveness, flexibility, and accessibility. "
   ]
  },
  {
   "cell_type": "code",
   "execution_count": 3,
   "id": "6a0a14e7-1b80-4e9c-9f45-3c4118db194a",
   "metadata": {},
   "outputs": [],
   "source": [
    "# 2. Why we are learning AWS?\n",
    "# ANS : because one third of the company using AWS cloud computing and it is very easy to use."
   ]
  },
  {
   "cell_type": "code",
   "execution_count": 4,
   "id": "9a753669-5bc9-4467-85bd-cc1fa8dff6ad",
   "metadata": {},
   "outputs": [],
   "source": [
    "# 3. public vs private vs hybrid cloud.\n",
    "\n",
    "# Public Cloud - A cloud computing model where resources (servers, storage, and applications) are owned and managed by third-party cloud service providers.\n",
    "#                   Examples: AWS, Microsoft Azure, Google Cloud Platform (GCP).\n",
    "\n",
    "# Private Cloud - A cloud computing environment dedicated to a single organization.\n",
    "#                  Examples: VMware Private Cloud, OpenStack, Microsoft Azure Stack.\n",
    "\n",
    "# Hybrid Cloud - A combination of public and private cloud environments, allowing data and applications to be shared between them.\n",
    "#                 Examples: AWS Outposts, Microsoft Azure Hybrid Cloud, Google Anthos"
   ]
  },
  {
   "cell_type": "code",
   "execution_count": 5,
   "id": "05816380-c4bc-44f0-ae3c-9d04e6c8a9b6",
   "metadata": {},
   "outputs": [],
   "source": [
    "# 1. 1. Infrastructure as a Service (IaaS) - Provides virtualized computing resources over the internet, such as virtual machines, storage, networking, and operating systems.\n",
    "     #                                       Examples: AWS EC2, Microsoft Azure Virtual Machines, Google Compute Engine.\n",
    "\n",
    "# 2. Platform as a Service (PaaS) - Provides a platform with pre-configured infrastructure, development tools, and runtime environments to build, test, and deploy applications.\n",
    "#                                   Example : Google App Engine, AWS Elastic Beanstalk, Microsoft Azure App Services.\n",
    "\n",
    "# 3. Software as a Service (SaaS) - Delivers fully managed software applications over the internet, eliminating the need for installation or maintenance.\n",
    "#                                   Examples: Google Workspace (Docs, Gmail, Drive), Microsoft Office 365, Dropbox, Salesforce."
   ]
  },
  {
   "cell_type": "markdown",
   "id": "20a6b7ac-2992-45fb-8458-cf19eca36676",
   "metadata": {},
   "source": [
    "**STORAGE**"
   ]
  },
  {
   "cell_type": "code",
   "execution_count": null,
   "id": "b0a503a6-5495-4bf0-89eb-2c68dc7be0ba",
   "metadata": {},
   "outputs": [],
   "source": [
    "# S3(Simple Storage Service) "
   ]
  },
  {
   "cell_type": "code",
   "execution_count": 6,
   "id": "ae8f7700-b6dd-43d4-b411-b2c041cd1b67",
   "metadata": {},
   "outputs": [],
   "source": [
    "# S3 = first create bucket then upload data or object(any type of data) "
   ]
  },
  {
   "cell_type": "code",
   "execution_count": 8,
   "id": "d0e6d35b-639b-4d1e-b4c4-5998c649d54a",
   "metadata": {},
   "outputs": [],
   "source": [
    "   # Most of the time three storage services uses :\n",
    "    # (i) EBS (Elastic Block Store) - Take a machine on rent from amazon, amazon will give some space with that machine, that space is EBS. \n",
    "    # (ii) EFS (Elastic File System) - Buy some space which can be used by multiple space in a network, that is EFS.\n",
    "    # (iii) S3 (Simple Storage Service) - S3 is used for common repository"
   ]
  },
  {
   "cell_type": "markdown",
   "id": "b547560a-ff18-4b1a-8f04-908bbc3802c4",
   "metadata": {},
   "source": [
    "**EC2 (Elastic Compute Cloud)**"
   ]
  },
  {
   "cell_type": "code",
   "execution_count": 11,
   "id": "ecca9a89-d934-4a25-b042-d0688d2ac5fb",
   "metadata": {},
   "outputs": [],
   "source": [
    "# (i) What is Elastic computing & EC2.\n",
    "# (ii) How to create EC2 instance.\n",
    "# (iii) How to login to EC2 instance.\n",
    "# (iv) Using putty & winscp\n",
    "# (v) Doing operation in EC2.\n",
    "# (vi) Stopping EC2 instance."
   ]
  },
  {
   "cell_type": "code",
   "execution_count": 12,
   "id": "7200cf16-ce82-439c-9bbd-e65919c20688",
   "metadata": {},
   "outputs": [],
   "source": [
    "# Amazon EC2 (Elastic Compute Cloud) is a cloud-based virtual server that provides scalable computing capacity to run \n",
    "# applications on AWS. It allows users to launch and manage virtual machines (instances) without investing in\n",
    "# physical hardware."
   ]
  },
  {
   "cell_type": "code",
   "execution_count": 13,
   "id": "47255a36-b325-4852-a63a-fbb0cb267f64",
   "metadata": {},
   "outputs": [],
   "source": [
    "# (i) What is Elastic computing & EC2.\n",
    "# ANS : want to do small work, resources(money) used will be small.\n",
    "#       want to do large work, resources(money) used will be large.\n",
    "#      No need to worry about set any setting, this whole property known as elastic computing."
   ]
  },
  {
   "cell_type": "markdown",
   "id": "eba3eef9-4a51-495c-aac9-736b970e1597",
   "metadata": {},
   "source": [
    " **Deploying Application in AWS**"
   ]
  },
  {
   "cell_type": "code",
   "execution_count": 1,
   "id": "714a3b85-6e25-4f82-bd26-364b3976c1af",
   "metadata": {},
   "outputs": [],
   "source": [
    "# (1) Understanding Basics\n",
    "# (ii) Overview of Application\n",
    "# (iii) Deployment in local machine\n",
    "# (iv) Migration and deployment in AWS\n",
    "# (v) Using application from open internet\n",
    "# (vi) Shutting down application"
   ]
  },
  {
   "cell_type": "markdown",
   "id": "440c2c16-fbe4-4823-9ee6-b52f111ed833",
   "metadata": {},
   "source": [
    "**AWS Segmeker**"
   ]
  },
  {
   "cell_type": "code",
   "execution_count": 2,
   "id": "afa76e84-0d23-428f-8407-c6c6479e2c6c",
   "metadata": {},
   "outputs": [],
   "source": [
    "# (i) What is Segemaker.\n",
    "# (ii) Various features of segemaker.\n",
    "# (iii) Notebook instance vs studio.\n",
    "# (iv) Launching studio and NB instance.\n",
    "# (v) Being careful about charges."
   ]
  },
  {
   "cell_type": "code",
   "execution_count": null,
   "id": "9a781191-ddbd-4c5c-8854-513ddeb1f8e7",
   "metadata": {},
   "outputs": [],
   "source": []
  },
  {
   "cell_type": "code",
   "execution_count": null,
   "id": "5104d4cb-8aee-442f-bde9-f241f5178709",
   "metadata": {},
   "outputs": [],
   "source": []
  },
  {
   "cell_type": "code",
   "execution_count": null,
   "id": "b60efb94-fae0-4a07-8f2a-7007a3f86d4f",
   "metadata": {},
   "outputs": [],
   "source": []
  },
  {
   "cell_type": "code",
   "execution_count": null,
   "id": "ee9cc8bc-d1dd-436e-ad5f-ff111316f207",
   "metadata": {},
   "outputs": [],
   "source": []
  },
  {
   "cell_type": "code",
   "execution_count": null,
   "id": "f93b7957-a599-428d-8c47-28568cb22dc7",
   "metadata": {},
   "outputs": [],
   "source": []
  },
  {
   "cell_type": "code",
   "execution_count": null,
   "id": "8ccfcb4f-7043-46b9-a0b9-c9c9542ec631",
   "metadata": {},
   "outputs": [],
   "source": []
  }
 ],
 "metadata": {
  "kernelspec": {
   "display_name": "Python 3 (ipykernel)",
   "language": "python",
   "name": "python3"
  },
  "language_info": {
   "codemirror_mode": {
    "name": "ipython",
    "version": 3
   },
   "file_extension": ".py",
   "mimetype": "text/x-python",
   "name": "python",
   "nbconvert_exporter": "python",
   "pygments_lexer": "ipython3",
   "version": "3.12.6"
  }
 },
 "nbformat": 4,
 "nbformat_minor": 5
}
