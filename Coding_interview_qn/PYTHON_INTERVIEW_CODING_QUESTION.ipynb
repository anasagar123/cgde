{
 "cells": [
  {
   "cell_type": "code",
   "execution_count": 2,
   "id": "5cdf34bc",
   "metadata": {},
   "outputs": [
    {
     "name": "stdout",
     "output_type": "stream",
     "text": [
      "[3, 3]\n",
      "[3, 3]\n",
      "[2, 4]\n",
      "[3, 3]\n",
      "[7, -1]\n",
      "[7, -1]\n",
      "[9, -3]\n"
     ]
    }
   ],
   "source": [
    "nums = [3,2,4,3,7,1,7,-1,9,3,-3]\n",
    "target = 6\n",
    "for i in range(len(nums)):\n",
    "    for j in range(i+1,len(nums)):\n",
    "        if nums[i]+nums[j]==target:\n",
    "#             L.append(i)\n",
    "            print([nums[i],nums[j]])\n",
    "            "
   ]
  },
  {
   "cell_type": "code",
   "execution_count": 31,
   "id": "730ace2b-fdee-4c12-8145-3169276b8667",
   "metadata": {},
   "outputs": [
    {
     "name": "stdin",
     "output_type": "stream",
     "text": [
      "enter the num -675\n"
     ]
    },
    {
     "name": "stdout",
     "output_type": "stream",
     "text": [
      "-576\n"
     ]
    }
   ],
   "source": [
    "input1=123\n",
    "output=321\n",
    "\n",
    "input2=-123\n",
    "output=-321\n",
    "\n",
    "dd=int(input(\"enter the num\"))\n",
    "if dd>0:\n",
    "    mm=int(str(dd)[::-1])\n",
    "    print(mm)\n",
    "elif dd<0:\n",
    "    hh=int(str(abs(dd))[::-1])\n",
    "    print(-hh)"
   ]
  },
  {
   "cell_type": "code",
   "execution_count": 55,
   "id": "45e4d5b5",
   "metadata": {},
   "outputs": [
    {
     "name": "stdout",
     "output_type": "stream",
     "text": [
      "True\n",
      "True\n",
      "True\n"
     ]
    }
   ],
   "source": [
    "# Input: \n",
    "x = 121\n",
    "# Output: \n",
    "# true\n",
    "# Explanation: 121 reads as 121 from left to right and from right to left.\n",
    "\n",
    "str1=str(x)\n",
    "for i in str1:\n",
    "    if str1==str1[::-1]:\n",
    "        print(\"True\")\n",
    "    else:\n",
    "        print(\"False\")\n",
    "    "
   ]
  },
  {
   "cell_type": "code",
   "execution_count": 2,
   "id": "666ce7f4",
   "metadata": {},
   "outputs": [
    {
     "name": "stdout",
     "output_type": "stream",
     "text": [
      "-321\n"
     ]
    }
   ],
   "source": [
    "# Example 1:\n",
    "\n",
    "# Input: x = 123\n",
    "# Output: 321\n",
    "    \n",
    "# Example 2:\n",
    "\n",
    "# Input: x = -123\n",
    "# Output: -321\n",
    "\n",
    "x=-123\n",
    "if x>0:\n",
    "    ss=str(x)[::-1]\n",
    "    print(int(ss))\n",
    "if x<0:\n",
    "    hh=int(str(abs(x))[::-1])\n",
    "    print(-hh)"
   ]
  },
  {
   "cell_type": "code",
   "execution_count": 13,
   "id": "2de9bebb",
   "metadata": {},
   "outputs": [
    {
     "name": "stdout",
     "output_type": "stream",
     "text": [
      "[7, 0, 8]\n"
     ]
    }
   ],
   "source": [
    "l1 = [2,4,3]\n",
    "l2 = [5,6,4]\n",
    "Output= [7,0,8]\n",
    "# Explanation: 342 + 465 = 807.\n",
    "\n",
    "ss=int(\"\".join(map(str,l1[::-1])))\n",
    "hh=int(\"\".join(map(str,l2[::-1])))\n",
    "total=ss+hh\n",
    "kk=[]\n",
    "for i in str(total):\n",
    "    kk.append(int(i))\n",
    "print(kk[::-1])\n",
    "    "
   ]
  },
  {
   "cell_type": "code",
   "execution_count": 5,
   "id": "579c09a7-8cf4-4800-9696-68c98208e099",
   "metadata": {},
   "outputs": [
    {
     "data": {
      "text/plain": [
       "[7, 10, 7]"
      ]
     },
     "execution_count": 5,
     "metadata": {},
     "output_type": "execute_result"
    }
   ],
   "source": [
    "list(map(lambda x,y:x+y,[2,4,3],[5,6,4]))"
   ]
  },
  {
   "cell_type": "code",
   "execution_count": 113,
   "id": "33a67927-b746-44e8-b2c5-e400f212902e",
   "metadata": {},
   "outputs": [
    {
     "data": {
      "text/plain": [
       "[2, 4, 3, 5, 6, 4]"
      ]
     },
     "execution_count": 113,
     "metadata": {},
     "output_type": "execute_result"
    }
   ],
   "source": [
    "hh=ss+ss1\n",
    "hh"
   ]
  },
  {
   "cell_type": "code",
   "execution_count": 23,
   "id": "d246a875-f4fb-43ac-8229-d7556fc5a0df",
   "metadata": {},
   "outputs": [
    {
     "name": "stdin",
     "output_type": "stream",
     "text": [
      "enter the number 20\n"
     ]
    },
    {
     "name": "stdout",
     "output_type": "stream",
     "text": [
      "20 is not a prime number\n"
     ]
    }
   ],
   "source": [
    "ss=int(input(\"enter the number\"))\n",
    "if ss>1:\n",
    "    for i in range(2,ss):\n",
    "        if ss%i==0:\n",
    "            print(ss,\"is not a prime number\")\n",
    "            break\n",
    "    else:\n",
    "        print(ss,\"is a prime number\")\n",
    "else:\n",
    "    print(ss,\"is not a prime number\")\n",
    "    "
   ]
  },
  {
   "cell_type": "code",
   "execution_count": null,
   "id": "9ec7c80d",
   "metadata": {},
   "outputs": [],
   "source": [
    "# Write a Python program to check if a string is a palindrome.\n",
    "# Write a Python program to find the factorial of a number.\n",
    "# Write a Python program to find the largest element in a list.\n",
    "# Write a Python program to reverse a string.\n",
    "# Write a Python program to count the frequency of each element in a list.\n",
    "# Write a Python program to check if a number is prime.\n",
    "# Write a Python program to find the common elements between two lists.\n",
    "# Write a Python program to sort a list of elements using the bubble sort algorithm.\n",
    "# Write a Python program to find the second largest number in a list.\n",
    "# Write a Python program to remove duplicates from a list.\n"
   ]
  },
  {
   "cell_type": "code",
   "execution_count": 6,
   "id": "9b45a3be-6073-49d6-abee-aab234a1ce37",
   "metadata": {},
   "outputs": [
    {
     "name": "stdout",
     "output_type": "stream",
     "text": [
      "[2, 3, 1, 4, 5, 7, 8]\n"
     ]
    }
   ],
   "source": [
    "# Write a Python program to remove duplicates from a list.\n",
    "ss=[2,3,1,2,4,5,4,5,7,8]\n",
    "hh=[]\n",
    "for i in ss:\n",
    "    if i not in hh:\n",
    "        hh.append(i)\n",
    "print(hh)"
   ]
  },
  {
   "cell_type": "code",
   "execution_count": 10,
   "id": "7f41cc2e-9670-45b6-84aa-f31731e1fa80",
   "metadata": {},
   "outputs": [
    {
     "name": "stdout",
     "output_type": "stream",
     "text": [
      "[2, 4, 5]\n"
     ]
    }
   ],
   "source": [
    "# Find duplicates\n",
    "dd=[]\n",
    "for i in ss:\n",
    "    if ss.count(i)>1 and i not in dd:\n",
    "        dd.append(i)\n",
    "print(dd)"
   ]
  },
  {
   "cell_type": "code",
   "execution_count": 18,
   "id": "ae608978-7fe4-4626-a5ee-4431c137177f",
   "metadata": {},
   "outputs": [
    {
     "name": "stdout",
     "output_type": "stream",
     "text": [
      "{1: 1, 2: 8, 3: 27, 4: 64}\n"
     ]
    }
   ],
   "source": [
    "ee=[1,2,3,4,1]\n",
    "\n",
    "dd={}\n",
    "for i in ee:\n",
    "    dd[i]=(i**3)\n",
    "print(dd)\n",
    "    "
   ]
  },
  {
   "cell_type": "code",
   "execution_count": null,
   "id": "81d4ea28-e88f-444e-855b-7e1cb194494c",
   "metadata": {},
   "outputs": [],
   "source": []
  },
  {
   "cell_type": "code",
   "execution_count": 46,
   "id": "c5f7896e-5123-4257-895e-848d39197e34",
   "metadata": {},
   "outputs": [
    {
     "name": "stdout",
     "output_type": "stream",
     "text": [
      "[2, 3]\n"
     ]
    }
   ],
   "source": [
    "nums = [3,2,1,5]\n",
    "target = 6\n",
    "\n",
    "ppl=[]\n",
    "for i in range(len(nums)):\n",
    "    for j in range(i+1,len(nums)):\n",
    "        if nums[i]+nums[j]==target:\n",
    "            print([i,j])"
   ]
  },
  {
   "cell_type": "code",
   "execution_count": 50,
   "id": "84ffdf47-d5aa-4ff1-8954-9d7b663b6516",
   "metadata": {},
   "outputs": [
    {
     "name": "stdout",
     "output_type": "stream",
     "text": [
      "<class 'float'>\n"
     ]
    }
   ],
   "source": [
    "# convert a integer into decimal\n",
    "\n",
    "int = 10\n",
    "ss = float(10)\n",
    "print(type(ss))\n"
   ]
  },
  {
   "cell_type": "code",
   "execution_count": 62,
   "id": "d0139898-27dd-47b9-a9f6-43f5c662ae9f",
   "metadata": {},
   "outputs": [
    {
     "data": {
      "text/plain": [
       "123.0"
      ]
     },
     "execution_count": 62,
     "metadata": {},
     "output_type": "execute_result"
    }
   ],
   "source": [
    "# Convert a string of integer into a float.\n",
    "x='123'\n",
    "float(x)\n"
   ]
  },
  {
   "cell_type": "code",
   "execution_count": 65,
   "id": "da0a59b5-c60c-4de0-90a4-b406302949c9",
   "metadata": {},
   "outputs": [
    {
     "name": "stdout",
     "output_type": "stream",
     "text": [
      "amadam\n"
     ]
    }
   ],
   "source": [
    "# Reverse a string\n",
    "x='madama'\n",
    "ss=x[::-1]\n",
    "print(ss)"
   ]
  },
  {
   "cell_type": "code",
   "execution_count": 13,
   "id": "deb0fd2e-edba-4ac2-84a3-f9b5cec0ff68",
   "metadata": {},
   "outputs": [
    {
     "name": "stdout",
     "output_type": "stream",
     "text": [
      "6\n"
     ]
    }
   ],
   "source": [
    "# Counting vowel in a given word\n",
    "word = 'prougraammiing'\n",
    "\n",
    "v=['a','e','i','o','u']\n",
    "count = 0\n",
    "for i in word:\n",
    "    if i in v:\n",
    "        count+=1\n",
    "print(count)"
   ]
  },
  {
   "cell_type": "code",
   "execution_count": null,
   "id": "90fce16d-b1a4-4e2d-8e70-921c46f15871",
   "metadata": {},
   "outputs": [],
   "source": []
  },
  {
   "cell_type": "code",
   "execution_count": 84,
   "id": "253a6551-5704-4d57-848c-1776127ab1f3",
   "metadata": {},
   "outputs": [
    {
     "name": "stdout",
     "output_type": "stream",
     "text": [
      "{'o': 1, 'u': 1, 'a': 2, 'i': 2}\n"
     ]
    }
   ],
   "source": [
    "# count each vowels in word\n",
    "dd={}\n",
    "for i in word:\n",
    "    if i in v:\n",
    "        dd[i]=word.count(i)\n",
    "print(dd)\n",
    "    "
   ]
  },
  {
   "cell_type": "code",
   "execution_count": 12,
   "id": "f35f6cf4-c82b-46af-8aed-0dafa14b74f9",
   "metadata": {},
   "outputs": [
    {
     "name": "stdout",
     "output_type": "stream",
     "text": [
      "2\n"
     ]
    }
   ],
   "source": [
    "# Counting the number of occurances of a character in a string.\n",
    "word = 'programming'\n",
    "charc ='g'\n",
    "\n",
    "count=0\n",
    "for i in word:\n",
    "    if i in charc:\n",
    "        count+=1\n",
    "print(count)"
   ]
  },
  {
   "cell_type": "code",
   "execution_count": null,
   "id": "fc85478d-bf8e-49e0-b0bc-b8511d96b614",
   "metadata": {},
   "outputs": [],
   "source": []
  },
  {
   "cell_type": "code",
   "execution_count": 1,
   "id": "70d86806-62cc-4e3f-935f-8369f9324979",
   "metadata": {},
   "outputs": [
    {
     "name": "stdout",
     "output_type": "stream",
     "text": [
      "[0, 1, 1, 2, 3, 5, 8, 13, 21, 34, 55, 89]\n"
     ]
    }
   ],
   "source": [
    "# write the fibonacci series.\n",
    "# fibonacci series = 0,1,1,2,3,5,8\n",
    "\n",
    "fib = [0,1]\n",
    "\n",
    "for i in range(10):\n",
    "    fib.append(fib[-1]+fib[-2])\n",
    "print(fib)\n",
    "\n",
    "# for i in fib:\n",
    "#     print(i,end=\",\")"
   ]
  },
  {
   "cell_type": "code",
   "execution_count": 266,
   "id": "4ea7761b-e6c7-4723-960e-d11dff90c628",
   "metadata": {},
   "outputs": [
    {
     "name": "stdout",
     "output_type": "stream",
     "text": [
      "1092\n"
     ]
    }
   ],
   "source": [
    "ss = [3,34,2,55,21, 1092,34, 55, 91,89]\n",
    "\n",
    "dd=ss[0]\n",
    "for i in ss:\n",
    "    if i>dd:\n",
    "        dd=i\n",
    "print(dd)"
   ]
  },
  {
   "cell_type": "code",
   "execution_count": null,
   "id": "c2216355-6fe9-4523-ad14-7ee039597b92",
   "metadata": {},
   "outputs": [],
   "source": []
  },
  {
   "cell_type": "code",
   "execution_count": 10,
   "id": "37af7e70-f85e-445e-bed5-3504ffc5a566",
   "metadata": {},
   "outputs": [
    {
     "name": "stdout",
     "output_type": "stream",
     "text": [
      "2\n"
     ]
    }
   ],
   "source": [
    "# Find the minimum number in the list\n",
    "ss = [3,34,2,55,21, 1092,34, 55, 91,89]\n",
    "\n",
    "dd=ss[0]\n",
    "for i in ss:\n",
    "    if dd>i:\n",
    "        dd=i\n",
    "print(dd)"
   ]
  },
  {
   "cell_type": "code",
   "execution_count": 17,
   "id": "aa634238-8a61-4281-8729-ee278b84b9a4",
   "metadata": {},
   "outputs": [
    {
     "data": {
      "text/plain": [
       "1092"
      ]
     },
     "execution_count": 17,
     "metadata": {},
     "output_type": "execute_result"
    }
   ],
   "source": [
    "# find middle element in list\n",
    "ss = [3,34,2,55,21, 1092,34, 55, 91,89]\n",
    "ss[len(ss)//2]"
   ]
  },
  {
   "cell_type": "code",
   "execution_count": 16,
   "id": "923a9d50-f1a7-4049-aff0-cc20c13365cc",
   "metadata": {},
   "outputs": [
    {
     "data": {
      "text/plain": [
       "'python'"
      ]
     },
     "execution_count": 16,
     "metadata": {},
     "output_type": "execute_result"
    }
   ],
   "source": [
    "# convert a list into a string\n",
    "\n",
    "ss = ['p','y','t','h','o','n']\n",
    "\n",
    "tt=\"\".join(ss)\n",
    "tt"
   ]
  },
  {
   "cell_type": "code",
   "execution_count": 24,
   "id": "f2177de8-0da4-48e8-ac5f-f12b359de45c",
   "metadata": {},
   "outputs": [
    {
     "data": {
      "text/plain": [
       "[5, 7, 9]"
      ]
     },
     "execution_count": 24,
     "metadata": {},
     "output_type": "execute_result"
    }
   ],
   "source": [
    "list(map(lambda x,y:x+y,[1,2,3],[4,5,6]))"
   ]
  },
  {
   "cell_type": "code",
   "execution_count": 174,
   "id": "d09f5570-d601-49cc-bacf-9df9e813736e",
   "metadata": {},
   "outputs": [
    {
     "data": {
      "text/plain": [
       "[9, 17, 23, 20]"
      ]
     },
     "execution_count": 174,
     "metadata": {},
     "output_type": "execute_result"
    }
   ],
   "source": [
    "# Adding two list together\n",
    "\n",
    "list(map(lambda x,y:x+y,[2,5,12,5],[7,12,11,15]))"
   ]
  },
  {
   "cell_type": "code",
   "execution_count": 23,
   "id": "9a18e1d7-e8b6-4cda-a251-1caa56598edf",
   "metadata": {},
   "outputs": [
    {
     "data": {
      "text/plain": [
       "[1, 9, 17, 20, 23]"
      ]
     },
     "execution_count": 23,
     "metadata": {},
     "output_type": "execute_result"
    }
   ],
   "source": [
    "ss=[9,17,23,1,20]\n",
    "dd=sorted(ss)\n",
    "dd"
   ]
  },
  {
   "cell_type": "code",
   "execution_count": 34,
   "id": "6a2def42-342f-47b6-8fe6-78f7bb6b96cf",
   "metadata": {},
   "outputs": [
    {
     "name": "stdout",
     "output_type": "stream",
     "text": [
      "[9, 7, 5, 2, 1]\n"
     ]
    }
   ],
   "source": [
    "num_list = [5, 2, 9, 1, 7]\n",
    "\n",
    "# Using sort() - In-Place Sorting\n",
    "num_list.sort(reverse=True)\n",
    "print(num_list)\n",
    "# sorted(num_list)"
   ]
  },
  {
   "cell_type": "code",
   "execution_count": 186,
   "id": "bae1eb00-ad85-43c9-9294-3beb03f32e0d",
   "metadata": {},
   "outputs": [
    {
     "name": "stdout",
     "output_type": "stream",
     "text": [
      "anagram\n"
     ]
    }
   ],
   "source": [
    "# Comparing two string is Anagram\n",
    "\n",
    "tt = \"listEn\"\n",
    "hh=\"silent\"\n",
    "\n",
    "if sorted(tt.lower())==sorted(hh.lower()):\n",
    "    print(\"anagram\")\n",
    "else:\n",
    "    print(\"not anagram\")"
   ]
  },
  {
   "cell_type": "code",
   "execution_count": 187,
   "id": "197af7ce-1624-4d05-8401-37525218d1cf",
   "metadata": {},
   "outputs": [
    {
     "name": "stdout",
     "output_type": "stream",
     "text": [
      "palindrome\n"
     ]
    }
   ],
   "source": [
    "# Checking Palindrome\n",
    "\n",
    "ss=\"kayak\"\n",
    "if ss==ss[::-1]:\n",
    "    print(\"palindrome\")\n",
    "else:\n",
    "    print(\"not palindrome\")"
   ]
  },
  {
   "cell_type": "code",
   "execution_count": 117,
   "id": "4fb2930f-6b6f-4fdf-a762-9cbb367f5eec",
   "metadata": {},
   "outputs": [
    {
     "name": "stdout",
     "output_type": "stream",
     "text": [
      "4\n"
     ]
    }
   ],
   "source": [
    "# Count whitespace in String\n",
    "\n",
    "ss = \"asfg eyj eyh jn e\"\n",
    "\n",
    "count = 0\n",
    "tt=\" \"\n",
    "for i in ss:\n",
    "    if tt in i:\n",
    "        count+=1\n",
    "print(count)\n",
    "    "
   ]
  },
  {
   "cell_type": "code",
   "execution_count": 119,
   "id": "0172b0dc-6e7c-44b9-9738-0a23c6cee619",
   "metadata": {},
   "outputs": [
    {
     "name": "stdout",
     "output_type": "stream",
     "text": [
      "4\n"
     ]
    }
   ],
   "source": [
    "count=0\n",
    "for i in ss:\n",
    "    if i in tt:\n",
    "        count+=1\n",
    "print(count)"
   ]
  },
  {
   "cell_type": "code",
   "execution_count": 208,
   "id": "4d84d4d9-6d42-4133-a61e-01501b379465",
   "metadata": {},
   "outputs": [],
   "source": [
    "# Counting digit,letter and spaces in a String.\n",
    "ss = \"prohyta5473 try wwecd7839 \"\n",
    "# digit = [0,1,2,3,4,5,6,7,8,9]\n",
    "# space = \" \"\n",
    "# letter = [\"^a-zA-z\"]\n",
    "\n",
    "\n",
    "def cnt(s):\n",
    "    digit=0\n",
    "    space=0\n",
    "    letter=0\n",
    "    for i in ss:\n",
    "        if i.isdigit():\n",
    "            digit+=1\n",
    "        elif i.isspace():\n",
    "            space+=1\n",
    "        elif i.isalpha():\n",
    "            letter+=1\n",
    "    return digit,space,letter"
   ]
  },
  {
   "cell_type": "code",
   "execution_count": 209,
   "id": "0aa3d28e-997e-4ca2-aed4-d45ed7e24ba9",
   "metadata": {},
   "outputs": [
    {
     "data": {
      "text/plain": [
       "(8, 3, 15)"
      ]
     },
     "execution_count": 209,
     "metadata": {},
     "output_type": "execute_result"
    }
   ],
   "source": [
    "cnt(\"prohyta5473 try wwecd7839 \")"
   ]
  },
  {
   "cell_type": "code",
   "execution_count": 121,
   "id": "4e17391c-4601-43a4-925e-2fa14b75cd33",
   "metadata": {},
   "outputs": [
    {
     "data": {
      "text/plain": [
       "'prohyta5473 try wwecd7839 '"
      ]
     },
     "execution_count": 121,
     "metadata": {},
     "output_type": "execute_result"
    }
   ],
   "source": [
    "# Remove all white spaces in a string\n",
    "ss = \"prohyta5473 try wwecd7839 \"\n",
    "\n",
    "# ss.replace(\" \",\"\")\n",
    "\"\".join(ss)\n"
   ]
  },
  {
   "cell_type": "code",
   "execution_count": 215,
   "id": "06bbe9ef-61ad-4252-a9a0-e927feec6c7b",
   "metadata": {},
   "outputs": [
    {
     "name": "stdout",
     "output_type": "stream",
     "text": [
      "prohyta5473trywwecd7839"
     ]
    }
   ],
   "source": [
    "for i in ss.split(\" \"):\n",
    "    tt=\"\".join(i)\n",
    "    print(tt,end=\"\")"
   ]
  },
  {
   "cell_type": "code",
   "execution_count": 1,
   "id": "69f95661-8dc5-444f-86cf-e5791d451dfb",
   "metadata": {},
   "outputs": [
    {
     "name": "stdout",
     "output_type": "stream",
     "text": [
      "     *\n",
      "    ***\n",
      "   *****\n",
      "  *******\n",
      " *********\n"
     ]
    }
   ],
   "source": [
    "# Building a Pyramid in Python.\n",
    "\n",
    "for i in range(5):\n",
    "    for j in range(i,5):\n",
    "        print(\" \",end=\"\")\n",
    "    for j in range(i+1):\n",
    "        print(\"*\",end=\"\")\n",
    "    for j in range(i):\n",
    "        print(\"*\",end=\"\")\n",
    "    print(\"\")\n"
   ]
  },
  {
   "cell_type": "code",
   "execution_count": 4,
   "id": "cd509dc5-c0c7-4e8c-ae51-3b67a1379072",
   "metadata": {},
   "outputs": [
    {
     "name": "stdout",
     "output_type": "stream",
     "text": [
      "     *\n",
      "    **\n",
      "   ***\n",
      "  ****\n",
      " *****\n"
     ]
    }
   ],
   "source": [
    "for i in range(5):\n",
    "    for j in range(i,5):\n",
    "        print(\" \",end=\"\")\n",
    "    for j in range(i+1):\n",
    "        print(\"*\",end=\"\")\n",
    "    print(\"\")"
   ]
  },
  {
   "cell_type": "code",
   "execution_count": 5,
   "id": "95bada11-59e0-4d10-b130-ba42e93a785b",
   "metadata": {},
   "outputs": [
    {
     "name": "stdout",
     "output_type": "stream",
     "text": [
      "     "
     ]
    }
   ],
   "source": [
    "for i in range(5):\n",
    "    print(\" \",end=\"\")"
   ]
  },
  {
   "cell_type": "code",
   "execution_count": 16,
   "id": "1650ec3d-6dc8-4294-9aed-f43fe418a46e",
   "metadata": {},
   "outputs": [
    {
     "ename": "NameError",
     "evalue": "name 'is_prime' is not defined",
     "output_type": "error",
     "traceback": [
      "\u001b[1;31m---------------------------------------------------------------------------\u001b[0m",
      "\u001b[1;31mNameError\u001b[0m                                 Traceback (most recent call last)",
      "Cell \u001b[1;32mIn[16], line 3\u001b[0m\n\u001b[0;32m      1\u001b[0m dd\u001b[38;5;241m=\u001b[39m[]\n\u001b[0;32m      2\u001b[0m \u001b[38;5;28;01mfor\u001b[39;00m i \u001b[38;5;129;01min\u001b[39;00m \u001b[38;5;28mrange\u001b[39m(\u001b[38;5;241m2\u001b[39m,\u001b[38;5;241m50\u001b[39m):\n\u001b[1;32m----> 3\u001b[0m     \u001b[38;5;28;01mif\u001b[39;00m \u001b[43mis_prime\u001b[49m(i):\n\u001b[0;32m      4\u001b[0m         dd\u001b[38;5;241m.\u001b[39mappend(i)\n",
      "\u001b[1;31mNameError\u001b[0m: name 'is_prime' is not defined"
     ]
    }
   ],
   "source": [
    "dd=[]\n",
    "for i in range(2,50):\n",
    "    if is_prime(i):\n",
    "        dd.append(i)\n",
    "        "
   ]
  },
  {
   "cell_type": "code",
   "execution_count": 23,
   "id": "c2e19e44-9be6-4843-935c-07662861ab91",
   "metadata": {},
   "outputs": [],
   "source": [
    "def is_prime(number):\n",
    "    if number <= 1:\n",
    "        return False\n",
    "    if number == 2:\n",
    "        return True\n",
    "\n",
    "    for i in range(2, int(number ** 0.5) + 1):\n",
    "        if number % i == 0:\n",
    "            return False\n",
    "    return True"
   ]
  },
  {
   "cell_type": "code",
   "execution_count": 27,
   "id": "d0ee7bd2-9fa6-421e-b227-e2526714eee1",
   "metadata": {},
   "outputs": [
    {
     "data": {
      "text/plain": [
       "True"
      ]
     },
     "execution_count": 27,
     "metadata": {},
     "output_type": "execute_result"
    }
   ],
   "source": [
    "is_prime(23)"
   ]
  },
  {
   "cell_type": "code",
   "execution_count": 39,
   "id": "a3a9eff6-c4f4-4e03-b308-920fb3121294",
   "metadata": {},
   "outputs": [
    {
     "name": "stdout",
     "output_type": "stream",
     "text": [
      "[2, 3, 5, 7, 11, 13, 17, 19]\n"
     ]
    }
   ],
   "source": [
    "def is_prime(number):\n",
    "    if number <= 1:\n",
    "        return False\n",
    "    if number == 2:\n",
    "        return True\n",
    "\n",
    "    for i in range(2, int(number ** 0.5) + 1):\n",
    "        if number % i == 0:\n",
    "            return False\n",
    "    return True\n",
    "\n",
    "def prime_in_range(start, end):\n",
    "    primes = []\n",
    "    for num in range(start, end + 1):\n",
    "        if is_prime(num):  # Using the defined is_prime function\n",
    "            primes.append(num)\n",
    "    return primes\n",
    "\n",
    "# Calling the Function\n",
    "print(prime_in_range(1, 20))\n"
   ]
  },
  {
   "cell_type": "code",
   "execution_count": null,
   "id": "9fa3e997-0569-47e8-b63a-0118ba5269d3",
   "metadata": {},
   "outputs": [],
   "source": [
    "# Input: nums = [10,20,30,5,10,50]\n",
    "# Output: 60\n",
    "\n",
    "tt = ss[0]\n",
    "nums = [10,20,30,5,10,50]\n",
    "outp=65\n",
    "\n",
    "for i in nums:\n",
    "    if "
   ]
  },
  {
   "cell_type": "code",
   "execution_count": 123,
   "id": "a3c3fbdf-1700-417e-8545-a89bd851b40e",
   "metadata": {},
   "outputs": [
    {
     "name": "stdout",
     "output_type": "stream",
     "text": [
      "[7, 11]\n"
     ]
    }
   ],
   "source": [
    "nums = [2,7,11,15]\n",
    "target = 18\n",
    "# Output= [0,1]\n",
    "\n",
    "ss=[]\n",
    "for i in range(len(nums)):\n",
    "    for j in range(i+1,len(nums)):\n",
    "        if nums[i]+nums[j]==target:\n",
    "            print([nums[i],nums[j]])\n"
   ]
  },
  {
   "cell_type": "code",
   "execution_count": 63,
   "id": "1a664868-e900-4bed-a61d-8122fbe61396",
   "metadata": {},
   "outputs": [
    {
     "ename": "ValueError",
     "evalue": "invalid literal for int() with base 10: '121-'",
     "output_type": "error",
     "traceback": [
      "\u001b[1;31m---------------------------------------------------------------------------\u001b[0m",
      "\u001b[1;31mValueError\u001b[0m                                Traceback (most recent call last)",
      "Cell \u001b[1;32mIn[63], line 4\u001b[0m\n\u001b[0;32m      1\u001b[0m x \u001b[38;5;241m=\u001b[39m \u001b[38;5;241m-\u001b[39m\u001b[38;5;241m121\u001b[39m\n\u001b[0;32m      2\u001b[0m \u001b[38;5;66;03m# Output: true\u001b[39;00m\n\u001b[1;32m----> 4\u001b[0m \u001b[38;5;28;43mint\u001b[39;49m\u001b[43m(\u001b[49m\u001b[38;5;28;43mstr\u001b[39;49m\u001b[43m(\u001b[49m\u001b[43mx\u001b[49m\u001b[43m)\u001b[49m\u001b[43m[\u001b[49m\u001b[43m:\u001b[49m\u001b[43m:\u001b[49m\u001b[38;5;241;43m-\u001b[39;49m\u001b[38;5;241;43m1\u001b[39;49m\u001b[43m]\u001b[49m\u001b[43m)\u001b[49m\n",
      "\u001b[1;31mValueError\u001b[0m: invalid literal for int() with base 10: '121-'"
     ]
    }
   ],
   "source": [
    "x = -121\n",
    "# Output: true\n",
    "\n",
    "int(str(x)[::-1])"
   ]
  },
  {
   "cell_type": "code",
   "execution_count": null,
   "id": "88d920c7-f7fc-4889-a9b9-369a67bf14e3",
   "metadata": {},
   "outputs": [],
   "source": [
    "dd=[]\n",
    "for i in range(3):\n",
    "    name=str(input(\"enter the name\"))\n",
    "    age=int(input(\"ente the age\"))\n",
    "    dd.append({\"name\":name,\"age\":age})\n",
    "print(dd)\n",
    "hh=sorted(dd,key=lambda x:x[\"age\"])\n",
    "print(hh)"
   ]
  },
  {
   "cell_type": "code",
   "execution_count": 32,
   "id": "86d2d023-b7da-4e4c-8b6d-6829b94e82f1",
   "metadata": {},
   "outputs": [
    {
     "name": "stdout",
     "output_type": "stream",
     "text": [
      "[12, 21, 32, 12, 23, 43, 11]\n"
     ]
    }
   ],
   "source": [
    "input_list = [[12, 21, 32], [12, 23, 43, 11]]\n",
    "mm=[]\n",
    "# for i in input_list:\n",
    "#     if isinstance(i,list):\n",
    "#         mm.extend(i)\n",
    "#     else:\n",
    "#         mm.append(i)\n",
    "# print(mm)\n",
    "\n",
    "for i in input_list:\n",
    "    for j in i:\n",
    "        mm.append(j)\n",
    "print(mm)"
   ]
  },
  {
   "cell_type": "code",
   "execution_count": 48,
   "id": "0fb5d6c3-3b77-456b-8c6c-18551a734c07",
   "metadata": {},
   "outputs": [
    {
     "name": "stdout",
     "output_type": "stream",
     "text": [
      "[12, 21, 32, 12, 23, 43, 11]\n"
     ]
    }
   ],
   "source": [
    "input_list = [12, 21, 32, 12, [23, 43, 11]]\n",
    "output_list = []\n",
    "\n",
    "# Use a for loop to iterate over each item in the input list\n",
    "for item in input_list:\n",
    "    if isinstance(item, list):  # Check if the item is a list\n",
    "        output_list.extend(item)  # Add elements of the inner list to output_list\n",
    "    else:\n",
    "        output_list.append(item)  # Add the item to output_list\n",
    "\n",
    "print(output_list)\n"
   ]
  },
  {
   "cell_type": "code",
   "execution_count": null,
   "id": "ad866e4b-3fe8-48e5-aea7-21fb5b24fffb",
   "metadata": {},
   "outputs": [],
   "source": []
  },
  {
   "cell_type": "code",
   "execution_count": 65,
   "id": "565fe275-1b28-4a5a-89c9-5b42c0d611b2",
   "metadata": {},
   "outputs": [
    {
     "data": {
      "text/plain": [
       "'Hello world'"
      ]
     },
     "execution_count": 65,
     "metadata": {},
     "output_type": "execute_result"
    }
   ],
   "source": [
    "# Write a Python code to concatenate two strings.\n",
    "ss = \"Hello\"\n",
    "tt = \"world\"\n",
    "hh= ss+\" \"+tt\n",
    "hh"
   ]
  },
  {
   "cell_type": "code",
   "execution_count": 66,
   "id": "cb52ae13-a139-4721-82a2-b434ab8febd0",
   "metadata": {},
   "outputs": [],
   "source": [
    "# Write a Python program to find the maximum of three numbers.\n",
    "\n",
    "def max_three_numbers():\n",
    "    if a>=b and a>=c:\n",
    "        return a\n",
    "    elif b>=a and b>=c:\n",
    "        return b\n",
    "    else:\n",
    "        return c\n"
   ]
  },
  {
   "cell_type": "code",
   "execution_count": 68,
   "id": "43a29410-1a5e-4a78-9328-b2c10e3641e2",
   "metadata": {},
   "outputs": [
    {
     "ename": "TypeError",
     "evalue": "max_three_numbers() takes 0 positional arguments but 1 was given",
     "output_type": "error",
     "traceback": [
      "\u001b[1;31m---------------------------------------------------------------------------\u001b[0m",
      "\u001b[1;31mTypeError\u001b[0m                                 Traceback (most recent call last)",
      "Cell \u001b[1;32mIn[68], line 1\u001b[0m\n\u001b[1;32m----> 1\u001b[0m \u001b[43mmax_three_numbers\u001b[49m\u001b[43m(\u001b[49m\u001b[43m(\u001b[49m\u001b[38;5;241;43m12\u001b[39;49m\u001b[43m,\u001b[49m\u001b[38;5;241;43m21\u001b[39;49m\u001b[43m,\u001b[49m\u001b[38;5;241;43m34\u001b[39;49m\u001b[43m)\u001b[49m\u001b[43m)\u001b[49m\n",
      "\u001b[1;31mTypeError\u001b[0m: max_three_numbers() takes 0 positional arguments but 1 was given"
     ]
    }
   ],
   "source": [
    "max_three_numbers((12,21,34))"
   ]
  },
  {
   "cell_type": "code",
   "execution_count": 83,
   "id": "b52c448b-7b9b-4d24-81ad-a9fe1fb6fef7",
   "metadata": {},
   "outputs": [
    {
     "name": "stdout",
     "output_type": "stream",
     "text": [
      "10\n"
     ]
    }
   ],
   "source": [
    "hh = [10,21,23,43,99,67,85,11]\n",
    "\n",
    "ss=hh[0]\n",
    "\n",
    "for i in hh:\n",
    "    if i<ss:\n",
    "        ss=i\n",
    "print(ss)"
   ]
  },
  {
   "cell_type": "code",
   "execution_count": 87,
   "id": "b7e9f675-f685-4af1-b778-ed5e38e30549",
   "metadata": {},
   "outputs": [
    {
     "name": "stdout",
     "output_type": "stream",
     "text": [
      "190\n"
     ]
    }
   ],
   "source": [
    "sum=0\n",
    "for i in range(20):\n",
    "    sum=sum+i\n",
    "print(sum)"
   ]
  },
  {
   "cell_type": "code",
   "execution_count": 98,
   "id": "ac5686d8-8e8d-4355-99c6-793dabe10137",
   "metadata": {},
   "outputs": [
    {
     "data": {
      "text/plain": [
       "[3, 6, 9]"
      ]
     },
     "execution_count": 98,
     "metadata": {},
     "output_type": "execute_result"
    }
   ],
   "source": [
    "list(map(lambda x,y=3:x*y, [1,2,3]))"
   ]
  },
  {
   "cell_type": "code",
   "execution_count": 95,
   "id": "4f3729e5-ef3a-415c-ae4f-3b70af57fb16",
   "metadata": {},
   "outputs": [
    {
     "name": "stdout",
     "output_type": "stream",
     "text": [
      "[1, 2, 3, 4, 5, 6, 7, 8, 9]\n"
     ]
    }
   ],
   "source": [
    "# creating a list \n",
    "\n",
    "ss=[]\n",
    "for i in range(1,10):\n",
    "    ss.append(i)\n",
    "print(ss)"
   ]
  },
  {
   "cell_type": "code",
   "execution_count": 129,
   "id": "6932ad35-82c6-4759-9130-4bfe233ea2f9",
   "metadata": {},
   "outputs": [
    {
     "ename": "TypeError",
     "evalue": "'str' object is not callable",
     "output_type": "error",
     "traceback": [
      "\u001b[1;31m---------------------------------------------------------------------------\u001b[0m",
      "\u001b[1;31mTypeError\u001b[0m                                 Traceback (most recent call last)",
      "Cell \u001b[1;32mIn[129], line 3\u001b[0m\n\u001b[0;32m      1\u001b[0m ss\u001b[38;5;241m=\u001b[39m[]\n\u001b[0;32m      2\u001b[0m \u001b[38;5;28;01mfor\u001b[39;00m i \u001b[38;5;129;01min\u001b[39;00m \u001b[38;5;28mrange\u001b[39m(\u001b[38;5;241m2\u001b[39m):\n\u001b[1;32m----> 3\u001b[0m     name \u001b[38;5;241m=\u001b[39m \u001b[38;5;28;43minput\u001b[39;49m\u001b[43m(\u001b[49m\u001b[38;5;124;43m\"\u001b[39;49m\u001b[38;5;124;43menter the name :\u001b[39;49m\u001b[38;5;124;43m\"\u001b[39;49m\u001b[43m)\u001b[49m\n\u001b[0;32m      4\u001b[0m     age \u001b[38;5;241m=\u001b[39m \u001b[38;5;28mint\u001b[39m(\u001b[38;5;28minput\u001b[39m(\u001b[38;5;124m\"\u001b[39m\u001b[38;5;124menter the age\u001b[39m\u001b[38;5;124m\"\u001b[39m))\n\u001b[0;32m      5\u001b[0m     ss\u001b[38;5;241m.\u001b[39mappend({\u001b[38;5;124m\"\u001b[39m\u001b[38;5;124mname\u001b[39m\u001b[38;5;124m\"\u001b[39m:name,\u001b[38;5;124m\"\u001b[39m\u001b[38;5;124mage\u001b[39m\u001b[38;5;124m\"\u001b[39m:age})\n",
      "\u001b[1;31mTypeError\u001b[0m: 'str' object is not callable"
     ]
    }
   ],
   "source": [
    "ss=[]\n",
    "for i in range(2):\n",
    "    name = input(\"enter the name :\")\n",
    "    age = int(input(\"enter the age\"))\n",
    "    ss.append({\"name\":name,\"age\":age})\n",
    "print(ss)\n",
    "\n",
    "# sorted(ss,key = lambda x:x[\"age\"])"
   ]
  },
  {
   "cell_type": "code",
   "execution_count": 130,
   "id": "b666b7bf-205c-4af3-9acd-14a43234259a",
   "metadata": {},
   "outputs": [
    {
     "ename": "TypeError",
     "evalue": "'str' object is not callable",
     "output_type": "error",
     "traceback": [
      "\u001b[1;31m---------------------------------------------------------------------------\u001b[0m",
      "\u001b[1;31mTypeError\u001b[0m                                 Traceback (most recent call last)",
      "Cell \u001b[1;32mIn[130], line 3\u001b[0m\n\u001b[0;32m      1\u001b[0m ss \u001b[38;5;241m=\u001b[39m []\n\u001b[0;32m      2\u001b[0m \u001b[38;5;28;01mfor\u001b[39;00m i \u001b[38;5;129;01min\u001b[39;00m \u001b[38;5;28mrange\u001b[39m(\u001b[38;5;241m2\u001b[39m):\n\u001b[1;32m----> 3\u001b[0m     name \u001b[38;5;241m=\u001b[39m \u001b[38;5;28;43minput\u001b[39;49m\u001b[43m(\u001b[49m\u001b[38;5;124;43m\"\u001b[39;49m\u001b[38;5;124;43mEnter the name: \u001b[39;49m\u001b[38;5;124;43m\"\u001b[39;49m\u001b[43m)\u001b[49m   \u001b[38;5;66;03m# No need to wrap input in str(), it's already string\u001b[39;00m\n\u001b[0;32m      4\u001b[0m     age \u001b[38;5;241m=\u001b[39m \u001b[38;5;28mint\u001b[39m(\u001b[38;5;28minput\u001b[39m(\u001b[38;5;124m\"\u001b[39m\u001b[38;5;124mEnter the age: \u001b[39m\u001b[38;5;124m\"\u001b[39m))\n\u001b[0;32m      5\u001b[0m     ss\u001b[38;5;241m.\u001b[39mappend({\u001b[38;5;124m\"\u001b[39m\u001b[38;5;124mname\u001b[39m\u001b[38;5;124m\"\u001b[39m: name, \u001b[38;5;124m\"\u001b[39m\u001b[38;5;124mage\u001b[39m\u001b[38;5;124m\"\u001b[39m: age})\n",
      "\u001b[1;31mTypeError\u001b[0m: 'str' object is not callable"
     ]
    }
   ],
   "source": [
    "ss = []\n",
    "for i in range(2):\n",
    "    name = input(\"Enter the name: \")   # No need to wrap input in str(), it's already string\n",
    "    age = int(input(\"Enter the age: \"))\n",
    "    ss.append({\"name\": name, \"age\": age})\n",
    "\n",
    "print(ss)\n"
   ]
  },
  {
   "cell_type": "code",
   "execution_count": 132,
   "id": "09aad23c-1d72-47be-b777-a26dccc24abd",
   "metadata": {},
   "outputs": [
    {
     "name": "stdout",
     "output_type": "stream",
     "text": [
      "[[1, 2, 6], [1, 2, 7]]\n"
     ]
    }
   ],
   "source": [
    "nums = [2,7,1,11,15,11,32,32]\n",
    "target = 40\n",
    "# Output= [0,1]\n",
    "\n",
    "tt=[]\n",
    "for i in range(len(nums)):\n",
    "    for j in range(i+1,len(nums)):\n",
    "        for k in range(j+1,len(nums)):\n",
    "            if nums[i]+nums[j]+nums[k]==target:\n",
    "                tt.append([i,j,k])\n",
    "print(tt)"
   ]
  },
  {
   "cell_type": "code",
   "execution_count": 137,
   "id": "89de52cd-2388-42e9-adab-cef44eecc68f",
   "metadata": {},
   "outputs": [
    {
     "name": "stdout",
     "output_type": "stream",
     "text": [
      "[0, 1, 1, 2, 3, 5, 8, 13, 21, 34, 55, 89]\n"
     ]
    }
   ],
   "source": [
    "# fibnacci series\n",
    "\n",
    "fib = [0,1]\n",
    "\n",
    "for i in range(10):\n",
    "    fib.append(fib[-1]+fib[-2])\n",
    "print(fib)"
   ]
  },
  {
   "cell_type": "code",
   "execution_count": 145,
   "id": "e32f17eb-073b-4958-9a99-23eaf4c648e5",
   "metadata": {},
   "outputs": [
    {
     "name": "stdout",
     "output_type": "stream",
     "text": [
      "[1, 2, 4, 5, 5, 0, 0, 0]\n"
     ]
    }
   ],
   "source": [
    "# add all zero at the  end \n",
    "tt = [1,2,0,4,0,5,0,5]\n",
    "\n",
    "for i in tt:\n",
    "    if i==0:\n",
    "        tt.remove(i)\n",
    "        tt.append(i)\n",
    "print(tt)"
   ]
  },
  {
   "cell_type": "code",
   "execution_count": 148,
   "id": "1928ac9f-d2b3-4dd3-a0f2-73410b297263",
   "metadata": {},
   "outputs": [
    {
     "name": "stdout",
     "output_type": "stream",
     "text": [
      "[50, 20, 30, 40, 10]\n"
     ]
    }
   ],
   "source": [
    "# change pos last to first and first to last\n",
    "tt = [10, 20, 30, 40, 50]\n",
    "tt[0],tt[-1] = tt[-1],tt[0]\n",
    "print(tt)\n",
    "    "
   ]
  },
  {
   "cell_type": "code",
   "execution_count": null,
   "id": "c028b7d9-efdd-4129-9dcc-fe9c0346d763",
   "metadata": {},
   "outputs": [],
   "source": [
    "# sort the element\n",
    "lst = [50, 10, 40, 20, 30]\n",
    "\n",
    "# Bubble Sort Algorithm\n",
    "for i in range(len(lst) - 1):  \n",
    "    for j in range(len(lst) - i - 1):  \n",
    "        if lst[j] > lst[j + 1]:  \n",
    "            lst[j], lst[j + 1] = lst[j + 1], lst[j]  # Swap elements\n",
    "\n",
    "print(lst)  # Sorted list in ascending order\n"
   ]
  },
  {
   "cell_type": "code",
   "execution_count": null,
   "id": "6dd3b0a9-628a-494a-b204-0544142c0aca",
   "metadata": {},
   "outputs": [],
   "source": []
  },
  {
   "cell_type": "code",
   "execution_count": 66,
   "id": "be60ae4a-5277-4d39-83b6-9cdebb680358",
   "metadata": {},
   "outputs": [
    {
     "name": "stdout",
     "output_type": "stream",
     "text": [
      "c\n"
     ]
    }
   ],
   "source": [
    "## find Non-repeating Character\n",
    "input1=\"aabbc\"\n",
    "output = \"c\"\n",
    "\n",
    "for i in input1:\n",
    "    if input1.count(i)==1:\n",
    "        output=i\n",
    "        break\n",
    "print(output) "
   ]
  },
  {
   "cell_type": "code",
   "execution_count": 1,
   "id": "f04b4822-186e-4f18-976b-cb9daac28c25",
   "metadata": {},
   "outputs": [
    {
     "name": "stdout",
     "output_type": "stream",
     "text": [
      "[6, 9]\n"
     ]
    }
   ],
   "source": [
    "ss=[1,2,1,7,34,34,5,2,5,6,9,7]\n",
    "\n",
    "dd=[]\n",
    "for i in ss:\n",
    "    if ss.count(i)==1:\n",
    "        dd.append(i)\n",
    "print(dd)\n",
    "    \n"
   ]
  },
  {
   "cell_type": "code",
   "execution_count": 107,
   "id": "19211f5a-d69c-4c48-a918-2b1652065dee",
   "metadata": {},
   "outputs": [
    {
     "name": "stdout",
     "output_type": "stream",
     "text": [
      "a\n",
      "g\n",
      "d\n",
      "i\n"
     ]
    }
   ],
   "source": [
    "ss=\"a fgf dt it\"\n",
    "\n",
    "tt=[]\n",
    "for i in ss:\n",
    "    if ss.count(i)==1:\n",
    "        output=i\n",
    "        # tt.append(i)\n",
    "        print(output)"
   ]
  },
  {
   "cell_type": "code",
   "execution_count": 5,
   "id": "f8c4fc1d-b3b2-411f-869f-10faab4545fa",
   "metadata": {},
   "outputs": [
    {
     "ename": "SyntaxError",
     "evalue": "invalid syntax (3003919805.py, line 1)",
     "output_type": "error",
     "traceback": [
      "\u001b[1;36m  Cell \u001b[1;32mIn[5], line 1\u001b[1;36m\u001b[0m\n\u001b[1;33m    select distinct(salary) from emp\u001b[0m\n\u001b[1;37m           ^\u001b[0m\n\u001b[1;31mSyntaxError\u001b[0m\u001b[1;31m:\u001b[0m invalid syntax\n"
     ]
    }
   ],
   "source": [
    "select distinct(salary) from emp\n",
    "order by salary desc\n",
    "offset 0 rows\n",
    "fetch next 1 rows"
   ]
  },
  {
   "cell_type": "code",
   "execution_count": 6,
   "id": "98854c49-b657-4cc6-bf29-03fe627b08db",
   "metadata": {},
   "outputs": [
    {
     "ename": "NameError",
     "evalue": "name 'df' is not defined",
     "output_type": "error",
     "traceback": [
      "\u001b[1;31m---------------------------------------------------------------------------\u001b[0m",
      "\u001b[1;31mNameError\u001b[0m                                 Traceback (most recent call last)",
      "Cell \u001b[1;32mIn[6], line 1\u001b[0m\n\u001b[1;32m----> 1\u001b[0m \u001b[43mdf\u001b[49m\u001b[38;5;241m.\u001b[39mgroupby(\u001b[38;5;124m'\u001b[39m\u001b[38;5;124mcategory\u001b[39m\u001b[38;5;124m'\u001b[39m)[\u001b[38;5;124m'\u001b[39m\u001b[38;5;124msales\u001b[39m\u001b[38;5;124m'\u001b[39m]\u001b[38;5;241m.\u001b[39msum()\u001b[38;5;241m.\u001b[39mreset_index()\n",
      "\u001b[1;31mNameError\u001b[0m: name 'df' is not defined"
     ]
    }
   ],
   "source": [
    "df.groupby('category')['sales'].sum().reset_index()"
   ]
  },
  {
   "cell_type": "code",
   "execution_count": 7,
   "id": "db386b1a-2576-4809-9206-d572c7c2d618",
   "metadata": {},
   "outputs": [
    {
     "name": "stdout",
     "output_type": "stream",
     "text": [
      "9\n"
     ]
    }
   ],
   "source": [
    "dd=[2,4,3,7,3,9]\n",
    "ss=dd[0]\n",
    "\n",
    "for i in dd:\n",
    "    if i>ss:\n",
    "        ss=i\n",
    "print(ss)"
   ]
  },
  {
   "cell_type": "code",
   "execution_count": 25,
   "id": "b013cdb1-91fd-47ff-b2fe-e2ef2444eade",
   "metadata": {},
   "outputs": [
    {
     "name": "stdout",
     "output_type": "stream",
     "text": [
      "[2, 3, 4]\n"
     ]
    }
   ],
   "source": [
    "# Remove Duplicate\n",
    "dd=[2,4,3,4,7,2,3,9]\n",
    "\n",
    "rr=set()\n",
    "hh=set()\n",
    "for i in dd:\n",
    "    if i in rr:\n",
    "        hh.add(i)\n",
    "    rr.add(i)\n",
    "print(list(hh))\n",
    "        "
   ]
  },
  {
   "cell_type": "code",
   "execution_count": 68,
   "id": "63219b9c-9b4e-44f2-b80e-cad5701e5fc2",
   "metadata": {},
   "outputs": [
    {
     "ename": "SyntaxError",
     "evalue": "incomplete input (141371078.py, line 1)",
     "output_type": "error",
     "traceback": [
      "\u001b[1;36m  Cell \u001b[1;32mIn[68], line 1\u001b[1;36m\u001b[0m\n\u001b[1;33m    for i in dd:\u001b[0m\n\u001b[1;37m                ^\u001b[0m\n\u001b[1;31mSyntaxError\u001b[0m\u001b[1;31m:\u001b[0m incomplete input\n"
     ]
    }
   ],
   "source": [
    "for i in dd:\n",
    "    if "
   ]
  },
  {
   "cell_type": "code",
   "execution_count": null,
   "id": "f79edbb6-abc1-4396-9e92-0a9558c88c6c",
   "metadata": {},
   "outputs": [],
   "source": []
  },
  {
   "cell_type": "code",
   "execution_count": 29,
   "id": "d54b16bd-b395-4ad7-837a-fd30eb4f47d2",
   "metadata": {},
   "outputs": [
    {
     "name": "stdout",
     "output_type": "stream",
     "text": [
      "[0, 1, 2, 3, 4, 5, 6, 7]\n"
     ]
    }
   ],
   "source": [
    "dd=[2,3,4,1,2,6,5,5,7,4,0]\n",
    "\n",
    "hh=set()\n",
    "mm=set()\n",
    "for i in dd:\n",
    "    if i in hh:\n",
    "        mm.add(i)\n",
    "    hh.add(i)\n",
    "print(list(hh))\n",
    "    "
   ]
  },
  {
   "cell_type": "code",
   "execution_count": null,
   "id": "29c2216b-32ca-4695-a1a4-3e8fe8d4cf52",
   "metadata": {},
   "outputs": [],
   "source": []
  },
  {
   "cell_type": "code",
   "execution_count": 82,
   "id": "5bf075fe-124a-4d57-afbf-5679c8a4a6f8",
   "metadata": {},
   "outputs": [
    {
     "name": "stdout",
     "output_type": "stream",
     "text": [
      "[2, 3, 4, 7, 9]\n"
     ]
    }
   ],
   "source": [
    "# Remove the Duplicate\n",
    "dd=[2,4,3,4,7,2,3,9]\n",
    "\n",
    "ff=set()\n",
    "gg=set()\n",
    "for i in dd:\n",
    "    if i in ff:\n",
    "        gg.add(i)\n",
    "    ff.add(i)\n",
    "print(list(ff))\n",
    "    "
   ]
  },
  {
   "cell_type": "code",
   "execution_count": 289,
   "id": "bf55acf5-1f83-47fc-9d02-a107528e0e1f",
   "metadata": {},
   "outputs": [
    {
     "name": "stdout",
     "output_type": "stream",
     "text": [
      "[2, 3, 4]\n"
     ]
    }
   ],
   "source": [
    "# Find Duplicate\n",
    "dd=[2,4,3,4,7,2,3,9]\n",
    "\n",
    "rr=set()\n",
    "hh=set()\n",
    "for i in dd:\n",
    "    if i in rr:\n",
    "        hh.add(i)\n",
    "    rr.add(i)\n",
    "print(list(hh))"
   ]
  },
  {
   "cell_type": "code",
   "execution_count": 5,
   "id": "6a34f46a-4791-4319-aaa5-84ea88c1f286",
   "metadata": {},
   "outputs": [
    {
     "name": "stdout",
     "output_type": "stream",
     "text": [
      "{1: 1, 2: 1, 0: 4, 3: 1}\n"
     ]
    }
   ],
   "source": [
    "dd=[1,2,0,3,0,0,0]\n",
    "\n",
    "ff={}\n",
    "for i in dd:\n",
    "    ff[i]=dd.count(i)\n",
    "print(ff)"
   ]
  },
  {
   "cell_type": "code",
   "execution_count": 65,
   "id": "3e823a67-8d51-4293-b852-d2cd56016ecf",
   "metadata": {},
   "outputs": [
    {
     "name": "stdout",
     "output_type": "stream",
     "text": [
      "0\n"
     ]
    }
   ],
   "source": [
    "dd=[1,2,0,3,0,0,0]\n",
    "\n",
    "hh=dd[0]\n",
    "for i in dd: \n",
    "    if i < hh:\n",
    "        hh=i\n",
    "print(hh)"
   ]
  },
  {
   "cell_type": "code",
   "execution_count": 72,
   "id": "dd2ce269-3f49-41b8-9be7-d1076ad567f1",
   "metadata": {},
   "outputs": [
    {
     "data": {
      "text/plain": [
       "[0, 0, 0, 0, 1, 2, 3]"
      ]
     },
     "execution_count": 72,
     "metadata": {},
     "output_type": "execute_result"
    }
   ],
   "source": [
    "dd=(1,2,0,3,0,0,0)\n",
    "\n",
    "ff=sorted(dd)\n",
    "ff"
   ]
  },
  {
   "cell_type": "code",
   "execution_count": 81,
   "id": "8051dbd8-e097-40d8-8827-6b6427c51602",
   "metadata": {},
   "outputs": [
    {
     "data": {
      "text/plain": [
       "43"
      ]
     },
     "execution_count": 81,
     "metadata": {},
     "output_type": "execute_result"
    }
   ],
   "source": [
    "# second element in list\n",
    "ss=[12,21,32,22,43,45,11]\n",
    "ff=sorted(ss,reverse=True)\n",
    "ff[1]"
   ]
  },
  {
   "cell_type": "code",
   "execution_count": 83,
   "id": "db6f76c3-c1b6-4d30-9a55-ac7075d89182",
   "metadata": {},
   "outputs": [
    {
     "name": "stdout",
     "output_type": "stream",
     "text": [
      "{23: 1, 21: 2, 22: 1, 34: 2, 43: 1, 54: 1, 12: 1, 33: 1}\n"
     ]
    }
   ],
   "source": [
    "# occurence of element in list\n",
    "ss=[23,21,22,34,43,54,12,21,33,34]\n",
    "dd={}\n",
    "for i in ss:\n",
    "    dd[i]=ss.count(i)\n",
    "print(dd)\n",
    "    "
   ]
  },
  {
   "cell_type": "code",
   "execution_count": 285,
   "id": "608c2f60-2a5b-42b6-ae42-b730843eb8c3",
   "metadata": {},
   "outputs": [
    {
     "name": "stdout",
     "output_type": "stream",
     "text": [
      "[23, 22, 43, 54, 12, 33]\n"
     ]
    }
   ],
   "source": [
    "ss=[23,21,22,34,43,54,12,21,33,34]\n",
    "from collections import Counter\n",
    "ff=Counter(ss)\n",
    "jj=[]\n",
    "for i in ss:\n",
    "    if ff[i]==1:\n",
    "        jj.append(i)\n",
    "print(jj)"
   ]
  },
  {
   "cell_type": "code",
   "execution_count": 88,
   "id": "a226a798-678f-4b03-b760-98df474c2567",
   "metadata": {},
   "outputs": [
    {
     "data": {
      "text/plain": [
       "False"
      ]
     },
     "execution_count": 88,
     "metadata": {},
     "output_type": "execute_result"
    }
   ],
   "source": [
    "# check anagram\n",
    "s1=\"madam\"\n",
    "s2=\"MamDa\"\n",
    "\n",
    "sorted(s1.lower())==sorted(s2.lower())\n"
   ]
  },
  {
   "cell_type": "code",
   "execution_count": 92,
   "id": "92e6fa91-2ba5-4ca5-959a-5434f00e1133",
   "metadata": {},
   "outputs": [
    {
     "data": {
      "text/plain": [
       "'Hello World'"
      ]
     },
     "execution_count": 92,
     "metadata": {},
     "output_type": "execute_result"
    }
   ],
   "source": [
    "str1 = \"Hello\"\n",
    "str2 = \"World\"\n",
    "\n",
    "str1+\" \"+str2"
   ]
  },
  {
   "cell_type": "code",
   "execution_count": 96,
   "id": "7085b2a3-6e37-4088-b37f-5c89979211e8",
   "metadata": {},
   "outputs": [
    {
     "name": "stdout",
     "output_type": "stream",
     "text": [
      "[54, 43, 34, 34, 33, 23, 22, 21, 21, 12]\n",
      "[54, 43, 34]\n"
     ]
    }
   ],
   "source": [
    "ss=[23,21,22,34,43,54,12,21,33,34]\n",
    "ff=sorted(ss,reverse=True)\n",
    "print(ff)\n",
    "print(ff[:3])"
   ]
  },
  {
   "cell_type": "code",
   "execution_count": 100,
   "id": "6fdf376f-2117-4045-b3d6-d57b1813b0f3",
   "metadata": {},
   "outputs": [
    {
     "name": "stdout",
     "output_type": "stream",
     "text": [
      "[34, 12, 21]\n"
     ]
    }
   ],
   "source": [
    "ss=[54, 43, 12,34, 34, 33, 23, 22, 21, 21, 12]\n",
    "\n",
    "gg=set()\n",
    "hh=set()\n",
    "for i in ss:\n",
    "    if i in gg:\n",
    "        hh.add(i)\n",
    "    gg.add(i)\n",
    "print(list(hh))"
   ]
  },
  {
   "cell_type": "code",
   "execution_count": 106,
   "id": "1a3b93a6-c404-4a7d-97ed-826eac2c8912",
   "metadata": {},
   "outputs": [
    {
     "name": "stdout",
     "output_type": "stream",
     "text": [
      "{'e': 3, 'u': 2, 'i': 1, 'a': 1}\n"
     ]
    }
   ],
   "source": [
    "ss=\"ertyukwebnmghieua\"\n",
    "vow =[\"a\",\"e\",\"i\",\"o\",\"u\"]\n",
    "count={}\n",
    "for i in ss.lower():\n",
    "    if i in vow:\n",
    "        count[i]=ss.count(i)\n",
    "print(count)"
   ]
  },
  {
   "cell_type": "code",
   "execution_count": 115,
   "id": "71eca98c-8273-49b5-ae63-3be20299f39e",
   "metadata": {},
   "outputs": [
    {
     "name": "stdout",
     "output_type": "stream",
     "text": [
      "[0, 1, 1, 2, 3, 5, 8, 13, 21, 34, 55, 89]\n"
     ]
    }
   ],
   "source": [
    "# fab series\n",
    "fib=[0,1]\n",
    "for i in range(10):\n",
    "    fib.append(fib[-1]+fib[-2])\n",
    "print(fib)\n",
    "    "
   ]
  },
  {
   "cell_type": "code",
   "execution_count": 131,
   "id": "1740a032-ed6a-445b-bd7f-bde2538b1350",
   "metadata": {},
   "outputs": [
    {
     "name": "stdout",
     "output_type": "stream",
     "text": [
      "24\n"
     ]
    }
   ],
   "source": [
    "# factorial\n",
    "fac=1\n",
    "for i in range(1,5):\n",
    "        fac*=i\n",
    "print(fac)"
   ]
  },
  {
   "cell_type": "code",
   "execution_count": 286,
   "id": "0141b589-32ea-46f6-87db-c712dc347481",
   "metadata": {},
   "outputs": [
    {
     "data": {
      "text/plain": [
       "{'a': 1, 'b': 3, 'c': 4}"
      ]
     },
     "execution_count": 286,
     "metadata": {},
     "output_type": "execute_result"
    }
   ],
   "source": [
    "# merge two dic\n",
    "dict1 = {'a': 1, 'b': 2}\n",
    "dict2 = {'b': 3, 'c': 4}\n",
    "\n",
    "d3=dict1|dict2\n",
    "d3"
   ]
  },
  {
   "cell_type": "code",
   "execution_count": 129,
   "id": "c8aa5229-8b48-426e-a337-db99e6431cea",
   "metadata": {},
   "outputs": [
    {
     "data": {
      "text/plain": [
       "[6, 6, 6]"
      ]
     },
     "execution_count": 129,
     "metadata": {},
     "output_type": "execute_result"
    }
   ],
   "source": [
    "list(map(lambda x,y:x+y,[1,2,3],[5,4,3]))"
   ]
  },
  {
   "cell_type": "code",
   "execution_count": 145,
   "id": "d7403ef4-2739-4d06-944b-d1ad4b611b9b",
   "metadata": {},
   "outputs": [],
   "source": [
    "ss = \"prohyta5473 try wwecd7839 \"\n",
    "\n",
    "\n",
    "def wrt(s):\n",
    "    tt=0\n",
    "    mm=0\n",
    "    hh=0\n",
    "    for i in ss:\n",
    "        if i.isdigit():\n",
    "            tt+=1\n",
    "        elif i.isspace():\n",
    "            mm+=1\n",
    "        elif i.isalpha():\n",
    "            hh+=1\n",
    "    return tt,mm,hh\n",
    "    "
   ]
  },
  {
   "cell_type": "code",
   "execution_count": 146,
   "id": "ae2dd237-1358-40ad-8f58-593e4c5e512a",
   "metadata": {},
   "outputs": [
    {
     "data": {
      "text/plain": [
       "(8, 3, 15)"
      ]
     },
     "execution_count": 146,
     "metadata": {},
     "output_type": "execute_result"
    }
   ],
   "source": [
    "wrt(\"prohyta5473 try wwecd7839 \")"
   ]
  },
  {
   "cell_type": "code",
   "execution_count": 149,
   "id": "24d41883-141a-4f2e-afab-d00a8eeb8e88",
   "metadata": {},
   "outputs": [
    {
     "name": "stdout",
     "output_type": "stream",
     "text": [
      "10\n"
     ]
    }
   ],
   "source": [
    "sum=0\n",
    "for i in range(5):\n",
    "    sum+=i\n",
    "print(sum)"
   ]
  },
  {
   "cell_type": "code",
   "execution_count": 35,
   "id": "745ea379-5aa1-41f7-8e51-c4e1f3a61f42",
   "metadata": {},
   "outputs": [
    {
     "name": "stdout",
     "output_type": "stream",
     "text": [
      "[3, 4]\n"
     ]
    }
   ],
   "source": [
    "# find duplicate\n",
    "list1 = [1, 2, 3, 4]\n",
    "list2 = [3, 4, 5, 6]\n",
    "\n",
    "dd=[]\n",
    "for i in list1:\n",
    "    for j in list2:\n",
    "        if i==j:\n",
    "            dd.append(i)\n",
    "print(dd)\n",
    "            "
   ]
  },
  {
   "cell_type": "code",
   "execution_count": 81,
   "id": "6490b145-38a6-41f9-952d-0fe6f2770f90",
   "metadata": {},
   "outputs": [
    {
     "name": "stdout",
     "output_type": "stream",
     "text": [
      "3\n",
      "4\n"
     ]
    }
   ],
   "source": [
    "for i in list1:\n",
    "    if i in list2:\n",
    "        print(i)"
   ]
  },
  {
   "cell_type": "code",
   "execution_count": 166,
   "id": "60c5e279-69fe-43c2-bd9a-67b4e91e8949",
   "metadata": {},
   "outputs": [
    {
     "name": "stdout",
     "output_type": "stream",
     "text": [
      "[1, 2]\n"
     ]
    }
   ],
   "source": [
    "# find duplicate\n",
    "list1 = [1, 2, 3, 4,5,1,2]\n",
    "\n",
    "hh=set()\n",
    "gg=set()\n",
    "for i in list1:\n",
    "    if i in hh:\n",
    "        gg.add(i)\n",
    "    hh.add(i)\n",
    "print(list(gg))\n",
    "    "
   ]
  },
  {
   "cell_type": "code",
   "execution_count": 177,
   "id": "1e9fe7aa-3388-4153-a076-6701f6a88a25",
   "metadata": {},
   "outputs": [
    {
     "data": {
      "text/plain": [
       "'jumps'"
      ]
     },
     "execution_count": 177,
     "metadata": {},
     "output_type": "execute_result"
    }
   ],
   "source": [
    "ss=\"The fox jumps over the lazy dog\"\n",
    "\n",
    "hh=ss.split()\n",
    "max(hh,key=len)\n"
   ]
  },
  {
   "cell_type": "code",
   "execution_count": 185,
   "id": "404c6044-141f-4aa8-ab45-9d84ec671dcc",
   "metadata": {},
   "outputs": [
    {
     "name": "stdout",
     "output_type": "stream",
     "text": [
      "2\n"
     ]
    }
   ],
   "source": [
    "# count upper letter\n",
    "ss=\"TDhe\"\n",
    "count=0\n",
    "for i in ss:\n",
    "    if i.isupper():\n",
    "        count+=1\n",
    "print(count)"
   ]
  },
  {
   "cell_type": "code",
   "execution_count": 187,
   "id": "1ae639b4-d61f-411a-92ce-da47014a1294",
   "metadata": {},
   "outputs": [
    {
     "name": "stdout",
     "output_type": "stream",
     "text": [
      "120\n"
     ]
    }
   ],
   "source": [
    "ss=[2,3,4,5]\n",
    "\n",
    "count=1\n",
    "for i in ss:\n",
    "    count*=i\n",
    "print(count)"
   ]
  },
  {
   "cell_type": "code",
   "execution_count": 287,
   "id": "22ebdbdd-9c7c-43d2-aa9f-bd9642978a10",
   "metadata": {},
   "outputs": [
    {
     "name": "stdout",
     "output_type": "stream",
     "text": [
      "['Red', 'Pink', 'Yellow']\n"
     ]
    }
   ],
   "source": [
    "# Remove Specific Elements from List\n",
    "dd=['Red', 'Green', 'White', 'Black', 'Pink', 'Yellow']\n",
    "gg= ['Green', 'White', 'Black']\n",
    "ff=[]\n",
    "for i in dd:\n",
    "    if i not in gg:\n",
    "        ff.append(i)\n",
    "print(ff)"
   ]
  },
  {
   "cell_type": "code",
   "execution_count": 201,
   "id": "b2575bff-c737-4ea0-9c72-ef9aad1fbce5",
   "metadata": {},
   "outputs": [
    {
     "name": "stdout",
     "output_type": "stream",
     "text": [
      "[1, 3, 5]\n"
     ]
    }
   ],
   "source": [
    "ss=[2,4,1,4,6,3,8,5]\n",
    "gg=[]\n",
    "for i in ss:\n",
    "    if i%2!=0:\n",
    "        gg.append(i)\n",
    "print(gg)"
   ]
  },
  {
   "cell_type": "code",
   "execution_count": 202,
   "id": "494f1660-7a26-4b0c-8721-74ba45cbc4d1",
   "metadata": {},
   "outputs": [
    {
     "data": {
      "text/plain": [
       "[5, 8, 3, 6, 4, 1, 4, 2]"
      ]
     },
     "execution_count": 202,
     "metadata": {},
     "output_type": "execute_result"
    }
   ],
   "source": [
    "ss=[2,4,1,4,6,3,8,5]\n",
    "ss[::-1]"
   ]
  },
  {
   "cell_type": "code",
   "execution_count": 203,
   "id": "a8846a55-358a-4805-b330-c35ad973c181",
   "metadata": {},
   "outputs": [
    {
     "name": "stdout",
     "output_type": "stream",
     "text": [
      "[4, 16, 1, 16, 36, 9, 64, 25]\n"
     ]
    }
   ],
   "source": [
    "ss=[2,4,1,4,6,3,8,5]\n",
    "hh=[]\n",
    "for i in ss:\n",
    "    hh.append(i**2)\n",
    "print(hh)"
   ]
  },
  {
   "cell_type": "code",
   "execution_count": 205,
   "id": "6f567be4-7fa8-4032-abcc-71c49696f96f",
   "metadata": {},
   "outputs": [
    {
     "data": {
      "text/plain": [
       "[64, 36, 25, 16, 16, 9, 4, 1]"
      ]
     },
     "execution_count": 205,
     "metadata": {},
     "output_type": "execute_result"
    }
   ],
   "source": [
    "ss=[4, 16, 1, 16, 36, 9, 64, 25]\n",
    "hh=sorted(ss,reverse=True)\n",
    "hh"
   ]
  },
  {
   "cell_type": "code",
   "execution_count": 213,
   "id": "c654d77b-9824-4dbf-95bb-60e689c84d0f",
   "metadata": {},
   "outputs": [
    {
     "name": "stdout",
     "output_type": "stream",
     "text": [
      "[9, 7]\n"
     ]
    }
   ],
   "source": [
    "ss=[4, 16, 1, 16, 36, 9, 64, 25,7]\n",
    "hh=[64, 36, 25, 16, 16, 11, 4, 1,12]\n",
    "mm=[]\n",
    "for i in ss:\n",
    "    if i not in hh:\n",
    "        mm.append(i)\n",
    "print(mm)"
   ]
  },
  {
   "cell_type": "code",
   "execution_count": 215,
   "id": "9ab492c7-29a6-4625-bc6e-a8f12de67064",
   "metadata": {},
   "outputs": [
    {
     "name": "stdout",
     "output_type": "stream",
     "text": [
      "64\n"
     ]
    }
   ],
   "source": [
    "ss=ss=[4, 16, 1]\n",
    "count=1\n",
    "for i in ss:\n",
    "    count*=i\n",
    "print(count)"
   ]
  },
  {
   "cell_type": "code",
   "execution_count": 222,
   "id": "fcbf38aa-7137-4722-a082-e1b8014794fd",
   "metadata": {},
   "outputs": [
    {
     "data": {
      "text/plain": [
       "[16, 1]"
      ]
     },
     "execution_count": 222,
     "metadata": {},
     "output_type": "execute_result"
    }
   ],
   "source": [
    "ss=[4, 16, 1,20]\n",
    "hh=ss[1:-1]\n",
    "hh\n",
    "\n"
   ]
  },
  {
   "cell_type": "code",
   "execution_count": 233,
   "id": "adfa77f6-f310-42f7-b9d3-795d40acfc82",
   "metadata": {},
   "outputs": [
    {
     "name": "stdout",
     "output_type": "stream",
     "text": [
      "[1, 2, 2, 2, 3, 3, 4, 4, 5, 5, 7, 8]\n"
     ]
    }
   ],
   "source": [
    "ss=[2,3,4,1,2,5]\n",
    "gg=[4,5,2,3,7,8]\n",
    "\n",
    "dd=ss+gg\n",
    "print(sorted(dd))\n"
   ]
  },
  {
   "cell_type": "code",
   "execution_count": 240,
   "id": "97711880-ee98-4fe9-9d67-c8b3110e8be5",
   "metadata": {},
   "outputs": [
    {
     "name": "stdout",
     "output_type": "stream",
     "text": [
      "5\n",
      "3\n"
     ]
    }
   ],
   "source": [
    "dd=[1,1,4,8,12,7,18,14]\n",
    "\n",
    "count=0\n",
    "count1=0\n",
    "for i in dd:\n",
    "    if i%2==0:\n",
    "        count+=1\n",
    "    elif i%2!=0:\n",
    "        count1+=1\n",
    "print(count)\n",
    "print(count1)"
   ]
  },
  {
   "cell_type": "code",
   "execution_count": 241,
   "id": "fbede7ad-1922-4218-896a-9999baeb51d4",
   "metadata": {},
   "outputs": [
    {
     "data": {
      "text/plain": [
       "{2: 4, 3: 5, 4: 8, 5: 9, 6: 1, 7: 4}"
      ]
     },
     "execution_count": 241,
     "metadata": {},
     "output_type": "execute_result"
    }
   ],
   "source": [
    "# convert two list into a dictionary\n",
    "d1=[2,3,4,5,6,7]\n",
    "d2=[4,5,8,9,1,4]\n",
    "dict(zip(d1,d2))"
   ]
  },
  {
   "cell_type": "code",
   "execution_count": 247,
   "id": "10e07b8f-8e40-4b75-b5be-62d7f38415a0",
   "metadata": {},
   "outputs": [
    {
     "data": {
      "text/plain": [
       "{'p': 3, 'c': 5, 'r': 6, 'm': 4, 'N': 9, 'Q': 1}"
      ]
     },
     "execution_count": 247,
     "metadata": {},
     "output_type": "execute_result"
    }
   ],
   "source": [
    "ss={\"p\":3,\"c\":5,\"r\":6}\n",
    "dd={\"m\":4,\"N\":9,\"Q\":1}\n",
    "d3=ss|dd\n",
    "d3"
   ]
  },
  {
   "cell_type": "code",
   "execution_count": 249,
   "id": "35d999a5-3167-481f-be5d-62204417ef87",
   "metadata": {},
   "outputs": [
    {
     "data": {
      "text/plain": [
       "[2, 3, 4, 5, 6, 7, 4, 5, 8, 9, 1, 4]"
      ]
     },
     "execution_count": 249,
     "metadata": {},
     "output_type": "execute_result"
    }
   ],
   "source": [
    "d1=[2,3,4,5,6,7]\n",
    "d2=[4,5,8,9,1,4]\n",
    "l3=d1+d2\n",
    "l3"
   ]
  },
  {
   "cell_type": "code",
   "execution_count": 254,
   "id": "af7de6ea-4212-45f0-9e03-adf23b067f42",
   "metadata": {},
   "outputs": [
    {
     "ename": "AttributeError",
     "evalue": "'str' object has no attribute 'pop'",
     "output_type": "error",
     "traceback": [
      "\u001b[1;31m---------------------------------------------------------------------------\u001b[0m",
      "\u001b[1;31mAttributeError\u001b[0m                            Traceback (most recent call last)",
      "Cell \u001b[1;32mIn[254], line 4\u001b[0m\n\u001b[0;32m      1\u001b[0m ss\u001b[38;5;241m=\u001b[39m{\u001b[38;5;124m'\u001b[39m\u001b[38;5;124mp\u001b[39m\u001b[38;5;124m'\u001b[39m: \u001b[38;5;241m3\u001b[39m, \u001b[38;5;124m'\u001b[39m\u001b[38;5;124mc\u001b[39m\u001b[38;5;124m'\u001b[39m: \u001b[38;5;241m5\u001b[39m, \u001b[38;5;124m'\u001b[39m\u001b[38;5;124mr\u001b[39m\u001b[38;5;124m'\u001b[39m: \u001b[38;5;241m6\u001b[39m, \u001b[38;5;124m'\u001b[39m\u001b[38;5;124mm\u001b[39m\u001b[38;5;124m'\u001b[39m: \u001b[38;5;241m4\u001b[39m, \u001b[38;5;124m'\u001b[39m\u001b[38;5;124mN\u001b[39m\u001b[38;5;124m'\u001b[39m: \u001b[38;5;241m9\u001b[39m, \u001b[38;5;124m'\u001b[39m\u001b[38;5;124mQ\u001b[39m\u001b[38;5;124m'\u001b[39m: \u001b[38;5;241m1\u001b[39m}\n\u001b[0;32m      3\u001b[0m \u001b[38;5;28;01mfor\u001b[39;00m key,value \u001b[38;5;129;01min\u001b[39;00m ss\u001b[38;5;241m.\u001b[39mitems():\n\u001b[1;32m----> 4\u001b[0m     \u001b[43mkey\u001b[49m\u001b[38;5;241;43m.\u001b[39;49m\u001b[43mpop\u001b[49m()\n\u001b[0;32m      5\u001b[0m \u001b[38;5;28mprint\u001b[39m(key)\n",
      "\u001b[1;31mAttributeError\u001b[0m: 'str' object has no attribute 'pop'"
     ]
    }
   ],
   "source": [
    "ss={'p': 3, 'c': 5, 'r': 6, 'm': 4, 'N': 9, 'Q': 1}\n",
    "\n",
    "for key,value in ss.items():\n",
    "    key.pop()\n",
    "print(key)"
   ]
  },
  {
   "cell_type": "code",
   "execution_count": 26,
   "id": "f73706b7-9d7d-4366-9d61-2c87ffb42b01",
   "metadata": {},
   "outputs": [
    {
     "data": {
      "text/plain": [
       "[1, 2, 3, 0, 0, 0, 2, 5, 6]"
      ]
     },
     "execution_count": 26,
     "metadata": {},
     "output_type": "execute_result"
    }
   ],
   "source": [
    "nums1 = [1,2,3,0,0,0]\n",
    "nums2 = [2,5,6]\n",
    "Output: [1,2,2,3,5,6]\n",
    "nums3=nums1+nums2\n",
    "nums3"
   ]
  },
  {
   "cell_type": "code",
   "execution_count": 27,
   "id": "622ac1a4-da54-41b2-b20c-96dadcc9a6f0",
   "metadata": {},
   "outputs": [
    {
     "name": "stdout",
     "output_type": "stream",
     "text": [
      "[1, 2, 3, 0, 2, 5, 6]\n"
     ]
    }
   ],
   "source": [
    "for i in nums3:\n",
    "    if i==0:\n",
    "        nums3.remove(i)\n",
    "print(nums3)"
   ]
  },
  {
   "cell_type": "code",
   "execution_count": 5,
   "id": "87d836d3-1aa4-418e-b845-97873b3b8b3e",
   "metadata": {},
   "outputs": [
    {
     "name": "stdout",
     "output_type": "stream",
     "text": [
      "3\n",
      "1\n"
     ]
    }
   ],
   "source": [
    "# Longest Substring Without Repeating Characters\n",
    "# def length_of_longest_substring(s: str) -> int:\n",
    "#     char_set = set()\n",
    "#     left = 0\n",
    "#     max_length = 0\n",
    "#     right = 0\n",
    "    \n",
    "#     while right < len(s):\n",
    "#         if s[right] not in char_set:\n",
    "#             char_set.add(s[right])\n",
    "#             max_length = max(max_length, right - left + 1)\n",
    "#             right += 1\n",
    "#         else:\n",
    "#             char_set.remove(s[left])\n",
    "#             left += 1\n",
    "\n",
    "#     return max_length\n",
    "\n",
    "# # Test Cases\n",
    "# print(length_of_longest_substring(\"abcabcbb\"))  # Output: 3\n",
    "# print(length_of_longest_substring(\"bbbbb\"))     # Output: 1\n",
    "\n",
    "\n",
    "\n",
    "\n",
    "\n",
    "s = \"abcabcbb\"\n",
    "\n",
    "# Initialize variables\n",
    "max_length = 0\n",
    "start = 0\n",
    "char_index = {}\n",
    "\n",
    "# Iterate through the string\n",
    "i = 0\n",
    "while i < len(s):\n",
    "    if s[i] in char_index and char_index[s[i]] >= start:\n",
    "        start = char_index[s[i]] + 1  # Move start to the right\n",
    "\n",
    "    char_index[s[i]] = i  # Store last index of character\n",
    "    max_length = max(max_length, i - start + 1)  # Update max length\n",
    "    i += 1\n",
    "\n",
    "print(max_length)  # Output: 3\n"
   ]
  },
  {
   "cell_type": "code",
   "execution_count": 92,
   "id": "daeb25a9-4f89-41f4-a0ea-a94b1b6bfccf",
   "metadata": {},
   "outputs": [
    {
     "name": "stdout",
     "output_type": "stream",
     "text": [
      "[11, 21, 23, 1, 3, 12, 34, 43, 67, 4]\n"
     ]
    }
   ],
   "source": [
    "input1 = [11,21,23,1,3,[12,34,43,67],4]\n",
    "output= [11,21,23,1,3,4,12,34,43,67]\n",
    "ss=[]\n",
    "for i in input1:\n",
    "    if isinstance(i,list):\n",
    "        ss.extend(i)   \n",
    "    else:\n",
    "        ss.append(i)\n",
    "print(ss)\n",
    "        "
   ]
  },
  {
   "cell_type": "code",
   "execution_count": 117,
   "id": "7efa7505-2c26-42b3-8232-94ecc931dfa7",
   "metadata": {},
   "outputs": [
    {
     "name": "stdout",
     "output_type": "stream",
     "text": [
      "{'i': 2, 'a': 5, 'm': 1, 'n': 3, 'd': 2, 's': 2, 'g': 2, 'r': 1, 'e': 2, 't': 2, 'o': 5, 'c': 1, 'h': 1, 'l': 1}\n",
      "a\n",
      "5\n"
     ]
    }
   ],
   "source": [
    "# max number character and how many times\n",
    "\n",
    "ss=\"i am anand sagar i need to go to school\"\n",
    "dd={}\n",
    "for i in ss.replace(\" \",\"\"):\n",
    "    dd[i]=ss.count(i)\n",
    "print(dd)\n",
    "most=max(dd,key=dd.get)\n",
    "print(most)\n",
    "print(dd[most])"
   ]
  },
  {
   "cell_type": "code",
   "execution_count": null,
   "id": "f6fe9066-2236-4e1d-b53b-a13d249510c1",
   "metadata": {},
   "outputs": [],
   "source": []
  },
  {
   "cell_type": "code",
   "execution_count": null,
   "id": "072af098-ccc7-405b-b6b4-8b0251d4a862",
   "metadata": {},
   "outputs": [],
   "source": []
  },
  {
   "cell_type": "code",
   "execution_count": 44,
   "id": "2d59d53a-563b-43fb-b12e-2f734e9131d1",
   "metadata": {},
   "outputs": [
    {
     "name": "stdout",
     "output_type": "stream",
     "text": [
      "Longest Substring: 'abc'\n",
      "3\n"
     ]
    }
   ],
   "source": [
    "start = 0\n",
    "max_length = 0\n",
    "char_index = {}\n",
    "longest_substring = \"\"\n",
    "\n",
    "for i in range(len(s)):\n",
    "    if s[i] in char_index and char_index[s[i]] >= start:\n",
    "        start = char_index[s[i]] + 1\n",
    "    char_index[s[i]] = i\n",
    "    if i - start + 1 > max_length:\n",
    "        max_length = i - start + 1\n",
    "        longest_substring = s[start:i+1]\n",
    "print(f\"Longest Substring: '{longest_substring}'\")\n",
    "print(max_length)"
   ]
  },
  {
   "cell_type": "code",
   "execution_count": 56,
   "id": "1b51b7b0-cc25-497b-8f7f-d68ab6092b1e",
   "metadata": {},
   "outputs": [
    {
     "ename": "TypeError",
     "evalue": "'int' object is not subscriptable",
     "output_type": "error",
     "traceback": [
      "\u001b[1;31m---------------------------------------------------------------------------\u001b[0m",
      "\u001b[1;31mTypeError\u001b[0m                                 Traceback (most recent call last)",
      "Cell \u001b[1;32mIn[56], line 11\u001b[0m\n\u001b[0;32m      9\u001b[0m     \u001b[38;5;28mprint\u001b[39m(\u001b[38;5;28mint\u001b[39m(\u001b[38;5;28mstr\u001b[39m(x)[::\u001b[38;5;241m-\u001b[39m\u001b[38;5;241m1\u001b[39m]))\n\u001b[0;32m     10\u001b[0m \u001b[38;5;28;01mif\u001b[39;00m x\u001b[38;5;241m<\u001b[39m\u001b[38;5;241m0\u001b[39m:\n\u001b[1;32m---> 11\u001b[0m     \u001b[38;5;28mprint\u001b[39m(\u001b[38;5;28mstr\u001b[39m(\u001b[38;5;28;43mabs\u001b[39;49m\u001b[43m(\u001b[49m\u001b[43mx\u001b[49m\u001b[43m)\u001b[49m\u001b[43m[\u001b[49m\u001b[43m:\u001b[49m\u001b[43m:\u001b[49m\u001b[38;5;241;43m-\u001b[39;49m\u001b[38;5;241;43m1\u001b[39;49m\u001b[43m]\u001b[49m))\n",
      "\u001b[1;31mTypeError\u001b[0m: 'int' object is not subscriptable"
     ]
    }
   ],
   "source": [
    "x = -123\n",
    "# Output: 321\n",
    "# Example 2:\n",
    "\n",
    "# Input: x = -123\n",
    "# Output: -321\n",
    "\n",
    "if x>0:\n",
    "    print(int(str(x)[::-1]))\n",
    "if x<0:\n",
    "    print(str(abs(x)[::-1]))"
   ]
  },
  {
   "cell_type": "code",
   "execution_count": 59,
   "id": "e3c8e74c-1114-40e7-881c-4ae6dd7f15c1",
   "metadata": {},
   "outputs": [
    {
     "name": "stdout",
     "output_type": "stream",
     "text": [
      "-321\n"
     ]
    }
   ],
   "source": [
    "x=-123\n",
    "if x>0:\n",
    "    ss=str(x)[::-1]\n",
    "    print(int(ss))\n",
    "if x<0:\n",
    "    hh=int(str(abs(x))[::-1])\n",
    "    print(-hh)"
   ]
  },
  {
   "cell_type": "code",
   "execution_count": 61,
   "id": "db2947a2-54f5-48d9-95d8-0721c011eb9a",
   "metadata": {},
   "outputs": [
    {
     "data": {
      "text/plain": [
       "[1, 1, 2, 3, 4, 4]"
      ]
     },
     "execution_count": 61,
     "metadata": {},
     "output_type": "execute_result"
    }
   ],
   "source": [
    "list1 = [1,2,4]\n",
    "list2 = [1,3,4]\n",
    "Output: [1,1,2,3,4,4]\n",
    "\n",
    "ss=list1+list2\n",
    "sorted(ss)"
   ]
  },
  {
   "cell_type": "code",
   "execution_count": 64,
   "id": "1f84c885-4d61-474c-8558-d3a06cac2d57",
   "metadata": {},
   "outputs": [
    {
     "name": "stdout",
     "output_type": "stream",
     "text": [
      "[]\n"
     ]
    }
   ],
   "source": [
    "list1 = []\n",
    "list2 = []\n",
    "if len(list1) >0 and len(list2)>0 :\n",
    "    l1=list1+list2\n",
    "    print(sorted(l1))\n",
    "else:\n",
    "    print(([]))"
   ]
  },
  {
   "cell_type": "code",
   "execution_count": 73,
   "id": "59f27ff2-6a6f-4ec7-a40b-86faf4a92c27",
   "metadata": {},
   "outputs": [
    {
     "name": "stdout",
     "output_type": "stream",
     "text": [
      "(1, 1) (3, 2) (1, 3) (2, 1) "
     ]
    }
   ],
   "source": [
    "s=\"1222311\"\n",
    "result = []\n",
    "count = 1\n",
    "\n",
    "for i in range(1, len(s)):\n",
    "    if s[i] == s[i - 1]:\n",
    "        count += 1\n",
    "    else:\n",
    "        result.append((count, int(s[i - 1])))\n",
    "        count = 1\n",
    "\n",
    "result.append((count, int(s[-1])))\n",
    "\n",
    "for item in result:\n",
    "    print(item, end=\" \")\n",
    "\n"
   ]
  },
  {
   "cell_type": "code",
   "execution_count": 75,
   "id": "49e83aee-7966-4874-8e7f-db44fc889e3a",
   "metadata": {},
   "outputs": [],
   "source": [
    "import copy\n",
    "\n",
    "original = [[1, 2], [3, 4]]\n",
    "\n",
    "shallow = copy.copy(original)\n",
    "shallow\n",
    "deep = copy.deepcopy(original)"
   ]
  },
  {
   "cell_type": "code",
   "execution_count": 94,
   "id": "d6cc9f5c-bb32-4c97-a508-315ec93787d7",
   "metadata": {},
   "outputs": [
    {
     "name": "stdout",
     "output_type": "stream",
     "text": [
      "{'a': 4, 'n': 2, 'd': 1, 's': 1, 'g': 1, 'r': 1}\n",
      "d\n",
      "1\n"
     ]
    }
   ],
   "source": [
    "#Find the first non-repeating character in a string.\n",
    "ss=\"anandsagar\"\n",
    "\n",
    "tt={}\n",
    "for i in ss:\n",
    "    tt[i]=ss.count(i)\n",
    "print(tt)\n",
    "\n",
    "dd=min(tt,key=tt.get)\n",
    "print(dd)\n",
    "print(tt[dd])"
   ]
  },
  {
   "cell_type": "code",
   "execution_count": null,
   "id": "5f4605f4-64a8-4dad-9517-1d83df64c619",
   "metadata": {},
   "outputs": [],
   "source": [
    "       ################################################################\n",
    "        "
   ]
  },
  {
   "cell_type": "code",
   "execution_count": 136,
   "id": "7fdcb958-badc-43f1-b63d-c57c81015f6e",
   "metadata": {},
   "outputs": [
    {
     "name": "stdout",
     "output_type": "stream",
     "text": [
      "p\n"
     ]
    }
   ],
   "source": [
    "# Find the first non-repeating character in a string\n",
    "ss=\"per\"\n",
    "\n",
    "for i in ss:\n",
    "    if ss.count(i)==1:\n",
    "        output = i\n",
    "        break\n",
    "print(output)"
   ]
  },
  {
   "cell_type": "code",
   "execution_count": 150,
   "id": "1f4f115e-130e-4ccd-a9f0-dce9f64811d8",
   "metadata": {},
   "outputs": [
    {
     "name": "stdout",
     "output_type": "stream",
     "text": [
      "True\n"
     ]
    }
   ],
   "source": [
    "# Check if a string contains all unique characters\n",
    "ss=\"abcde\"\n",
    "\n",
    "is_unique = len(set(s)) == len(s)\n",
    "print(is_unique)"
   ]
  },
  {
   "cell_type": "code",
   "execution_count": 34,
   "id": "a9b53957-978a-445d-a77a-83ffeb3228ac",
   "metadata": {},
   "outputs": [
    {
     "name": "stdout",
     "output_type": "stream",
     "text": [
      "[2, 4]\n"
     ]
    }
   ],
   "source": [
    "# Find all duplicates in a string/list\n",
    "mm=[2,3,1,2,4,5,4]\n",
    "# mm=\"programming\"\n",
    "\n",
    "# hh=set()\n",
    "# kk=set()\n",
    "# for i in mm:\n",
    "#     if i in kk:\n",
    "#         hh.add(i)\n",
    "#     kk.add(i)\n",
    "# print(list(hh))\n",
    "\n",
    "\n",
    "duplicate=[]\n",
    "for i in mm:\n",
    "    if mm.count(i) > 1 and i not in duplicate:\n",
    "        duplicate.append(i)\n",
    "print(duplicate)"
   ]
  },
  {
   "cell_type": "code",
   "execution_count": 169,
   "id": "5fffe47b-7a5f-4bbd-938f-264f4cb5f0fc",
   "metadata": {},
   "outputs": [
    {
     "name": "stdout",
     "output_type": "stream",
     "text": [
      "[2, 3, 1, 4, 5]\n"
     ]
    }
   ],
   "source": [
    "# Remove duplicates from a list (without using set)\n",
    "mm=[2,3,1,2,4,5,4]\n",
    "# hh=set()\n",
    "# kk=set()\n",
    "# for i in mm:\n",
    "#     if i in kk:\n",
    "#         hh.add(i)\n",
    "#     kk.add(i)\n",
    "# print(list(hh))\n",
    "\n",
    "hh=[]\n",
    "for i in mm:\n",
    "    if i not in hh:\n",
    "        hh.append(i)\n",
    "print(hh)\n",
    "\n"
   ]
  },
  {
   "cell_type": "code",
   "execution_count": 173,
   "id": "017ce535-5e3d-4374-9037-d7037c2aa7e7",
   "metadata": {},
   "outputs": [
    {
     "name": "stdout",
     "output_type": "stream",
     "text": [
      "[1, 8, 2, 7, 3, 4]\n"
     ]
    }
   ],
   "source": [
    "# Flatten a nested list (e.g. [1, [2,7, [3, 4]]])\n",
    "\n",
    "nested_list = [1,8, [2,7, [3, 4]]]\n",
    "flat_list = []\n",
    "stack = nested_list[::-1]  # reverse to simulate stack (LIFO)\n",
    "\n",
    "while stack:\n",
    "    item = stack.pop()\n",
    "    if isinstance(item, list):\n",
    "        stack.extend(item[::-1])  # reverse before extending\n",
    "    else:\n",
    "        flat_list.append(item)\n",
    "\n",
    "print(flat_list)  # Output: [1, 2, 3, 4]\n"
   ]
  },
  {
   "cell_type": "code",
   "execution_count": null,
   "id": "a68c3628-c320-4cfe-9f15-a75d972cf1ae",
   "metadata": {},
   "outputs": [],
   "source": []
  },
  {
   "cell_type": "code",
   "execution_count": null,
   "id": "d98dd511-5657-41dc-bf69-1161fcfba1d1",
   "metadata": {},
   "outputs": [],
   "source": []
  },
  {
   "cell_type": "code",
   "execution_count": null,
   "id": "7415f044-da18-4d27-9cdf-ca9db38a873c",
   "metadata": {},
   "outputs": [],
   "source": []
  },
  {
   "cell_type": "code",
   "execution_count": null,
   "id": "3fac6e20-fc0e-4ee4-bec9-4c5ce2dc7d6a",
   "metadata": {},
   "outputs": [],
   "source": []
  },
  {
   "cell_type": "code",
   "execution_count": 180,
   "id": "7be0e1f2-84d5-4ae4-a3d0-664ba3b75df5",
   "metadata": {},
   "outputs": [
    {
     "name": "stdout",
     "output_type": "stream",
     "text": [
      "[3, 4, 6]\n"
     ]
    }
   ],
   "source": [
    "# Find common elements in two lists\n",
    "ss=[2,3,4,5,6]\n",
    "mm=[3,1,7,4,6]\n",
    "\n",
    "tt=[]\n",
    "for i in ss:\n",
    "    for j in mm:\n",
    "        if i==j:\n",
    "            tt.append(i)\n",
    "print(tt)"
   ]
  },
  {
   "cell_type": "code",
   "execution_count": 181,
   "id": "e59f231a-b3fe-4a7a-8731-c0c42cb91337",
   "metadata": {},
   "outputs": [
    {
     "name": "stdout",
     "output_type": "stream",
     "text": [
      "Pair: (2, 5)\n",
      "Pair: (4, 3)\n",
      "Pair: (8, -1)\n"
     ]
    }
   ],
   "source": [
    "# Find all pairs with a given sum in a list\n",
    "lst = [2, 4, 3, 5, 7, 8, -1]\n",
    "target = 7\n",
    "\n",
    "for i in range(len(lst)):\n",
    "    for j in range(i + 1, len(lst)):\n",
    "        if lst[i] + lst[j] == target:\n",
    "            print(f\"Pair: ({lst[i]}, {lst[j]})\")\n"
   ]
  },
  {
   "cell_type": "code",
   "execution_count": null,
   "id": "729612ec-ed40-4efd-a0d7-a22761440dc2",
   "metadata": {},
   "outputs": [],
   "source": [
    "# Merge two sorted lists\n",
    "list1 = [1, 3, 5, 7]\n",
    "list2 = [2, 4, 6, 8]\n",
    "merged = []\n",
    "\n",
    "i = j = 0\n",
    "\n",
    "# Merge until one list ends\n",
    "while i < len(list1) and j < len(list2):\n",
    "    if list1[i] < list2[j]:\n",
    "        merged.append(list1[i])\n",
    "        i += 1\n",
    "    else:\n",
    "        merged.append(list2[j])\n",
    "        j += 1\n",
    "\n",
    "# Add remaining elements\n",
    "merged.extend(list1[i:])\n",
    "merged.extend(list2[j:])\n",
    "\n",
    "print(\"Merged List:\", merged)\n",
    "# Output: [1, 2, 3, 4, 5, 6, 7, 8]\n"
   ]
  },
  {
   "cell_type": "code",
   "execution_count": 185,
   "id": "4816cc20-ab22-4522-8771-cae4f4d179c2",
   "metadata": {},
   "outputs": [
    {
     "name": "stdout",
     "output_type": "stream",
     "text": [
      "{'p': 1, 'r': 2, 'o': 1, 'g': 2, 'a': 1, 'm': 2, 'i': 1, 'n': 1}\n",
      "p\n",
      "1\n"
     ]
    }
   ],
   "source": [
    "# Find the most frequent word in a sentence\n",
    "ss=\"programming\"\n",
    "dd={}\n",
    "for i in ss:\n",
    "    dd[i]=ss.count(i)\n",
    "print(dd)\n",
    "\n",
    "most = max(dd,key=dd.get)\n",
    "print(most)\n",
    "print(dd[most])"
   ]
  },
  {
   "cell_type": "code",
   "execution_count": null,
   "id": "e7ba20d2-ab9d-4a7f-b971-4804d2fc303e",
   "metadata": {},
   "outputs": [],
   "source": [
    "# Check for Armstrong number"
   ]
  },
  {
   "cell_type": "code",
   "execution_count": null,
   "id": "75cfd459-6fb8-4b69-962f-2e678d067571",
   "metadata": {},
   "outputs": [],
   "source": [
    "# LCM and GCD calculation\n",
    "import math\n",
    "a = 36\n",
    "b = 60\n",
    "\n",
    "print(\"GCD:\", math.gcd(a, b))             # Output: 12\n",
    "print(\"LCM:\", abs(a * b) // math.gcd(a, b))  # Output: 180\n"
   ]
  },
  {
   "cell_type": "code",
   "execution_count": 36,
   "id": "d3837916-e739-422c-820a-0f4393b13548",
   "metadata": {},
   "outputs": [
    {
     "name": "stdout",
     "output_type": "stream",
     "text": [
      "[1, 2, 3, 4]\n"
     ]
    }
   ],
   "source": [
    "nested_list = [1, [2, [3, 4]]]\n",
    "flat_list = []\n",
    "stack = nested_list[::-1]  \n",
    "\n",
    "while stack:\n",
    "    item = stack.pop()\n",
    "    if isinstance(item, list):\n",
    "        stack.extend(item[::-1])  \n",
    "    else:\n",
    "        flat_list.append(item)\n",
    "\n",
    "print(flat_list)  # Output: [1, 2, 3, 4]"
   ]
  },
  {
   "cell_type": "code",
   "execution_count": null,
   "id": "85720e98-b69b-4fec-85bd-1f8c88c80d5c",
   "metadata": {},
   "outputs": [],
   "source": [
    " "
   ]
  }
 ],
 "metadata": {
  "kernelspec": {
   "display_name": "Python 3 (ipykernel)",
   "language": "python",
   "name": "python3"
  },
  "language_info": {
   "codemirror_mode": {
    "name": "ipython",
    "version": 3
   },
   "file_extension": ".py",
   "mimetype": "text/x-python",
   "name": "python",
   "nbconvert_exporter": "python",
   "pygments_lexer": "ipython3",
   "version": "3.12.6"
  }
 },
 "nbformat": 4,
 "nbformat_minor": 5
}
