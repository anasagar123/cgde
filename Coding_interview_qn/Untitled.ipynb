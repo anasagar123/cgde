{
 "cells": [
  {
   "cell_type": "code",
   "execution_count": 10,
   "id": "3564c4a3-72fc-497d-9e58-c80a1ac99eed",
   "metadata": {},
   "outputs": [
    {
     "data": {
      "text/plain": [
       "True"
      ]
     },
     "execution_count": 10,
     "metadata": {},
     "output_type": "execute_result"
    }
   ],
   "source": [
    "ss=-121\n",
    "ss==-1*(int(str(abs(ss))[::-1]))"
   ]
  },
  {
   "cell_type": "code",
   "execution_count": 11,
   "id": "648b5b5f-5ebc-4d3e-8b9c-34f0aa067a5a",
   "metadata": {},
   "outputs": [
    {
     "data": {
      "text/plain": [
       "[6, 5, 4]"
      ]
     },
     "execution_count": 11,
     "metadata": {},
     "output_type": "execute_result"
    }
   ],
   "source": [
    "list(map(lambda x,y:x+y,[1,2,3],[5,3,1]))"
   ]
  },
  {
   "cell_type": "code",
   "execution_count": 12,
   "id": "45b87410-addc-4237-8972-629d52a1b01c",
   "metadata": {},
   "outputs": [
    {
     "name": "stdout",
     "output_type": "stream",
     "text": [
      "[0, 1, 1, 2, 3, 5, 8, 13, 21, 34, 55, 89]\n"
     ]
    }
   ],
   "source": [
    "fib=[0,1]\n",
    "for i in range(10):\n",
    "    fib.append(fib[-1]+fib[-2])\n",
    "print(fib)"
   ]
  },
  {
   "cell_type": "code",
   "execution_count": 15,
   "id": "2564aa66-7c4a-4879-aae0-dd1023590b6a",
   "metadata": {},
   "outputs": [
    {
     "name": "stdout",
     "output_type": "stream",
     "text": [
      "[2, 4, 5]\n"
     ]
    }
   ],
   "source": [
    "ss=[2,3,1,2,4,5,4,5,7,8]\n",
    "dd=[]\n",
    "for i in ss:\n",
    "    if ss.count(i)>1 and i not in dd:\n",
    "        dd.append(i)\n",
    "print(dd)"
   ]
  },
  {
   "cell_type": "code",
   "execution_count": 18,
   "id": "a70a5f9b-b9f7-4f2a-8948-814befa8c855",
   "metadata": {},
   "outputs": [
    {
     "name": "stdout",
     "output_type": "stream",
     "text": [
      "[2, 3, 1, 4, 5, 7, 8]\n"
     ]
    }
   ],
   "source": [
    "dd=[]\n",
    "for i in ss:\n",
    "    if i not in dd:\n",
    "        dd.append(i)\n",
    "print(dd)"
   ]
  },
  {
   "cell_type": "code",
   "execution_count": 29,
   "id": "fd378b9b-403a-426b-be6f-148ec5adcd7d",
   "metadata": {},
   "outputs": [
    {
     "name": "stdout",
     "output_type": "stream",
     "text": [
      "{2: 8, 3: 27, 1: 1, 4: 64, 5: 125, 7: 343, 8: 512}\n"
     ]
    }
   ],
   "source": [
    "ff={}\n",
    "for i in ss:\n",
    "    ff[i]=i**3\n",
    "print(ff)\n",
    "    "
   ]
  },
  {
   "cell_type": "code",
   "execution_count": 35,
   "id": "a077551b-ff0d-4ff2-9ca5-97190d8045c0",
   "metadata": {},
   "outputs": [
    {
     "name": "stdout",
     "output_type": "stream",
     "text": [
      "[8, 27, 1, 64, 125, 343, 512]\n"
     ]
    }
   ],
   "source": [
    "hh=[]\n",
    "for key,value in ff.items():\n",
    "    hh.append(value)\n",
    "print(hh)"
   ]
  },
  {
   "cell_type": "code",
   "execution_count": 38,
   "id": "794a2d4b-24b2-4fc8-b27a-34ed0f0f541a",
   "metadata": {},
   "outputs": [
    {
     "name": "stdout",
     "output_type": "stream",
     "text": [
      "6\n"
     ]
    }
   ],
   "source": [
    "word = 'prougraammiing'\n",
    "\n",
    "v=['a','e','i','o','u']\n",
    "\n",
    "dd={}\n",
    "count=0\n",
    "for i in word:\n",
    "    if i in v:\n",
    "        count+=1\n",
    "print(count)"
   ]
  },
  {
   "cell_type": "code",
   "execution_count": 39,
   "id": "275c4cf3-69c9-4fed-9baa-b62edf43581c",
   "metadata": {},
   "outputs": [
    {
     "name": "stdout",
     "output_type": "stream",
     "text": [
      "1092\n"
     ]
    }
   ],
   "source": [
    "ss = [3,34,2,55,21, 1092,34, 55, 91,89]\n",
    "dd=ss[0]\n",
    "for i in ss:\n",
    "    if i>dd:\n",
    "        dd=i\n",
    "print(dd)\n",
    "    "
   ]
  },
  {
   "cell_type": "code",
   "execution_count": 40,
   "id": "301af61c-54fb-448c-830d-a9bb7c08668f",
   "metadata": {},
   "outputs": [
    {
     "name": "stdout",
     "output_type": "stream",
     "text": [
      "2\n"
     ]
    }
   ],
   "source": [
    "for i in ss:\n",
    "    if i<dd:\n",
    "        dd=i\n",
    "print(dd)"
   ]
  },
  {
   "cell_type": "code",
   "execution_count": 43,
   "id": "58829acc-83eb-4f57-8c0a-2ea82f19c108",
   "metadata": {},
   "outputs": [
    {
     "data": {
      "text/plain": [
       "'python'"
      ]
     },
     "execution_count": 43,
     "metadata": {},
     "output_type": "execute_result"
    }
   ],
   "source": [
    "ss = ['p','y','t','h','o','n']\n",
    "dd=\"\".join(ss)\n",
    "dd"
   ]
  },
  {
   "cell_type": "code",
   "execution_count": 44,
   "id": "4d873311-9ce8-4474-98a8-fb98fb838952",
   "metadata": {},
   "outputs": [
    {
     "name": "stdout",
     "output_type": "stream",
     "text": [
      "c\n"
     ]
    }
   ],
   "source": [
    "input1=\"aabbc\"\n",
    "output = \"c\"\n",
    "\n",
    "for i in input1:\n",
    "    if input1.count(i)==1:\n",
    "        output=i\n",
    "        break\n",
    "print(output)"
   ]
  },
  {
   "cell_type": "code",
   "execution_count": 46,
   "id": "9dabfaad-f4aa-4569-94b4-e4206168ac03",
   "metadata": {},
   "outputs": [
    {
     "name": "stdout",
     "output_type": "stream",
     "text": [
      "[5, 10]\n"
     ]
    }
   ],
   "source": [
    "ee=[2,1,3,5,2,10,1,3]\n",
    "\n",
    "dd=[]\n",
    "for i in ee:\n",
    "    if ee.count(i)==1:\n",
    "        dd.append(i)\n",
    "print(dd)\n",
    "        "
   ]
  },
  {
   "cell_type": "code",
   "execution_count": 54,
   "id": "269bffde-9bdb-473e-bb9e-5e8e70cbc2d7",
   "metadata": {},
   "outputs": [
    {
     "name": "stdout",
     "output_type": "stream",
     "text": [
      "[2, 1, 2, 4, 3, 1, 0, 0, 0]\n"
     ]
    }
   ],
   "source": [
    "ss=[2,0,1,2,0,4,3,0,1]\n",
    "\n",
    "for i in ss:\n",
    "    if i==0:\n",
    "        ss.remove(i)\n",
    "        ss.append(i)\n",
    "print(ss)"
   ]
  },
  {
   "cell_type": "code",
   "execution_count": 65,
   "id": "3df948a0-e4b0-41f6-9d37-85d37dfd0769",
   "metadata": {},
   "outputs": [
    {
     "name": "stdout",
     "output_type": "stream",
     "text": [
      "[1, 2, 3, 4, 5, 6]\n"
     ]
    }
   ],
   "source": [
    "\n",
    "ss=[[1,2],[3,4],[5,6]]\n",
    "\n",
    "dd=[]\n",
    "for i in ss:\n",
    "    if isinstance(i,list):\n",
    "        dd.extend(i)\n",
    "    else:\n",
    "        dd.append(i)\n",
    "print(dd)\n",
    "        "
   ]
  },
  {
   "cell_type": "code",
   "execution_count": 73,
   "id": "bcec0e56-30a1-4d95-87a2-5ed913b92f02",
   "metadata": {},
   "outputs": [
    {
     "name": "stdout",
     "output_type": "stream",
     "text": [
      "[[2, [3, 4]], 1]\n",
      "[1, 2, 3, 4]\n"
     ]
    }
   ],
   "source": [
    "ss=[1,[2,[3,4]]]\n",
    "dd=[]\n",
    "stat=ss[::-1]\n",
    "print(stat)\n",
    "\n",
    "while stat:\n",
    "    item=stat.pop()\n",
    "    if isinstance(item,list):\n",
    "        stat.extend(item[::-1])\n",
    "    else:\n",
    "        dd.append(item)\n",
    "print(dd)\n",
    "    "
   ]
  },
  {
   "cell_type": "code",
   "execution_count": 75,
   "id": "04481533-9669-4297-b22a-eaca6589c9e9",
   "metadata": {},
   "outputs": [
    {
     "name": "stdout",
     "output_type": "stream",
     "text": [
      "x\n"
     ]
    }
   ],
   "source": [
    "ss=\"propxropgragramm\"\n",
    "\n",
    "for i in ss:\n",
    "    if ss.count(i)==1:\n",
    "        output=i\n",
    "        break\n",
    "print(output)"
   ]
  },
  {
   "cell_type": "code",
   "execution_count": 81,
   "id": "8ae50185-3de1-4a32-8004-399e0438c0f7",
   "metadata": {},
   "outputs": [
    {
     "name": "stdout",
     "output_type": "stream",
     "text": [
      "[1, 3, 2, 4, 7, 0, 0, 0]\n"
     ]
    }
   ],
   "source": [
    "ss=[1,0,3,0,2,4,7,0]\n",
    "output=[1,3,2,4,7,0,0,0]\n",
    "\n",
    "for i in ss:\n",
    "    if i==0:\n",
    "        ss.remove(i)\n",
    "        ss.append(i)\n",
    "print(ss)"
   ]
  },
  {
   "cell_type": "code",
   "execution_count": 89,
   "id": "414879ad-c367-4a24-bafc-3616a9e45d2e",
   "metadata": {},
   "outputs": [
    {
     "name": "stdout",
     "output_type": "stream",
     "text": [
      "[1, 2, 6, 5, 6]\n"
     ]
    }
   ],
   "source": [
    "ss=[[1,2,6],[5,6]]\n",
    "dd=[]\n",
    "\n",
    "for i in ss:\n",
    "    for j in i:\n",
    "        dd.append(j)\n",
    "print(dd)"
   ]
  },
  {
   "cell_type": "code",
   "execution_count": 90,
   "id": "12d39d2b-ee59-42c1-851f-2c16c8ac4166",
   "metadata": {},
   "outputs": [
    {
     "name": "stdout",
     "output_type": "stream",
     "text": [
      "[1, 2, 6, 5, 6]\n"
     ]
    }
   ],
   "source": [
    "ss=ss=[[1,2,6],5,6]\n",
    "dd=[]\n",
    "for i in ss:\n",
    "    if isinstance(i,list):\n",
    "        dd.extend(i)\n",
    "    else:\n",
    "        dd.append(i)\n",
    "print(dd)\n",
    "        "
   ]
  },
  {
   "cell_type": "code",
   "execution_count": 95,
   "id": "b9f7332b-0b4e-4d37-8d8a-bfdc0bcfa786",
   "metadata": {},
   "outputs": [
    {
     "name": "stdout",
     "output_type": "stream",
     "text": [
      "[1, 9, 8, 2, 3, 9]\n"
     ]
    }
   ],
   "source": [
    "ss= [1,9,8,[2,3,],9]\n",
    "dd=[]\n",
    "for i in ss:\n",
    "    if isinstance(i,list):\n",
    "        dd.extend(i)\n",
    "    else:\n",
    "        dd.append(i)\n",
    "print(dd)"
   ]
  },
  {
   "cell_type": "code",
   "execution_count": 106,
   "id": "d0493d69-241b-4b27-a2fb-70a375f4d182",
   "metadata": {},
   "outputs": [
    {
     "name": "stdout",
     "output_type": "stream",
     "text": [
      "[2, 3, 4, 4, 5, 1, 2]\n"
     ]
    }
   ],
   "source": [
    "ss=[2,3,4,[4,5,[1,2]]]\n",
    "dd=ss[::-1]\n",
    "# print(dd)\n",
    "\n",
    "mm=[]\n",
    "while dd:\n",
    "    tt=dd.pop()\n",
    "    if isinstance(tt,list):\n",
    "        dd.extend(tt[::-1])\n",
    "    else:\n",
    "        mm.append(tt)\n",
    "print(mm)"
   ]
  },
  {
   "cell_type": "code",
   "execution_count": 108,
   "id": "43f0e5f2-1c14-464e-a84b-ee2118e265ce",
   "metadata": {},
   "outputs": [
    {
     "name": "stdout",
     "output_type": "stream",
     "text": [
      "2\n",
      "3\n"
     ]
    }
   ],
   "source": [
    "ss=[2,3,4,5,6]\n",
    "mm=[9,0,1,2,3,9,9]\n",
    "\n",
    "for i in ss:\n",
    "    for j in mm:\n",
    "        if i==j:\n",
    "            print(i)"
   ]
  },
  {
   "cell_type": "code",
   "execution_count": null,
   "id": "595a1aa6-f0bb-47f6-84af-42d4894b6253",
   "metadata": {},
   "outputs": [],
   "source": [
    "# implement a basic calculator (handling +,-,/)\n"
   ]
  },
  {
   "cell_type": "code",
   "execution_count": 109,
   "id": "1e3c6e6d-5524-468d-a9f9-cb490483b0e4",
   "metadata": {},
   "outputs": [
    {
     "name": "stdout",
     "output_type": "stream",
     "text": [
      "[1, 2]\n"
     ]
    }
   ],
   "source": [
    "nums = [1,1,2]\n",
    "dd=[]\n",
    "for i in nums:\n",
    "    if i not in dd:\n",
    "        dd.append(i)\n",
    "print(dd)"
   ]
  },
  {
   "cell_type": "code",
   "execution_count": 111,
   "id": "68dc27bd-d350-4819-a818-88fdebc93d50",
   "metadata": {},
   "outputs": [],
   "source": [
    "def removeDuplicates(nums):\n",
    "        dd=[]\n",
    "        for i in nums:\n",
    "            if i not in dd:\n",
    "                dd.append(i)\n",
    "        return dd"
   ]
  },
  {
   "cell_type": "code",
   "execution_count": 112,
   "id": "26ee28d5-d2e3-4581-8bc3-2487f026535d",
   "metadata": {},
   "outputs": [
    {
     "data": {
      "text/plain": [
       "[1, 2]"
      ]
     },
     "execution_count": 112,
     "metadata": {},
     "output_type": "execute_result"
    }
   ],
   "source": [
    "removeDuplicates(nums)"
   ]
  },
  {
   "cell_type": "code",
   "execution_count": 120,
   "id": "0d5af42d-3183-46b4-bd25-df6f9dfc9f55",
   "metadata": {},
   "outputs": [
    {
     "ename": "TypeError",
     "evalue": "'int' object is not iterable",
     "output_type": "error",
     "traceback": [
      "\u001b[1;31m---------------------------------------------------------------------------\u001b[0m",
      "\u001b[1;31mTypeError\u001b[0m                                 Traceback (most recent call last)",
      "Cell \u001b[1;32mIn[120], line 2\u001b[0m\n\u001b[0;32m      1\u001b[0m count\u001b[38;5;241m=\u001b[39m\u001b[38;5;241m1\u001b[39m\n\u001b[1;32m----> 2\u001b[0m \u001b[38;5;28;43;01mfor\u001b[39;49;00m\u001b[43m \u001b[49m\u001b[43mi\u001b[49m\u001b[43m \u001b[49m\u001b[38;5;129;43;01min\u001b[39;49;00m\u001b[43m \u001b[49m\u001b[38;5;28;43mlen\u001b[39;49m\u001b[43m(\u001b[49m\u001b[43mnums\u001b[49m\u001b[43m)\u001b[49m\u001b[43m:\u001b[49m\n\u001b[0;32m      3\u001b[0m \u001b[43m    \u001b[49m\u001b[38;5;28;43;01mif\u001b[39;49;00m\u001b[43m \u001b[49m\u001b[43mnums\u001b[49m\u001b[43m[\u001b[49m\u001b[43mi\u001b[49m\u001b[43m]\u001b[49m\u001b[38;5;241;43m!=\u001b[39;49m\u001b[43mnums\u001b[49m\u001b[43m[\u001b[49m\u001b[43mi\u001b[49m\u001b[38;5;241;43m-\u001b[39;49m\u001b[38;5;241;43m1\u001b[39;49m\u001b[43m]\u001b[49m\u001b[43m:\u001b[49m\n\u001b[0;32m      4\u001b[0m \u001b[43m        \u001b[49m\u001b[43mcount\u001b[49m\u001b[38;5;241;43m+\u001b[39;49m\u001b[38;5;241;43m=\u001b[39;49m\u001b[38;5;241;43m1\u001b[39;49m\n",
      "\u001b[1;31mTypeError\u001b[0m: 'int' object is not iterable"
     ]
    }
   ],
   "source": [
    "count=1\n",
    "for i in len(nums):\n",
    "    if nums[i]!=nums[i-1]:\n",
    "        count+=1\n",
    "print(count)\n",
    "    "
   ]
  },
  {
   "cell_type": "code",
   "execution_count": 141,
   "id": "93fcd7d0-5b1d-4b15-badc-bdeccf7420b0",
   "metadata": {},
   "outputs": [
    {
     "name": "stdout",
     "output_type": "stream",
     "text": [
      "20 is not a prime number\n"
     ]
    }
   ],
   "source": [
    "num=20 #int(input(\"enter a number\"))\n",
    "if num > 1:\n",
    "    for i in range(2,num):\n",
    "        if num % i==0:\n",
    "            print(num,\"is not a prime number\")\n",
    "            break\n",
    "    else:\n",
    "        print(num,\"is a prime number\")\n",
    "else:\n",
    "    print(num,\"is not a prime number\")\n",
    "            \n",
    "            "
   ]
  },
  {
   "cell_type": "code",
   "execution_count": 10,
   "id": "29444d7f-98f3-4f6f-b923-d34f332e55c7",
   "metadata": {},
   "outputs": [],
   "source": [
    "a=10\n",
    "a+=1\n",
    "a=a+1\n",
    "a=+1\n",
    "a=a-1\n",
    "\n",
    "a/=1\n",
    "a=a/1\n",
    "\n",
    "a*=1\n",
    "a=a*1"
   ]
  },
  {
   "cell_type": "code",
   "execution_count": 11,
   "id": "6b9eeeab-d661-4a23-bd45-0779309d473a",
   "metadata": {},
   "outputs": [],
   "source": [
    "x=10"
   ]
  },
  {
   "cell_type": "code",
   "execution_count": 12,
   "id": "8cb7cda7-fc50-4e69-90ea-46f3adce4202",
   "metadata": {},
   "outputs": [
    {
     "data": {
      "text/plain": [
       "140729390009048"
      ]
     },
     "execution_count": 12,
     "metadata": {},
     "output_type": "execute_result"
    }
   ],
   "source": [
    "id(x)"
   ]
  },
  {
   "cell_type": "code",
   "execution_count": null,
   "id": "51db6cbb-2696-4fcc-8402-fe1ab1caf7a6",
   "metadata": {},
   "outputs": [],
   "source": []
  }
 ],
 "metadata": {
  "kernelspec": {
   "display_name": "Python 3 (ipykernel)",
   "language": "python",
   "name": "python3"
  },
  "language_info": {
   "codemirror_mode": {
    "name": "ipython",
    "version": 3
   },
   "file_extension": ".py",
   "mimetype": "text/x-python",
   "name": "python",
   "nbconvert_exporter": "python",
   "pygments_lexer": "ipython3",
   "version": "3.12.6"
  }
 },
 "nbformat": 4,
 "nbformat_minor": 5
}
