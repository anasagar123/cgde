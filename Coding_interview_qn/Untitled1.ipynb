{
 "cells": [
  {
   "cell_type": "code",
   "execution_count": 7,
   "id": "b2d62dd0-325d-454d-bb43-090677fb1aac",
   "metadata": {},
   "outputs": [
    {
     "name": "stdout",
     "output_type": "stream",
     "text": [
      "1\n",
      "2\n",
      "6\n",
      "24\n"
     ]
    }
   ],
   "source": [
    "fac = 1\n",
    "for i in range(1,5):\n",
    "    fac=fac*i\n",
    "    print(fac)"
   ]
  },
  {
   "cell_type": "code",
   "execution_count": 13,
   "id": "a949a001-4ee0-461b-a233-4c1d98403223",
   "metadata": {},
   "outputs": [
    {
     "name": "stdout",
     "output_type": "stream",
     "text": [
      "2\n"
     ]
    }
   ],
   "source": [
    "nums=[2,5,10,14,21,4,4]\n",
    "dd=nums[0]\n",
    "for i in nums:\n",
    "    if i<dd:\n",
    "        dd=i\n",
    "print(dd)\n",
    "    "
   ]
  },
  {
   "cell_type": "code",
   "execution_count": 14,
   "id": "86dcd396-174e-4192-9120-c0341f7f6988",
   "metadata": {},
   "outputs": [
    {
     "name": "stdout",
     "output_type": "stream",
     "text": [
      "{2: 1, 5: 1, 10: 1, 14: 1, 21: 1, 4: 2}\n"
     ]
    }
   ],
   "source": [
    "dd={}\n",
    "for i in nums:\n",
    "    dd[i]=nums.count(i)\n",
    "print(dd)"
   ]
  },
  {
   "cell_type": "code",
   "execution_count": 17,
   "id": "bc4c51b9-1d29-43c7-8f7c-36cc304d6a28",
   "metadata": {},
   "outputs": [
    {
     "name": "stdout",
     "output_type": "stream",
     "text": [
      "[2, 2, 14, 21, 4, 4, 4, 4]\n"
     ]
    }
   ],
   "source": [
    "nums=[2,5,10,14,21,4,4]\n",
    "nums1=[2,0,9,14,2,21,4,4]\n",
    "mm=[]\n",
    "for i in nums:\n",
    "    for j in nums1:\n",
    "        if i==j:\n",
    "            mm.append(i)\n",
    "print(mm)"
   ]
  },
  {
   "cell_type": "code",
   "execution_count": 19,
   "id": "e01e53ea-22c0-475e-9fb8-c6a3c7b27aaf",
   "metadata": {},
   "outputs": [
    {
     "name": "stdout",
     "output_type": "stream",
     "text": [
      "[2, 0, 9, 14, 21, 4]\n"
     ]
    }
   ],
   "source": [
    "nums1=[2,0,9,14,2,21,4,2,4]\n",
    "\n",
    "hh=[]\n",
    "for i in nums1:\n",
    "    if i not in hh:\n",
    "        hh.append(i)\n",
    "print(hh)"
   ]
  },
  {
   "cell_type": "code",
   "execution_count": null,
   "id": "3194ea37-ec73-4966-bdfd-bd00e1c11916",
   "metadata": {},
   "outputs": [],
   "source": []
  },
  {
   "cell_type": "code",
   "execution_count": 326,
   "id": "7628439b-19d5-41f6-827e-ec0e97fd4ecc",
   "metadata": {},
   "outputs": [
    {
     "name": "stdout",
     "output_type": "stream",
     "text": [
      "[2, 0, 21, 4]\n"
     ]
    }
   ],
   "source": [
    "nums1=[2,0,9,14,2,0,21,4,2,21,4]\n",
    "hh=[]\n",
    "for i in nums1:\n",
    "    if nums1.count(i) > 1 and i not in hh:\n",
    "        hh.append(i)\n",
    "print(hh)\n",
    "        "
   ]
  },
  {
   "cell_type": "code",
   "execution_count": null,
   "id": "87a1e890-7cb9-4d83-8085-4ccf95295453",
   "metadata": {},
   "outputs": [],
   "source": []
  },
  {
   "cell_type": "code",
   "execution_count": 24,
   "id": "047d01f4-0390-443d-a3df-4c6e526e9826",
   "metadata": {},
   "outputs": [
    {
     "name": "stdout",
     "output_type": "stream",
     "text": [
      "{2: 4, 0: 0, 9: 81, 14: 196, 21: 441, 4: 16}\n"
     ]
    }
   ],
   "source": [
    "dd={}\n",
    "for i in nums1:\n",
    "    dd[i]=i**2\n",
    "print(dd)\n",
    "    "
   ]
  },
  {
   "cell_type": "code",
   "execution_count": 44,
   "id": "ca278e49-4e7d-4935-ab2b-15fbc1abbded",
   "metadata": {},
   "outputs": [
    {
     "name": "stdout",
     "output_type": "stream",
     "text": [
      "{'a': 4, 'i': 2, 'o': 1, 'u': 1}\n"
     ]
    }
   ],
   "source": [
    "ss=\"anandFagstIqiOvsAU\"\n",
    "uu=ss.lower()\n",
    "dd={}\n",
    "tt=['a','e','i','o','u']\n",
    "for i in ss.lower():\n",
    "    if i in tt:\n",
    "        dd[i]=(ss.lower()).count(i)\n",
    "print(dd)"
   ]
  },
  {
   "cell_type": "code",
   "execution_count": 32,
   "id": "f0f09ed3-06b1-431d-9c5d-c39911d56982",
   "metadata": {},
   "outputs": [
    {
     "data": {
      "text/plain": [
       "'anandfagstiqiovsau'"
      ]
     },
     "execution_count": 32,
     "metadata": {},
     "output_type": "execute_result"
    }
   ],
   "source": [
    "ss=\"anandFagstIqiOvsAU\"\n",
    "ss.lower()"
   ]
  },
  {
   "cell_type": "code",
   "execution_count": 45,
   "id": "a36dd6be-b833-4ccb-a496-6cd58678361e",
   "metadata": {},
   "outputs": [
    {
     "name": "stdout",
     "output_type": "stream",
     "text": [
      "{'a': 4}\n"
     ]
    }
   ],
   "source": [
    "ss=\"anandFagstIqiOvsAU\"\n",
    "tt='a'\n",
    "dd={}\n",
    "for i in ss.lower():\n",
    "    if i in tt:\n",
    "        dd[i]=(ss.lower()).count(i)\n",
    "print(dd)\n",
    "        "
   ]
  },
  {
   "cell_type": "code",
   "execution_count": 4,
   "id": "d53851cc-ea1d-41e4-a920-f9137830c1d8",
   "metadata": {},
   "outputs": [
    {
     "name": "stdout",
     "output_type": "stream",
     "text": [
      "[0, 1, 1, 2, 3, 5, 8]\n"
     ]
    }
   ],
   "source": [
    "fib=[0,1]\n",
    "\n",
    "for i in range(5):\n",
    "    fib.append(fib[-1]+fib[-2])\n",
    "print(fib)"
   ]
  },
  {
   "cell_type": "code",
   "execution_count": 47,
   "id": "55235a9f-c8ce-4b25-8107-8838a2ee949f",
   "metadata": {},
   "outputs": [
    {
     "data": {
      "text/plain": [
       "2.5"
      ]
     },
     "execution_count": 47,
     "metadata": {},
     "output_type": "execute_result"
    }
   ],
   "source": [
    "5/2"
   ]
  },
  {
   "cell_type": "code",
   "execution_count": 48,
   "id": "86825183-95d6-43cc-aab3-a457294d3a86",
   "metadata": {},
   "outputs": [
    {
     "data": {
      "text/plain": [
       "2"
      ]
     },
     "execution_count": 48,
     "metadata": {},
     "output_type": "execute_result"
    }
   ],
   "source": [
    "5//2"
   ]
  },
  {
   "cell_type": "code",
   "execution_count": 53,
   "id": "515dd9c7-b3d6-408a-a39a-2af15a3254e5",
   "metadata": {},
   "outputs": [
    {
     "data": {
      "text/plain": [
       "True"
      ]
     },
     "execution_count": 53,
     "metadata": {},
     "output_type": "execute_result"
    }
   ],
   "source": [
    "tt = \"listEn\"\n",
    "hh=\"sileNt\"\n",
    "sorted(hh.lower())==sorted(tt.lower())"
   ]
  },
  {
   "cell_type": "code",
   "execution_count": 55,
   "id": "b9b53aed-24d2-41ab-b880-6dc35f8d938b",
   "metadata": {},
   "outputs": [
    {
     "name": "stdout",
     "output_type": "stream",
     "text": [
      "5\n"
     ]
    }
   ],
   "source": [
    "ss = \"asfg eyj eyh jn e yy\"\n",
    "hh=\" \"\n",
    "count=0\n",
    "for i in ss:\n",
    "    if i in hh:\n",
    "        count+=1\n",
    "print(count)"
   ]
  },
  {
   "cell_type": "code",
   "execution_count": 7,
   "id": "f336e45a-bb5f-4b7e-8dfb-048d04fad1ca",
   "metadata": {},
   "outputs": [
    {
     "name": "stdout",
     "output_type": "stream",
     "text": [
      "8\n",
      "3\n",
      "15\n",
      "[8, 3, 15]\n"
     ]
    }
   ],
   "source": [
    "ss = \"prohyta5473 try wwecd7839 \"\n",
    "d=0\n",
    "l=0\n",
    "s=0\n",
    "for i in ss:\n",
    "    if i.isdigit():\n",
    "        d+=1\n",
    "    elif i.isspace():\n",
    "        s+=1\n",
    "    elif i.isalpha():\n",
    "        l+=1\n",
    "print(d)\n",
    "print(s)\n",
    "print(l)\n",
    "print([d,s,l])\n",
    "    "
   ]
  },
  {
   "cell_type": "code",
   "execution_count": 60,
   "id": "b13f30c8-e383-40a6-9c0e-33247be3b1c6",
   "metadata": {},
   "outputs": [
    {
     "data": {
      "text/plain": [
       "'MteurbtI'"
      ]
     },
     "execution_count": 60,
     "metadata": {},
     "output_type": "execute_result"
    }
   ],
   "source": [
    "ss=\"WteurbtI\"\n",
    "ss.replace(\"W\",\"M\")"
   ]
  },
  {
   "cell_type": "code",
   "execution_count": 6,
   "id": "eac64f59-27ad-49fe-a493-1f9eddc39f37",
   "metadata": {},
   "outputs": [
    {
     "name": "stdin",
     "output_type": "stream",
     "text": [
      "ente the name sa\n",
      "enter the age 32\n",
      "ente the name as\n",
      "enter the age 22\n",
      "ente the name vk\n",
      "enter the age 43\n"
     ]
    },
    {
     "name": "stdout",
     "output_type": "stream",
     "text": [
      "[{'name': 'as', 'Age': 22}, {'name': 'sa', 'Age': 32}, {'name': 'vk', 'Age': 43}]\n"
     ]
    }
   ],
   "source": [
    "hh=[]\n",
    "for i in range(3):\n",
    "    name=str(input(\"ente the name\"))\n",
    "    age=int(input(\"enter the age\"))\n",
    "    hh.append({\"name\":name,\"Age\":age})\n",
    "print(sorted(hh,key=lambda x:x[\"name\"]))\n"
   ]
  },
  {
   "cell_type": "code",
   "execution_count": 13,
   "id": "9972b3ac-4198-4962-8bd0-259126e3745a",
   "metadata": {},
   "outputs": [
    {
     "name": "stdout",
     "output_type": "stream",
     "text": [
      "[12, 21, 32, 12, 23, 43, 11]\n"
     ]
    }
   ],
   "source": [
    "input_list = [12, 21, 32, 12, [23, 43, 11]]\n",
    "dd=[]\n",
    "for i in input_list:\n",
    "    if isinstance(i,list):\n",
    "        dd.extend(i)\n",
    "    else:\n",
    "        dd.append(i)\n",
    "print(dd)\n",
    "        "
   ]
  },
  {
   "cell_type": "code",
   "execution_count": 29,
   "id": "d4b77314-84f3-4696-851e-2dfe4280b2b3",
   "metadata": {},
   "outputs": [
    {
     "name": "stdout",
     "output_type": "stream",
     "text": [
      "[1, 2, 6, 5, 6]\n"
     ]
    }
   ],
   "source": [
    "tt=[[1,2,6],[5,6]]\n",
    "# mm=[]\n",
    "# for i in tt:\n",
    "#     for j in i:\n",
    "#         mm.append(j)\n",
    "# print(mm)\n",
    "\n",
    "kk=[]\n",
    "for i in tt:\n",
    "    if isinstance(i,list):\n",
    "        kk.extend(i)\n",
    "    else:\n",
    "        kk.append(i)\n",
    "print(kk)"
   ]
  },
  {
   "cell_type": "code",
   "execution_count": 79,
   "id": "4aba07c7-b218-4fef-8666-97d4b4c8a1a2",
   "metadata": {},
   "outputs": [
    {
     "name": "stdout",
     "output_type": "stream",
     "text": [
      "[23, 43, 11, 23, 34]\n"
     ]
    }
   ],
   "source": [
    "input_list = [[23, 43, 11],[23,34]]\n",
    "\n",
    "# gg=[]\n",
    "# for i in input_list:\n",
    "#     for j in i:\n",
    "#         gg.append(j)\n",
    "# print(gg)\n",
    "mm=[]\n",
    "for i in input_list:\n",
    "    if isinstance(i,list):\n",
    "        mm.extend(i)\n",
    "    else:\n",
    "        mm.append(i)\n",
    "print(mm)\n",
    "        "
   ]
  },
  {
   "cell_type": "code",
   "execution_count": 36,
   "id": "9733751f-5136-4275-90bd-1c7417324e96",
   "metadata": {},
   "outputs": [
    {
     "name": "stdout",
     "output_type": "stream",
     "text": [
      "prohyta5473 try wwecd7839 \n"
     ]
    }
   ],
   "source": [
    "tt = [1,2,0,4,0,5,0,5]\n",
    "\n",
    "for i in tt:\n",
    "    if i==0:\n",
    "        tt.remove(i)\n",
    "        tt.append(i)\n",
    "print(ss)\n",
    "\n"
   ]
  },
  {
   "cell_type": "code",
   "execution_count": 43,
   "id": "b956cdef-945a-4cb7-a4bd-00851745589d",
   "metadata": {},
   "outputs": [
    {
     "name": "stdout",
     "output_type": "stream",
     "text": [
      "[0, 2, 4, 5, 5, 0, 0, 1]\n",
      "[1, 2, 4, 5, 5, 0, 0, 0]\n"
     ]
    }
   ],
   "source": [
    "dd=[1, 2, 4, 5, 5, 0, 0, 0]\n",
    "dd[-1],dd[0]=dd[0],dd[-1]\n",
    "print(dd)\n",
    "dd[0],dd[-1] = dd[-1],dd[0]\n",
    "print(dd)"
   ]
  },
  {
   "cell_type": "code",
   "execution_count": 268,
   "id": "ca4a960f-163e-457a-b01b-20cbc6473d89",
   "metadata": {},
   "outputs": [
    {
     "name": "stdout",
     "output_type": "stream",
     "text": [
      "e\n"
     ]
    }
   ],
   "source": [
    "input1=\"aabbccohohe\"\n",
    "output = \"e\"\n",
    "\n",
    "for i in input1:\n",
    "    if input1.count(i)==1:\n",
    "        output=i\n",
    "        break\n",
    "print(output)"
   ]
  },
  {
   "cell_type": "code",
   "execution_count": 47,
   "id": "59939d65-3b9e-4d24-8cac-0d9be167c3dd",
   "metadata": {},
   "outputs": [
    {
     "name": "stdout",
     "output_type": "stream",
     "text": [
      "[9]\n"
     ]
    }
   ],
   "source": [
    "tt=[1,2,3,9,4,4,3,2,1]\n",
    "mm=[]\n",
    "for i in tt:\n",
    "    if tt.count(i)==1:\n",
    "        mm.append(i)\n",
    "print(mm)\n",
    "        "
   ]
  },
  {
   "cell_type": "code",
   "execution_count": 59,
   "id": "c99ec161-40ff-42a6-a52a-c2a5d18c4967",
   "metadata": {},
   "outputs": [
    {
     "name": "stdout",
     "output_type": "stream",
     "text": [
      "{'i': 2, 'a': 5, 'm': 1, 'n': 3, 'd': 2, 's': 2, 'g': 2, 'r': 1, 'e': 2, 't': 2, 'o': 5, 'c': 1, 'h': 1, 'l': 1}\n",
      "a\n",
      "5\n"
     ]
    }
   ],
   "source": [
    "ss=\"i am anand sagar i need to go to school\"\n",
    "dd={}\n",
    "for i in ss.replace(\" \",\"\"):\n",
    "    dd[i]=ss.count(i)\n",
    "print(dd)\n",
    "most=max(dd,key=dd.get)\n",
    "print(most)\n",
    "hh=dd[most]\n",
    "print(hh)\n",
    "    "
   ]
  },
  {
   "cell_type": "code",
   "execution_count": 70,
   "id": "467027e9-27f2-4636-94c2-e1dfa1aef47e",
   "metadata": {},
   "outputs": [],
   "source": [
    "### Factorial\n",
    "\n",
    "def factorial(n):\n",
    "    if n==0 & n==1:\n",
    "        return 1\n",
    "    else:\n",
    "        mm=1\n",
    "        for i in range(1,n):\n",
    "            mm=mm*i\n",
    "        return mm"
   ]
  },
  {
   "cell_type": "code",
   "execution_count": 76,
   "id": "9723bc5a-7f4c-4975-85fb-c9223a112d77",
   "metadata": {},
   "outputs": [
    {
     "data": {
      "text/plain": [
       "1"
      ]
     },
     "execution_count": 76,
     "metadata": {},
     "output_type": "execute_result"
    }
   ],
   "source": [
    "factorial(-5)"
   ]
  },
  {
   "cell_type": "code",
   "execution_count": null,
   "id": "a7a847c3-0f20-41cb-a461-463b40c46de2",
   "metadata": {},
   "outputs": [],
   "source": []
  },
  {
   "cell_type": "code",
   "execution_count": 77,
   "id": "b8c52996-7bbc-4cae-99f3-ab128c889300",
   "metadata": {},
   "outputs": [
    {
     "name": "stdin",
     "output_type": "stream",
     "text": [
      "enter the number 23\n"
     ]
    }
   ],
   "source": [
    "ss=list(input(\"enter the number\"))"
   ]
  },
  {
   "cell_type": "code",
   "execution_count": 78,
   "id": "209a83e8-11e6-4a07-8112-cbb55ac54e77",
   "metadata": {},
   "outputs": [
    {
     "data": {
      "text/plain": [
       "[9, 16, 25]"
      ]
     },
     "execution_count": 78,
     "metadata": {},
     "output_type": "execute_result"
    }
   ],
   "source": [
    "ss=[3,4,5]\n",
    "[i**2 for i in ss]"
   ]
  },
  {
   "cell_type": "code",
   "execution_count": 82,
   "id": "3b8f8ad6-973e-4af0-8ac0-94b676e84d33",
   "metadata": {},
   "outputs": [
    {
     "name": "stdout",
     "output_type": "stream",
     "text": [
      "c\n"
     ]
    }
   ],
   "source": [
    "input1=\"aabbc\"\n",
    "output = \"c\"\n",
    "\n",
    "for i in input1:\n",
    "    if input1.count(i)==1:\n",
    "        output=i\n",
    "        break\n",
    "print(output)"
   ]
  },
  {
   "cell_type": "code",
   "execution_count": 93,
   "id": "d36bed22-4923-4a29-aee1-f47afa6f89ee",
   "metadata": {},
   "outputs": [
    {
     "name": "stdout",
     "output_type": "stream",
     "text": [
      "{'i': 2, ' ': 9, 'a': 15, 'm': 1, 'n': 3, 'd': 2, 's': 2, 'g': 2, 'r': 1, 'e': 2, 't': 2, 'o': 5, 'c': 1, 'h': 1, 'l': 1}\n",
      "a\n",
      "15\n"
     ]
    }
   ],
   "source": [
    "ss=\"i am anand sagar i need tao gao tao sachaaaaaaool\"\n",
    "mm={}\n",
    "for i in ss:\n",
    "    mm[i]=ss.count(i)\n",
    "print(mm)\n",
    "\n",
    "hh=max(mm,key=mm.get)\n",
    "print(hh)\n",
    "kk=mm[hh]\n",
    "print(kk)"
   ]
  },
  {
   "cell_type": "code",
   "execution_count": null,
   "id": "412cb39d-174f-4c7f-8325-27cd5c1a68a3",
   "metadata": {},
   "outputs": [],
   "source": []
  },
  {
   "cell_type": "code",
   "execution_count": null,
   "id": "83a16101-19d7-4997-9912-17f0768d3e19",
   "metadata": {},
   "outputs": [],
   "source": []
  },
  {
   "cell_type": "code",
   "execution_count": 101,
   "id": "32c67e57-8353-4002-9030-7da3b47c58c0",
   "metadata": {},
   "outputs": [
    {
     "name": "stdout",
     "output_type": "stream",
     "text": [
      "[1, 2, 3, 4, 5, 6, 7, 8]\n"
     ]
    }
   ],
   "source": [
    "list1 = [1, 5,3, 7]\n",
    "list2 = [2,6,4, 8]\n",
    "\n",
    "kk=sorted(list1)\n",
    "mm=sorted(list2)\n",
    "hh=kk+mm\n",
    "print(sorted(hh))"
   ]
  },
  {
   "cell_type": "markdown",
   "id": "d989e289-4dd0-4b93-84b6-49b1a5412f3d",
   "metadata": {},
   "source": [
    "dd=[2,3,1,2,4,5,4]\n",
    "mm=[]\n",
    "\n",
    "for i in dd:\n",
    "    if dd.count(i) >1 and i not in mm:\n",
    "        mm.append(i)\n",
    "print(mm)"
   ]
  },
  {
   "cell_type": "code",
   "execution_count": null,
   "id": "18a74bbf-b067-4679-b261-94cbcfc05d50",
   "metadata": {},
   "outputs": [],
   "source": []
  },
  {
   "cell_type": "code",
   "execution_count": null,
   "id": "033a030a-9d08-43fa-96b4-889bc39093e0",
   "metadata": {},
   "outputs": [],
   "source": []
  },
  {
   "cell_type": "code",
   "execution_count": null,
   "id": "623bae5f-38df-4fae-8b5b-cdf4494924d0",
   "metadata": {},
   "outputs": [],
   "source": [
    "# remove duplicate\n",
    "# find duplicate\n",
    "# find Non-repeating Character\n",
    "# max number character and how many times"
   ]
  },
  {
   "cell_type": "code",
   "execution_count": 89,
   "id": "fbfc8da4-afe1-4dab-8e90-b93962f02b88",
   "metadata": {},
   "outputs": [
    {
     "name": "stdout",
     "output_type": "stream",
     "text": [
      "-321\n"
     ]
    }
   ],
   "source": [
    "# l1 = [2,4,3]\n",
    "# l2 = [5,6,4]\n",
    "# output=[7,0,8]\n",
    "\n",
    "# ss=int(\"\".join(map(str,l1[::-1])))\n",
    "# kk=int(\"\".join(map(str,l2[::-1])))\n",
    "# mm=ss+kk\n",
    "\n",
    "# tt=[]\n",
    "# for i in str(mm):\n",
    "#     tt.append(int(i))\n",
    "# print(tt[::-1])     \n",
    "\n",
    "input1=-123\n",
    "output=321\n",
    "\n",
    "if input1 > 0:\n",
    "    ss=int((str(input1))[::-1])\n",
    "    print(ss)\n",
    "else:\n",
    "    dd=int((str(abs(input1)))[::-1])\n",
    "    print(-dd)"
   ]
  },
  {
   "cell_type": "code",
   "execution_count": null,
   "id": "cf9a2909-3a74-40f2-83c3-667cfb4f0200",
   "metadata": {},
   "outputs": [],
   "source": []
  },
  {
   "cell_type": "code",
   "execution_count": null,
   "id": "25c5d1e9-5330-4b02-877f-e286f556dda4",
   "metadata": {},
   "outputs": [],
   "source": []
  },
  {
   "cell_type": "code",
   "execution_count": 6,
   "id": "095a68b7-ea52-4038-9438-483a83ada144",
   "metadata": {},
   "outputs": [
    {
     "name": "stdout",
     "output_type": "stream",
     "text": [
      "[[3, 3], [3, 3], [2, 4], [3, 3], [7, -1], [7, -1], [9, -3]]\n"
     ]
    }
   ],
   "source": [
    "nums = [3,2,4,3,7,1,7,-1,9,3,-3,1]\n",
    "target = 6\n",
    "hh=[]\n",
    "for i in range(len(nums)):\n",
    "    for j in range(i+1,len(nums)):\n",
    "        if nums[i]+nums[j]==target:\n",
    "            hh.append([nums[i],nums[j]])\n",
    "print(hh)     "
   ]
  },
  {
   "cell_type": "code",
   "execution_count": 11,
   "id": "7b3b5164-8000-4b68-b64d-dbd72014fd64",
   "metadata": {},
   "outputs": [
    {
     "name": "stdout",
     "output_type": "stream",
     "text": [
      "-321\n"
     ]
    }
   ],
   "source": [
    "input1=-123\n",
    "output=321\n",
    "\n",
    "# input2=-123\n",
    "# output=-321\n",
    "\n",
    "if input1>0:\n",
    "    print(int(str(input1)[::-1]))\n",
    "elif input1<0:\n",
    "    ss= int(str(abs(input1))[::-1])\n",
    "    print(-ss)"
   ]
  },
  {
   "cell_type": "code",
   "execution_count": 87,
   "id": "44a5df0f-f4d2-4bd3-8964-9ca0bb3549a7",
   "metadata": {},
   "outputs": [
    {
     "name": "stdout",
     "output_type": "stream",
     "text": [
      "[8, 9, 9, 9, 0, 0, 0, 1]\n"
     ]
    }
   ],
   "source": [
    "# l1 = [2,4,3]\n",
    "# l2 = [5,6,4]\n",
    "# Output= [7,0,8]\n",
    "\n",
    "l1 = [9,9,9,9,9,9,9]\n",
    "l2 = [9,9,9,9]\n",
    "\n",
    "ss=int(\"\".join(map(str,l1[::-1])))\n",
    "\n",
    "hh= int(\"\".join(map(str,l2[::-1])))\n",
    "\n",
    "total=ss+hh\n",
    "mm=[]\n",
    "for i in str(total):\n",
    "    mm.append(int(i))\n",
    "print(mm[::-1])\n"
   ]
  },
  {
   "cell_type": "code",
   "execution_count": null,
   "id": "728d8118-3979-44c0-9aa6-4a110e454922",
   "metadata": {},
   "outputs": [],
   "source": []
  },
  {
   "cell_type": "code",
   "execution_count": 58,
   "id": "d3ef0765-94d5-4c66-846a-4419ae64c285",
   "metadata": {},
   "outputs": [
    {
     "data": {
      "text/plain": [
       "[5, 10, 13, 21, 4]"
      ]
     },
     "execution_count": 58,
     "metadata": {},
     "output_type": "execute_result"
    }
   ],
   "source": [
    "list(map(lambda x,y:x+y,[2,4,5,12,3,3,4,5],[3,6,8,9,1]))"
   ]
  },
  {
   "cell_type": "code",
   "execution_count": 91,
   "id": "7742b43c-fc7a-48ed-9fe2-358a2e625b54",
   "metadata": {},
   "outputs": [
    {
     "name": "stdout",
     "output_type": "stream",
     "text": [
      "not palindrome\n"
     ]
    }
   ],
   "source": [
    "# palindrome\n",
    "ss=\"madam\"\n",
    "\n",
    "if ss==ss[::-1]:\n",
    "    print(\"Palindrome\")\n",
    "else:\n",
    "    print(\"not palindrome\")"
   ]
  },
  {
   "cell_type": "code",
   "execution_count": 93,
   "id": "b2fcf342-3a9e-4f61-8faf-ed749e0225ab",
   "metadata": {},
   "outputs": [
    {
     "name": "stdout",
     "output_type": "stream",
     "text": [
      "[0, 1, 1, 2, 3, 5, 8, 13, 21, 34, 55]\n"
     ]
    }
   ],
   "source": [
    "# fibnonacci series\n",
    "fib=[0,1]\n",
    "for i in range(1,10):\n",
    "    fib.append(fib[-1]+fib[-2])\n",
    "print(fib)\n",
    "    "
   ]
  },
  {
   "cell_type": "code",
   "execution_count": 96,
   "id": "d297e966-46aa-41a9-9165-4cffabfbf9a4",
   "metadata": {},
   "outputs": [
    {
     "name": "stdout",
     "output_type": "stream",
     "text": [
      "1\n"
     ]
    }
   ],
   "source": [
    "ss=[5, 8, 13,90, 21, 1,34, 55]\n",
    "\n",
    "mm=ss[0]\n",
    "for i in ss:\n",
    "    if i<mm:\n",
    "        mm=i\n",
    "print(mm)"
   ]
  },
  {
   "cell_type": "code",
   "execution_count": 114,
   "id": "72e81b2f-ee14-4736-93e4-388bbc2911e9",
   "metadata": {},
   "outputs": [
    {
     "name": "stdout",
     "output_type": "stream",
     "text": [
      "{5: 2, 8: 2, 55: 2, 21: 2, 1: 2, 13: 1, 90: 1, 34: 1}\n"
     ]
    }
   ],
   "source": [
    "# Frequency of each element\n",
    "ss=[5, 8, 8,5,55,21,1,13,90, 21, 1,34, 55]\n",
    "gg={}\n",
    "for i in ss:\n",
    "    gg[i]=ss.count(i)\n",
    "print(gg)"
   ]
  },
  {
   "cell_type": "code",
   "execution_count": 105,
   "id": "603973a9-4025-4a41-a2b8-f3e76bd2f721",
   "metadata": {},
   "outputs": [
    {
     "name": "stdout",
     "output_type": "stream",
     "text": [
      "[55, 21, 1, 90, 21, 1, 34, 55]\n"
     ]
    }
   ],
   "source": [
    "# common element from both list\n",
    "ss=[5, 8, 8,5,55,21,1,13,90, 21, 1,34, 55]\n",
    "mm=[90, 21, 1,34, 55]\n",
    "kk=[]\n",
    "for i in ss:\n",
    "    if i in mm:\n",
    "        kk.append(i)\n",
    "print(kk)"
   ]
  },
  {
   "cell_type": "code",
   "execution_count": 111,
   "id": "e8ea4fa5-e381-4626-89a1-5838d6e92001",
   "metadata": {},
   "outputs": [
    {
     "name": "stdout",
     "output_type": "stream",
     "text": [
      "[5, 8, 55, 21, 1]\n"
     ]
    }
   ],
   "source": [
    "# remove duplicate\n",
    "ss=[5, 8, 8,5,55,21,1,13,90, 21, 1,34, 55]\n",
    "kk=[]\n",
    "for i in ss:\n",
    "    if ss.count(i)>1 and i not in kk :\n",
    "        kk.append(i)\n",
    "print(kk)\n",
    "# [5, 8, 8, 5, 55, 21, 1, 21, 1, 55]"
   ]
  },
  {
   "cell_type": "code",
   "execution_count": 113,
   "id": "4e49f4f1-d613-4ed0-abbb-23262eca60df",
   "metadata": {},
   "outputs": [
    {
     "name": "stdout",
     "output_type": "stream",
     "text": [
      "[5, 8, 8, 5, 55, 21, 1, 21, 1, 55]\n"
     ]
    }
   ],
   "source": [
    "#find duplicate\n",
    "ss=[5, 8, 8,5,55,21,1,13,90, 21, 1,34, 55]\n",
    "hh=[]\n",
    "for i in ss:\n",
    "    if ss.count(i)>1:\n",
    "        hh.append(i)\n",
    "print(hh)"
   ]
  },
  {
   "cell_type": "code",
   "execution_count": 117,
   "id": "b7469160-2e6e-4c07-b2ae-17838136a689",
   "metadata": {},
   "outputs": [
    {
     "name": "stdout",
     "output_type": "stream",
     "text": [
      "{'o': 1, 'u': 1, 'a': 2, 'i': 2}\n"
     ]
    }
   ],
   "source": [
    "# count each vowel in word\n",
    "word = 'prougraammiing'\n",
    "\n",
    "ff=['a','e','i','o','u','A','E','I','O','U']\n",
    "tt={}\n",
    "for i in word:\n",
    "    if i in ff:\n",
    "        tt[i]=word.count(i)\n",
    "print(tt)\n",
    "\n"
   ]
  },
  {
   "cell_type": "code",
   "execution_count": 118,
   "id": "b480daf6-8489-4f55-b8ac-d15d0dd25790",
   "metadata": {},
   "outputs": [
    {
     "name": "stdout",
     "output_type": "stream",
     "text": [
      "6\n"
     ]
    }
   ],
   "source": [
    "# Counting vowel in a given word\n",
    "word = 'prougraammiing'\n",
    "ff=['a','e','i','o','u','A','E','I','O','U']\n",
    "count=0\n",
    "for i in word:\n",
    "    if i in ff:\n",
    "        count+=1\n",
    "print(count)"
   ]
  },
  {
   "cell_type": "code",
   "execution_count": 120,
   "id": "ec3a94f1-28e0-4267-8d0b-dc3f06ec0768",
   "metadata": {},
   "outputs": [
    {
     "name": "stdout",
     "output_type": "stream",
     "text": [
      "3\n"
     ]
    }
   ],
   "source": [
    "# Counting the number of occurances of a character in a string.\n",
    "word = 'pgrogramming'\n",
    "charc ='g'\n",
    "count=0\n",
    "for i in word:\n",
    "    if i in charc:\n",
    "        count+=1\n",
    "print(count)"
   ]
  },
  {
   "cell_type": "code",
   "execution_count": 122,
   "id": "b10a2365-abf7-4228-a560-e514a799284f",
   "metadata": {},
   "outputs": [
    {
     "data": {
      "text/plain": [
       "1092"
      ]
     },
     "execution_count": 122,
     "metadata": {},
     "output_type": "execute_result"
    }
   ],
   "source": [
    "# find middle element in list\n",
    "ss = [3,34,2,55,21, 1092,34, 55, 91,89]\n",
    "ss[len(ss)//2]"
   ]
  },
  {
   "cell_type": "code",
   "execution_count": 125,
   "id": "f84cf2d2-35cd-42cc-87c3-0bcd9676f88d",
   "metadata": {},
   "outputs": [
    {
     "name": "stdout",
     "output_type": "stream",
     "text": [
      "anagram\n"
     ]
    }
   ],
   "source": [
    "# Comparing two string is Anagram\n",
    "tt = \"listEn\"\n",
    "hh=\"silent\"\n",
    "\n",
    "if sorted(tt.lower())==sorted(hh.lower()):\n",
    "    print(\"anagram\")\n",
    "else:\n",
    "    print(\"not anagram\")"
   ]
  },
  {
   "cell_type": "code",
   "execution_count": 133,
   "id": "a1318dfe-dd6b-49fa-a2c1-cfc3801c66f4",
   "metadata": {},
   "outputs": [],
   "source": [
    "# Counting digit,letter and spaces in a String.\n",
    "ss = \"prohyta5473 try wwecd7839 \"\n",
    "\n",
    "def cnt(ss):\n",
    "    d=0\n",
    "    a=0\n",
    "    s=0\n",
    "    for i in ss:\n",
    "        if i.isdigit():\n",
    "            d+=1\n",
    "        elif i.isalpha():\n",
    "            a+=1\n",
    "        elif i.isspace():\n",
    "            s+=1\n",
    "    return d,a,s"
   ]
  },
  {
   "cell_type": "code",
   "execution_count": 134,
   "id": "668e63a9-6713-4b07-a875-e4a647a93b39",
   "metadata": {},
   "outputs": [
    {
     "data": {
      "text/plain": [
       "(8, 15, 3)"
      ]
     },
     "execution_count": 134,
     "metadata": {},
     "output_type": "execute_result"
    }
   ],
   "source": [
    "cnt(ss)"
   ]
  },
  {
   "cell_type": "code",
   "execution_count": 135,
   "id": "471fdea5-72e6-40f3-9844-090fe8d71f9a",
   "metadata": {},
   "outputs": [
    {
     "name": "stdout",
     "output_type": "stream",
     "text": [
      "8\n",
      "15\n",
      "3\n"
     ]
    }
   ],
   "source": [
    "d=0\n",
    "a=0\n",
    "s=0\n",
    "for i in ss:\n",
    "    if i.isdigit():\n",
    "        d+=1\n",
    "    elif i.isalpha():\n",
    "        a+=1\n",
    "    elif i.isspace():\n",
    "        s+=1\n",
    "print(d)\n",
    "print(a)\n",
    "print(s)"
   ]
  },
  {
   "cell_type": "code",
   "execution_count": 147,
   "id": "3830254c-0aeb-4ae2-83dd-18d2c22008b5",
   "metadata": {},
   "outputs": [
    {
     "name": "stdin",
     "output_type": "stream",
     "text": [
      "enter the name anand\n",
      "enter the age 45\n",
      "enter the name sagar\n",
      "enter the age 23\n"
     ]
    },
    {
     "name": "stdout",
     "output_type": "stream",
     "text": [
      "[{'name': 'anand', 'age': 45}, {'name': 'sagar', 'age': 23}]\n",
      "[{'name': 'sagar', 'age': 23}, {'name': 'anand', 'age': 45}]\n"
     ]
    }
   ],
   "source": [
    "mm=[]\n",
    "for i in range(2):\n",
    "    name=str(input(\"enter the name\"))\n",
    "    age = int(input(\"enter the age\"))\n",
    "    mm.append({'name':name,'age':age})\n",
    "print(mm)\n",
    "hh=sorted(mm,key=lambda x:x['age'])\n",
    "print(hh)\n",
    "    "
   ]
  },
  {
   "cell_type": "code",
   "execution_count": 145,
   "id": "f7d34d2a-6589-4f16-8402-164fc53c6a13",
   "metadata": {},
   "outputs": [
    {
     "data": {
      "text/plain": [
       "{'name': 'age'}"
      ]
     },
     "execution_count": 145,
     "metadata": {},
     "output_type": "execute_result"
    }
   ],
   "source": [
    "dict(mm)"
   ]
  },
  {
   "cell_type": "code",
   "execution_count": 148,
   "id": "40272265-38a4-4c9f-b549-6f11ac800506",
   "metadata": {},
   "outputs": [
    {
     "name": "stdout",
     "output_type": "stream",
     "text": [
      "[12, 21, 32, 12, 23, 43, 11]\n"
     ]
    }
   ],
   "source": [
    "input_list = [[12, 21, 32], [12, 23, 43, 11]]\n",
    "mm=[]\n",
    "for i in input_list:\n",
    "    if isinstance(i,list):\n",
    "        mm.extend(i)\n",
    "    else:\n",
    "        mm.append(i)\n",
    "print(mm)\n",
    "    "
   ]
  },
  {
   "cell_type": "code",
   "execution_count": 149,
   "id": "1c7c3d95-37d6-488d-8cca-abf7f416e024",
   "metadata": {},
   "outputs": [
    {
     "name": "stdout",
     "output_type": "stream",
     "text": [
      "[12, 21, 32, 12, 23, 43, 11]\n"
     ]
    }
   ],
   "source": [
    "input_list = [12, 21, 32, 12, [23, 43, 11]]\n",
    "kk=[]\n",
    "for i in input_list:\n",
    "    if isinstance(i,list):\n",
    "        kk.extend(i)\n",
    "    else:\n",
    "        kk.append(i)\n",
    "print(kk)     "
   ]
  },
  {
   "cell_type": "code",
   "execution_count": 150,
   "id": "c51567af-9b92-4a94-985c-27461e67f866",
   "metadata": {},
   "outputs": [
    {
     "name": "stdout",
     "output_type": "stream",
     "text": [
      "45\n"
     ]
    }
   ],
   "source": [
    "# sum of all element\n",
    "sum=0\n",
    "for i in range(10):\n",
    "    sum+=i\n",
    "print(sum)\n",
    "    "
   ]
  },
  {
   "cell_type": "code",
   "execution_count": 157,
   "id": "c91d0f12-11fc-4107-a109-4dbb7275f56a",
   "metadata": {},
   "outputs": [
    {
     "name": "stdout",
     "output_type": "stream",
     "text": [
      "24\n"
     ]
    }
   ],
   "source": [
    "# factorial\n",
    "fac=1\n",
    "for i in range(1,5):\n",
    "    fac=fac*i\n",
    "print(fac)\n",
    "    "
   ]
  },
  {
   "cell_type": "code",
   "execution_count": 169,
   "id": "4d54d118-2e8f-4076-9cd4-60fc2cedca61",
   "metadata": {
    "collapsed": true,
    "jupyter": {
     "outputs_hidden": true
    },
    "scrolled": true
   },
   "outputs": [
    {
     "name": "stdout",
     "output_type": "stream",
     "text": [
      "[(7, 1, 32), (7, 1, 32), (-8, -2, 50)]\n"
     ]
    }
   ],
   "source": [
    "nums = [2,7,1,-8,-2,11,15,11,32,32,50]\n",
    "target = 40\n",
    "mm=[]\n",
    "for i in range(len(nums)):\n",
    "    for j in range(i+1,len(nums)):\n",
    "        for k in range(j+1,len(nums)):\n",
    "            if nums[i]+nums[j]+nums[k]==target:\n",
    "                mm.append((nums[i],nums[j],nums[k]))\n",
    "print(mm)          "
   ]
  },
  {
   "cell_type": "code",
   "execution_count": 172,
   "id": "da23c0a6-dfaf-4aaf-945b-340d5cb5d0b9",
   "metadata": {},
   "outputs": [
    {
     "name": "stdout",
     "output_type": "stream",
     "text": [
      "[1, 2, 4, 5, 5, 0, 0, 0]\n"
     ]
    }
   ],
   "source": [
    "# add all zero at the  end \n",
    "tt = [1,2,0,4,0,5,0,5]\n",
    "\n",
    "for i in tt:\n",
    "    if i==0:\n",
    "        tt.remove(i)\n",
    "        tt.append(i)\n",
    "print(tt)"
   ]
  },
  {
   "cell_type": "code",
   "execution_count": 174,
   "id": "f43f75da-f14f-4a4a-b139-03e3f58bf6c4",
   "metadata": {},
   "outputs": [
    {
     "data": {
      "text/plain": [
       "[50, 20, 30, 40, 10]"
      ]
     },
     "execution_count": 174,
     "metadata": {},
     "output_type": "execute_result"
    }
   ],
   "source": [
    "# change pos last to first and first to last\n",
    "tt = [10, 20, 30, 40, 50]\n",
    "tt[-1],tt[0]=tt[0],tt[-1]\n",
    "tt"
   ]
  },
  {
   "cell_type": "code",
   "execution_count": 96,
   "id": "8b60ff49-25ab-4e97-a081-5275511c54d0",
   "metadata": {},
   "outputs": [
    {
     "name": "stdout",
     "output_type": "stream",
     "text": [
      "c\n",
      "m\n",
      "r\n",
      "t\n"
     ]
    }
   ],
   "source": [
    "## find Non-repeating Character\n",
    "input1=\"aabbcmrt\"\n",
    "output = \"c\"\n",
    "\n",
    "for i in input1:\n",
    "    if input1.count(i)==1:\n",
    "        output=i\n",
    "        print(output)"
   ]
  },
  {
   "cell_type": "code",
   "execution_count": 98,
   "id": "1473823d-f851-4cc8-9a55-1764f6545a38",
   "metadata": {},
   "outputs": [
    {
     "name": "stdout",
     "output_type": "stream",
     "text": [
      "x\n"
     ]
    }
   ],
   "source": [
    "## find first Non-repeating Character\n",
    "input1=\"aabxbcmrt\"\n",
    "\n",
    "for i in input1:\n",
    "    if input1.count(i)==1:\n",
    "        output=i\n",
    "        break\n",
    "print(output)"
   ]
  },
  {
   "cell_type": "code",
   "execution_count": 186,
   "id": "9b853c44-be9b-46df-95a5-efdf2ba14ef5",
   "metadata": {},
   "outputs": [
    {
     "name": "stdout",
     "output_type": "stream",
     "text": [
      "6\n"
     ]
    }
   ],
   "source": [
    "## find Non-repeating element in list\n",
    "ss=[1,2,3,4,56,2,1,6,8,9,3,3,4,56]\n",
    "dd=[]\n",
    "for i in ss:\n",
    "    if ss.count(i)==1:\n",
    "        dd.append(i)\n",
    "print(dd[0])\n",
    "        "
   ]
  },
  {
   "cell_type": "code",
   "execution_count": 195,
   "id": "d7650de3-454b-42ab-8282-ff68f0e7cee5",
   "metadata": {},
   "outputs": [
    {
     "name": "stdout",
     "output_type": "stream",
     "text": [
      "a\n",
      "10\n"
     ]
    }
   ],
   "source": [
    "# max number character and how many times\n",
    "\n",
    "ss=\"i am anaaaaaand sagari need to go to school\"\n",
    "dd={}\n",
    "for i in ss:\n",
    "    dd[i]=ss.count(i)\n",
    "# print(dd)\n",
    "\n",
    "ff=max(dd,key=dd.get)\n",
    "print(ff)\n",
    "hh=dd[ff]\n",
    "print(hh)\n",
    "    "
   ]
  },
  {
   "cell_type": "code",
   "execution_count": null,
   "id": "fcb25e30-bc3e-4239-bc08-ed6d967fb5aa",
   "metadata": {},
   "outputs": [],
   "source": []
  },
  {
   "cell_type": "code",
   "execution_count": 336,
   "id": "87192986-1bb6-4a6f-95e9-4ec1cc797a24",
   "metadata": {},
   "outputs": [
    {
     "name": "stdout",
     "output_type": "stream",
     "text": [
      " m oing o chool "
     ]
    }
   ],
   "source": [
    "# Capitalize first word in a sentence\n",
    "ss=\"i am going to school\"\n",
    "\n",
    "for i in ss.split():\n",
    "    dd=i[0].upper()  + i[1:]\n",
    "    print(dd,end=\" \")\n",
    "\n",
    "# dd=ss[0].upper() + ss[1:]\n",
    "# print(dd)"
   ]
  },
  {
   "cell_type": "code",
   "execution_count": 165,
   "id": "2d2d5475-b86f-4b88-93df-2705d4c8c3ea",
   "metadata": {},
   "outputs": [
    {
     "name": "stdout",
     "output_type": "stream",
     "text": [
      "8\n"
     ]
    }
   ],
   "source": [
    "  # Find missing number\n",
    "\n",
    "ss=[1,2,3,4,5,9,6,7]\n",
    "n=len(ss)+1\n",
    "expected = n*(n+1)//2\n",
    "actual = sum(ss)\n",
    "missing = expected - actual\n",
    "print(missing)"
   ]
  },
  {
   "cell_type": "code",
   "execution_count": 337,
   "id": "2d34b64f-65da-4c29-b1b1-0462f4f411ab",
   "metadata": {},
   "outputs": [
    {
     "name": "stdout",
     "output_type": "stream",
     "text": [
      "[4, 16, 36]\n",
      "qwertyui\n",
      "8\n"
     ]
    }
   ],
   "source": [
    "              ################ ACCENTURE ##################\n",
    "ss=[1,2,3,4,5,6,7]\n",
    "output=[4,16,36]\n",
    "dd=[]\n",
    "for i in ss:\n",
    "    if i%2==0:\n",
    "        dd.append(i**2)\n",
    "print(dd)\n",
    "\n",
    "\n",
    "gg=[\"werrtt\",\"qwaser\",\"qwertyui\"]\n",
    "output=\"qwertyui\"\n",
    "\n",
    "max_len=0\n",
    "max_str=0\n",
    "for i in gg:\n",
    "    if len(i)>max_len:\n",
    "        max_len=len(i)\n",
    "        max_str=i\n",
    "print(max_str)\n",
    "print(max_len)"
   ]
  },
  {
   "cell_type": "code",
   "execution_count": 199,
   "id": "294600ba-7c02-4521-b27c-0f4ea3631abf",
   "metadata": {},
   "outputs": [
    {
     "name": "stdout",
     "output_type": "stream",
     "text": [
      "[4, 16, 36]\n"
     ]
    }
   ],
   "source": [
    "ss=[1,2,3,4,5,6]\n",
    "\n",
    "kk=[]\n",
    "for i in ss:\n",
    "    if i%2==0:\n",
    "        kk.append(i**2)\n",
    "print(kk)\n",
    "        "
   ]
  },
  {
   "cell_type": "code",
   "execution_count": 232,
   "id": "83b1c55b-d4cb-46a0-a012-252b93b367be",
   "metadata": {},
   "outputs": [
    {
     "data": {
      "text/plain": [
       "56"
      ]
     },
     "execution_count": 232,
     "metadata": {},
     "output_type": "execute_result"
    }
   ],
   "source": [
    "# tt=[\"qwert\",\"retubty\",\"ytwercfghjk\"]\n",
    "tt=[2,3,4,1,56,43,23]\n",
    "\n",
    "# kk=0\n",
    "# mm=0\n",
    "# for i in tt:\n",
    "#     if len(i)>kk:\n",
    "#         kk=len(i)\n",
    "#         mm=i\n",
    "# print(mm)\n",
    "# print(kk)\n",
    "\n",
    "# hh=tt[0]\n",
    "# for i in tt:\n",
    "#     if i<hh:\n",
    "#         hh=i\n",
    "# print(hh)\n",
    "    \n"
   ]
  },
  {
   "cell_type": "code",
   "execution_count": 298,
   "id": "ebf71f13-2374-43ab-9a89-3d4ebd245040",
   "metadata": {},
   "outputs": [
    {
     "name": "stdout",
     "output_type": "stream",
     "text": [
      "['qwer', 'retyuvrnn', 'wett']\n",
      "[1, 2, 45, 67, 23]\n"
     ]
    }
   ],
   "source": [
    "dd=[1,2,45,67,23,\"qwer\",\"retyuvrnn\",\"wett\"]\n",
    "\n",
    "kk=[]\n",
    "hh=[]\n",
    "for i in dd:\n",
    "    if isinstance(i,int):\n",
    "        kk.append(i)\n",
    "    elif isinstance(i,str):\n",
    "        hh.append(i)\n",
    "print(hh)\n",
    "print(kk)\n",
    "        \n"
   ]
  },
  {
   "cell_type": "code",
   "execution_count": 272,
   "id": "7d16fbec-db07-4ea7-ab37-dc5d622a0ea7",
   "metadata": {},
   "outputs": [
    {
     "name": "stdout",
     "output_type": "stream",
     "text": [
      "['much', 'wood', 'would', 'woodchuck', 'chuck', 'could']\n"
     ]
    }
   ],
   "source": [
    "# Write a Python program to find the list of words that are longer than or equal to 4 from a given string.\n",
    "Input= 'How much wood would a woodchuck chuck if a woodchuck could chuck wood'\n",
    "#Output:- ['much', 'wood', 'would', 'woodchuck', 'chuck', 'could']\n",
    "#Note:- Duplicate should be avoided.\n",
    "kk=[]\n",
    "for i in Input.split():\n",
    "    if len(i)>=4 and i not in kk:\n",
    "        kk.append(i)\n",
    "print(kk)\n",
    "# hh=[]\n",
    "# ss=[]\n",
    "# for j in kk:\n",
    "#     if j not in hh:\n",
    "#         ss.append(j)\n",
    "# print(ss)\n",
    "        "
   ]
  },
  {
   "cell_type": "code",
   "execution_count": 159,
   "id": "e26b0d1f-95e1-4b8c-b414-9b7c3d9abdc1",
   "metadata": {},
   "outputs": [
    {
     "name": "stdout",
     "output_type": "stream",
     "text": [
      "u\n"
     ]
    }
   ],
   "source": [
    "   ### check if a string contains all unique character\n",
    "\n",
    "ss=\"ansgr\"\n",
    "\n",
    "if len(set(ss))==len(ss):\n",
    "    print(\"u\")\n",
    "else:\n",
    "    print(\"n u\")"
   ]
  },
  {
   "cell_type": "code",
   "execution_count": 169,
   "id": "29663150-4ec3-4072-a2bf-6420a69fe071",
   "metadata": {},
   "outputs": [
    {
     "data": {
      "text/plain": [
       "'nagsr'"
      ]
     },
     "execution_count": 169,
     "metadata": {},
     "output_type": "execute_result"
    }
   ],
   "source": [
    "ss=\"anansagar\"\n",
    "\n",
    "dd=list(set(ss))\n",
    "ff=\"\".join(dd)\n",
    "ff\n",
    "        "
   ]
  },
  {
   "cell_type": "code",
   "execution_count": 172,
   "id": "3713f031-be2d-48e1-91ce-7033d35cd5cc",
   "metadata": {},
   "outputs": [
    {
     "name": "stdout",
     "output_type": "stream",
     "text": [
      "['1234', 'abcd']\n"
     ]
    }
   ],
   "source": [
    "ss=\"a1b2c3d4\"\n",
    "kk=[]\n",
    "mm=[]\n",
    "for i in ss:\n",
    "    if i.isdigit():\n",
    "        kk.append(i)\n",
    "    elif i.isalpha():\n",
    "        mm.append(i)\n",
    "print([\"\".join(kk),\"\".join(mm)])\n",
    "# print(mm)"
   ]
  },
  {
   "cell_type": "code",
   "execution_count": 192,
   "id": "8b7dd463-f4d6-4da9-bcb4-0001a3415420",
   "metadata": {},
   "outputs": [
    {
     "name": "stdout",
     "output_type": "stream",
     "text": [
      "defaultdict(<class 'list'>, {'A': ['Apple', 'Animal'], 'B': ['Bat', 'Ball'], 'C': ['Cat', 'Candy']})\n",
      "{'A': ['Animal', 'Apple'], 'B': ['Ball', 'Bat'], 'C': ['Candy', 'Cat']}\n"
     ]
    }
   ],
   "source": [
    "ss=[\"Apple\",\"Animal\",\"Bat\",\"Ball\",\"Cat\",\"Candy\"]\n",
    "# output = {'A':['Animals','Apple'],\n",
    "#           'B':['Ball','Bat'],\n",
    "#           'C':['Candy','Cat']}\n",
    "\n",
    "from collections import defaultdict\n",
    "kk=defaultdict(list)\n",
    "for i in ss:\n",
    "    dd=i[0].upper()\n",
    "    kk[dd].append(i)\n",
    "print(kk)\n",
    "\n",
    "for j in kk:\n",
    "    kk[j].sort()\n",
    "print(dict(kk))\n",
    "\n"
   ]
  },
  {
   "cell_type": "code",
   "execution_count": 267,
   "id": "0538d257-4822-47fd-9c3a-df203fc7980c",
   "metadata": {},
   "outputs": [
    {
     "name": "stdout",
     "output_type": "stream",
     "text": [
      "{'eilnst': ['listen', 'silent', 'enlist'], 'ehllo': ['hello'], 'dlorw': ['world', 'dlrow']}\n",
      "[['listen', 'silent', 'enlist'], ['hello'], ['world', 'dlrow']]\n"
     ]
    }
   ],
   "source": [
    "ss=[\"listen\",\"silent\",\"enlist\",\"hello\",\"world\",\"dlrow\"]\n",
    "# output=[[\"listen\",\"silent\",\"enlist\"],[\"hello\"],[\"world\",\"dlrow\"]]\n",
    "kk={}\n",
    "for i in ss:\n",
    "    dd=\"\".join(sorted(i))\n",
    "    if dd not in kk:\n",
    "        kk[dd]=[]\n",
    "    kk[dd].append(i)\n",
    "print(kk)\n",
    "\n",
    "mm=[]\n",
    "for j in kk:\n",
    "    mm.append(kk[j])\n",
    "print(mm)\n",
    "    "
   ]
  },
  {
   "cell_type": "code",
   "execution_count": 1,
   "id": "56417506-301a-4809-9f83-5c03df053658",
   "metadata": {},
   "outputs": [
    {
     "name": "stdout",
     "output_type": "stream",
     "text": [
      "16\n",
      "1\n",
      "[8.5]\n"
     ]
    }
   ],
   "source": [
    "ss=[2,16,5,8,16,1]\n",
    "\n",
    "dd=ss[0]\n",
    "for i in ss:\n",
    "    if i>dd:\n",
    "        dd=i\n",
    "print(dd)\n",
    "\n",
    "mm=ss[0]\n",
    "for i in ss:\n",
    "    if i<mm:\n",
    "        mm=i\n",
    "print(mm)\n",
    "\n",
    "kk=(dd+mm)/2\n",
    "print([kk])"
   ]
  },
  {
   "cell_type": "code",
   "execution_count": 7,
   "id": "cadcd880-9dec-4029-b521-f1f88cbd18ed",
   "metadata": {},
   "outputs": [
    {
     "name": "stdout",
     "output_type": "stream",
     "text": [
      "go-lanrg\n",
      "anandrtw\n"
     ]
    }
   ],
   "source": [
    "                                            ######## INTERVIEW   ##########\n",
    "\n",
    "# write the code where length should be 6 or more then 6 and \"r\" should be present \n",
    "ss=[\"jarva\",\"python\",\"go-lanrg\",\"rust\",\"anandrtw\",\"scala\"]\n",
    "l=6\n",
    "char = \"r\"\n",
    "\n",
    "for i in ss:\n",
    "    if char in i and len(i)>=6:\n",
    "        print(i)"
   ]
  },
  {
   "cell_type": "code",
   "execution_count": null,
   "id": "842a098a-0a9e-4ef6-86bf-eb1a08c66b57",
   "metadata": {},
   "outputs": [],
   "source": []
  },
  {
   "cell_type": "code",
   "execution_count": null,
   "id": "98b9d2df-b8a2-4e16-b3be-54668a04218c",
   "metadata": {},
   "outputs": [],
   "source": []
  },
  {
   "cell_type": "code",
   "execution_count": null,
   "id": "2b42a320-ac8e-42f6-9f2b-a38fe46df55f",
   "metadata": {},
   "outputs": [],
   "source": []
  },
  {
   "cell_type": "markdown",
   "id": "e729021b-4b94-4ad5-bc14-aaab8dec3fba",
   "metadata": {},
   "source": [
    "# LeetCode"
   ]
  },
  {
   "cell_type": "code",
   "execution_count": null,
   "id": "78164854-ae3c-4300-b93b-2ddb687a69c4",
   "metadata": {},
   "outputs": [],
   "source": []
  },
  {
   "cell_type": "code",
   "execution_count": null,
   "id": "d35152c1-e6e1-4228-8e65-42332bc26ab3",
   "metadata": {},
   "outputs": [],
   "source": []
  },
  {
   "cell_type": "code",
   "execution_count": 119,
   "id": "3709cb3a-6d1e-450f-9750-282403a95ad2",
   "metadata": {},
   "outputs": [
    {
     "name": "stdout",
     "output_type": "stream",
     "text": [
      "[1, 2]\n"
     ]
    }
   ],
   "source": [
    "            ############ 1.TWO SUM\n",
    "\n",
    "# Example 1:\n",
    "# Input: nums = [2,7,11,15], target = 9\n",
    "# Output: [0,1]\n",
    "# Explanation: Because nums[0] + nums[1] == 9, we return [0, 1].\n",
    "# Example 2:\n",
    "\n",
    "# Input: nums = [3,2,4], target = 6\n",
    "# Output: [1,2]\n",
    "# Example 3:\n",
    "\n",
    "# Input: nums = [3,3], target = 6\n",
    "# Output: [0,1]\n",
    "\n",
    "nums = [3,2,4]\n",
    "target = 6\n",
    "\n",
    "kk=[]\n",
    "for i in range(len(nums)):\n",
    "    for j in range(i+1,len(nums)):\n",
    "        if nums[i]+nums[j]==target:\n",
    "            print([i,j])\n",
    "#             kk.append([nums[i],nums[j]])\n",
    "# print(kk)\n",
    "            \n",
    " "
   ]
  },
  {
   "cell_type": "code",
   "execution_count": 128,
   "id": "0f599e27-5635-40a5-86b6-6c952a4f02c9",
   "metadata": {},
   "outputs": [
    {
     "name": "stdout",
     "output_type": "stream",
     "text": [
      "10009998\n",
      "[8, 9, 9, 9, 0, 0, 0, 1]\n"
     ]
    }
   ],
   "source": [
    "                        ########## 2. ADD TWO NUMBERS\n",
    "\n",
    "\n",
    "# Input: l1 = [2,4,3], l2 = [5,6,4]\n",
    "# Output: [7,0,8]\n",
    "# Explanation: 342 + 465 = 807.\n",
    "# Example 2:\n",
    "\n",
    "# Input: l1 = [0], l2 = [0]\n",
    "# Output: [0]\n",
    "# Example 3:\n",
    "\n",
    "# Input: l1 = [9,9,9,9,9,9,9], l2 = [9,9,9,9]\n",
    "# Output: [8,9,9,9,0,0,0,1]\n",
    "\n",
    "l1 = [9,9,9,9,9,9,9]\n",
    "l2 = [9,9,9,9]\n",
    "Output: [7,0,8]\n",
    "\n",
    "hh=int(\"\".join(map(str,l1[::-1])))\n",
    "mm=int(\"\".join(map(str,l2[::-1])))\n",
    "\n",
    "total=hh+mm\n",
    "\n",
    "kk=[]\n",
    "for i in str(total):\n",
    "    kk.append(int(i))\n",
    "print(kk[::-1])\n"
   ]
  },
  {
   "cell_type": "code",
   "execution_count": 161,
   "id": "44457ff6-b1ea-4731-92cc-0705ad38400e",
   "metadata": {},
   "outputs": [
    {
     "name": "stdout",
     "output_type": "stream",
     "text": [
      "abc\n",
      "3\n"
     ]
    }
   ],
   "source": [
    "                ##### 3. Longest Substring Without Repeating Characters\n",
    "\n",
    "# Example 1:\n",
    "# Input: s = \"abcabcbb\"\n",
    "# Output: 3\n",
    "# Explanation: The answer is \"abc\", with the length of 3.\n",
    "    \n",
    "# Example 2:\n",
    "# Input: s = \"bbbbb\"\n",
    "# Output: 1\n",
    "# Explanation: The answer is \"b\", with the length of 1.\n",
    "    \n",
    "# Example 3:\n",
    "# Input: s = \"pwwkew\"\n",
    "# Output: 3\n",
    "# Explanation: The answer is \"wke\", with the length of 3.\n",
    "# Notice that the answer must be a substring, \"pwke\" is a subsequence and not a substring.\n",
    "\n",
    "\n",
    "           ##### 3. Longest Substring Without Repeating Characters\n",
    "s = \"abcabcbb\"\n",
    "Output= 3\n",
    "\n",
    "start = 0\n",
    "max_length = 0\n",
    "char_index ={}\n",
    "longest_substring = \"\"\n",
    "\n",
    "for i in range(len(s)):\n",
    "    if s[i] in char_index and char_index[s[i]] >=start:\n",
    "        start = char_index[s[i]]+1\n",
    "    char_index[s[i]] = i\n",
    "    if i - start + 1 > max_length:\n",
    "        max_length = i - start+1\n",
    "        longest_substring = s[start:i+1]\n",
    "print(longest_substring)\n",
    "print(max_length)"
   ]
  },
  {
   "cell_type": "code",
   "execution_count": 395,
   "id": "58e7ebf9-bd98-45b2-9f0e-b42401cd5bf1",
   "metadata": {},
   "outputs": [
    {
     "name": "stdout",
     "output_type": "stream",
     "text": [
      "1.5\n"
     ]
    }
   ],
   "source": [
    "                ### 4. Median of Two Sorted Arrays\n",
    "\n",
    "mm=[1,3,4]\n",
    "\n",
    "if len(mm)%2==0:\n",
    "    print((mm[len(mm)//2] + mm[len(mm)//2-1])/2.0)\n",
    "else:\n",
    "    print((mm[len(mm)//2])/2.0)"
   ]
  },
  {
   "cell_type": "code",
   "execution_count": 163,
   "id": "0093fc0b-ed01-43e0-91bb-ba1e8fa7c811",
   "metadata": {},
   "outputs": [
    {
     "name": "stdout",
     "output_type": "stream",
     "text": [
      "bb\n"
     ]
    }
   ],
   "source": [
    "                    #### 5. Longest Palindromic Substring\n",
    "\n",
    "# Example 1:\n",
    "# Input: s = \"babad\"\n",
    "# Output: \"bab\"\n",
    "# Explanation: \"aba\" is also a valid answer.\n",
    "    \n",
    "# Example 2:\n",
    "# Input: s = \"cbbd\"\n",
    "# Output: \"bb\"\n",
    "\n",
    "Input = \"cbbd\"\n",
    "Output= \"bb\"\n",
    "longest=\"\"\n",
    "\n",
    "for i in range(len(Input)):\n",
    "    for j in range(i,len(Input)):\n",
    "        substr = Input[i:j+1]\n",
    "        if substr == substr[::-1] and len(substr) > len(longest):\n",
    "            longest = substr\n",
    "print(longest)\n",
    " "
   ]
  },
  {
   "cell_type": "code",
   "execution_count": 150,
   "id": "db323750-a3e4-4494-af4e-b0326458869c",
   "metadata": {},
   "outputs": [
    {
     "name": "stdout",
     "output_type": "stream",
     "text": [
      "21\n"
     ]
    }
   ],
   "source": [
    "         ####### 7. Reverse Integer\n",
    "\n",
    "# Example 1:\n",
    "# Input: x = 123\n",
    "# Output: 321\n",
    "\n",
    "# Example 2:\n",
    "# Input: x = -123\n",
    "# Output: -321\n",
    "# Example 3:\n",
    "\n",
    "# Example 3:\n",
    "# Input: x = 120\n",
    "# Output: 21\n",
    "\n",
    "\n",
    "x = 120\n",
    "Output= 21\n",
    "\n",
    "if x > 0:\n",
    "    dd=int((str(x))[::-1])\n",
    "    print(dd)\n",
    "elif x < 0:\n",
    "    hh=int((str(abs(x)))[::-1])\n",
    "    print(-hh)\n",
    "    "
   ]
  },
  {
   "cell_type": "code",
   "execution_count": null,
   "id": "f927ee72-70e0-40cf-9c80-80e70b13d5b2",
   "metadata": {},
   "outputs": [],
   "source": []
  },
  {
   "cell_type": "code",
   "execution_count": null,
   "id": "a2636613-eafd-436e-a511-b0cb1b1487c9",
   "metadata": {},
   "outputs": [],
   "source": []
  },
  {
   "cell_type": "code",
   "execution_count": null,
   "id": "92b6960a-52e6-4daf-b4b4-3098f6098258",
   "metadata": {},
   "outputs": [],
   "source": []
  }
 ],
 "metadata": {
  "kernelspec": {
   "display_name": "Python 3 (ipykernel)",
   "language": "python",
   "name": "python3"
  },
  "language_info": {
   "codemirror_mode": {
    "name": "ipython",
    "version": 3
   },
   "file_extension": ".py",
   "mimetype": "text/x-python",
   "name": "python",
   "nbconvert_exporter": "python",
   "pygments_lexer": "ipython3",
   "version": "3.12.6"
  }
 },
 "nbformat": 4,
 "nbformat_minor": 5
}
