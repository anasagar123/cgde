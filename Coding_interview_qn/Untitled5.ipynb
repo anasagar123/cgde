{
 "cells": [
  {
   "cell_type": "code",
   "execution_count": 1,
   "id": "86fbcbea-94b2-4021-bcee-031b70719d2e",
   "metadata": {},
   "outputs": [
    {
     "name": "stdout",
     "output_type": "stream",
     "text": [
      "[0, 1, 2, 3, 4, 5, 6, 7, 8, 9]\n"
     ]
    }
   ],
   "source": [
    "# Create a list and print all elements.\n",
    "kk=[]\n",
    "for i in range(10):\n",
    "    kk.append(i)\n",
    "print(kk)"
   ]
  },
  {
   "cell_type": "code",
   "execution_count": 4,
   "id": "b109a9b1-9cc7-41f1-afa9-7dd9016b2a20",
   "metadata": {},
   "outputs": [
    {
     "data": {
      "text/plain": [
       "[0, 1, 2, 3, 4, 5, 6, 7, 8, 9, 10]"
      ]
     },
     "execution_count": 4,
     "metadata": {},
     "output_type": "execute_result"
    }
   ],
   "source": [
    "ss=[0, 1, 2, 3, 4, 5, 6, 7, 8, 9]\n",
    "ss.append(10)\n",
    "ss"
   ]
  },
  {
   "cell_type": "code",
   "execution_count": 6,
   "id": "9dedcaf7-e49e-47af-85aa-5e423bc45799",
   "metadata": {},
   "outputs": [
    {
     "data": {
      "text/plain": [
       "[0, 5, 5, 1, 2, 3, 4, 5, 6, 7, 8, 9, 10]"
      ]
     },
     "execution_count": 6,
     "metadata": {},
     "output_type": "execute_result"
    }
   ],
   "source": [
    "ss.insert(1,5)\n",
    "ss"
   ]
  },
  {
   "cell_type": "code",
   "execution_count": 8,
   "id": "4dfd2a10-a62a-479a-91c1-8fafad2a035c",
   "metadata": {},
   "outputs": [
    {
     "data": {
      "text/plain": [
       "[10, 9, 8, 7, 6, 5, 4, 3, 2, 1, 5, 5, 0]"
      ]
     },
     "execution_count": 8,
     "metadata": {},
     "output_type": "execute_result"
    }
   ],
   "source": [
    "ss[::-1]"
   ]
  },
  {
   "cell_type": "code",
   "execution_count": 14,
   "id": "d1e147f1-db17-49bd-8bd9-46c581c26631",
   "metadata": {},
   "outputs": [
    {
     "name": "stdout",
     "output_type": "stream",
     "text": [
      "True\n"
     ]
    }
   ],
   "source": [
    "if 10 in ss:\n",
    "    print(\"True\")"
   ]
  },
  {
   "cell_type": "code",
   "execution_count": 22,
   "id": "a0465ad4-dc9e-4a2b-b4ff-b65fb0d548fc",
   "metadata": {},
   "outputs": [
    {
     "name": "stdout",
     "output_type": "stream",
     "text": [
      "[(10, 9)]\n"
     ]
    }
   ],
   "source": [
    "ss=[10, 9, 8, 7, 6, 5, 4, 3, 2, 1, 5, 5, 0]\n",
    "target=19\n",
    "seen=set()\n",
    "mm = []\n",
    "for i in ss:\n",
    "    complement = target- i\n",
    "    if complement in seen:\n",
    "        mm.append((complement,i))\n",
    "    seen.add(i)\n",
    "print(mm)\n",
    "        "
   ]
  },
  {
   "cell_type": "code",
   "execution_count": 4,
   "id": "19a11046-5618-466e-b1dd-baabe05185dc",
   "metadata": {},
   "outputs": [
    {
     "name": "stdout",
     "output_type": "stream",
     "text": [
      "[-3, -3] "
     ]
    }
   ],
   "source": [
    "nums = [3,2,4,-3,7,1,7,-1,9,3,-3]\n",
    "target = -6\n",
    "\n",
    "for i in range(len(nums)):\n",
    "    for j in range(i+1,len(nums)):\n",
    "        if nums[i]+nums[j]==target:\n",
    "            print([nums[i],nums[j]],end=\" \")"
   ]
  },
  {
   "cell_type": "code",
   "execution_count": 7,
   "id": "7e988cbc-df29-4d96-81a4-960eb6713ede",
   "metadata": {},
   "outputs": [
    {
     "name": "stdout",
     "output_type": "stream",
     "text": [
      "-321\n"
     ]
    }
   ],
   "source": [
    "input1=-123\n",
    "output=321\n",
    "\n",
    "input2=-123\n",
    "output=-321\n",
    "\n",
    "if input1 > 0:\n",
    "    ss=int(str(input1)[::-1])\n",
    "elif input1 <0:\n",
    "    dd=int(str(abs(input1))[::-1])\n",
    "    print(-dd)\n",
    "    "
   ]
  },
  {
   "cell_type": "code",
   "execution_count": 45,
   "id": "2fb7735f-d11e-4887-8bb7-0d26dae0e62d",
   "metadata": {},
   "outputs": [
    {
     "name": "stdout",
     "output_type": "stream",
     "text": [
      "[7, 0, 8]\n"
     ]
    }
   ],
   "source": [
    "l1 = [2,4,3]\n",
    "l2 = [5,6,4]\n",
    "Output= [7,0,8]\n",
    "\n",
    "ss=int(\"\".join(map(str,l1[::-1])))\n",
    "dd=int(\"\".join(map(str,l2[::-1])))\n",
    "total=ss+dd\n",
    "\n",
    "kk=[]\n",
    "for i in str(total):\n",
    "    kk.append(int(i))\n",
    "print(kk[::-1])\n",
    "    "
   ]
  },
  {
   "cell_type": "code",
   "execution_count": 48,
   "id": "c6497f6d-f7db-4cc6-83cd-d3ec314762bf",
   "metadata": {},
   "outputs": [
    {
     "data": {
      "text/plain": [
       "[5, 7, 35, 5]"
      ]
     },
     "execution_count": 48,
     "metadata": {},
     "output_type": "execute_result"
    }
   ],
   "source": [
    "list(map(lambda x,y:x+y,[1,2,3,4],[4,5,32,1,6,9,0]))"
   ]
  },
  {
   "cell_type": "code",
   "execution_count": 52,
   "id": "fa25b0a9-908f-4add-a8b0-371b7a46d142",
   "metadata": {},
   "outputs": [
    {
     "name": "stdin",
     "output_type": "stream",
     "text": [
      "enter the number 1\n"
     ]
    },
    {
     "name": "stdout",
     "output_type": "stream",
     "text": [
      "not prime number\n"
     ]
    }
   ],
   "source": [
    "ss=int(input(\"enter the number\"))\n",
    "\n",
    "\n",
    "if ss%2==0:\n",
    "    print(\"prime number : \")\n",
    "else:\n",
    "    print(\"not prime number : \")"
   ]
  },
  {
   "cell_type": "code",
   "execution_count": 58,
   "id": "f0ed1210-9448-494a-a1b7-5e56fac2a597",
   "metadata": {},
   "outputs": [
    {
     "name": "stdout",
     "output_type": "stream",
     "text": [
      "sagarsdfghjklqwe\n"
     ]
    }
   ],
   "source": [
    "ss=[\"anand\",\"sagarsdfghjklqwe\",\"anand sagar\",\"dd\"]\n",
    "mm=0\n",
    "kk=0\n",
    "for i in ss:\n",
    "    if len(i)>mm:\n",
    "        mm=len(i)\n",
    "        kk=i\n",
    "print(kk)"
   ]
  },
  {
   "cell_type": "code",
   "execution_count": 62,
   "id": "fd87089a-4661-44d5-9ff4-116a7b028a70",
   "metadata": {},
   "outputs": [
    {
     "name": "stdout",
     "output_type": "stream",
     "text": [
      "[4, 16, 36, 64]\n"
     ]
    }
   ],
   "source": [
    "ss=[1,2,3,4,5,6,7,8]\n",
    "\n",
    "kk=[]\n",
    "for i in ss:\n",
    "    if i%2==0:\n",
    "        kk.append(i**2)\n",
    "print(kk)"
   ]
  },
  {
   "cell_type": "code",
   "execution_count": 66,
   "id": "9a09a7f8-1b40-430a-beb1-e219a7400e9d",
   "metadata": {},
   "outputs": [
    {
     "name": "stdout",
     "output_type": "stream",
     "text": [
      "1\n",
      "2\n",
      "6\n",
      "24\n"
     ]
    }
   ],
   "source": [
    "fac=1\n",
    "for i in range(1,5):\n",
    "    fac=fac*i\n",
    "    print(fac)"
   ]
  },
  {
   "cell_type": "code",
   "execution_count": 70,
   "id": "5917287a-3a15-45b2-b215-7f90ccd72f75",
   "metadata": {},
   "outputs": [
    {
     "name": "stdout",
     "output_type": "stream",
     "text": [
      "1\n"
     ]
    }
   ],
   "source": [
    "nums=[2,5,41,10,1,14,21,4,4]\n",
    "\n",
    "kk=nums[0]\n",
    "for i in nums:\n",
    "    if i<kk:\n",
    "        kk=i\n",
    "print(kk)\n",
    "    "
   ]
  },
  {
   "cell_type": "code",
   "execution_count": 71,
   "id": "b40dcfed-08d7-4227-9a18-735b389d439f",
   "metadata": {},
   "outputs": [
    {
     "name": "stdout",
     "output_type": "stream",
     "text": [
      "{2: 1, 5: 1, 41: 1, 10: 1, 1: 1, 14: 1, 21: 1, 4: 2}\n"
     ]
    }
   ],
   "source": [
    "kk={}\n",
    "for i in nums:\n",
    "    kk[i]=nums.count(i)\n",
    "print(kk)\n",
    "    "
   ]
  },
  {
   "cell_type": "code",
   "execution_count": 76,
   "id": "64f2952a-c01f-4793-887b-a65fd5acf2c5",
   "metadata": {},
   "outputs": [
    {
     "name": "stdout",
     "output_type": "stream",
     "text": [
      "{'a': 7, 'o': 4, 'i': 1}\n"
     ]
    }
   ],
   "source": [
    "ss=\"anandsagar pankaooooj vidya\"\n",
    "kk={}\n",
    "ff=['a','e','i','o','u']\n",
    "for i in ss.lower():\n",
    "    if i in ff:\n",
    "        kk[i]=ss.count(i)\n",
    "print(kk)"
   ]
  },
  {
   "cell_type": "code",
   "execution_count": 79,
   "id": "e7ead7b7-5161-4af6-89c6-ae653f874869",
   "metadata": {},
   "outputs": [
    {
     "name": "stdout",
     "output_type": "stream",
     "text": [
      "[2, 2, 14, 21, 4, 4, 4, 4]\n"
     ]
    }
   ],
   "source": [
    "nums=[2,5,10,14,21,4,4]\n",
    "nums1=[2,0,9,14,2,21,4,4]\n",
    "\n",
    "kk=[]\n",
    "for i in nums:\n",
    "    for j in nums1:\n",
    "        if i==j:\n",
    "            kk.append(i)\n",
    "print(kk)"
   ]
  },
  {
   "cell_type": "code",
   "execution_count": 85,
   "id": "ff2a37c8-8a21-4dfb-87c6-3deaba72df14",
   "metadata": {},
   "outputs": [
    {
     "name": "stdout",
     "output_type": "stream",
     "text": [
      "[0, 2, 4, 21]\n",
      "[0, 2, 4, 9, 14, 21]\n"
     ]
    }
   ],
   "source": [
    "nums1=[2,0,9,14,2,0,21,4,2,21,4]\n",
    "\n",
    "kk=set()\n",
    "mm=set()\n",
    "for i in nums1:\n",
    "    if i in kk:\n",
    "        mm.add(i)\n",
    "    kk.add(i)\n",
    "print(list(mm))\n",
    "print(list(kk))\n",
    "        \n",
    "    "
   ]
  },
  {
   "cell_type": "code",
   "execution_count": 90,
   "id": "35a3e474-1e07-4f26-aeaa-c4c5d5666697",
   "metadata": {},
   "outputs": [
    {
     "name": "stdout",
     "output_type": "stream",
     "text": [
      "{'a': 4, 'e': 1, 'i': 2, 'o': 1, 'u': 1}\n"
     ]
    }
   ],
   "source": [
    "ss=\"anandFagstEIqiOvsAU\"\n",
    "tt=['a','e','i','o','u']\n",
    "\n",
    "kk={}\n",
    "for i in ss.lower():\n",
    "    if i in tt:\n",
    "        kk[i]=(ss.lower()).count(i)\n",
    "print(kk)"
   ]
  },
  {
   "cell_type": "code",
   "execution_count": 101,
   "id": "f4b389e0-ed53-4bed-b9b1-a9e62d394cf6",
   "metadata": {},
   "outputs": [
    {
     "name": "stdout",
     "output_type": "stream",
     "text": [
      "[2, 4]\n"
     ]
    }
   ],
   "source": [
    "nums1=[2,0,9,14,2,21,4,2,4]\n",
    "\n",
    "# kk=set()\n",
    "# mm=set()\n",
    "# for i in nums1:\n",
    "#     if i in kk:\n",
    "#         mm.add(i)\n",
    "#     kk.add(i)\n",
    "# print(list(kk))\n",
    "# print(list(mm))\n",
    "\n",
    "# kk=[]\n",
    "# for i in nums1:\n",
    "#     if i not in kk:\n",
    "#         kk.append(i)\n",
    "# print(kk)\n",
    "\n",
    "hh=[]\n",
    "for i in nums1:\n",
    "    if nums1.count(i)>1 and i not in hh:\n",
    "        hh.append(i)\n",
    "print(hh)\n",
    "        "
   ]
  },
  {
   "cell_type": "code",
   "execution_count": 102,
   "id": "b609c7b8-93b8-4ecc-aeba-712cd3e21067",
   "metadata": {},
   "outputs": [
    {
     "name": "stdout",
     "output_type": "stream",
     "text": [
      "[0, 1, 1, 2, 3, 5]\n"
     ]
    }
   ],
   "source": [
    "fib=[0,1]\n",
    "\n",
    "for i in range(1,5):\n",
    "    fib.append(fib[-1]+fib[-2])\n",
    "print(fib)"
   ]
  },
  {
   "cell_type": "code",
   "execution_count": 106,
   "id": "d93b697f-c897-42e2-b852-26c07aec972d",
   "metadata": {},
   "outputs": [
    {
     "name": "stdin",
     "output_type": "stream",
     "text": [
      "enter the name anand\n",
      "enter the age 12\n",
      "enter the name sagar\n",
      "enter the age 11\n"
     ]
    },
    {
     "name": "stdout",
     "output_type": "stream",
     "text": [
      "[{'name': 'anand', 'age': 12}, {'name': 'sagar', 'age': 11}]\n",
      "[{'name': 'sagar', 'age': 11}, {'name': 'anand', 'age': 12}]\n"
     ]
    }
   ],
   "source": [
    "hh=[]\n",
    "for i in range(2):\n",
    "    name = str(input(\"enter the name\"))\n",
    "    age = int(input(\"enter the age\"))\n",
    "    hh.append({\"name\":name,\"age\":age})\n",
    "print(hh)\n",
    "\n",
    "dd=sorted(hh,key=lambda x:x[\"age\"])\n",
    "print(dd)\n",
    "    "
   ]
  },
  {
   "cell_type": "code",
   "execution_count": 123,
   "id": "fb05cb41-9b82-44aa-a692-ebe208b4295d",
   "metadata": {},
   "outputs": [
    {
     "name": "stdout",
     "output_type": "stream",
     "text": [
      "['sdert', ' ', 'qwe']\n",
      "[12, 1467]\n",
      "[]\n",
      "['sdert', ' ', 'qwe', 12, 1467]\n"
     ]
    }
   ],
   "source": [
    "# ss = [12, 21, 32, 12, [23, 43, 11]]\n",
    "ss=[12,\"sdert\",1467,\" \",\"qwe\",]\n",
    "# kk=[]\n",
    "# for i in ss:\n",
    "#     if isinstance(i,list):\n",
    "#         kk.extend(i)\n",
    "#     else:\n",
    "#         kk.append(i)\n",
    "# print(kk)\n",
    "\n",
    "kk=[]\n",
    "mm=[]\n",
    "hh=[]\n",
    "for i in ss:\n",
    "    if isinstance(i,str):\n",
    "        kk.append(i)\n",
    "    elif isinstance(i,int):\n",
    "        mm.append(i)\n",
    "    else:\n",
    "        hh.append(i)\n",
    "print(kk)\n",
    "print(mm)\n",
    "print(hh)\n",
    "print(kk+mm+hh)\n",
    "        \n",
    "        "
   ]
  },
  {
   "cell_type": "code",
   "execution_count": 129,
   "id": "ca76243e-cf23-40e8-9635-2caf139c8724",
   "metadata": {},
   "outputs": [
    {
     "name": "stdout",
     "output_type": "stream",
     "text": [
      "c\n"
     ]
    }
   ],
   "source": [
    "ss=\"aabbcohohe\"\n",
    "output = \"c\"\n",
    "\n",
    "for i in ss:\n",
    "    if ss.count(i)==1:\n",
    "        output=i\n",
    "        break\n",
    "print(output)"
   ]
  },
  {
   "cell_type": "code",
   "execution_count": 132,
   "id": "bd558a5c-1a2e-41ea-9a7c-8b74a84a0bcd",
   "metadata": {},
   "outputs": [
    {
     "name": "stdout",
     "output_type": "stream",
     "text": [
      "[4]\n"
     ]
    }
   ],
   "source": [
    "tt=[1,2,3,4,3,2,1]\n",
    "mm=[]\n",
    "for i in tt:\n",
    "    if tt.count(i)==1:\n",
    "        mm.append(i)\n",
    "print(mm)"
   ]
  },
  {
   "cell_type": "code",
   "execution_count": 136,
   "id": "ed766f7a-1421-44d3-8cf2-333775793d2c",
   "metadata": {},
   "outputs": [
    {
     "name": "stdout",
     "output_type": "stream",
     "text": [
      "{'i': 2, 'a': 5, 'm': 1, 'n': 3, 'd': 2, 's': 2, 'g': 2, 'r': 1, 'e': 2, 't': 2, 'o': 5, 'c': 1, 'h': 1, 'l': 1}\n",
      "a\n",
      "5\n"
     ]
    }
   ],
   "source": [
    "ss=\"i am anand sagar i need to go to school\"\n",
    "\n",
    "dd={}\n",
    "for i in ss.replace(\" \",\"\"):\n",
    "    dd[i]=ss.count(i)\n",
    "print(dd)\n",
    "\n",
    "ff=max(dd,key=dd.get)\n",
    "print(ff)\n",
    "hh=dd[ff]\n",
    "print(hh)\n",
    "    "
   ]
  },
  {
   "cell_type": "code",
   "execution_count": 137,
   "id": "d4278a29-1e16-4b9d-a4d7-f0364a01f9f5",
   "metadata": {},
   "outputs": [
    {
     "name": "stdout",
     "output_type": "stream",
     "text": [
      "[3, 3, 3, 3, 2, 4, 3, 3, 7, -1, 7, -1, 9, -3]\n"
     ]
    }
   ],
   "source": [
    "ss=[[3, 3], [3, 3], [2, 4], [3, 3], [7, -1], [7, -1], [9, -3]]\n",
    "\n",
    "kk=[]\n",
    "for i in ss:\n",
    "    if isinstance(i,list):\n",
    "        kk.extend(i)\n",
    "    else:\n",
    "        kk.append(i)\n",
    "print(kk)"
   ]
  },
  {
   "cell_type": "code",
   "execution_count": 140,
   "id": "14ac804f-0b8d-4bb4-a8b6-85cc3c843d4b",
   "metadata": {},
   "outputs": [
    {
     "name": "stdout",
     "output_type": "stream",
     "text": [
      "0\n"
     ]
    }
   ],
   "source": [
    "ss=[\"ase\",\"qwet\",\"anandsafar\",\"rtevbb\"]\n",
    "\n",
    "kk=0\n",
    "mm=0\n",
    "for i in ss:\n",
    "    if len(i)>kk:\n",
    "        kk=len(i)\n",
    "        mm=i\n",
    "print(mm)"
   ]
  },
  {
   "cell_type": "code",
   "execution_count": null,
   "id": "5ef515e9-6fe4-4463-9aad-ee56b47e244a",
   "metadata": {},
   "outputs": [],
   "source": []
  }
 ],
 "metadata": {
  "kernelspec": {
   "display_name": "Python 3 (ipykernel)",
   "language": "python",
   "name": "python3"
  },
  "language_info": {
   "codemirror_mode": {
    "name": "ipython",
    "version": 3
   },
   "file_extension": ".py",
   "mimetype": "text/x-python",
   "name": "python",
   "nbconvert_exporter": "python",
   "pygments_lexer": "ipython3",
   "version": "3.12.6"
  }
 },
 "nbformat": 4,
 "nbformat_minor": 5
}
