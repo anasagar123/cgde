{
 "cells": [
  {
   "cell_type": "code",
   "execution_count": 6,
   "id": "c92fc42b-3175-4e84-a428-0406acbb439f",
   "metadata": {},
   "outputs": [
    {
     "name": "stdout",
     "output_type": "stream",
     "text": [
      "{1: 2, 2: 2, 3: 3, 4: 5, 56: 2, 6: 1, 8: 1, 9: 1}\n",
      "4\n",
      "5\n"
     ]
    }
   ],
   "source": [
    "ss=[1,2,3,4,4,4,4,56,2,1,6,8,9,3,3,4,56]\n",
    "kk={}\n",
    "for i in ss:\n",
    "    kk[i]=ss.count(i)\n",
    "print(kk)\n",
    "\n",
    "hh=max(kk,key=kk.get)\n",
    "print(hh)\n",
    "gg=kk[hh]\n",
    "print(gg)\n",
    "    "
   ]
  },
  {
   "cell_type": "code",
   "execution_count": 14,
   "id": "b56efcb6-b50c-4a09-a70e-f22af234673c",
   "metadata": {},
   "outputs": [
    {
     "name": "stdout",
     "output_type": "stream",
     "text": [
      "[0, 4, 16, 36, 64, 100, 144, 196, 256]\n",
      "[1, 27, 125, 343, 729, 1331, 2197, 3375]\n"
     ]
    }
   ],
   "source": [
    "dd=\"anand is going to home because he got offer letter from other company\"\n",
    "ss=[1,2,3,4,4,4,4,58,2,1,6,8,9,3,3,4,56]\n",
    "\n",
    "kk=[]\n",
    "hh=[]\n",
    "for i in range(len(ss)):\n",
    "    if i%2==0:\n",
    "        kk.append(i**2)\n",
    "    else:\n",
    "        hh.append(i**3)\n",
    "print(kk)\n",
    "print(hh)"
   ]
  },
  {
   "cell_type": "code",
   "execution_count": 15,
   "id": "bf35a56d-df42-40cc-b24c-92a9ab797bdd",
   "metadata": {},
   "outputs": [
    {
     "name": "stdout",
     "output_type": "stream",
     "text": [
      "[0, 4, 16, 36, 64, 100, 144, 196, 256, 1, 4, 9, 16, 16, 16, 16, 3364, 4, 1, 36, 64, 81, 9, 9, 16, 3136]\n"
     ]
    }
   ],
   "source": [
    "for i in ss:\n",
    "    kk.append(i*i)\n",
    "print(kk)"
   ]
  },
  {
   "cell_type": "code",
   "execution_count": 16,
   "id": "6cb658e4-fbe1-4c22-af12-d3d2c446928d",
   "metadata": {},
   "outputs": [
    {
     "name": "stdout",
     "output_type": "stream",
     "text": [
      "172\n"
     ]
    }
   ],
   "source": [
    "sum=0\n",
    "for i in ss:\n",
    "    sum=sum+i\n",
    "print(sum)\n",
    "    "
   ]
  },
  {
   "cell_type": "code",
   "execution_count": 17,
   "id": "6d2bf864-7cf4-4053-adb9-5df944cc0793",
   "metadata": {},
   "outputs": [
    {
     "data": {
      "text/plain": [
       "[1, 4, 9, 16, 16, 16, 16, 3364, 4, 1, 36, 64, 81, 9, 9, 16, 3136]"
      ]
     },
     "execution_count": 17,
     "metadata": {},
     "output_type": "execute_result"
    }
   ],
   "source": [
    "[i**2 for i in ss]"
   ]
  },
  {
   "cell_type": "code",
   "execution_count": 20,
   "id": "23bba3e2-f41d-4f0a-b85f-8300572c068b",
   "metadata": {},
   "outputs": [
    {
     "name": "stdout",
     "output_type": "stream",
     "text": [
      "[1, 2, 3, 4, 4, 4, 0, 0, 0, 1, 6, 8, 0, 3, 3, 4, 56]\n"
     ]
    }
   ],
   "source": [
    "ss=[1, 2, 3, 4, 4, 4, -4, -58, -2, 1, 6, 8, -9, 3, 3, 4, 56]\n",
    "\n",
    "for i in range(len(ss)):\n",
    "    if ss[i]<0:\n",
    "        ss[i]=0\n",
    "print(ss)"
   ]
  },
  {
   "cell_type": "code",
   "execution_count": 27,
   "id": "47dc7f50-bc9e-434d-9da5-e116608327a9",
   "metadata": {},
   "outputs": [
    {
     "name": "stdout",
     "output_type": "stream",
     "text": [
      "[2, 4, 4, 4, 6, 8, 4, 56]\n"
     ]
    }
   ],
   "source": [
    "ss=[1, 2, 3, 4, 4, 4, -4, -58, -2, 1, 6, 8, -9, 3, 3, 4, 56]\n",
    "kk=[]\n",
    "for i in ss:\n",
    "    if i<0:\n",
    "        pass\n",
    "    elif i%2==0:\n",
    "        kk.append(i)\n",
    "print(kk)\n",
    "       "
   ]
  },
  {
   "cell_type": "code",
   "execution_count": 41,
   "id": "f5b5bb22-b4cf-44b5-8061-d377fb5b220c",
   "metadata": {},
   "outputs": [
    {
     "name": "stdout",
     "output_type": "stream",
     "text": [
      "[1, 'hello', 'world', 'python']\n"
     ]
    }
   ],
   "source": [
    "ss = [1, 'hello', None, '', 'world', None, 'python']\n",
    "\n",
    "kk=[]\n",
    "for i in ss:\n",
    "    if i is not None and i!=\"\":\n",
    "        kk.append(i)\n",
    "print(kk)\n",
    "\n",
    "\n",
    "# filtered_list = [item for item in original_list if item is not None and item != '']\n",
    "# print(filtered_list)"
   ]
  },
  {
   "cell_type": "code",
   "execution_count": 42,
   "id": "aaa977ff-1806-42d1-8e35-77f2f322c6f8",
   "metadata": {},
   "outputs": [
    {
     "name": "stdout",
     "output_type": "stream",
     "text": [
      "[1, 2, 3, 4, 4, 4, 1, 6, 8, 3, 3, 4, 56, 0, 0, 0, 0]\n"
     ]
    }
   ],
   "source": [
    "ss=[1, 2, 3, 4, 4, 4, 0, 0, 0, 1, 6, 8, 0, 3, 3, 4, 56]\n",
    "\n",
    "for i in ss:\n",
    "    if i==0:\n",
    "        ss.remove(i)\n",
    "        ss.append(i)\n",
    "print(ss)"
   ]
  },
  {
   "cell_type": "code",
   "execution_count": 54,
   "id": "dea6c4b8-5c10-46d9-8765-42eb8b2541b0",
   "metadata": {},
   "outputs": [
    {
     "name": "stdout",
     "output_type": "stream",
     "text": [
      "[1, 2, 3, 4, 4, 4, -56, 1, 6, 8, 3, 3, 4, 56, -2, -4, -9]\n"
     ]
    }
   ],
   "source": [
    "ss=[1, 2, 3, 4, 4, 4, -4, -56, -2, 1, 6, 8, -9, 3, 3, 4, 56]\n",
    "\n",
    "kk=[]\n",
    "hh=[]\n",
    "for i in ss:\n",
    "    if i<0:\n",
    "        ss.remove(i)\n",
    "        ss.append(i)\n",
    "print(ss)"
   ]
  },
  {
   "cell_type": "code",
   "execution_count": null,
   "id": "41aa3d49-6122-40e9-bdec-7837d663dac0",
   "metadata": {},
   "outputs": [],
   "source": []
  },
  {
   "cell_type": "code",
   "execution_count": 75,
   "id": "826ac3f8-362b-4dd0-9451-01efa17523c1",
   "metadata": {},
   "outputs": [
    {
     "name": "stdout",
     "output_type": "stream",
     "text": [
      "6\n"
     ]
    }
   ],
   "source": [
    "ss=[1,2,3,4,5,7,8,9]\n",
    "\n",
    "n=len(ss)+1\n",
    "dd=n*(n+1)//2\n",
    "\n",
    "mm=0\n",
    "for i in ss:\n",
    "    mm=mm+i\n",
    "\n",
    "\n",
    "    \n",
    "missing= dd-mm\n",
    "print(missing)\n",
    "    "
   ]
  },
  {
   "cell_type": "code",
   "execution_count": 83,
   "id": "42c9f6bd-2628-4a64-b994-c9cd87e9419c",
   "metadata": {},
   "outputs": [
    {
     "name": "stdout",
     "output_type": "stream",
     "text": [
      "[1, 2, 3, 4, 5]\n",
      "[1, 2, 3, 4, 5]\n"
     ]
    }
   ],
   "source": [
    "ss=[1,2,3,4,5,2,3,4]\n",
    "\n",
    "hh=set()\n",
    "mm=set()\n",
    "for i in ss:\n",
    "    if i not in hh:\n",
    "        mm.add(i)\n",
    "    hh.add(i)\n",
    "print(list(hh))\n",
    "print(list(mm))\n"
   ]
  },
  {
   "cell_type": "code",
   "execution_count": 107,
   "id": "3829db10-70bd-424b-b469-cdab20755abd",
   "metadata": {},
   "outputs": [
    {
     "name": "stdout",
     "output_type": "stream",
     "text": [
      "[1, 2, 3, 4, 5, 6, 7, 8, 9]\n",
      "[5, 6, 7]\n"
     ]
    }
   ],
   "source": [
    "ss=[1,2,3,7,4,5,5,6,7,6,8,9]\n",
    "\n",
    "dd=set()\n",
    "gg=set()\n",
    "for i in ss:\n",
    "    if i in dd:\n",
    "        gg.add(i)\n",
    "    dd.add(i)\n",
    "print(list(dd))\n",
    "print(list(gg))\n",
    "    "
   ]
  },
  {
   "cell_type": "code",
   "execution_count": 109,
   "id": "b8d22b88-507b-4db7-a9cd-815baa2b945d",
   "metadata": {},
   "outputs": [
    {
     "name": "stdout",
     "output_type": "stream",
     "text": [
      "qwsertyuhr\n",
      "10\n"
     ]
    }
   ],
   "source": [
    "dd=[\"werty\",\"teyvdt\",\"qwsertyuhr\",\"wert\"]\n",
    "\n",
    "ss=0\n",
    "mm=0\n",
    "for i in dd:\n",
    "    if len(i)>ss:\n",
    "        ss=len(i)\n",
    "        mm=i\n",
    "print(mm)\n",
    "print(ss)\n",
    "        "
   ]
  },
  {
   "cell_type": "code",
   "execution_count": 111,
   "id": "57095579-e096-4442-ad65-dfe1d5bdc87d",
   "metadata": {},
   "outputs": [
    {
     "name": "stdout",
     "output_type": "stream",
     "text": [
      "[1, 2, 3, 4, 4, 4, 0, 0, 0, 1, 6, 8, 0, 3, 3, 4, 56]\n"
     ]
    }
   ],
   "source": [
    "ss=[1, 2, 3, 4, 4, 4, -4, -56, -2, 1, 6, 8, -9, 3, 3, 4, 56]\n",
    "\n",
    "for i in range(len(ss)):\n",
    "    if ss[i]<0:\n",
    "        ss[i]=0\n",
    "print(ss)"
   ]
  },
  {
   "cell_type": "code",
   "execution_count": 113,
   "id": "a7edaf23-d3f7-49e0-a5df-40331eb55fcd",
   "metadata": {},
   "outputs": [
    {
     "name": "stdout",
     "output_type": "stream",
     "text": [
      "[1, 2, 3, 4, 4, 4, 1, 6, 8, 3, 3, 4, 56, 0, 0, 0, 0]\n"
     ]
    }
   ],
   "source": [
    "dd=[1, 2, 3, 4, 4, 4, 0, 0, 0, 1, 6, 8, 0, 3, 3, 4, 56]\n",
    "\n",
    "for i in dd:\n",
    "    if i==0:\n",
    "        dd.remove(i)\n",
    "        dd.append(i)\n",
    "print(dd)"
   ]
  },
  {
   "cell_type": "code",
   "execution_count": 117,
   "id": "8816eabd-aaa7-40e3-a57c-1b8ff3bcb9da",
   "metadata": {},
   "outputs": [
    {
     "name": "stdout",
     "output_type": "stream",
     "text": [
      "(2, -2)\n",
      "(4, -4)\n",
      "(4, -4)\n",
      "(4, -4)\n",
      "(-4, 4)\n",
      "(-56, 56)\n"
     ]
    }
   ],
   "source": [
    "ss=[1, 2, 3, 4, 4, 4, -4, -56, -2, 1, 6, 8, -9, 3, 3, 4, 56]\n",
    "target = 0\n",
    "\n",
    "for i in range(len(ss)):\n",
    "    for j in range(i+1,len(ss)):\n",
    "        if ss[i]+ss[j]==target:\n",
    "            print((ss[i],ss[j]))"
   ]
  },
  {
   "cell_type": "code",
   "execution_count": 125,
   "id": "db941501-3aec-4bb1-b20f-7844fbcf551e",
   "metadata": {},
   "outputs": [
    {
     "data": {
      "text/plain": [
       "[56, 2, 3, 4, 4, 4, -4, -56, -2, 1, 6, 8, -9, 3, 3, 4, 1]"
      ]
     },
     "execution_count": 125,
     "metadata": {},
     "output_type": "execute_result"
    }
   ],
   "source": [
    "ss=[1, 2, 3, 4, 4, 4, -4, -56, -2, 1, 6, 8, -9, 3, 3, 4, 56]\n",
    "\n",
    "ss[-1],ss[0]=ss[0],ss[-1]\n",
    "ss"
   ]
  },
  {
   "cell_type": "code",
   "execution_count": 129,
   "id": "c908b1bd-094c-414d-9b21-a80603cd44f7",
   "metadata": {},
   "outputs": [
    {
     "name": "stdout",
     "output_type": "stream",
     "text": [
      "not palindrome\n"
     ]
    }
   ],
   "source": [
    "ss=[1,2,1,4]\n",
    "\n",
    "if ss==ss[::-1]:\n",
    "    print(\"palindrome\")\n",
    "else:\n",
    "    print(\"not palindrome\") \n"
   ]
  },
  {
   "cell_type": "code",
   "execution_count": 136,
   "id": "2601cfef-c906-4589-a621-4f09314bb931",
   "metadata": {},
   "outputs": [
    {
     "name": "stdout",
     "output_type": "stream",
     "text": [
      "3\n"
     ]
    },
    {
     "ename": "AttributeError",
     "evalue": "'int' object has no attribute 'count'",
     "output_type": "error",
     "traceback": [
      "\u001b[1;31m---------------------------------------------------------------------------\u001b[0m",
      "\u001b[1;31mAttributeError\u001b[0m                            Traceback (most recent call last)",
      "Cell \u001b[1;32mIn[136], line 4\u001b[0m\n\u001b[0;32m      2\u001b[0m kk\u001b[38;5;241m=\u001b[39m[]\n\u001b[0;32m      3\u001b[0m \u001b[38;5;28;01mfor\u001b[39;00m i \u001b[38;5;129;01min\u001b[39;00m ss:\n\u001b[1;32m----> 4\u001b[0m     \u001b[38;5;28;01mif\u001b[39;00m \u001b[43mss\u001b[49m\u001b[38;5;241;43m.\u001b[39;49m\u001b[43mcount\u001b[49m(i)\u001b[38;5;241m==\u001b[39m\u001b[38;5;241m1\u001b[39m:\n\u001b[0;32m      5\u001b[0m         ss\u001b[38;5;241m=\u001b[39mi\n\u001b[0;32m      6\u001b[0m         \u001b[38;5;28mprint\u001b[39m(ss)\n",
      "\u001b[1;31mAttributeError\u001b[0m: 'int' object has no attribute 'count'"
     ]
    }
   ],
   "source": [
    "ss=[1,2,3,4,5,1,2,7]\n",
    "kk=[]\n",
    "for i in ss:\n",
    "    if ss.count(i)==1:\n",
    "        "
   ]
  },
  {
   "cell_type": "code",
   "execution_count": 133,
   "id": "380307a1-f4b3-4a36-bb9c-f142859465ef",
   "metadata": {},
   "outputs": [
    {
     "name": "stdout",
     "output_type": "stream",
     "text": [
      "e\n"
     ]
    }
   ],
   "source": [
    "ss=\"ansdertadns\"\n",
    "\n",
    "for i in ss:\n",
    "    if ss.count(i)==1:\n",
    "        break\n",
    "        output=i\n",
    "print(i)"
   ]
  },
  {
   "cell_type": "code",
   "execution_count": 159,
   "id": "193eb565-9853-4dcb-bc16-fe95d886b472",
   "metadata": {},
   "outputs": [
    {
     "name": "stdout",
     "output_type": "stream",
     "text": [
      "9\n",
      "retyudfgh\n"
     ]
    }
   ],
   "source": [
    "ss=[\"werte\",\"retyudfgh\",\"ewryd\"]\n",
    "\n",
    "hh=0\n",
    "mm=0\n",
    "for i in ss:\n",
    "    if len(i)>hh:\n",
    "        hh=len(i)\n",
    "        mm=i\n",
    "print(hh)\n",
    "print(mm)"
   ]
  },
  {
   "cell_type": "code",
   "execution_count": 138,
   "id": "57e31b6a-97db-4a5d-b30b-817ba92de018",
   "metadata": {},
   "outputs": [
    {
     "ename": "TypeError",
     "evalue": "'int' object is not iterable",
     "output_type": "error",
     "traceback": [
      "\u001b[1;31m---------------------------------------------------------------------------\u001b[0m",
      "\u001b[1;31mTypeError\u001b[0m                                 Traceback (most recent call last)",
      "Cell \u001b[1;32mIn[138], line 1\u001b[0m\n\u001b[1;32m----> 1\u001b[0m \u001b[38;5;28;43;01mfor\u001b[39;49;00m\u001b[43m \u001b[49m\u001b[43mi\u001b[49m\u001b[43m \u001b[49m\u001b[38;5;129;43;01min\u001b[39;49;00m\u001b[43m \u001b[49m\u001b[43mss\u001b[49m\u001b[43m:\u001b[49m\n\u001b[0;32m      2\u001b[0m \u001b[43m    \u001b[49m\u001b[43ml\u001b[49m\u001b[38;5;241;43m=\u001b[39;49m\u001b[38;5;28;43mlen\u001b[39;49m\u001b[43m(\u001b[49m\u001b[43mi\u001b[49m\u001b[43m)\u001b[49m\n\u001b[0;32m      3\u001b[0m \u001b[43m    \u001b[49m\u001b[38;5;28;43mprint\u001b[39;49m\u001b[43m(\u001b[49m\u001b[43ml\u001b[49m\u001b[43m)\u001b[49m\n",
      "\u001b[1;31mTypeError\u001b[0m: 'int' object is not iterable"
     ]
    }
   ],
   "source": [
    "for i in ss:\n",
    "    l=len(i)\n",
    "    print(l)\n",
    "    "
   ]
  },
  {
   "cell_type": "code",
   "execution_count": null,
   "id": "43456174-104e-4f18-a260-c0a4803329d1",
   "metadata": {},
   "outputs": [],
   "source": []
  }
 ],
 "metadata": {
  "kernelspec": {
   "display_name": "Python 3 (ipykernel)",
   "language": "python",
   "name": "python3"
  },
  "language_info": {
   "codemirror_mode": {
    "name": "ipython",
    "version": 3
   },
   "file_extension": ".py",
   "mimetype": "text/x-python",
   "name": "python",
   "nbconvert_exporter": "python",
   "pygments_lexer": "ipython3",
   "version": "3.12.6"
  }
 },
 "nbformat": 4,
 "nbformat_minor": 5
}
